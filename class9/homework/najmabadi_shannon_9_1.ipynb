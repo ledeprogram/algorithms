{
 "cells": [
  {
   "cell_type": "markdown",
   "metadata": {},
   "source": [
    "Assignment 1\n",
    "\n",
    "Use the pseudocode you came up with in class to write your own 5-fold cross-validation function that splits the data set into 5 equal-sized sets\n",
    "Don't forget to shuffle the input before assigning to sets\n",
    "You can use the fit(), predict(), and score() functions of your model in your functions\n",
    "Test the results with the sklearn cross_val_score\n",
    "In your PR, discuss what challenges you had creating this function and if it helped you better understand cross validation"
   ]
  },
  {
   "cell_type": "code",
   "execution_count": 1,
   "metadata": {
    "collapsed": false
   },
   "outputs": [],
   "source": [
    "import random\n",
    "import numpy as np\n",
    "from sklearn import tree\n",
    "from sklearn import metrics\n",
    "from sklearn import datasets\n",
    "from sklearn.cross_validation import cross_val_score\n",
    "\n",
    "iris = datasets.load_iris()\n",
    "x = iris.data[:,2:]\n",
    "y = iris.target"
   ]
  },
  {
   "cell_type": "code",
   "execution_count": 2,
   "metadata": {
    "collapsed": false
   },
   "outputs": [],
   "source": [
    "a = list(zip(x,y)) #Zip the dataa\n",
    "random.shuffle(a) #Shuffle the data\n",
    "x,y = zip(*a)  #Unzip the data (*)"
   ]
  },
  {
   "cell_type": "code",
   "execution_count": 6,
   "metadata": {
    "collapsed": false
   },
   "outputs": [
    {
     "name": "stdout",
     "output_type": "stream",
     "text": [
      "Array 1: score of 0.933333333333\n",
      "Array 2: score of 0.966666666667\n",
      "Array 3: score of 0.9\n",
      "Array 4: score of 0.966666666667\n",
      "Array 5: score of 0.933333333333\n"
     ]
    }
   ],
   "source": [
    "number_of_splices = 5 #Say how many splices we're dividing it into\n",
    "list_length = len(a) #Make a variable name for the length of the list \n",
    "splice_size = int(list_length / number_of_splices) #Set a variable for the size of each splice\n",
    "\n",
    "for i in range(1, number_of_splices + 1): #Loop through the splices\n",
    "    x_test = x[int(splice_size) * (i-1): int(splice_size * i)] #Separate out testing data. If we break this down, we have int: int, which is making smaller arrays in the size of [int, inclusive: int, exclusive]. The ints say where the index should start and end. In the first int, we multiply the splice size by i-1 because we want to start at index 0.  \n",
    "    y_test = y[int(splice_size) * (i-1): int(splice_size * i)] \n",
    "    x_train = x[0: int(splice_size * (i-1))] + x[int(splice_size * i): int(list_length)- 1] #Separate out training data\n",
    "    y_train = y[0: int(splice_size * (i-1))] + y[int(splice_size * i): int(list_length) - 1] \n",
    "\n",
    "    dt = tree.DecisionTreeClassifier().fit(x_train, y_train) \n",
    "    \n",
    "    y_pred = dt.predict(x_test) \n",
    "    score = metrics.accuracy_score(y_test, y_pred)\n",
    "    print(\"Array \" + str(i) + \": score of \" + str(score))"
   ]
  },
  {
   "cell_type": "code",
   "execution_count": 164,
   "metadata": {
    "collapsed": false
   },
   "outputs": [
    {
     "data": {
      "text/plain": [
       "0.9447619047619048"
      ]
     },
     "execution_count": 164,
     "metadata": {},
     "output_type": "execute_result"
    }
   ],
   "source": [
    "np.mean(score_list) #Get the average score"
   ]
  },
  {
   "cell_type": "code",
   "execution_count": 181,
   "metadata": {
    "collapsed": false
   },
   "outputs": [
    {
     "data": {
      "text/plain": [
       "0.95333333333333348"
      ]
     },
     "execution_count": 181,
     "metadata": {},
     "output_type": "execute_result"
    }
   ],
   "source": [
    "scores = cross_val_score(dt,x,y,cv=5) #Test it using cross validation function\n",
    "np.mean(scores) #Compare score means"
   ]
  }
 ],
 "metadata": {
  "kernelspec": {
   "display_name": "Python 3",
   "language": "python",
   "name": "python3"
  },
  "language_info": {
   "codemirror_mode": {
    "name": "ipython",
    "version": 3
   },
   "file_extension": ".py",
   "mimetype": "text/x-python",
   "name": "python",
   "nbconvert_exporter": "python",
   "pygments_lexer": "ipython3",
   "version": "3.5.0"
  }
 },
 "nbformat": 4,
 "nbformat_minor": 0
}
