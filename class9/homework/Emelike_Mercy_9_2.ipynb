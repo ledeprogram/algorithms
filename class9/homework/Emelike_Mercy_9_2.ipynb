{
 "cells": [
  {
   "cell_type": "markdown",
   "metadata": {
    "collapsed": true
   },
   "source": [
    "Using the readings, try and create a RandomForestClassifier for the iris dataset\n",
    "Using a 75/25 training/test split, compare the results with the original decision tree model and describe the result to the best of your ability in your PR"
   ]
  },
  {
   "cell_type": "code",
   "execution_count": 138,
   "metadata": {
    "collapsed": true
   },
   "outputs": [],
   "source": [
    "import numpy as np\n",
    "import random\n",
    "from sklearn import datasets\n",
    "from sklearn import tree\n",
    "from sklearn.utils import shuffle"
   ]
  },
  {
   "cell_type": "code",
   "execution_count": 139,
   "metadata": {
    "collapsed": true
   },
   "outputs": [],
   "source": [
    "iris = datasets.load_iris()"
   ]
  },
  {
   "cell_type": "code",
   "execution_count": 155,
   "metadata": {
    "collapsed": false
   },
   "outputs": [],
   "source": [
    "# n_estimators, number of trees in the forest\n",
    "def rf(ds, n_estimators): \n",
    "    \n",
    "    n = 0\n",
    "    trees = []\n",
    "    scores = []\n",
    "    \n",
    "    while n<n_estimators: \n",
    "        x = ds.data[:,2:]\n",
    "        y = ds.target\n",
    "\n",
    "        attr_targ = list(zip(x,y))\n",
    "        combined = np.array(attr_targ)\n",
    "\n",
    "        len_combined = len(combined) \n",
    "    #     print('length of combined array',len_combined)\n",
    "        temp_index = list(range(0, len_combined))\n",
    "    #     print('index numbers',temp_index)\n",
    "        temp_train_select = random.sample(temp_index, 3*(len_combined//4))\n",
    "    #     print('selected row indexes for training',temp_train_select)\n",
    "        train = combined[[temp_train_select]]\n",
    "    #     print('training array', train, len(train))\n",
    "        test = np.delete(combined,[temp_train_select], axis=0)\n",
    "\n",
    "        x_train = [item for item in train[:,0]]\n",
    "        y_train = [item for item in train[:,1]]\n",
    "\n",
    "        x_test = [item for item in test[:,0]]\n",
    "        y_test = [item for item in test[:,1]]\n",
    "\n",
    "        dt = tree.DecisionTreeClassifier()\n",
    "        dt = dt.fit(x_train,y_train)\n",
    "\n",
    "        predictions = dt.predict(x_test)\n",
    "        score = dt.score(x_test,y_test)\n",
    "        \n",
    "        trees.append(dt)\n",
    "        scores.append(score)\n",
    "        n = n+1\n",
    "        \n",
    "    avg_score = np.mean(scores)\n",
    "    \n",
    "    return avg_score\n",
    "    \n",
    "\n"
   ]
  },
  {
   "cell_type": "code",
   "execution_count": 156,
   "metadata": {
    "collapsed": false
   },
   "outputs": [
    {
     "data": {
      "text/plain": [
       "0.94871794871794857"
      ]
     },
     "execution_count": 156,
     "metadata": {},
     "output_type": "execute_result"
    }
   ],
   "source": [
    "rf(iris, 3)"
   ]
  },
  {
   "cell_type": "code",
   "execution_count": 151,
   "metadata": {
    "collapsed": false
   },
   "outputs": [],
   "source": [
    "from sklearn.ensemble import RandomForestClassifier\n",
    "from sklearn.cross_validation import cross_val_score\n",
    "\n",
    "clf = RandomForestClassifier(n_estimators=3)\n",
    "clf = clf.fit(iris.data, iris.target)"
   ]
  },
  {
   "cell_type": "code",
   "execution_count": 152,
   "metadata": {
    "collapsed": false
   },
   "outputs": [],
   "source": [
    "scores = cross_val_score(clf, iris.data, iris.target)"
   ]
  },
  {
   "cell_type": "code",
   "execution_count": 153,
   "metadata": {
    "collapsed": false
   },
   "outputs": [
    {
     "data": {
      "text/plain": [
       "0.95383986928104569"
      ]
     },
     "execution_count": 153,
     "metadata": {},
     "output_type": "execute_result"
    }
   ],
   "source": [
    "scores.mean()"
   ]
  },
  {
   "cell_type": "code",
   "execution_count": null,
   "metadata": {
    "collapsed": true
   },
   "outputs": [],
   "source": []
  }
 ],
 "metadata": {
  "kernelspec": {
   "display_name": "Python 3",
   "language": "python",
   "name": "python3"
  },
  "language_info": {
   "codemirror_mode": {
    "name": "ipython",
    "version": 3
   },
   "file_extension": ".py",
   "mimetype": "text/x-python",
   "name": "python",
   "nbconvert_exporter": "python",
   "pygments_lexer": "ipython3",
   "version": "3.5.1"
  }
 },
 "nbformat": 4,
 "nbformat_minor": 0
}
