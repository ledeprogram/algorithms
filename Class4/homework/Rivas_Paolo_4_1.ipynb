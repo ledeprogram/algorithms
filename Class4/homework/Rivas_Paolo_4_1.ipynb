{
 "cells": [
  {
   "cell_type": "code",
   "execution_count": 2,
   "metadata": {
    "collapsed": true
   },
   "outputs": [],
   "source": [
    "import pg8000\n",
    "conn = pg8000.connect(host=\"training.c1erymiua9dx.us-east-1.rds.amazonaws.com\", port=5432, database=\"training\", user=\"dot_student\", password=\"qgis\")"
   ]
  },
  {
   "cell_type": "code",
   "execution_count": 3,
   "metadata": {
    "collapsed": false
   },
   "outputs": [],
   "source": [
    "cursor = conn.cursor()\n",
    "statement = \"select * from INFORMATION_SCHEMA.COLUMNS where table_name = 'dot_311'\"\n",
    "cursor.execute(statement)"
   ]
  },
  {
   "cell_type": "code",
   "execution_count": 4,
   "metadata": {
    "collapsed": true
   },
   "outputs": [],
   "source": [
    "conn.rollback()"
   ]
  },
  {
   "cell_type": "code",
   "execution_count": 5,
   "metadata": {
    "collapsed": false
   },
   "outputs": [
    {
     "name": "stdout",
     "output_type": "stream",
     "text": [
      "['gid', 'unique_key', 'agency', 'agency nam', 'complaint', 'descriptor', 'location t', 'incident z', 'incident a', 'street nam', 'cross stre', 'cross st_1', 'intersecti', 'intersec_1', 'address ty', 'city', 'landmark', 'facility t', 'status', 'due date', 'resolution', 'resoluti_1', 'community', 'borough', 'x coordina', 'y coordina', 'park facil', 'park borou', 'school nam', 'school num', 'school reg', 'school cod', 'school pho', 'school add', 'school cit', 'school sta', 'school zip', 'school not', 'school or', 'vehicle ty', 'taxi compa', 'taxi pick', 'bridge hig', 'bridge h_1', 'road ramp', 'bridge h_2', 'garage lot', 'ferry dire', 'ferry term', 'latitude', 'longitude', 'location', 'geom', 'created_date', 'closed_date']\n"
     ]
    }
   ],
   "source": [
    "cursor = conn.cursor() \n",
    "statement= \"SELECT * from INFORMATION_SCHEMA.COLUMNs where table_name='dot_311'\" \n",
    "cursor.execute(statement) \n",
    "columns=[] \n",
    "for row in cursor.fetchall():\n",
    "    columns.append(row[3]) \n",
    "print(columns)"
   ]
  },
  {
   "cell_type": "code",
   "execution_count": 6,
   "metadata": {
    "collapsed": false
   },
   "outputs": [],
   "source": [
    "import pandas as pd\n",
    "import matplotlib\n",
    "cursor.execute(\"select * from dot_311\")\n",
    "data = []\n",
    "for items in cursor.fetchall():\n",
    "    data.append(items)"
   ]
  },
  {
   "cell_type": "code",
   "execution_count": 7,
   "metadata": {
    "collapsed": false
   },
   "outputs": [],
   "source": [
    "import pandas as pd\n",
    "df = pd.DataFrame(data)\n",
    "df.columns = ['gid', 'unique_key', 'agency', 'agency nam', 'complaint', 'descriptor', 'location t', 'incident z', 'incident a', 'street nam', 'cross stre', 'cross st_1', 'intersecti', 'intersec_1', 'address ty', 'city', 'landmark', 'facility t', 'status', 'due date', 'resolution', 'resoluti_1', 'community', 'borough', 'x coordina', 'y coordina', 'park facil', 'park borou', 'school nam', 'school num', 'school reg', 'school cod', 'school pho', 'school add', 'school cit', 'school sta', 'school zip', 'school not', 'school or', 'vehicle ty', 'taxi compa', 'taxi pick', 'bridge hig', 'bridge h_1', 'road ramp', 'bridge h_2', 'garage lot', 'ferry dire', 'ferry term', 'latitude', 'longitude', 'location', 'geom', 'created_date', 'closed_date']"
   ]
  },
  {
   "cell_type": "code",
   "execution_count": 8,
   "metadata": {
    "collapsed": true
   },
   "outputs": [],
   "source": [
    "#created an integrated varible for time complaint\n",
    "df['Complete_time'] = df['closed_date'] - df['created_date']"
   ]
  },
  {
   "cell_type": "code",
   "execution_count": 9,
   "metadata": {
    "collapsed": false
   },
   "outputs": [
    {
     "data": {
      "text/plain": [
       "count                       5650\n",
       "mean      6 days 15:05:05.589380\n",
       "std      14 days 12:05:38.260805\n",
       "min           -19 days +09:29:00\n",
       "25%              0 days 01:14:00\n",
       "50%              0 days 21:48:15\n",
       "75%       4 days 00:30:48.500000\n",
       "max             89 days 18:54:00\n",
       "Name: Complete_time, dtype: object"
      ]
     },
     "execution_count": 9,
     "metadata": {},
     "output_type": "execute_result"
    }
   ],
   "source": [
    "#There are negatives numbers which will ruin our data analysis\n",
    "df['Complete_time'].describe() "
   ]
  },
  {
   "cell_type": "code",
   "execution_count": 10,
   "metadata": {
    "collapsed": false
   },
   "outputs": [],
   "source": [
    "#Transforming data[Complete_time] into only positive values\n",
    "raw_data = df['Complete_time'] "
   ]
  },
  {
   "cell_type": "code",
   "execution_count": 11,
   "metadata": {
    "collapsed": false
   },
   "outputs": [],
   "source": [
    "new_data = abs(raw_data)"
   ]
  },
  {
   "cell_type": "code",
   "execution_count": 12,
   "metadata": {
    "collapsed": false
   },
   "outputs": [
    {
     "data": {
      "text/plain": [
       "count                       5650\n",
       "mean      7 days 08:06:25.341592\n",
       "std      14 days 03:47:52.941494\n",
       "min              0 days 00:00:00\n",
       "25%       0 days 04:53:45.750000\n",
       "50%              1 days 03:34:28\n",
       "75%       4 days 23:15:45.500000\n",
       "max             89 days 18:54:00\n",
       "Name: Complete_time, dtype: object"
      ]
     },
     "execution_count": 12,
     "metadata": {},
     "output_type": "execute_result"
    }
   ],
   "source": [
    "#descriptive values havent change that much in general with the changes\n",
    "new_data.describe()"
   ]
  },
  {
   "cell_type": "code",
   "execution_count": 13,
   "metadata": {
    "collapsed": true
   },
   "outputs": [],
   "source": [
    "import pandas as pd\n",
    "import numpy as np\n",
    "import matplotlib\n",
    "import matplotlib.pyplot as plt\n",
    "%matplotlib inline\n",
    "matplotlib.style.use('ggplot')"
   ]
  },
  {
   "cell_type": "code",
   "execution_count": 14,
   "metadata": {
    "collapsed": false
   },
   "outputs": [
    {
     "data": {
      "text/plain": [
       "count                       5650\n",
       "mean      6 days 15:05:05.589380\n",
       "std      14 days 12:05:38.260805\n",
       "min           -19 days +09:29:00\n",
       "25%              0 days 01:14:00\n",
       "50%              0 days 21:48:15\n",
       "75%       4 days 00:30:48.500000\n",
       "max             89 days 18:54:00\n",
       "Name: Complete_time, dtype: object"
      ]
     },
     "execution_count": 14,
     "metadata": {},
     "output_type": "execute_result"
    }
   ],
   "source": [
    "df['Complete_time'].describe() "
   ]
  },
  {
   "cell_type": "code",
   "execution_count": 16,
   "metadata": {
    "collapsed": false
   },
   "outputs": [],
   "source": [
    "df['Complete_time 2'] = new_data"
   ]
  },
  {
   "cell_type": "code",
   "execution_count": 17,
   "metadata": {
    "collapsed": false
   },
   "outputs": [
    {
     "data": {
      "text/plain": [
       "Index(['gid', 'unique_key', 'agency', 'agency nam', 'complaint', 'descriptor',\n",
       "       'location t', 'incident z', 'incident a', 'street nam', 'cross stre',\n",
       "       'cross st_1', 'intersecti', 'intersec_1', 'address ty', 'city',\n",
       "       'landmark', 'facility t', 'status', 'due date', 'resolution',\n",
       "       'resoluti_1', 'community', 'borough', 'x coordina', 'y coordina',\n",
       "       'park facil', 'park borou', 'school nam', 'school num', 'school reg',\n",
       "       'school cod', 'school pho', 'school add', 'school cit', 'school sta',\n",
       "       'school zip', 'school not', 'school or', 'vehicle ty', 'taxi compa',\n",
       "       'taxi pick', 'bridge hig', 'bridge h_1', 'road ramp', 'bridge h_2',\n",
       "       'garage lot', 'ferry dire', 'ferry term', 'latitude', 'longitude',\n",
       "       'location', 'geom', 'created_date', 'closed_date', 'Complete_time',\n",
       "       'Complete_time 2'],\n",
       "      dtype='object')"
      ]
     },
     "execution_count": 17,
     "metadata": {},
     "output_type": "execute_result"
    }
   ],
   "source": [
    "df.columns"
   ]
  },
  {
   "cell_type": "code",
   "execution_count": 18,
   "metadata": {
    "collapsed": false
   },
   "outputs": [],
   "source": [
    "df['complete_time 3'] = (pd.to_timedelta(df['Complete_time 2'])+pd.to_timedelta(1,unit='s')).astype('timedelta64[s]')"
   ]
  },
  {
   "cell_type": "code",
   "execution_count": 19,
   "metadata": {
    "collapsed": false
   },
   "outputs": [
    {
     "data": {
      "text/plain": [
       "1743    7757641.0\n",
       "3665    7595101.0\n",
       "1349    7452512.0\n",
       "1246    7430341.0\n",
       "786     7417257.0\n",
       "Name: complete_time 3, dtype: float64"
      ]
     },
     "execution_count": 19,
     "metadata": {},
     "output_type": "execute_result"
    }
   ],
   "source": [
    "df['complete_time 3'].sort_values(ascending=False).head()"
   ]
  },
  {
   "cell_type": "code",
   "execution_count": 20,
   "metadata": {
    "collapsed": false
   },
   "outputs": [
    {
     "name": "stderr",
     "output_type": "stream",
     "text": [
      "/Users/paolorivas/.virtualenvs/workshop/lib/python3.5/site-packages/numpy/lib/function_base.py:3834: RuntimeWarning: Invalid value encountered in percentile\n",
      "  RuntimeWarning)\n"
     ]
    },
    {
     "data": {
      "text/plain": [
       "count    5.650000e+03\n",
       "mean     6.339863e+05\n",
       "std      1.223273e+06\n",
       "min      1.000000e+00\n",
       "25%               NaN\n",
       "50%               NaN\n",
       "75%               NaN\n",
       "max      7.757641e+06\n",
       "Name: complete_time 3, dtype: float64"
      ]
     },
     "execution_count": 20,
     "metadata": {},
     "output_type": "execute_result"
    }
   ],
   "source": [
    "df['complete_time 3'].describe()"
   ]
  },
  {
   "cell_type": "code",
   "execution_count": 21,
   "metadata": {
    "collapsed": false
   },
   "outputs": [
    {
     "data": {
      "text/plain": [
       "(0, 6000000)"
      ]
     },
     "execution_count": 21,
     "metadata": {},
     "output_type": "execute_result"
    },
    {
     "data": {
      "image/png": "[encoded data removed]",
      "text/plain": [
       "<matplotlib.figure.Figure at 0x10f337208>"
      ]
     },
     "metadata": {},
     "output_type": "display_data"
    }
   ],
   "source": [
    "fig, ax = plt.subplots(figsize=(7,7))\n",
    "df['complete_time 3'].plot.hist(bins=70, ax=ax)\n",
    "ax.set_xlim((0,6000000))"
   ]
  },
  {
   "cell_type": "code",
   "execution_count": 70,
   "metadata": {
    "collapsed": false
   },
   "outputs": [
    {
     "data": {
      "text/plain": [
       "(0, 3000)"
      ]
     },
     "execution_count": 70,
     "metadata": {},
     "output_type": "execute_result"
    },
    {
     "data": {
      "image/png": "[encoded data removed]",
      "text/plain": [
       "<matplotlib.figure.Figure at 0x1107bdc88>"
      ]
     },
     "metadata": {},
     "output_type": "display_data"
    }
   ],
   "source": [
    "fig, ax = plt.subplots(figsize=(7,7))\n",
    "df[df['complete_time 3'] != 1].plot.hist(bins=70, ax=ax)\n",
    "ax.set_xlim((0,5000000))\n",
    "ax.set_ylim((0,3000))"
   ]
  },
  {
   "cell_type": "code",
   "execution_count": 23,
   "metadata": {
    "collapsed": false
   },
   "outputs": [
    {
     "data": {
      "text/plain": [
       "<matplotlib.axes._subplots.AxesSubplot at 0x10f787a20>"
      ]
     },
     "execution_count": 23,
     "metadata": {},
     "output_type": "execute_result"
    },
    {
     "data": {
      "image/png": "[encoded data removed]",
      "text/plain": [
       "<matplotlib.figure.Figure at 0x10cbcbf98>"
      ]
     },
     "metadata": {},
     "output_type": "display_data"
    }
   ],
   "source": [
    "fig, ax = plt.subplots(figsize=(10,7))\n",
    "df['complete_time 3'].plot.box()"
   ]
  },
  {
   "cell_type": "code",
   "execution_count": 24,
   "metadata": {
    "collapsed": false
   },
   "outputs": [
    {
     "name": "stdout",
     "output_type": "stream",
     "text": [
      "This data is highly positively skew: 2.47142794503 and highly leptokurtic: 5.77084376097 . An poses a large ammount of extreme values\n"
     ]
    }
   ],
   "source": [
    "skew = df['complete_time 3'].skew()\n",
    "kurtosis = df['complete_time 3'].kurtosis()\n",
    "print(\"This data is highly positively skew:\",skew, \"and highly leptokurtic:\", kurtosis,\". An poses a large ammount of extreme values\" )"
   ]
  },
  {
   "cell_type": "markdown",
   "metadata": {},
   "source": [
    "## This means that statistical analysis with this data set would be very imprecise. One reason might be the precense of 1 (means 0.0 seconds) and 2 (means 1.0 second) in the dataset. \n",
    "\n",
    "My hypohtesis failed, It is still skew and leptokurtic without 1 and 2.The presense of this type of data was only 9"
   ]
  },
  {
   "cell_type": "code",
   "execution_count": 103,
   "metadata": {
    "collapsed": false
   },
   "outputs": [
    {
     "data": {
      "text/plain": [
       "<matplotlib.axes._subplots.AxesSubplot at 0x111b12898>"
      ]
     },
     "execution_count": 103,
     "metadata": {},
     "output_type": "execute_result"
    },
    {
     "data": {
      "image/png": "[encoded data removed]",
      "text/plain": [
       "<matplotlib.figure.Figure at 0x1105d6780>"
      ]
     },
     "metadata": {},
     "output_type": "display_data"
    }
   ],
   "source": [
    "fig, ax = plt.subplots(figsize=(10,7))\n",
    "df[df['complete_time 3'] > 2].plot.hist(bins=70, ax=ax)"
   ]
  },
  {
   "cell_type": "code",
   "execution_count": 121,
   "metadata": {
    "collapsed": false
   },
   "outputs": [],
   "source": [
    "prove = df[df['complete_time 3'] > 2]\n",
    "outcome = ((df['complete_time 3'].count() - prove['complete_time 3'].count())/ df['complete_time 3'].count()) * 100"
   ]
  },
  {
   "cell_type": "code",
   "execution_count": 122,
   "metadata": {
    "collapsed": false
   },
   "outputs": [
    {
     "data": {
      "text/html": [
       "<div>\n",
       "<table border=\"1\" class=\"dataframe\">\n",
       "  <thead>\n",
       "    <tr style=\"text-align: right;\">\n",
       "      <th></th>\n",
       "      <th>gid</th>\n",
       "      <th>Complete_time</th>\n",
       "      <th>Complete_time 2</th>\n",
       "      <th>complete_time 3</th>\n",
       "    </tr>\n",
       "  </thead>\n",
       "  <tbody>\n",
       "    <tr>\n",
       "      <th>count</th>\n",
       "      <td>5126.000000</td>\n",
       "      <td>5126</td>\n",
       "      <td>5126</td>\n",
       "      <td>5.126000e+03</td>\n",
       "    </tr>\n",
       "    <tr>\n",
       "      <th>mean</th>\n",
       "      <td>2883.524385</td>\n",
       "      <td>7 days 07:20:49.819937</td>\n",
       "      <td>8 days 02:06:33.830862</td>\n",
       "      <td>6.987948e+05</td>\n",
       "    </tr>\n",
       "    <tr>\n",
       "      <th>std</th>\n",
       "      <td>1715.038011</td>\n",
       "      <td>15 days 01:31:58.931750</td>\n",
       "      <td>14 days 15:48:49.714517</td>\n",
       "      <td>1.266530e+06</td>\n",
       "    </tr>\n",
       "    <tr>\n",
       "      <th>min</th>\n",
       "      <td>1.000000</td>\n",
       "      <td>-19 days +09:29:00</td>\n",
       "      <td>0 days 00:00:55</td>\n",
       "      <td>5.600000e+01</td>\n",
       "    </tr>\n",
       "    <tr>\n",
       "      <th>25%</th>\n",
       "      <td>1364.250000</td>\n",
       "      <td>0 days 02:28:17.250000</td>\n",
       "      <td>0 days 16:21:41</td>\n",
       "      <td>5.890200e+04</td>\n",
       "    </tr>\n",
       "    <tr>\n",
       "      <th>50%</th>\n",
       "      <td>2845.500000</td>\n",
       "      <td>1 days 00:17:03.500000</td>\n",
       "      <td>1 days 12:45:06.500000</td>\n",
       "      <td>1.323075e+05</td>\n",
       "    </tr>\n",
       "    <tr>\n",
       "      <th>75%</th>\n",
       "      <td>4351.750000</td>\n",
       "      <td>4 days 23:15:45.500000</td>\n",
       "      <td>5 days 23:08:13.500000</td>\n",
       "      <td>5.152945e+05</td>\n",
       "    </tr>\n",
       "    <tr>\n",
       "      <th>max</th>\n",
       "      <td>5851.000000</td>\n",
       "      <td>89 days 18:54:00</td>\n",
       "      <td>89 days 18:54:00</td>\n",
       "      <td>7.757641e+06</td>\n",
       "    </tr>\n",
       "  </tbody>\n",
       "</table>\n",
       "</div>"
      ],
      "text/plain": [
       "               gid            Complete_time          Complete_time 2  \\\n",
       "count  5126.000000                     5126                     5126   \n",
       "mean   2883.524385   7 days 07:20:49.819937   8 days 02:06:33.830862   \n",
       "std    1715.038011  15 days 01:31:58.931750  14 days 15:48:49.714517   \n",
       "min       1.000000       -19 days +09:29:00          0 days 00:00:55   \n",
       "25%    1364.250000   0 days 02:28:17.250000          0 days 16:21:41   \n",
       "50%    2845.500000   1 days 00:17:03.500000   1 days 12:45:06.500000   \n",
       "75%    4351.750000   4 days 23:15:45.500000   5 days 23:08:13.500000   \n",
       "max    5851.000000         89 days 18:54:00         89 days 18:54:00   \n",
       "\n",
       "       complete_time 3  \n",
       "count     5.126000e+03  \n",
       "mean      6.987948e+05  \n",
       "std       1.266530e+06  \n",
       "min       5.600000e+01  \n",
       "25%       5.890200e+04  \n",
       "50%       1.323075e+05  \n",
       "75%       5.152945e+05  \n",
       "max       7.757641e+06  "
      ]
     },
     "execution_count": 122,
     "metadata": {},
     "output_type": "execute_result"
    }
   ],
   "source": [
    "prove.describe()"
   ]
  },
  {
   "cell_type": "code",
   "execution_count": null,
   "metadata": {
    "collapsed": true
   },
   "outputs": [],
   "source": []
  }
 ],
 "metadata": {
  "kernelspec": {
   "display_name": "Python 3",
   "language": "python",
   "name": "python3"
  },
  "language_info": {
   "codemirror_mode": {
    "name": "ipython",
    "version": 3
   },
   "file_extension": ".py",
   "mimetype": "text/x-python",
   "name": "python",
   "nbconvert_exporter": "python",
   "pygments_lexer": "ipython3",
   "version": "3.5.1"
  }
 },
 "nbformat": 4,
 "nbformat_minor": 0
}
