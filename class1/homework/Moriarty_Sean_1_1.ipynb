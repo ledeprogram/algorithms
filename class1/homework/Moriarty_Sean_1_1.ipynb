{
 "cells": [
  {
   "cell_type": "markdown",
   "metadata": {},
   "source": [
    "Write a function that takes in a list of numbers and outputs the mean of the numbers using the formula for mean. \n",
    "Do this without any built-in functions like sum(), len(), and, of course, mean()"
   ]
  },
  {
   "cell_type": "code",
   "execution_count": 1,
   "metadata": {
    "collapsed": true
   },
   "outputs": [],
   "source": [
    "def get_mean(numbers):\n",
    "    total=0\n",
    "    count=0\n",
    "    for number in numbers:\n",
    "        total+=number\n",
    "        count+=1\n",
    "    return total/count"
   ]
  },
  {
   "cell_type": "code",
   "execution_count": 10,
   "metadata": {
    "collapsed": false
   },
   "outputs": [
    {
     "name": "stdout",
     "output_type": "stream",
     "text": [
      "5037.894736842105\n",
      "5037.89473684\n",
      "5037.894736842105\n"
     ]
    }
   ],
   "source": [
    "from numpy import mean\n",
    "list1=[1, 2, 3, 1, 345, 23, 1234, 321, 34345, 1232, 321, 34, 1233, 54213, 2321, 2, 12, 34, 43]\n",
    "print(sum(list1)/len(list1))\n",
    "print(mean(list1))\n",
    "print(get_mean(list1))"
   ]
  },
  {
   "cell_type": "code",
   "execution_count": null,
   "metadata": {
    "collapsed": true
   },
   "outputs": [],
   "source": []
  }
 ],
 "metadata": {
  "kernelspec": {
   "display_name": "IPython (Python 3)",
   "language": "python",
   "name": "python3"
  },
  "language_info": {
   "codemirror_mode": {
    "name": "ipython",
    "version": 3
   },
   "file_extension": ".py",
   "mimetype": "text/x-python",
   "name": "python",
   "nbconvert_exporter": "python",
   "pygments_lexer": "ipython3",
   "version": "3.5.1+"
  }
 },
 "nbformat": 4,
 "nbformat_minor": 0
}
