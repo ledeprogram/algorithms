{
 "cells": [
  {
   "cell_type": "markdown",
   "metadata": {},
   "source": [
    "# The following code will print the prime numbers between 1 and 100. Modify the code so it prints every other prime number from 1 to 100"
   ]
  },
  {
   "cell_type": "code",
   "execution_count": 21,
   "metadata": {
    "collapsed": false
   },
   "outputs": [
    {
     "name": "stdout",
     "output_type": "stream",
     "text": [
      "1\n",
      "3\n",
      "7\n",
      "13\n",
      "19\n",
      "29\n",
      "37\n",
      "43\n",
      "53\n",
      "61\n",
      "71\n",
      "79\n",
      "89\n",
      "Time: 0.0013584190000983654\n"
     ]
    }
   ],
   "source": [
    "from timeit import default_timer as timer\n",
    "\n",
    "start = timer()\n",
    "other = True\n",
    "for num in range(1,101): # for-loop through the numbers\n",
    "    prime = True # boolean flag to check the number for being prime\n",
    "    for i in range(2,num): # for-loop to check for \"primeness\" by checking for divisors other than 1\n",
    "        if (num%i==0): # logical test for the number having a divisor other than 1 and itself\n",
    "            prime = False # if there's a divisor, the boolean value gets flipped to False\n",
    "    if prime: # if prime is still True after going through all numbers from 1 - 100, then it gets printed\n",
    "        if other == True:\n",
    "            print(num)\n",
    "            other = False\n",
    "        else:\n",
    "            other = True\n",
    "end = timer()\n",
    "exec_time_1 = end - start\n",
    "print(\"Time:\", exec_time_1)"
   ]
  },
  {
   "cell_type": "markdown",
   "metadata": {},
   "source": [
    "# Extra Credit: Can you write a procedure that runs faster than the one above?"
   ]
  },
  {
   "cell_type": "code",
   "execution_count": 115,
   "metadata": {
    "collapsed": false
   },
   "outputs": [
    {
     "name": "stdout",
     "output_type": "stream",
     "text": [
      "1\n",
      "3\n",
      "7\n",
      "13\n",
      "19\n",
      "29\n",
      "37\n",
      "43\n",
      "53\n",
      "61\n",
      "71\n",
      "79\n",
      "89\n",
      "Time: 0.0005376940007408848\n",
      "The second code ran 60.42% faster.\n"
     ]
    }
   ],
   "source": [
    "from timeit import default_timer as timer\n",
    "\n",
    "#import collections\n",
    "#other_prime = collections.deque()\n",
    "\n",
    "start = timer()\n",
    "other = True\n",
    "other_prime = []\n",
    "\n",
    "for num in range(1,101):\n",
    "    prime = True # boolean flag to check the number for being prime\n",
    "    \n",
    "    if (num & 1) == 0 and num > 2: # fast test for even numbers\n",
    "        continue\n",
    "    \n",
    "    for i in range(2,num): # for-loop to check for \"primeness\" by checking for divisors other than 1\n",
    "        if (num%i==0): # logical test for the number having a divisor other than 1 and itself\n",
    "            prime = False # if there's a divisor, the boolean value gets flipped to False\n",
    "            break\n",
    "    if prime: # if prime is still True after going through all numbers from 1 - 100, then it gets printed\n",
    "        if other == True:\n",
    "            other_prime.append(num)\n",
    "            other = False\n",
    "        else:\n",
    "            other = True\n",
    "\n",
    "print(*other_prime, sep=\"\\n\")\n",
    "end = timer()\n",
    "exec_time_2 = end - start\n",
    "print(\"Time:\", exec_time_2)\n",
    "diff = (exec_time_1 - exec_time_2)/exec_time_1\n",
    "if diff > 0:\n",
    "    print(\"The second code ran {0:.2f}% faster.\".format(100*diff))\n",
    "else:\n",
    "    print(\"The second code ran {0:.2f}% slower.\".format(-100*diff))"
   ]
  }
 ],
 "metadata": {
  "kernelspec": {
   "display_name": "Python 3",
   "language": "python",
   "name": "python3"
  },
  "language_info": {
   "codemirror_mode": {
    "name": "ipython",
    "version": 3
   },
   "file_extension": ".py",
   "mimetype": "text/x-python",
   "name": "python",
   "nbconvert_exporter": "python",
   "pygments_lexer": "ipython3",
   "version": "3.5.1"
  },
  "widgets": {
   "state": {},
   "version": "1.1.2"
  }
 },
 "nbformat": 4,
 "nbformat_minor": 0
}
