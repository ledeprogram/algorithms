{
 "cells": [
  {
   "cell_type": "markdown",
   "metadata": {},
   "source": [
    "# Mayoral Excuse Machine"
   ]
  },
  {
   "cell_type": "code",
   "execution_count": 127,
   "metadata": {
    "collapsed": false
   },
   "outputs": [],
   "source": [
    "#Create your own version of the Mayoral Excuse Machine in Python that\n",
    "#takes in a name and location, selects an excuse at random and prints \n",
    "#an excuse (“Sorry, Richard, I was late to City Hall to meet you, I had \n",
    "#a very rough night and woke up sluggish”)\n",
    "\n",
    "#Use the “excuses.csv” in the Github repository\n",
    "#Extra credit if you print the link to the story as well"
   ]
  },
  {
   "cell_type": "code",
   "execution_count": 128,
   "metadata": {
    "collapsed": false
   },
   "outputs": [],
   "source": [
    "import pandas as pd\n",
    "import random\n",
    "from random import randint"
   ]
  },
  {
   "cell_type": "code",
   "execution_count": null,
   "metadata": {
    "collapsed": true
   },
   "outputs": [],
   "source": [
    "#Asking for the persons name:\n",
    "Name = input(\"Who were you supposed to meet?\")"
   ]
  },
  {
   "cell_type": "code",
   "execution_count": null,
   "metadata": {
    "collapsed": true
   },
   "outputs": [],
   "source": [
    "Location = input(\"Where were you supposed to meet them\")"
   ]
  },
  {
   "cell_type": "code",
   "execution_count": 129,
   "metadata": {
    "collapsed": false
   },
   "outputs": [],
   "source": [
    "#Setting up the data. First, creating Pandas file:\n",
    "df = pd.read_csv(\"data/excuse.csv\")"
   ]
  },
  {
   "cell_type": "code",
   "execution_count": 130,
   "metadata": {
    "collapsed": false
   },
   "outputs": [],
   "source": [
    "#This is the formatting you need to change a Pandas DF into a list of Dictionaries:\n",
    "#http://pandas.pydata.org/pandas-docs/stable/generated/pandas.DataFrame.to_dict.html\n",
    "list_of_dict = df.to_dict('records')"
   ]
  },
  {
   "cell_type": "code",
   "execution_count": 131,
   "metadata": {
    "collapsed": false
   },
   "outputs": [
    {
     "name": "stdout",
     "output_type": "stream",
     "text": [
      "Sorry, Richard, I was late to City Hall to meet you, breakfast began a little later than expected. URL: http://www.dnainfo.com/new-york/20150317/midtown/de-blasio-15-minutes-late-st-patricks-day-mass-blames-breakfast\n"
     ]
    }
   ],
   "source": [
    "number = randint(0,9)\n",
    "print(\"Sorry, {}, I was late to {} to meet you, {}. Story Link: {}\"\\\n",
    "          .format(Name, Location, list_of_dict[number]['excuse'], list_of_dict[number]['hyperlink']))"
   ]
  },
  {
   "cell_type": "code",
   "execution_count": 126,
   "metadata": {
    "collapsed": false
   },
   "outputs": [
    {
     "name": "stdout",
     "output_type": "stream",
     "text": [
      "Sorry, Richard, I was late to City Hall to meet you, I should have gotten myself moving quicker. URL: http://www.dnainfo.com/new-york/20141112/rockaway-park/de-blasio-arrives-20-minutes-late-flight-587-memorial-angering-families\n"
     ]
    }
   ],
   "source": []
  },
  {
   "cell_type": "code",
   "execution_count": null,
   "metadata": {
    "collapsed": true
   },
   "outputs": [],
   "source": []
  }
 ],
 "metadata": {
  "kernelspec": {
   "display_name": "Python 3",
   "language": "python",
   "name": "python3"
  },
  "language_info": {
   "codemirror_mode": {
    "name": "ipython",
    "version": 3
   },
   "file_extension": ".py",
   "mimetype": "text/x-python",
   "name": "python",
   "nbconvert_exporter": "python",
   "pygments_lexer": "ipython3",
   "version": "3.5.1"
  }
 },
 "nbformat": 4,
 "nbformat_minor": 0
}
