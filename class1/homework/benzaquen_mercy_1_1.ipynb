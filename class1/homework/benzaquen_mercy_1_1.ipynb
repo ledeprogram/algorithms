{
 "cells": [
  {
   "cell_type": "markdown",
   "metadata": {},
   "source": [
    "# Write a function that takes in a list of numbers and outputs the mean of the numbers using the formula for mean. Do this without any built-in functions like sum(), len(), mean()\n",
    "\n",
    "the sum of the numbers divided by how many numbers"
   ]
  },
  {
   "cell_type": "code",
   "execution_count": 125,
   "metadata": {
    "collapsed": false
   },
   "outputs": [],
   "source": [
    "def mean_numbers(list): #pasamos un list siempre\n",
    "    #print('entro al loop')\n",
    "    #print(type(list)) #comprobamos que es un list\n",
    "    #print(list)\n",
    "    list_to_sum = 0 #creo una nueva lista vacia para poder sumar\n",
    "    number_of_elements_in_list= 0\n",
    "    for item in list: #hago un loop de mi lista original y le voy diciendo que me sume cada elemento\n",
    "        list_to_sum += item\n",
    "        number_of_elements_in_list= number_of_elements_in_list +1\n",
    "    return list_to_sum/ number_of_elements_in_list"
   ]
  },
  {
   "cell_type": "code",
   "execution_count": 126,
   "metadata": {
    "collapsed": false
   },
   "outputs": [
    {
     "data": {
      "text/plain": [
       "4.0"
      ]
     },
     "execution_count": 126,
     "metadata": {},
     "output_type": "execute_result"
    }
   ],
   "source": [
    "mean_numbers([2,3,4,5,6])"
   ]
  },
  {
   "cell_type": "code",
   "execution_count": null,
   "metadata": {
    "collapsed": true
   },
   "outputs": [],
   "source": []
  }
 ],
 "metadata": {
  "kernelspec": {
   "display_name": "Python 3",
   "language": "python",
   "name": "python3"
  },
  "language_info": {
   "codemirror_mode": {
    "name": "ipython",
    "version": 3
   },
   "file_extension": ".py",
   "mimetype": "text/x-python",
   "name": "python",
   "nbconvert_exporter": "python",
   "pygments_lexer": "ipython3",
   "version": "3.5.1"
  }
 },
 "nbformat": 4,
 "nbformat_minor": 0
}
