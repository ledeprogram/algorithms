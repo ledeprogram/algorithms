{
 "cells": [
  {
   "cell_type": "markdown",
   "metadata": {},
   "source": [
    "* Create your own version of the Mayoral Excuse Machine in Python that takes in a name and location, selects an excuse at random and prints an excuse (“Sorry, Richard, I was late to City Hall to meet you, I had a very rough night and woke up sluggish”)\n",
    "* Use the “excuses.csv” in the Github repository\n",
    "* Extra credit if you print the link to the story as well"
   ]
  },
  {
   "cell_type": "code",
   "execution_count": 7,
   "metadata": {
    "collapsed": false
   },
   "outputs": [],
   "source": [
    "import pandas as pd\n",
    "import numpy as np\n",
    "excuses=pd.read_csv('/home/sean/git/algorithms/class1/homework/data/excuse.csv')"
   ]
  },
  {
   "cell_type": "code",
   "execution_count": 31,
   "metadata": {
    "collapsed": false
   },
   "outputs": [
    {
     "name": "stdout",
     "output_type": "stream",
     "text": [
      "Tell me your name -dfsgsf\n",
      "Now tell me where you would like to go -weggf\n",
      "Sorry, dfsgsf, I was late to weggf to meet you, we had some stuff we had to do.\n",
      "This excuse brought to you by http://www.dnainfo.com/new-york/20150307/belle-harbor/de-blasio-30-minutes-late-rockaway-st-patricks-day-parade\n"
     ]
    }
   ],
   "source": [
    "name=input('Tell me your name -')\n",
    "destination=input('Now tell me where you would like to go -')\n",
    "pick=np.random.choice(excuses.index)\n",
    "excuse=excuses['excuse'][pick]\n",
    "source=excuses['hyperlink'][pick]\n",
    "full_excuse=(\"Sorry, {name}, I was late to {destination} to meet you, {excuse}.\\nThis excuse brought to you by {source}\").format(\n",
    "                name=name, destination=destination, excuse=excuse, source=source)\n",
    "print(full_excuse)"
   ]
  },
  {
   "cell_type": "code",
   "execution_count": null,
   "metadata": {
    "collapsed": true
   },
   "outputs": [],
   "source": []
  }
 ],
 "metadata": {
  "kernelspec": {
   "display_name": "IPython (Python 3)",
   "language": "python",
   "name": "python3"
  },
  "language_info": {
   "codemirror_mode": {
    "name": "ipython",
    "version": 3
   },
   "file_extension": ".py",
   "mimetype": "text/x-python",
   "name": "python",
   "nbconvert_exporter": "python",
   "pygments_lexer": "ipython3",
   "version": "3.5.1+"
  }
 },
 "nbformat": 4,
 "nbformat_minor": 0
}
