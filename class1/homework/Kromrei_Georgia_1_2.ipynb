{
 "cells": [
  {
   "cell_type": "code",
   "execution_count": null,
   "metadata": {
    "collapsed": true
   },
   "outputs": [],
   "source": [
    "#Create your own version of the Mayoral Excuse Machine in Python that takes in a\n",
    "#name and location, selects an excuse at random and prints an excuse\n",
    "#(“Sorry, Richard, I was late to City Hall to meet you,\n",
    "#I had a very rough night and woke up sluggish”)\n",
    "#Use the “excuses.csv” in the Github repository\n",
    "#Extra credit if you print the link to the story as well"
   ]
  },
  {
   "cell_type": "code",
   "execution_count": 56,
   "metadata": {
    "collapsed": false
   },
   "outputs": [
    {
     "name": "stdout",
     "output_type": "stream",
     "text": [
      "What's your name? Georgia\n",
      "What's your location?Kromrei\n"
     ]
    }
   ],
   "source": [
    "#Import the things I need\n",
    "import pandas as pd\n",
    "import random\n",
    "\n",
    "#Get the inputs from the user\n",
    "name = input(\"What's your name? \")\n",
    "location = input(\"What's your location?\")\n",
    "\n",
    "#Read in the csv file\n",
    "df = pd.read_csv('excuse.csv')"
   ]
  },
  {
   "cell_type": "code",
   "execution_count": 23,
   "metadata": {
    "collapsed": false
   },
   "outputs": [
    {
     "data": {
      "text/plain": [
       "Index(['excuse', 'headline', 'hyperlink'], dtype='object')"
      ]
     },
     "execution_count": 23,
     "metadata": {},
     "output_type": "execute_result"
    }
   ],
   "source": [
    "#What are the columns?\n",
    "df.columns"
   ]
  },
  {
   "cell_type": "code",
   "execution_count": 72,
   "metadata": {
    "collapsed": false
   },
   "outputs": [
    {
     "name": "stdout",
     "output_type": "stream",
     "text": [
      "Sorry, Georgia I was late to Kromrei to meet you, I was just not feeling well this morning\n"
     ]
    }
   ],
   "source": [
    "random_excuse = random.choice(df['excuse'])\n",
    "print(\"Sorry,\", name,\"I was late to\", location, \"to meet you,\", random_excuse)"
   ]
  },
  {
   "cell_type": "code",
   "execution_count": null,
   "metadata": {
    "collapsed": false
   },
   "outputs": [],
   "source": []
  },
  {
   "cell_type": "code",
   "execution_count": null,
   "metadata": {
    "collapsed": false
   },
   "outputs": [],
   "source": []
  },
  {
   "cell_type": "code",
   "execution_count": null,
   "metadata": {
    "collapsed": true
   },
   "outputs": [],
   "source": []
  }
 ],
 "metadata": {
  "kernelspec": {
   "display_name": "Python 3",
   "language": "python",
   "name": "python3"
  },
  "language_info": {
   "codemirror_mode": {
    "name": "ipython",
    "version": 3
   },
   "file_extension": ".py",
   "mimetype": "text/x-python",
   "name": "python",
   "nbconvert_exporter": "python",
   "pygments_lexer": "ipython3",
   "version": "3.5.1"
  }
 },
 "nbformat": 4,
 "nbformat_minor": 0
}
