{
 "cells": [
  {
   "cell_type": "code",
   "execution_count": 1,
   "metadata": {
    "collapsed": false
   },
   "outputs": [
    {
     "name": "stdout",
     "output_type": "stream",
     "text": [
      "2\n",
      "5\n",
      "11\n",
      "17\n",
      "23\n",
      "31\n",
      "41\n",
      "47\n",
      "59\n",
      "67\n",
      "73\n",
      "83\n",
      "97\n"
     ]
    }
   ],
   "source": [
    "# ### Assignment 3\n",
    "# \n",
    "# Modify the original code that prints every prime number between 1 and 100 to only print every other prime number\n",
    "# Extra credit if you can modify the code to speed it up\n",
    "# \n",
    "# Note: Considered \"1\" as not a prime number.  \n",
    "# Source: https://primes.utm.edu/notes/faq/one.html\n",
    "\n",
    "# # original \n",
    "# for num in range(1,101):\n",
    "#     prime = True\n",
    "#     for i in range(2,num):\n",
    "#         if (num%i==0):\n",
    "#             prime = False\n",
    "#     if prime:\n",
    "#         print(num)\n",
    "\n",
    "count = 0\n",
    "for num in range(2,101):\n",
    "    \n",
    "    for i in range(2,num):\n",
    "        if (num%i==0):\n",
    "            num = 0\n",
    "    \n",
    "    if num != 0:\n",
    "        count +=1\n",
    "        if count % 2 == 1: \n",
    "            print(num)"
   ]
  },
  {
   "cell_type": "code",
   "execution_count": null,
   "metadata": {
    "collapsed": true
   },
   "outputs": [],
   "source": []
  }
 ],
 "metadata": {
  "kernelspec": {
   "display_name": "Python 3",
   "language": "python",
   "name": "python3"
  },
  "language_info": {
   "codemirror_mode": {
    "name": "ipython",
    "version": 3
   },
   "file_extension": ".py",
   "mimetype": "text/x-python",
   "name": "python",
   "nbconvert_exporter": "python",
   "pygments_lexer": "ipython3",
   "version": "3.4.4"
  }
 },
 "nbformat": 4,
 "nbformat_minor": 0
}
