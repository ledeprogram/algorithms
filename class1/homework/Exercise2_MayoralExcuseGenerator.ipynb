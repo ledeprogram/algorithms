{
 "cells": [
  {
   "cell_type": "code",
   "execution_count": 1,
   "metadata": {
    "collapsed": false
   },
   "outputs": [],
   "source": [
    "import random #package for generating pseudo-random numbers: https://docs.python.org/2/library/random.html"
   ]
  },
  {
   "cell_type": "code",
   "execution_count": 3,
   "metadata": {
    "collapsed": false
   },
   "outputs": [],
   "source": [
    "import csv"
   ]
  },
  {
   "cell_type": "code",
   "execution_count": 4,
   "metadata": {
    "collapsed": false
   },
   "outputs": [
    {
     "name": "stdout",
     "output_type": "stream",
     "text": [
      "Enter your name: Richard\n"
     ]
    }
   ],
   "source": [
    "person = raw_input('Enter your name: ')"
   ]
  },
  {
   "cell_type": "code",
   "execution_count": 5,
   "metadata": {
    "collapsed": false
   },
   "outputs": [
    {
     "name": "stdout",
     "output_type": "stream",
     "text": [
      "Enter your destination: Chelsea\n"
     ]
    }
   ],
   "source": [
    "place = raw_input('Enter your destination: ')"
   ]
  },
  {
   "cell_type": "code",
   "execution_count": 6,
   "metadata": {
    "collapsed": false
   },
   "outputs": [],
   "source": [
    "r = random.randrange(0,11) # generate random number between 0 and 10"
   ]
  },
  {
   "cell_type": "code",
   "execution_count": 8,
   "metadata": {
    "collapsed": false
   },
   "outputs": [],
   "source": [
    "excuse_list = [] #create an empty list to hold the excuses\n",
    "inputReader = csv.DictReader(open('excuse.csv','rU'))\n",
    "for line in inputReader:\n",
    "    excuse_list.append(line) # append the excuses (as dictionary) to the list"
   ]
  },
  {
   "cell_type": "code",
   "execution_count": 7,
   "metadata": {
    "collapsed": false
   },
   "outputs": [
    {
     "name": "stdout",
     "output_type": "stream",
     "text": [
      "Sorry, Richard I was late to Chelsea, breakfast began a little later than expected\n",
      "From the story \"De Blasio 15 Minutes Late to St. Patrick's Day Mass, Blames Breakfast\"\n",
      "http://www.dnainfo.com/new-york/20150317/midtown/de-blasio-15-minutes-late-st-patricks-day-mass-blames-breakfast\n"
     ]
    }
   ],
   "source": [
    "print \"Sorry, \" + person + \" I was late to \" + place + \", \" + excuse_list[r]['excuse']\n",
    "print 'From the story \"' + excuse_list[r]['headline'] + '\"'\n",
    "print excuse_list[r]['hyperlink']"
   ]
  },
  {
   "cell_type": "code",
   "execution_count": 15,
   "metadata": {
    "collapsed": false
   },
   "outputs": [],
   "source": [
    "# alternate way of generating the list of excuses using the context manager\n",
    "# http://preshing.com/20110920/the-python-with-statement-by-example/\n",
    "excuse_list2 = []\n",
    "with open('excuse.csv','rU') as inputFile:\n",
    "    inputReader = csv.DictReader(inputFile)\n",
    "    for line in inputReader:\n",
    "        excuse_list2.append(line) # append the excuses (as dictionary) to the list\n",
    "    #file connection is close at end of the indented code"
   ]
  },
  {
   "cell_type": "code",
   "execution_count": null,
   "metadata": {
    "collapsed": false
   },
   "outputs": [],
   "source": [
    "# This is the least elegant and least pythonic way of doing this. \n",
    "# Putting this code up at a Python conference could get you booed or otherwise shamed and driven from the hall\n",
    "# but it gets the job done\n",
    "inputFile = open('excuse.csv','rU') #create the file object\n",
    "header = next(inputFile) # return the first line of the file (header) and assign to a variable\n",
    "excuse_list = []\n",
    "for line in inputFile:\n",
    "    line = line.split(',') # split the line on the comma\n",
    "    excuse_list.append(line[0]) # append the first element to the list\n",
    "inputFile.close() # close connection to the file"
   ]
  },
  {
   "cell_type": "code",
   "execution_count": null,
   "metadata": {
    "collapsed": false
   },
   "outputs": [],
   "source": []
  }
 ],
 "metadata": {
  "kernelspec": {
   "display_name": "Python 2",
   "language": "python",
   "name": "python2"
  },
  "language_info": {
   "codemirror_mode": {
    "name": "ipython",
    "version": 2
   },
   "file_extension": ".py",
   "mimetype": "text/x-python",
   "name": "python",
   "nbconvert_exporter": "python",
   "pygments_lexer": "ipython2",
   "version": "2.7.10"
  }
 },
 "nbformat": 4,
 "nbformat_minor": 0
}
