{
 "cells": [
  {
   "cell_type": "markdown",
   "metadata": {},
   "source": [
    "#### Create your own version of the Mayoral Excuse Machine in Python that takes in a name and location, selects an excuse at random and prints an excuse\n",
    "\n",
    "For example, “Sorry, Richard, I was late to City Hall to meet you, I had a very rough night and woke up sluggish”"
   ]
  },
  {
   "cell_type": "code",
   "execution_count": 32,
   "metadata": {
    "collapsed": true
   },
   "outputs": [],
   "source": [
    "import csv\n",
    "import random"
   ]
  },
  {
   "cell_type": "code",
   "execution_count": 69,
   "metadata": {
    "collapsed": false
   },
   "outputs": [],
   "source": [
    "# opens and reads excuse.csv\n",
    "reader = csv.reader(open('excuse.csv','r'), delimiter=',')\n",
    "\n",
    "# skips headers \n",
    "next(reader)\n",
    "\n",
    "# makes empty list\n",
    "data = []\n",
    "\n",
    "# make tuples from csv file, append tuple to list\n",
    "for rows in reader: \n",
    "    excuse = rows[0]\n",
    "    hyperlink = rows[2]\n",
    "    pair = excuse, hyperlink \n",
    "    data.append(pair)"
   ]
  },
  {
   "cell_type": "code",
   "execution_count": null,
   "metadata": {
    "collapsed": false
   },
   "outputs": [],
   "source": [
    "# takes a name and location\n",
    "name = input('Enter a name')\n",
    "location = input('Enter a location')\n",
    "\n",
    "# prints a random excuse and its source(hyperlink)\n",
    "if name and location:\n",
    "    random_pair = random.choice(data)\n",
    "    print('Sorry',name,'that I was late to',location,'to meet you;',random_pair[0])\n",
    "    print('This excuse can be found in this article:',random_pair[1])"
   ]
  }
 ],
 "metadata": {
  "kernelspec": {
   "display_name": "Python 3",
   "language": "python",
   "name": "python3"
  },
  "language_info": {
   "codemirror_mode": {
    "name": "ipython",
    "version": 3
   },
   "file_extension": ".py",
   "mimetype": "text/x-python",
   "name": "python",
   "nbconvert_exporter": "python",
   "pygments_lexer": "ipython3",
   "version": "3.5.1"
  }
 },
 "nbformat": 4,
 "nbformat_minor": 0
}
