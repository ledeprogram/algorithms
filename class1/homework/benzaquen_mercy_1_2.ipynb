{
 "cells": [
  {
   "cell_type": "markdown",
   "metadata": {},
   "source": [
    "# Create your own version of the Mayoral Excuse Machine in Python that takes in a name and location, selects an excuse at random and prints an excuse (“Sorry, Richard, I was late to City Hall to meet you, I had a very rough night and woke up sluggish”)\n",
    "Use the “excuses.csv” in the Github repository\n",
    "Extra credit if you print the link to the story as well"
   ]
  },
  {
   "cell_type": "code",
   "execution_count": 6,
   "metadata": {
    "collapsed": false
   },
   "outputs": [],
   "source": [
    "import pandas as pd\n",
    "import random"
   ]
  },
  {
   "cell_type": "code",
   "execution_count": 5,
   "metadata": {
    "collapsed": false,
    "scrolled": true
   },
   "outputs": [
    {
     "data": {
      "text/html": [
       "<div>\n",
       "<table border=\"1\" class=\"dataframe\">\n",
       "  <thead>\n",
       "    <tr style=\"text-align: right;\">\n",
       "      <th></th>\n",
       "      <th>excuse</th>\n",
       "      <th>headline</th>\n",
       "      <th>hyperlink</th>\n",
       "    </tr>\n",
       "  </thead>\n",
       "  <tbody>\n",
       "    <tr>\n",
       "      <th>0</th>\n",
       "      <td>the fog was unexpected and did slow us down a bit</td>\n",
       "      <td>De Blasio Blames 'Rough Night' and Fog for Mis...</td>\n",
       "      <td>http://www.dnainfo.com/new-york/20141112/rocka...</td>\n",
       "    </tr>\n",
       "    <tr>\n",
       "      <th>1</th>\n",
       "      <td>we had some meetings at Gracie Mansion</td>\n",
       "      <td>De Blasio 30 Minutes Late to Rockaway St. Patr...</td>\n",
       "      <td>http://www.dnainfo.com/new-york/20150307/belle...</td>\n",
       "    </tr>\n",
       "    <tr>\n",
       "      <th>2</th>\n",
       "      <td>I had a very rough night and woke up sluggish</td>\n",
       "      <td>De Blasio Blames 'Rough Night' and Fog for Mis...</td>\n",
       "      <td>http://www.dnainfo.com/new-york/20141112/rocka...</td>\n",
       "    </tr>\n",
       "    <tr>\n",
       "      <th>3</th>\n",
       "      <td>I just woke up in the middle of the night and ...</td>\n",
       "      <td>De Blasio Blames 'Rough Night' and Fog for Mis...</td>\n",
       "      <td>http://www.dnainfo.com/new-york/20141112/rocka...</td>\n",
       "    </tr>\n",
       "    <tr>\n",
       "      <th>4</th>\n",
       "      <td>we had some stuff we had to do</td>\n",
       "      <td>De Blasio 30 Minutes Late to Rockaway St. Patr...</td>\n",
       "      <td>http://www.dnainfo.com/new-york/20150307/belle...</td>\n",
       "    </tr>\n",
       "    <tr>\n",
       "      <th>5</th>\n",
       "      <td>I should have gotten myself moving quicker</td>\n",
       "      <td>De Blasio Blames 'Rough Night' and Fog for Mis...</td>\n",
       "      <td>http://www.dnainfo.com/new-york/20141112/rocka...</td>\n",
       "    </tr>\n",
       "    <tr>\n",
       "      <th>6</th>\n",
       "      <td>I was just not feeling well this morning</td>\n",
       "      <td>De Blasio Blames 'Rough Night' and Fog for Mis...</td>\n",
       "      <td>http://www.dnainfo.com/new-york/20141112/rocka...</td>\n",
       "    </tr>\n",
       "    <tr>\n",
       "      <th>7</th>\n",
       "      <td>breakfast began a little later than expected</td>\n",
       "      <td>De Blasio 15 Minutes Late to St. Patrick's Day...</td>\n",
       "      <td>http://www.dnainfo.com/new-york/20150317/midto...</td>\n",
       "    </tr>\n",
       "    <tr>\n",
       "      <th>8</th>\n",
       "      <td>the detail drove away when we went into the su...</td>\n",
       "      <td>Mayor de Blasio Is Irked by a Subway Delay</td>\n",
       "      <td>http://www.nytimes.com/2015/05/06/nyregion/may...</td>\n",
       "    </tr>\n",
       "    <tr>\n",
       "      <th>9</th>\n",
       "      <td>we waited 20 mins for an express only to hear ...</td>\n",
       "      <td>Mayor de Blasio Is Irked by a Subway Delay</td>\n",
       "      <td>http://www.nytimes.com/2015/05/06/nyregion/may...</td>\n",
       "    </tr>\n",
       "    <tr>\n",
       "      <th>10</th>\n",
       "      <td>we need a better system</td>\n",
       "      <td>Mayor de Blasio Is Irked by a Subway Delay</td>\n",
       "      <td>http://www.nytimes.com/2015/05/06/nyregion/may...</td>\n",
       "    </tr>\n",
       "  </tbody>\n",
       "</table>\n",
       "</div>"
      ],
      "text/plain": [
       "                                               excuse  \\\n",
       "0   the fog was unexpected and did slow us down a bit   \n",
       "1              we had some meetings at Gracie Mansion   \n",
       "2       I had a very rough night and woke up sluggish   \n",
       "3   I just woke up in the middle of the night and ...   \n",
       "4                      we had some stuff we had to do   \n",
       "5          I should have gotten myself moving quicker   \n",
       "6            I was just not feeling well this morning   \n",
       "7        breakfast began a little later than expected   \n",
       "8   the detail drove away when we went into the su...   \n",
       "9   we waited 20 mins for an express only to hear ...   \n",
       "10                            we need a better system   \n",
       "\n",
       "                                             headline  \\\n",
       "0   De Blasio Blames 'Rough Night' and Fog for Mis...   \n",
       "1   De Blasio 30 Minutes Late to Rockaway St. Patr...   \n",
       "2   De Blasio Blames 'Rough Night' and Fog for Mis...   \n",
       "3   De Blasio Blames 'Rough Night' and Fog for Mis...   \n",
       "4   De Blasio 30 Minutes Late to Rockaway St. Patr...   \n",
       "5   De Blasio Blames 'Rough Night' and Fog for Mis...   \n",
       "6   De Blasio Blames 'Rough Night' and Fog for Mis...   \n",
       "7   De Blasio 15 Minutes Late to St. Patrick's Day...   \n",
       "8          Mayor de Blasio Is Irked by a Subway Delay   \n",
       "9          Mayor de Blasio Is Irked by a Subway Delay   \n",
       "10         Mayor de Blasio Is Irked by a Subway Delay   \n",
       "\n",
       "                                            hyperlink  \n",
       "0   http://www.dnainfo.com/new-york/20141112/rocka...  \n",
       "1   http://www.dnainfo.com/new-york/20150307/belle...  \n",
       "2   http://www.dnainfo.com/new-york/20141112/rocka...  \n",
       "3   http://www.dnainfo.com/new-york/20141112/rocka...  \n",
       "4   http://www.dnainfo.com/new-york/20150307/belle...  \n",
       "5   http://www.dnainfo.com/new-york/20141112/rocka...  \n",
       "6   http://www.dnainfo.com/new-york/20141112/rocka...  \n",
       "7   http://www.dnainfo.com/new-york/20150317/midto...  \n",
       "8   http://www.nytimes.com/2015/05/06/nyregion/may...  \n",
       "9   http://www.nytimes.com/2015/05/06/nyregion/may...  \n",
       "10  http://www.nytimes.com/2015/05/06/nyregion/may...  "
      ]
     },
     "execution_count": 5,
     "metadata": {},
     "output_type": "execute_result"
    }
   ],
   "source": [
    "df = pd.read_csv(\"excuse.csv\")\n",
    "df"
   ]
  },
  {
   "cell_type": "code",
   "execution_count": 35,
   "metadata": {
    "collapsed": false
   },
   "outputs": [
    {
     "data": {
      "text/plain": [
       "'we had some meetings at Gracie Mansion'"
      ]
     },
     "execution_count": 35,
     "metadata": {},
     "output_type": "execute_result"
    }
   ],
   "source": [
    "random.choice(df['excuse'])"
   ]
  },
  {
   "cell_type": "code",
   "execution_count": 36,
   "metadata": {
    "collapsed": true
   },
   "outputs": [],
   "source": [
    "def excuse_generator(name,location):\n",
    "    #print(\"entered loop\")\n",
    "    name= name\n",
    "    location= location\n",
    "    return \"Sorry\"+ \" \" + name +\" \" + \"I was late to\"+ \" \" + location + \" \"+ \"to meet you\"+ \" \"+ random.choice(df['excuse'])"
   ]
  },
  {
   "cell_type": "code",
   "execution_count": 37,
   "metadata": {
    "collapsed": false
   },
   "outputs": [
    {
     "data": {
      "text/plain": [
       "\"Sorry Mercy I was late to School to meet you I just woke up in the middle of the night and couldn't get back to sleep\""
      ]
     },
     "execution_count": 37,
     "metadata": {},
     "output_type": "execute_result"
    }
   ],
   "source": [
    "excuse_generator('Mercy','School')"
   ]
  },
  {
   "cell_type": "code",
   "execution_count": 38,
   "metadata": {
    "collapsed": false
   },
   "outputs": [
    {
     "name": "stdout",
     "output_type": "stream",
     "text": [
      "Choose a namemercy\n",
      "Choose a locationschool\n"
     ]
    }
   ],
   "source": [
    "pick_name= input(\"Choose a name\")\n",
    "pick_location= input(\"Choose a location\")"
   ]
  },
  {
   "cell_type": "code",
   "execution_count": 39,
   "metadata": {
    "collapsed": false
   },
   "outputs": [
    {
     "data": {
      "text/plain": [
       "'Sorry mercy I was late to school to meet you we waited 20 mins for an express only to hear there were major delays'"
      ]
     },
     "execution_count": 39,
     "metadata": {},
     "output_type": "execute_result"
    }
   ],
   "source": [
    "excuse_generator(pick_name,pick_location)"
   ]
  },
  {
   "cell_type": "code",
   "execution_count": null,
   "metadata": {
    "collapsed": true
   },
   "outputs": [],
   "source": []
  }
 ],
 "metadata": {
  "kernelspec": {
   "display_name": "Python 3",
   "language": "python",
   "name": "python3"
  },
  "language_info": {
   "codemirror_mode": {
    "name": "ipython",
    "version": 3
   },
   "file_extension": ".py",
   "mimetype": "text/x-python",
   "name": "python",
   "nbconvert_exporter": "python",
   "pygments_lexer": "ipython3",
   "version": "3.5.1"
  }
 },
 "nbformat": 4,
 "nbformat_minor": 0
}
