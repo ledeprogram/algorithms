{
 "cells": [
  {
   "cell_type": "markdown",
   "metadata": {},
   "source": [
    "## Assignment-2\n",
    "Create your own version of the Mayoral Excuse Machine in Python that takes in a name and location, selects an excuse at random and prints an excuse (“Sorry, Richard, I was late to City Hall to meet you, I had a very rough night and woke up sluggish”).\n",
    "Use the “excuses.csv” in the Github repository.\n",
    "\n",
    "Extra credit if you print the link to the story as well\n",
    " "
   ]
  },
  {
   "cell_type": "code",
   "execution_count": 1,
   "metadata": {
    "collapsed": false
   },
   "outputs": [
    {
     "name": "stdout",
     "output_type": "stream",
     "text": [
      "What's the name of the person you were supposed to meet? Radhika\n"
     ]
    }
   ],
   "source": [
    "user_input1 = input(\"What's the name of the person you were supposed to meet? \")"
   ]
  },
  {
   "cell_type": "code",
   "execution_count": 3,
   "metadata": {
    "collapsed": false
   },
   "outputs": [
    {
     "name": "stdout",
     "output_type": "stream",
     "text": [
      "Where were you supposed to go? New York\n"
     ]
    }
   ],
   "source": [
    "user_input2 = input(\"Where were you supposed to go? \")"
   ]
  },
  {
   "cell_type": "code",
   "execution_count": 41,
   "metadata": {
    "collapsed": true
   },
   "outputs": [],
   "source": [
    "inputs = {\n",
    "    'name': user_input1,\n",
    "    'place': user_input2\n",
    "       \n",
    "}"
   ]
  },
  {
   "cell_type": "code",
   "execution_count": 42,
   "metadata": {
    "collapsed": false
   },
   "outputs": [
    {
     "data": {
      "text/plain": [
       "{'name': 'Radhika', 'place': 'New York'}"
      ]
     },
     "execution_count": 42,
     "metadata": {},
     "output_type": "execute_result"
    }
   ],
   "source": [
    "inputs"
   ]
  },
  {
   "cell_type": "code",
   "execution_count": 20,
   "metadata": {
    "collapsed": true
   },
   "outputs": [],
   "source": [
    "conn.rollback()"
   ]
  },
  {
   "cell_type": "code",
   "execution_count": 17,
   "metadata": {
    "collapsed": false
   },
   "outputs": [],
   "source": [
    "#CSV into Database\n",
    "import pg8000\n",
    "\n",
    "excuses = []\n",
    "\n",
    "conn = pg8000.connect(user='postgres', password='password', database='mayor')\n",
    "cursor = conn.cursor()\n",
    "cursor.execute(\"\"\"\n",
    "CREATE TABLE mayor_excuses (\n",
    "   excuse varchar(150),\n",
    "   headline varchar(150),\n",
    "   hyperlink varchar(150)\n",
    "\n",
    ")\n",
    "\"\"\")\n",
    "conn.commit()"
   ]
  },
  {
   "cell_type": "code",
   "execution_count": 18,
   "metadata": {
    "collapsed": false
   },
   "outputs": [],
   "source": [
    "cursor.execute(\"COPY mayor_excuses(excuse,headline,hyperlink) FROM '/Users/Radhika/Downloads/Lede/12julylede/excuse.csv' DELIMITER ',' CSV\")\n",
    "conn.commit()"
   ]
  },
  {
   "cell_type": "code",
   "execution_count": 23,
   "metadata": {
    "collapsed": false
   },
   "outputs": [
    {
     "data": {
      "text/plain": [
       "11"
      ]
     },
     "execution_count": 23,
     "metadata": {},
     "output_type": "execute_result"
    }
   ],
   "source": [
    "import pg8000\n",
    "\n",
    "m_excuse = []\n",
    "\n",
    "conn = pg8000.connect(user='postgres', password='password', database='mayor')\n",
    "cursor = conn.cursor()\n",
    "cursor.execute(\"SELECT excuse,headline,hyperlink FROM mayor_excuses\")\n",
    "for row in cursor.fetchall():\n",
    "    dict_exc = {'excuse': row[0], 'headline':row[1], 'hyperline': row[2]}\n",
    "    m_excuse.append(dict_exc)\n",
    "len(m_excuse)"
   ]
  },
  {
   "cell_type": "code",
   "execution_count": 24,
   "metadata": {
    "collapsed": false
   },
   "outputs": [
    {
     "data": {
      "text/plain": [
       "[{'excuse': 'the fog was unexpected and did slow us down a bit',\n",
       "  'headline': \"De Blasio Blames 'Rough Night' and Fog for Missing Flight 587 Ceremony\",\n",
       "  'hyperline': 'http://www.dnainfo.com/new-york/20141112/rockaway-park/de-blasio-arrives-20-minutes-late-flight-587-memorial-angering-families'},\n",
       " {'excuse': 'we had some meetings at Gracie Mansion',\n",
       "  'headline': \"De Blasio 30 Minutes Late to Rockaway St. Patrick's Day Parade\",\n",
       "  'hyperline': 'http://www.dnainfo.com/new-york/20150307/belle-harbor/de-blasio-30-minutes-late-rockaway-st-patricks-day-parade'},\n",
       " {'excuse': 'I had a very rough night and woke up sluggish',\n",
       "  'headline': \"De Blasio Blames 'Rough Night' and Fog for Missing Flight 587 Ceremony\",\n",
       "  'hyperline': 'http://www.dnainfo.com/new-york/20141112/rockaway-park/de-blasio-arrives-20-minutes-late-flight-587-memorial-angering-families'},\n",
       " {'excuse': \"I just woke up in the middle of the night and couldn't get back to sleep\",\n",
       "  'headline': \"De Blasio Blames 'Rough Night' and Fog for Missing Flight 587 Ceremony\",\n",
       "  'hyperline': 'http://www.dnainfo.com/new-york/20141112/rockaway-park/de-blasio-arrives-20-minutes-late-flight-587-memorial-angering-families'},\n",
       " {'excuse': 'we had some stuff we had to do',\n",
       "  'headline': \"De Blasio 30 Minutes Late to Rockaway St. Patrick's Day Parade\",\n",
       "  'hyperline': 'http://www.dnainfo.com/new-york/20150307/belle-harbor/de-blasio-30-minutes-late-rockaway-st-patricks-day-parade'},\n",
       " {'excuse': 'I should have gotten myself moving quicker',\n",
       "  'headline': \"De Blasio Blames 'Rough Night' and Fog for Missing Flight 587 Ceremony\",\n",
       "  'hyperline': 'http://www.dnainfo.com/new-york/20141112/rockaway-park/de-blasio-arrives-20-minutes-late-flight-587-memorial-angering-families'},\n",
       " {'excuse': 'I was just not feeling well this morning',\n",
       "  'headline': \"De Blasio Blames 'Rough Night' and Fog for Missing Flight 587 Ceremony\",\n",
       "  'hyperline': 'http://www.dnainfo.com/new-york/20141112/rockaway-park/de-blasio-arrives-20-minutes-late-flight-587-memorial-angering-families'},\n",
       " {'excuse': 'breakfast began a little later than expected',\n",
       "  'headline': \"De Blasio 15 Minutes Late to St. Patrick's Day Mass, Blames Breakfast\",\n",
       "  'hyperline': 'http://www.dnainfo.com/new-york/20150317/midtown/de-blasio-15-minutes-late-st-patricks-day-mass-blames-breakfast'},\n",
       " {'excuse': 'the detail drove away when we went into the subway rather than waiting to confirm we got on a train',\n",
       "  'headline': 'Mayor de Blasio Is Irked by a Subway Delay',\n",
       "  'hyperline': 'http://www.nytimes.com/2015/05/06/nyregion/mayor-de-blasio-is-irked-by-a-subway-delay.html?ref=nyregion&_r=0'},\n",
       " {'excuse': 'we waited 20 mins for an express only to hear there were major delays',\n",
       "  'headline': 'Mayor de Blasio Is Irked by a Subway Delay',\n",
       "  'hyperline': 'http://www.nytimes.com/2015/05/06/nyregion/mayor-de-blasio-is-irked-by-a-subway-delay.html?ref=nyregion&_r=0'},\n",
       " {'excuse': 'we need a better system',\n",
       "  'headline': 'Mayor de Blasio Is Irked by a Subway Delay',\n",
       "  'hyperline': 'http://www.nytimes.com/2015/05/06/nyregion/mayor-de-blasio-is-irked-by-a-subway-delay.html?ref=nyregion&_r=0'}]"
      ]
     },
     "execution_count": 24,
     "metadata": {},
     "output_type": "execute_result"
    }
   ],
   "source": [
    "m_excuse"
   ]
  },
  {
   "cell_type": "code",
   "execution_count": 58,
   "metadata": {
    "collapsed": false
   },
   "outputs": [],
   "source": [
    "#tried without defining a fun to test it\n",
    "#import random\n",
    "#randomz = random.choice(m_excuse)\n",
    "#possible_keys = [v for k,v in randomz.items() if k=='excuse']\n",
    "#col = random.choice(possible_keys)\n"
   ]
  },
  {
   "cell_type": "code",
   "execution_count": 59,
   "metadata": {
    "collapsed": true
   },
   "outputs": [],
   "source": [
    "# randomly picking up an excuse from the database, mayor.\n",
    "import random\n",
    "def random_excuse(string_in):\n",
    "    randomz = random.choice(m_excuse)\n",
    "    possible_keys = [v for k,v in randomz.items() if k=='excuse']\n",
    "    col = random.choice(possible_keys)\n",
    "    return col"
   ]
  },
  {
   "cell_type": "code",
   "execution_count": 60,
   "metadata": {
    "collapsed": false
   },
   "outputs": [
    {
     "data": {
      "text/plain": [
       "\"I just woke up in the middle of the night and couldn't get back to sleep\""
      ]
     },
     "execution_count": 60,
     "metadata": {},
     "output_type": "execute_result"
    }
   ],
   "source": [
    "random_excuse(m_excuse)"
   ]
  },
  {
   "cell_type": "code",
   "execution_count": 36,
   "metadata": {
    "collapsed": true
   },
   "outputs": [],
   "source": [
    "#sentence = 'Sorry', user_input1, 'I was late to', user_input2, 'to meet you, because',col"
   ]
  },
  {
   "cell_type": "code",
   "execution_count": 66,
   "metadata": {
    "collapsed": true
   },
   "outputs": [],
   "source": [
    "sentence = 'Sorry {} I was late to {} to meet you, because {}. See the news: {}'"
   ]
  },
  {
   "cell_type": "code",
   "execution_count": 67,
   "metadata": {
    "collapsed": false
   },
   "outputs": [],
   "source": [
    "output = sentence.format(inputs['name'], inputs['place'], random_excuse(m_excuse), randomz['hyperline'])"
   ]
  },
  {
   "cell_type": "code",
   "execution_count": 68,
   "metadata": {
    "collapsed": false
   },
   "outputs": [
    {
     "name": "stdout",
     "output_type": "stream",
     "text": [
      "Sorry Radhika I was late to New York to meet you, because we need a better system. See the news: http://www.dnainfo.com/new-york/20150307/belle-harbor/de-blasio-30-minutes-late-rockaway-st-patricks-day-parade\n"
     ]
    }
   ],
   "source": [
    "print(output)"
   ]
  },
  {
   "cell_type": "code",
   "execution_count": null,
   "metadata": {
    "collapsed": true
   },
   "outputs": [],
   "source": []
  }
 ],
 "metadata": {
  "kernelspec": {
   "display_name": "Python 3",
   "language": "python",
   "name": "python3"
  },
  "language_info": {
   "codemirror_mode": {
    "name": "ipython",
    "version": 3
   },
   "file_extension": ".py",
   "mimetype": "text/x-python",
   "name": "python",
   "nbconvert_exporter": "python",
   "pygments_lexer": "ipython3",
   "version": "3.5.1"
  }
 },
 "nbformat": 4,
 "nbformat_minor": 0
}
