{
 "cells": [
  {
   "cell_type": "markdown",
   "metadata": {},
   "source": [
    "# Assignment 2  "
   ]
  },
  {
   "cell_type": "markdown",
   "metadata": {},
   "source": [
    "* Create your own version of the Mayoral Excuse Machine in Python that takes in a name and location, selects an excuse at random and prints an excuse(\"Sorry, Richard, I was late to City Hall to meet you, I had a very rough night and woke up sluggish\")\n",
    "\n",
    "* Use the \"excuse.csv\" in the Github repository\n",
    "\n",
    "* Extra credit if you print the link to the story as well"
   ]
  },
  {
   "cell_type": "code",
   "execution_count": 23,
   "metadata": {
    "collapsed": false
   },
   "outputs": [],
   "source": [
    "import pandas as pd\n",
    "import random"
   ]
  },
  {
   "cell_type": "code",
   "execution_count": 9,
   "metadata": {
    "collapsed": false
   },
   "outputs": [],
   "source": [
    "df = pd.read_csv('data/excuse.csv')"
   ]
  },
  {
   "cell_type": "code",
   "execution_count": 17,
   "metadata": {
    "collapsed": false
   },
   "outputs": [
    {
     "data": {
      "text/plain": [
       "0     the fog was unexpected and did slow us down a bit\n",
       "1                we had some meetings at Gracie Mansion\n",
       "2         I had a very rough night and woke up sluggish\n",
       "3     I just woke up in the middle of the night and ...\n",
       "4                        we had some stuff we had to do\n",
       "5            I should have gotten myself moving quicker\n",
       "6              I was just not feeling well this morning\n",
       "7          breakfast began a little later than expected\n",
       "8     the detail drove away when we went into the su...\n",
       "9     we waited 20 mins for an express only to hear ...\n",
       "10                              we need a better system\n",
       "Name: excuse, dtype: object"
      ]
     },
     "execution_count": 17,
     "metadata": {},
     "output_type": "execute_result"
    }
   ],
   "source": [
    "df['excuse']"
   ]
  },
  {
   "cell_type": "code",
   "execution_count": 22,
   "metadata": {
    "collapsed": false
   },
   "outputs": [],
   "source": [
    "excuse_list=pd.Series.tolist(df['excuse'])\n",
    "name_list = ['Leonardo', 'Donatello', 'Michelangelo', 'Raphael']\n",
    "location_list = ['Kitchen', 'Bathroom', 'Livingroom', 'Closet']"
   ]
  },
  {
   "cell_type": "code",
   "execution_count": 34,
   "metadata": {
    "collapsed": true
   },
   "outputs": [],
   "source": [
    "def random_name():\n",
    "    return random.choice(name_list)\n",
    "def random_location():\n",
    "    return random.choice(location_list)\n",
    "def random_excuse():\n",
    "    return random.choice(excuse_list)"
   ]
  },
  {
   "cell_type": "code",
   "execution_count": 40,
   "metadata": {
    "collapsed": false
   },
   "outputs": [],
   "source": [
    "def mayoral_excuse_machine():\n",
    "    return \"Sorry, \" + random_name() + \", I was late to \" + random_location() + \" to meet you, \" + random_excuse() + '.'"
   ]
  },
  {
   "cell_type": "code",
   "execution_count": 41,
   "metadata": {
    "collapsed": false
   },
   "outputs": [
    {
     "data": {
      "text/plain": [
       "'Sorry, Donatello, I was late to Bathroom to meet you, we waited 20 mins for an express only to hear there were major delays.'"
      ]
     },
     "execution_count": 41,
     "metadata": {},
     "output_type": "execute_result"
    }
   ],
   "source": [
    "mayoral_excuse_machine()"
   ]
  }
 ],
 "metadata": {
  "kernelspec": {
   "display_name": "Python 3",
   "language": "python",
   "name": "python3"
  },
  "language_info": {
   "codemirror_mode": {
    "name": "ipython",
    "version": 3
   },
   "file_extension": ".py",
   "mimetype": "text/x-python",
   "name": "python",
   "nbconvert_exporter": "python",
   "pygments_lexer": "ipython3",
   "version": "3.5.1"
  }
 },
 "nbformat": 4,
 "nbformat_minor": 0
}
