{
 "cells": [
  {
   "cell_type": "code",
   "execution_count": 2,
   "metadata": {
    "collapsed": true
   },
   "outputs": [],
   "source": [
    "import pandas as pd\n",
    "import random"
   ]
  },
  {
   "cell_type": "code",
   "execution_count": 47,
   "metadata": {
    "collapsed": false
   },
   "outputs": [],
   "source": [
    "excuses = pd.read_csv('data/excuse.csv')\n",
    "# excuses.head()"
   ]
  },
  {
   "cell_type": "code",
   "execution_count": 73,
   "metadata": {
    "collapsed": false
   },
   "outputs": [],
   "source": [
    "excuses_dict = excuses.to_dict('records')\n",
    "# excuses_dict"
   ]
  },
  {
   "cell_type": "code",
   "execution_count": 72,
   "metadata": {
    "collapsed": false
   },
   "outputs": [
    {
     "name": "stdout",
     "output_type": "stream",
     "text": [
      "Please type the name of the person you planned to meet:Georgia and Harsha\n",
      "Tell me where you planned to meet:Hungarian Pastry Shop\n"
     ]
    },
    {
     "data": {
      "text/plain": [
       "\"Sorry, Georgia and Harsha, I'm late to meeting you at Hungarian Pastry Shop, I should have gotten myself moving quicker. To make up for being late, here's something to read while you are waiting http://www.dnainfo.com/new-york/20141112/rockaway-park/de-blasio-arrives-20-minutes-late-flight-587-memorial-angering-families\""
      ]
     },
     "execution_count": 72,
     "metadata": {},
     "output_type": "execute_result"
    }
   ],
   "source": [
    "def excuse_sentence(name, location):\n",
    "    randomly_chosen_excuse = random.choice(excuses_dict)\n",
    "    sentence = \"Sorry, \" + name + \", I'm late to meeting you at \" + location + \", \" + randomly_chosen_excuse['excuse'] + \". To make up for being late, here's something to read while you are waiting \" + randomly_chosen_excuse['hyperlink']\n",
    "    return sentence\n",
    "\n",
    "excuse_sentence(input(\"Please type the name of the person you planned to meet:\"), input(\"Tell me where you planned to meet:\"))"
   ]
  },
  {
   "cell_type": "code",
   "execution_count": null,
   "metadata": {
    "collapsed": true
   },
   "outputs": [],
   "source": []
  }
 ],
 "metadata": {
  "kernelspec": {
   "display_name": "Python 3",
   "language": "python",
   "name": "python3"
  },
  "language_info": {
   "codemirror_mode": {
    "name": "ipython",
    "version": 3
   },
   "file_extension": ".py",
   "mimetype": "text/x-python",
   "name": "python",
   "nbconvert_exporter": "python",
   "pygments_lexer": "ipython3",
   "version": "3.5.1"
  }
 },
 "nbformat": 4,
 "nbformat_minor": 0
}
