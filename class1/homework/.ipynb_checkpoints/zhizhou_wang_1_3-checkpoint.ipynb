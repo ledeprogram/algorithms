{
 "cells": [
  {
   "cell_type": "markdown",
   "metadata": {},
   "source": [
    "# The following code will print the prime numbers between 1 and 100. Modify the code so it prints every other prime number from 1 to 100"
   ]
  },
  {
   "cell_type": "code",
   "execution_count": 7,
   "metadata": {
    "collapsed": false
   },
   "outputs": [
    {
     "name": "stdout",
     "output_type": "stream",
     "text": [
      "1\n",
      "3\n",
      "7\n",
      "13\n",
      "19\n",
      "29\n",
      "37\n",
      "43\n",
      "53\n",
      "61\n",
      "71\n",
      "79\n",
      "89\n"
     ]
    }
   ],
   "source": [
    "count = 0\n",
    "for num in range(1,101): # for-loop through the numbers\n",
    "    prime = True # boolean flag to check the number for being prime\n",
    "    for i in range(2,num): # for-loop to check for \"primeness\" by checking for divisors other than 1\n",
    "        if (num%i==0): # logical test for the number having a divisor other than 1 and itself\n",
    "            prime = False # if there's a divisor, the boolean value gets flipped to False\n",
    "    if prime: # if prime is still True after going through all numbers from 1 - 100, then it gets printed\n",
    "        count += 1\n",
    "        if count%2 == 1:\n",
    "            print(num)"
   ]
  },
  {
   "cell_type": "markdown",
   "metadata": {},
   "source": [
    "# Extra Credit: Can you write a procedure that runs faster than the one above?"
   ]
  },
  {
   "cell_type": "code",
   "execution_count": null,
   "metadata": {
    "collapsed": false
   },
   "outputs": [],
   "source": []
  },
  {
   "cell_type": "code",
   "execution_count": null,
   "metadata": {
    "collapsed": true
   },
   "outputs": [],
   "source": []
  }
 ],
 "metadata": {
  "kernelspec": {
   "display_name": "Python 3",
   "language": "python",
   "name": "python3"
  },
  "language_info": {
   "codemirror_mode": {
    "name": "ipython",
    "version": 3
   },
   "file_extension": ".py",
   "mimetype": "text/x-python",
   "name": "python",
   "nbconvert_exporter": "python",
   "pygments_lexer": "ipython3",
   "version": "3.5.1"
  }
 },
 "nbformat": 4,
 "nbformat_minor": 0
}
