{
 "cells": [
  {
   "cell_type": "code",
   "execution_count": 1,
   "metadata": {
    "collapsed": false
   },
   "outputs": [
    {
     "name": "stdout",
     "output_type": "stream",
     "text": [
      "5.5\n"
     ]
    }
   ],
   "source": [
    "#  Assignment 1\n",
    "# Write a function that takes in a list of numbers and outputs the mean of the numbers using the formula for mean.  \n",
    "# Do this without any built-in functions like sum(), len(), and, of course, mean()\n",
    "\n",
    "def my_mean_function (listx):\n",
    "    a = 0\n",
    "    count = 0\n",
    "    for element in listx:\n",
    "        a += element\n",
    "        count += 1\n",
    "    return (a / count)\n",
    "\n",
    "sample_list =([1,2,3,4,5,6,7,8,9,10])\n",
    "\n",
    "print(my_mean_function(sample_list))"
   ]
  },
  {
   "cell_type": "code",
   "execution_count": null,
   "metadata": {
    "collapsed": true
   },
   "outputs": [],
   "source": []
  }
 ],
 "metadata": {
  "kernelspec": {
   "display_name": "Python 3",
   "language": "python",
   "name": "python3"
  },
  "language_info": {
   "codemirror_mode": {
    "name": "ipython",
    "version": 3
   },
   "file_extension": ".py",
   "mimetype": "text/x-python",
   "name": "python",
   "nbconvert_exporter": "python",
   "pygments_lexer": "ipython3",
   "version": "3.4.4"
  }
 },
 "nbformat": 4,
 "nbformat_minor": 0
}
