{
 "cells": [
  {
   "cell_type": "code",
   "execution_count": 17,
   "metadata": {
    "collapsed": true
   },
   "outputs": [],
   "source": [
    "import pandas as pd\n",
    "import matplotlib.pyplot as plt\n",
    "%matplotlib inline"
   ]
  },
  {
   "cell_type": "code",
   "execution_count": 18,
   "metadata": {
    "collapsed": false
   },
   "outputs": [
    {
     "data": {
      "text/html": [
       "<div>\n",
       "<table border=\"1\" class=\"dataframe\">\n",
       "  <thead>\n",
       "    <tr style=\"text-align: right;\">\n",
       "      <th></th>\n",
       "      <th>excuse</th>\n",
       "      <th>headline</th>\n",
       "      <th>hyperlink</th>\n",
       "    </tr>\n",
       "  </thead>\n",
       "  <tbody>\n",
       "    <tr>\n",
       "      <th>0</th>\n",
       "      <td>the fog was unexpected and did slow us down a bit</td>\n",
       "      <td>De Blasio Blames 'Rough Night' and Fog for Mis...</td>\n",
       "      <td>http://www.dnainfo.com/new-york/20141112/rocka...</td>\n",
       "    </tr>\n",
       "    <tr>\n",
       "      <th>1</th>\n",
       "      <td>we had some meetings at Gracie Mansion</td>\n",
       "      <td>De Blasio 30 Minutes Late to Rockaway St. Patr...</td>\n",
       "      <td>http://www.dnainfo.com/new-york/20150307/belle...</td>\n",
       "    </tr>\n",
       "    <tr>\n",
       "      <th>2</th>\n",
       "      <td>I had a very rough night and woke up sluggish</td>\n",
       "      <td>De Blasio Blames 'Rough Night' and Fog for Mis...</td>\n",
       "      <td>http://www.dnainfo.com/new-york/20141112/rocka...</td>\n",
       "    </tr>\n",
       "    <tr>\n",
       "      <th>3</th>\n",
       "      <td>I just woke up in the middle of the night and ...</td>\n",
       "      <td>De Blasio Blames 'Rough Night' and Fog for Mis...</td>\n",
       "      <td>http://www.dnainfo.com/new-york/20141112/rocka...</td>\n",
       "    </tr>\n",
       "    <tr>\n",
       "      <th>4</th>\n",
       "      <td>we had some stuff we had to do</td>\n",
       "      <td>De Blasio 30 Minutes Late to Rockaway St. Patr...</td>\n",
       "      <td>http://www.dnainfo.com/new-york/20150307/belle...</td>\n",
       "    </tr>\n",
       "  </tbody>\n",
       "</table>\n",
       "</div>"
      ],
      "text/plain": [
       "                                              excuse  \\\n",
       "0  the fog was unexpected and did slow us down a bit   \n",
       "1             we had some meetings at Gracie Mansion   \n",
       "2      I had a very rough night and woke up sluggish   \n",
       "3  I just woke up in the middle of the night and ...   \n",
       "4                     we had some stuff we had to do   \n",
       "\n",
       "                                            headline  \\\n",
       "0  De Blasio Blames 'Rough Night' and Fog for Mis...   \n",
       "1  De Blasio 30 Minutes Late to Rockaway St. Patr...   \n",
       "2  De Blasio Blames 'Rough Night' and Fog for Mis...   \n",
       "3  De Blasio Blames 'Rough Night' and Fog for Mis...   \n",
       "4  De Blasio 30 Minutes Late to Rockaway St. Patr...   \n",
       "\n",
       "                                           hyperlink  \n",
       "0  http://www.dnainfo.com/new-york/20141112/rocka...  \n",
       "1  http://www.dnainfo.com/new-york/20150307/belle...  \n",
       "2  http://www.dnainfo.com/new-york/20141112/rocka...  \n",
       "3  http://www.dnainfo.com/new-york/20141112/rocka...  \n",
       "4  http://www.dnainfo.com/new-york/20150307/belle...  "
      ]
     },
     "execution_count": 18,
     "metadata": {},
     "output_type": "execute_result"
    }
   ],
   "source": [
    "df = pd.read_csv(\"excuse.csv\")\n",
    "df.head()\n"
   ]
  },
  {
   "cell_type": "code",
   "execution_count": 19,
   "metadata": {
    "collapsed": false
   },
   "outputs": [
    {
     "data": {
      "text/html": [
       "<div>\n",
       "<table border=\"1\" class=\"dataframe\">\n",
       "  <thead>\n",
       "    <tr style=\"text-align: right;\">\n",
       "      <th></th>\n",
       "      <th>excuse</th>\n",
       "      <th>headline</th>\n",
       "      <th>hyperlink</th>\n",
       "    </tr>\n",
       "  </thead>\n",
       "  <tbody>\n",
       "    <tr>\n",
       "      <th>0</th>\n",
       "      <td>the fog was unexpected and did slow us down a bit</td>\n",
       "      <td>De Blasio Blames 'Rough Night' and Fog for Mis...</td>\n",
       "      <td>http://www.dnainfo.com/new-york/20141112/rocka...</td>\n",
       "    </tr>\n",
       "    <tr>\n",
       "      <th>1</th>\n",
       "      <td>we had some meetings at Gracie Mansion</td>\n",
       "      <td>De Blasio 30 Minutes Late to Rockaway St. Patr...</td>\n",
       "      <td>http://www.dnainfo.com/new-york/20150307/belle...</td>\n",
       "    </tr>\n",
       "    <tr>\n",
       "      <th>2</th>\n",
       "      <td>I had a very rough night and woke up sluggish</td>\n",
       "      <td>De Blasio Blames 'Rough Night' and Fog for Mis...</td>\n",
       "      <td>http://www.dnainfo.com/new-york/20141112/rocka...</td>\n",
       "    </tr>\n",
       "    <tr>\n",
       "      <th>3</th>\n",
       "      <td>I just woke up in the middle of the night and ...</td>\n",
       "      <td>De Blasio Blames 'Rough Night' and Fog for Mis...</td>\n",
       "      <td>http://www.dnainfo.com/new-york/20141112/rocka...</td>\n",
       "    </tr>\n",
       "    <tr>\n",
       "      <th>4</th>\n",
       "      <td>we had some stuff we had to do</td>\n",
       "      <td>De Blasio 30 Minutes Late to Rockaway St. Patr...</td>\n",
       "      <td>http://www.dnainfo.com/new-york/20150307/belle...</td>\n",
       "    </tr>\n",
       "    <tr>\n",
       "      <th>5</th>\n",
       "      <td>I should have gotten myself moving quicker</td>\n",
       "      <td>De Blasio Blames 'Rough Night' and Fog for Mis...</td>\n",
       "      <td>http://www.dnainfo.com/new-york/20141112/rocka...</td>\n",
       "    </tr>\n",
       "    <tr>\n",
       "      <th>6</th>\n",
       "      <td>I was just not feeling well this morning</td>\n",
       "      <td>De Blasio Blames 'Rough Night' and Fog for Mis...</td>\n",
       "      <td>http://www.dnainfo.com/new-york/20141112/rocka...</td>\n",
       "    </tr>\n",
       "    <tr>\n",
       "      <th>7</th>\n",
       "      <td>breakfast began a little later than expected</td>\n",
       "      <td>De Blasio 15 Minutes Late to St. Patrick's Day...</td>\n",
       "      <td>http://www.dnainfo.com/new-york/20150317/midto...</td>\n",
       "    </tr>\n",
       "    <tr>\n",
       "      <th>8</th>\n",
       "      <td>the detail drove away when we went into the su...</td>\n",
       "      <td>Mayor de Blasio Is Irked by a Subway Delay</td>\n",
       "      <td>http://www.nytimes.com/2015/05/06/nyregion/may...</td>\n",
       "    </tr>\n",
       "    <tr>\n",
       "      <th>9</th>\n",
       "      <td>we waited 20 mins for an express only to hear ...</td>\n",
       "      <td>Mayor de Blasio Is Irked by a Subway Delay</td>\n",
       "      <td>http://www.nytimes.com/2015/05/06/nyregion/may...</td>\n",
       "    </tr>\n",
       "    <tr>\n",
       "      <th>10</th>\n",
       "      <td>we need a better system</td>\n",
       "      <td>Mayor de Blasio Is Irked by a Subway Delay</td>\n",
       "      <td>http://www.nytimes.com/2015/05/06/nyregion/may...</td>\n",
       "    </tr>\n",
       "  </tbody>\n",
       "</table>\n",
       "</div>"
      ],
      "text/plain": [
       "                                               excuse  \\\n",
       "0   the fog was unexpected and did slow us down a bit   \n",
       "1              we had some meetings at Gracie Mansion   \n",
       "2       I had a very rough night and woke up sluggish   \n",
       "3   I just woke up in the middle of the night and ...   \n",
       "4                      we had some stuff we had to do   \n",
       "5          I should have gotten myself moving quicker   \n",
       "6            I was just not feeling well this morning   \n",
       "7        breakfast began a little later than expected   \n",
       "8   the detail drove away when we went into the su...   \n",
       "9   we waited 20 mins for an express only to hear ...   \n",
       "10                            we need a better system   \n",
       "\n",
       "                                             headline  \\\n",
       "0   De Blasio Blames 'Rough Night' and Fog for Mis...   \n",
       "1   De Blasio 30 Minutes Late to Rockaway St. Patr...   \n",
       "2   De Blasio Blames 'Rough Night' and Fog for Mis...   \n",
       "3   De Blasio Blames 'Rough Night' and Fog for Mis...   \n",
       "4   De Blasio 30 Minutes Late to Rockaway St. Patr...   \n",
       "5   De Blasio Blames 'Rough Night' and Fog for Mis...   \n",
       "6   De Blasio Blames 'Rough Night' and Fog for Mis...   \n",
       "7   De Blasio 15 Minutes Late to St. Patrick's Day...   \n",
       "8          Mayor de Blasio Is Irked by a Subway Delay   \n",
       "9          Mayor de Blasio Is Irked by a Subway Delay   \n",
       "10         Mayor de Blasio Is Irked by a Subway Delay   \n",
       "\n",
       "                                            hyperlink  \n",
       "0   http://www.dnainfo.com/new-york/20141112/rocka...  \n",
       "1   http://www.dnainfo.com/new-york/20150307/belle...  \n",
       "2   http://www.dnainfo.com/new-york/20141112/rocka...  \n",
       "3   http://www.dnainfo.com/new-york/20141112/rocka...  \n",
       "4   http://www.dnainfo.com/new-york/20150307/belle...  \n",
       "5   http://www.dnainfo.com/new-york/20141112/rocka...  \n",
       "6   http://www.dnainfo.com/new-york/20141112/rocka...  \n",
       "7   http://www.dnainfo.com/new-york/20150317/midto...  \n",
       "8   http://www.nytimes.com/2015/05/06/nyregion/may...  \n",
       "9   http://www.nytimes.com/2015/05/06/nyregion/may...  \n",
       "10  http://www.nytimes.com/2015/05/06/nyregion/may...  "
      ]
     },
     "execution_count": 19,
     "metadata": {},
     "output_type": "execute_result"
    }
   ],
   "source": [
    "df"
   ]
  },
  {
   "cell_type": "code",
   "execution_count": 20,
   "metadata": {
    "collapsed": false
   },
   "outputs": [
    {
     "data": {
      "text/plain": [
       "0     the fog was unexpected and did slow us down a bit\n",
       "1                we had some meetings at Gracie Mansion\n",
       "2         I had a very rough night and woke up sluggish\n",
       "3     I just woke up in the middle of the night and ...\n",
       "4                        we had some stuff we had to do\n",
       "5            I should have gotten myself moving quicker\n",
       "6              I was just not feeling well this morning\n",
       "7          breakfast began a little later than expected\n",
       "8     the detail drove away when we went into the su...\n",
       "9     we waited 20 mins for an express only to hear ...\n",
       "10                              we need a better system\n",
       "Name: excuse, dtype: object"
      ]
     },
     "execution_count": 20,
     "metadata": {},
     "output_type": "execute_result"
    }
   ],
   "source": [
    "df['excuse']"
   ]
  },
  {
   "cell_type": "code",
   "execution_count": 21,
   "metadata": {
    "collapsed": false
   },
   "outputs": [
    {
     "data": {
      "text/plain": [
       "0     De Blasio Blames 'Rough Night' and Fog for Mis...\n",
       "1     De Blasio 30 Minutes Late to Rockaway St. Patr...\n",
       "2     De Blasio Blames 'Rough Night' and Fog for Mis...\n",
       "3     De Blasio Blames 'Rough Night' and Fog for Mis...\n",
       "4     De Blasio 30 Minutes Late to Rockaway St. Patr...\n",
       "5     De Blasio Blames 'Rough Night' and Fog for Mis...\n",
       "6     De Blasio Blames 'Rough Night' and Fog for Mis...\n",
       "7     De Blasio 15 Minutes Late to St. Patrick's Day...\n",
       "8            Mayor de Blasio Is Irked by a Subway Delay\n",
       "9            Mayor de Blasio Is Irked by a Subway Delay\n",
       "10           Mayor de Blasio Is Irked by a Subway Delay\n",
       "Name: headline, dtype: object"
      ]
     },
     "execution_count": 21,
     "metadata": {},
     "output_type": "execute_result"
    }
   ],
   "source": [
    "df['headline']"
   ]
  },
  {
   "cell_type": "code",
   "execution_count": 22,
   "metadata": {
    "collapsed": false
   },
   "outputs": [
    {
     "data": {
      "text/plain": [
       "0     http://www.dnainfo.com/new-york/20141112/rocka...\n",
       "1     http://www.dnainfo.com/new-york/20150307/belle...\n",
       "2     http://www.dnainfo.com/new-york/20141112/rocka...\n",
       "3     http://www.dnainfo.com/new-york/20141112/rocka...\n",
       "4     http://www.dnainfo.com/new-york/20150307/belle...\n",
       "5     http://www.dnainfo.com/new-york/20141112/rocka...\n",
       "6     http://www.dnainfo.com/new-york/20141112/rocka...\n",
       "7     http://www.dnainfo.com/new-york/20150317/midto...\n",
       "8     http://www.nytimes.com/2015/05/06/nyregion/may...\n",
       "9     http://www.nytimes.com/2015/05/06/nyregion/may...\n",
       "10    http://www.nytimes.com/2015/05/06/nyregion/may...\n",
       "Name: hyperlink, dtype: object"
      ]
     },
     "execution_count": 22,
     "metadata": {},
     "output_type": "execute_result"
    }
   ],
   "source": [
    "df['hyperlink']"
   ]
  },
  {
   "cell_type": "code",
   "execution_count": 28,
   "metadata": {
    "collapsed": true
   },
   "outputs": [],
   "source": [
    "import random"
   ]
  },
  {
   "cell_type": "code",
   "execution_count": 29,
   "metadata": {
    "collapsed": false
   },
   "outputs": [
    {
     "data": {
      "text/plain": [
       "'the detail drove away when we went into the subway rather than waiting to confirm we got on a train'"
      ]
     },
     "execution_count": 29,
     "metadata": {},
     "output_type": "execute_result"
    }
   ],
   "source": [
    "random.choice(df['excuse'])"
   ]
  },
  {
   "cell_type": "code",
   "execution_count": 40,
   "metadata": {
    "collapsed": false
   },
   "outputs": [],
   "source": [
    "def mayoral_excuse_machine(name,):\n",
    "    name= name\n",
    "    return \"Sorry\"+ \" \" + name +\" \" + \"I am late,\"+ \" \" + random.choice(df['excuse'])"
   ]
  },
  {
   "cell_type": "code",
   "execution_count": 41,
   "metadata": {
    "collapsed": false
   },
   "outputs": [
    {
     "data": {
      "text/plain": [
       "'Sorry Sasha I am late, we need a better system'"
      ]
     },
     "execution_count": 41,
     "metadata": {},
     "output_type": "execute_result"
    }
   ],
   "source": [
    "mayoral_excuse_machine('Sasha')"
   ]
  },
  {
   "cell_type": "code",
   "execution_count": null,
   "metadata": {
    "collapsed": true
   },
   "outputs": [],
   "source": []
  },
  {
   "cell_type": "code",
   "execution_count": null,
   "metadata": {
    "collapsed": true
   },
   "outputs": [],
   "source": []
  },
  {
   "cell_type": "code",
   "execution_count": null,
   "metadata": {
    "collapsed": true
   },
   "outputs": [],
   "source": []
  },
  {
   "cell_type": "code",
   "execution_count": null,
   "metadata": {
    "collapsed": true
   },
   "outputs": [],
   "source": []
  }
 ],
 "metadata": {
  "kernelspec": {
   "display_name": "Python 3",
   "language": "python",
   "name": "python3"
  },
  "language_info": {
   "codemirror_mode": {
    "name": "ipython",
    "version": 3
   },
   "file_extension": ".py",
   "mimetype": "text/x-python",
   "name": "python",
   "nbconvert_exporter": "python",
   "pygments_lexer": "ipython3",
   "version": "3.5.1"
  }
 },
 "nbformat": 4,
 "nbformat_minor": 0
}
