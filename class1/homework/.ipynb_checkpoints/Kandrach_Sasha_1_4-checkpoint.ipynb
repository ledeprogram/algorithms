{
 "cells": [
  {
   "cell_type": "markdown",
   "metadata": {},
   "source": [
    "# The writer of this code wants to count the mean and median article length for recent articles on gay marriage in the New York Times. This code has several issues, including errors. When they checked their custom functions against the numpy functions, they noticed some discrepancies. Fix the code so it executes properly, retrieves the articles, and outputs the correct result from the custom functions, compared to the numpy functions."
   ]
  },
  {
   "cell_type": "code",
   "execution_count": 43,
   "metadata": {
    "collapsed": false
   },
   "outputs": [],
   "source": [
    "import requests \n",
    "import numpy as np"
   ]
  },
  {
   "cell_type": "code",
   "execution_count": 44,
   "metadata": {
    "collapsed": false
   },
   "outputs": [],
   "source": [
    "api_key = \"ffaf60d7d82258e112dd4fb2b5e4e2d6:3:72421680\""
   ]
  },
  {
   "cell_type": "code",
   "execution_count": 45,
   "metadata": {
    "collapsed": false
   },
   "outputs": [],
   "source": [
    "url = \"http://api.nytimes.com/svc/search/v2/articlesearch.json?q=gay+marriage&api-key=%s\" % api_key"
   ]
  },
  {
   "cell_type": "code",
   "execution_count": 46,
   "metadata": {
    "collapsed": false
   },
   "outputs": [],
   "source": [
    "r = requests.get(url)"
   ]
  },
  {
   "cell_type": "code",
   "execution_count": 47,
   "metadata": {
    "collapsed": true
   },
   "outputs": [],
   "source": [
    "recent_nyt_articles= r.json()"
   ]
  },
  {
   "cell_type": "code",
   "execution_count": 48,
   "metadata": {
    "collapsed": false
   },
   "outputs": [
    {
     "data": {
      "text/plain": [
       "dict_keys(['response', 'copyright', 'status'])"
      ]
     },
     "execution_count": 48,
     "metadata": {},
     "output_type": "execute_result"
    }
   ],
   "source": [
    "recent_nyt_articles.keys()"
   ]
  },
  {
   "cell_type": "code",
   "execution_count": 49,
   "metadata": {
    "collapsed": false
   },
   "outputs": [
    {
     "data": {
      "text/plain": [
       "{'_id': '515b90e4fdc59278db00ca9e',\n",
       " 'abstract': 'Transcript of panel discussion at New York Times in which New York Sen James Alesi describes why he voted in favor of gay marriage in 2001, but against it when legislation first came up in 2009.',\n",
       " 'blog': [],\n",
       " 'byline': [],\n",
       " 'document_type': 'article',\n",
       " 'headline': {'content_kicker': 'Transcript | Gay Marriage',\n",
       "  'kicker': 'Transcript | Gay Marriage',\n",
       "  'main': 'Why State Senator Alesi, Supporter of Gay Marriage, Voted ‘No’ in ’09',\n",
       "  'print_headline': 'Why a Supporter Voted ‘No’ in ’09',\n",
       "  'seo': 'Why State Senator James Alesi, Supporter of Gay Marriage, Voted ‘No’ in ’09'},\n",
       " 'keywords': [{'is_major': 'Y',\n",
       "   'name': 'subject',\n",
       "   'rank': '1',\n",
       "   'value': 'Same-Sex Marriage, Civil Unions and Domestic Partnerships'},\n",
       "  {'is_major': 'N',\n",
       "   'name': 'subject',\n",
       "   'rank': '2',\n",
       "   'value': 'Politics and Government'},\n",
       "  {'is_major': 'N',\n",
       "   'name': 'glocations',\n",
       "   'rank': '3',\n",
       "   'value': 'New York City'},\n",
       "  {'is_major': 'Y', 'name': 'persons', 'rank': '4', 'value': 'Alesi, James S'},\n",
       "  {'is_major': 'Y',\n",
       "   'name': 'glocations',\n",
       "   'rank': '5',\n",
       "   'value': 'New York State'}],\n",
       " 'lead_paragraph': 'State Senator James Alesi, in a panel discussion, said that political considerations had led him to vote “no” two years ago on a bill to legalize same-sex marriage in New York.',\n",
       " 'multimedia': [{'height': 75,\n",
       "   'legacy': {'thumbnail': 'images/2011/10/23/nyregion/23MARRIAGE/23MARRIAGE-thumbStandard.jpg',\n",
       "    'thumbnailheight': '75',\n",
       "    'thumbnailwidth': '75'},\n",
       "   'subtype': 'thumbnail',\n",
       "   'type': 'image',\n",
       "   'url': 'images/2011/10/23/nyregion/23MARRIAGE/23MARRIAGE-thumbStandard.jpg',\n",
       "   'width': 75}],\n",
       " 'news_desk': 'Metro',\n",
       " 'print_page': '4',\n",
       " 'pub_date': '2011-10-23T00:00:00Z',\n",
       " 'section_name': 'N.Y. / Region',\n",
       " 'slideshow_credits': None,\n",
       " 'snippet': 'State Senator James Alesi, in a panel discussion, said that political considerations had led him to vote “no” two years ago on a bill to legalize same-sex marriage in New York.',\n",
       " 'source': 'The New York Times',\n",
       " 'subsection_name': None,\n",
       " 'type_of_material': 'Text',\n",
       " 'web_url': 'http://www.nytimes.com/2011/10/23/nyregion/why-state-senator-james-alesi-supporter-of-gay-marriage-voted-no-in-09.html',\n",
       " 'word_count': '576'}"
      ]
     },
     "execution_count": 49,
     "metadata": {},
     "output_type": "execute_result"
    }
   ],
   "source": [
    "recent_nyt_articles['response']['docs'][3]"
   ]
  },
  {
   "cell_type": "code",
   "execution_count": 50,
   "metadata": {
    "collapsed": false
   },
   "outputs": [
    {
     "name": "stdout",
     "output_type": "stream",
     "text": [
      "[25, 920, 576, 868, 1101, 684, 588, 367, 1358]\n"
     ]
    }
   ],
   "source": [
    "wc_list = []\n",
    "for article in recent_nyt_articles['response']['docs']:\n",
    "    if article['word_count']:\n",
    "        wc_list.append(int(article['word_count']))\n",
    "print(wc_list)"
   ]
  },
  {
   "cell_type": "code",
   "execution_count": 51,
   "metadata": {
    "collapsed": false
   },
   "outputs": [],
   "source": [
    "wc_list = []\n",
    "for article in r.json()['response']['docs']:\n",
    "    wc_list.append(article['word_count'])"
   ]
  },
  {
   "cell_type": "code",
   "execution_count": 52,
   "metadata": {
    "collapsed": false
   },
   "outputs": [
    {
     "name": "stdout",
     "output_type": "stream",
     "text": [
      "10\n"
     ]
    }
   ],
   "source": [
    "wc_length = len(wc_list)\n",
    "print(wc_length)"
   ]
  },
  {
   "cell_type": "code",
   "execution_count": 53,
   "metadata": {
    "collapsed": false
   },
   "outputs": [],
   "source": [
    "def wc_mean_articles(total_list):\n",
    "    sum_of_list = 0\n",
    "    count_of_list = 0\n",
    "    for item in total_list:\n",
    "        sum_of_list += item\n",
    "        count_of_list += 1\n",
    "    return sum_of_list / count_of_list"
   ]
  },
  {
   "cell_type": "code",
   "execution_count": 54,
   "metadata": {
    "collapsed": true
   },
   "outputs": [],
   "source": [
    "def wc_median_articles(total_list):\n",
    "    sorted_total_list= sorted(total_list)\n",
    "    wc_length = len(sorted_total_list)\n",
    "    return sorted_total_list[int(wc_length/2)]"
   ]
  },
  {
   "cell_type": "code",
   "execution_count": 55,
   "metadata": {
    "collapsed": false
   },
   "outputs": [
    {
     "ename": "TypeError",
     "evalue": "unsupported operand type(s) for +=: 'int' and 'NoneType'",
     "output_type": "error",
     "traceback": [
      "\u001b[0;31m---------------------------------------------------------------------------\u001b[0m",
      "\u001b[0;31mTypeError\u001b[0m                                 Traceback (most recent call last)",
      "\u001b[0;32m<ipython-input-55-5c024f5d584e>\u001b[0m in \u001b[0;36m<module>\u001b[0;34m()\u001b[0m\n\u001b[0;32m----> 1\u001b[0;31m \u001b[0mwc_mean_articles\u001b[0m\u001b[0;34m(\u001b[0m\u001b[0mwc_list\u001b[0m\u001b[0;34m)\u001b[0m\u001b[0;34m\u001b[0m\u001b[0m\n\u001b[0m",
      "\u001b[0;32m<ipython-input-53-12396fc5c508>\u001b[0m in \u001b[0;36mwc_mean_articles\u001b[0;34m(total_list)\u001b[0m\n\u001b[1;32m      3\u001b[0m     \u001b[0mcount_of_list\u001b[0m \u001b[0;34m=\u001b[0m \u001b[0;36m0\u001b[0m\u001b[0;34m\u001b[0m\u001b[0m\n\u001b[1;32m      4\u001b[0m     \u001b[0;32mfor\u001b[0m \u001b[0mitem\u001b[0m \u001b[0;32min\u001b[0m \u001b[0mtotal_list\u001b[0m\u001b[0;34m:\u001b[0m\u001b[0;34m\u001b[0m\u001b[0m\n\u001b[0;32m----> 5\u001b[0;31m         \u001b[0msum_of_list\u001b[0m \u001b[0;34m+=\u001b[0m \u001b[0mitem\u001b[0m\u001b[0;34m\u001b[0m\u001b[0m\n\u001b[0m\u001b[1;32m      6\u001b[0m         \u001b[0mcount_of_list\u001b[0m \u001b[0;34m+=\u001b[0m \u001b[0;36m1\u001b[0m\u001b[0;34m\u001b[0m\u001b[0m\n\u001b[1;32m      7\u001b[0m     \u001b[0;32mreturn\u001b[0m \u001b[0msum_of_list\u001b[0m \u001b[0;34m/\u001b[0m \u001b[0mcount_of_list\u001b[0m\u001b[0;34m\u001b[0m\u001b[0m\n",
      "\u001b[0;31mTypeError\u001b[0m: unsupported operand type(s) for +=: 'int' and 'NoneType'"
     ]
    }
   ],
   "source": [
    "wc_mean_articles(wc_list)"
   ]
  },
  {
   "cell_type": "code",
   "execution_count": null,
   "metadata": {
    "collapsed": false
   },
   "outputs": [],
   "source": []
  },
  {
   "cell_type": "code",
   "execution_count": null,
   "metadata": {
    "collapsed": false
   },
   "outputs": [],
   "source": []
  },
  {
   "cell_type": "code",
   "execution_count": null,
   "metadata": {
    "collapsed": false
   },
   "outputs": [],
   "source": []
  },
  {
   "cell_type": "code",
   "execution_count": null,
   "metadata": {
    "collapsed": false
   },
   "outputs": [],
   "source": []
  },
  {
   "cell_type": "code",
   "execution_count": null,
   "metadata": {
    "collapsed": false
   },
   "outputs": [],
   "source": []
  },
  {
   "cell_type": "code",
   "execution_count": null,
   "metadata": {
    "collapsed": true
   },
   "outputs": [],
   "source": []
  }
 ],
 "metadata": {
  "kernelspec": {
   "display_name": "Python 3",
   "language": "python",
   "name": "python3"
  },
  "language_info": {
   "codemirror_mode": {
    "name": "ipython",
    "version": 3
   },
   "file_extension": ".py",
   "mimetype": "text/x-python",
   "name": "python",
   "nbconvert_exporter": "python",
   "pygments_lexer": "ipython3",
   "version": "3.5.1"
  }
 },
 "nbformat": 4,
 "nbformat_minor": 0
}
