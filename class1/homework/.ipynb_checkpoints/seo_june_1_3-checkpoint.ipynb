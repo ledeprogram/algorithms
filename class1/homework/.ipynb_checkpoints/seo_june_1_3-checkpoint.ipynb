{
 "cells": [
  {
   "cell_type": "markdown",
   "metadata": {},
   "source": [
    "# Assignment 3\n",
    "\n",
    "* Modify the code that prints every prime number between 1 and 100 to only print every other prime number.\n",
    "* Extra credit if you can modify the code to speed it up."
   ]
  },
  {
   "cell_type": "code",
   "execution_count": null,
   "metadata": {
    "collapsed": false
   },
   "outputs": [],
   "source": [
    "for num in range(1,101): # for-loop through the numbers\n",
    "    prime = True # boolean flag to check the number for being prime\n",
    "    for i in range(2,num): # for-loop to check for \"primeness\" by checking for divisors other than 1\n",
    "        if (num%i==0): # logical test for the number having a divisor other than 1 and itself\n",
    "            prime = False # if there's a divisor, the boolean value gets flipped to False\n",
    "    if prime: # if prime is still True after going through all numbers from 1 - 100, then it gets printed\n",
    "        print(num)"
   ]
  },
  {
   "cell_type": "code",
   "execution_count": 14,
   "metadata": {
    "collapsed": false
   },
   "outputs": [
    {
     "name": "stdout",
     "output_type": "stream",
     "text": [
      "1\n",
      "3\n",
      "7\n",
      "13\n",
      "19\n",
      "29\n",
      "37\n",
      "43\n",
      "53\n",
      "61\n",
      "71\n",
      "79\n",
      "89\n"
     ]
    }
   ],
   "source": [
    "prime_list=[]\n",
    "for num in range(1,101):\n",
    "    prime = True\n",
    "    for i in range(2,num):\n",
    "        if (num%i==0):\n",
    "            prime = False\n",
    "    if prime:\n",
    "        prime_list.append(num)\n",
    "\n",
    "for lala in range(len(prime_list)):\n",
    "    if lala%2==0:\n",
    "        print (prime_list[lala])"
   ]
  },
  {
   "cell_type": "code",
   "execution_count": null,
   "metadata": {
    "collapsed": true
   },
   "outputs": [],
   "source": []
  }
 ],
 "metadata": {
  "kernelspec": {
   "display_name": "Python 3",
   "language": "python",
   "name": "python3"
  },
  "language_info": {
   "codemirror_mode": {
    "name": "ipython",
    "version": 3
   },
   "file_extension": ".py",
   "mimetype": "text/x-python",
   "name": "python",
   "nbconvert_exporter": "python",
   "pygments_lexer": "ipython3",
   "version": "3.5.1"
  }
 },
 "nbformat": 4,
 "nbformat_minor": 0
}
