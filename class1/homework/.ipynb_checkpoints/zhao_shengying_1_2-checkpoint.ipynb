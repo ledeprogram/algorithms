{
 "cells": [
  {
   "cell_type": "code",
   "execution_count": 1,
   "metadata": {
    "collapsed": false
   },
   "outputs": [],
   "source": [
    "import pandas as pd"
   ]
  },
  {
   "cell_type": "code",
   "execution_count": 2,
   "metadata": {
    "collapsed": true
   },
   "outputs": [],
   "source": [
    "from numpy import random as rd"
   ]
  },
  {
   "cell_type": "markdown",
   "metadata": {},
   "source": [
    "Create your own version of the Mayoral Excuse Machine in Python that takes in a name and location, selects an excuse at random and prints an excuse (“Sorry, Richard, I was late to City Hall to meet you, I had a very rough night and woke up sluggish”)\n",
    "Use the “excuses.csv” in the Github repository\n",
    "Extra credit if you print the link to the story as well"
   ]
  },
  {
   "cell_type": "code",
   "execution_count": 3,
   "metadata": {
    "collapsed": true
   },
   "outputs": [],
   "source": [
    "df=pd.read_csv('excuse.csv')"
   ]
  },
  {
   "cell_type": "code",
   "execution_count": 4,
   "metadata": {
    "collapsed": false
   },
   "outputs": [
    {
     "data": {
      "text/html": [
       "<div>\n",
       "<table border=\"1\" class=\"dataframe\">\n",
       "  <thead>\n",
       "    <tr style=\"text-align: right;\">\n",
       "      <th></th>\n",
       "      <th>excuse</th>\n",
       "      <th>headline</th>\n",
       "      <th>hyperlink</th>\n",
       "    </tr>\n",
       "  </thead>\n",
       "  <tbody>\n",
       "    <tr>\n",
       "      <th>0</th>\n",
       "      <td>the fog was unexpected and did slow us down a bit</td>\n",
       "      <td>De Blasio Blames 'Rough Night' and Fog for Mis...</td>\n",
       "      <td>http://www.dnainfo.com/new-york/20141112/rocka...</td>\n",
       "    </tr>\n",
       "    <tr>\n",
       "      <th>1</th>\n",
       "      <td>we had some meetings at Gracie Mansion</td>\n",
       "      <td>De Blasio 30 Minutes Late to Rockaway St. Patr...</td>\n",
       "      <td>http://www.dnainfo.com/new-york/20150307/belle...</td>\n",
       "    </tr>\n",
       "    <tr>\n",
       "      <th>2</th>\n",
       "      <td>I had a very rough night and woke up sluggish</td>\n",
       "      <td>De Blasio Blames 'Rough Night' and Fog for Mis...</td>\n",
       "      <td>http://www.dnainfo.com/new-york/20141112/rocka...</td>\n",
       "    </tr>\n",
       "    <tr>\n",
       "      <th>3</th>\n",
       "      <td>I just woke up in the middle of the night and ...</td>\n",
       "      <td>De Blasio Blames 'Rough Night' and Fog for Mis...</td>\n",
       "      <td>http://www.dnainfo.com/new-york/20141112/rocka...</td>\n",
       "    </tr>\n",
       "    <tr>\n",
       "      <th>4</th>\n",
       "      <td>we had some stuff we had to do</td>\n",
       "      <td>De Blasio 30 Minutes Late to Rockaway St. Patr...</td>\n",
       "      <td>http://www.dnainfo.com/new-york/20150307/belle...</td>\n",
       "    </tr>\n",
       "  </tbody>\n",
       "</table>\n",
       "</div>"
      ],
      "text/plain": [
       "                                              excuse  \\\n",
       "0  the fog was unexpected and did slow us down a bit   \n",
       "1             we had some meetings at Gracie Mansion   \n",
       "2      I had a very rough night and woke up sluggish   \n",
       "3  I just woke up in the middle of the night and ...   \n",
       "4                     we had some stuff we had to do   \n",
       "\n",
       "                                            headline  \\\n",
       "0  De Blasio Blames 'Rough Night' and Fog for Mis...   \n",
       "1  De Blasio 30 Minutes Late to Rockaway St. Patr...   \n",
       "2  De Blasio Blames 'Rough Night' and Fog for Mis...   \n",
       "3  De Blasio Blames 'Rough Night' and Fog for Mis...   \n",
       "4  De Blasio 30 Minutes Late to Rockaway St. Patr...   \n",
       "\n",
       "                                           hyperlink  \n",
       "0  http://www.dnainfo.com/new-york/20141112/rocka...  \n",
       "1  http://www.dnainfo.com/new-york/20150307/belle...  \n",
       "2  http://www.dnainfo.com/new-york/20141112/rocka...  \n",
       "3  http://www.dnainfo.com/new-york/20141112/rocka...  \n",
       "4  http://www.dnainfo.com/new-york/20150307/belle...  "
      ]
     },
     "execution_count": 4,
     "metadata": {},
     "output_type": "execute_result"
    }
   ],
   "source": [
    "df.head(5)"
   ]
  },
  {
   "cell_type": "code",
   "execution_count": 6,
   "metadata": {
    "collapsed": false
   },
   "outputs": [
    {
     "name": "stdout",
     "output_type": "stream",
     "text": [
      "What's your name? Melody\n",
      "What's your location? Manhattan\n"
     ]
    }
   ],
   "source": [
    "name=input(\"What's your name? \")\n",
    "location=input(\"What's your location? \")"
   ]
  },
  {
   "cell_type": "code",
   "execution_count": null,
   "metadata": {
    "collapsed": true
   },
   "outputs": [],
   "source": []
  }
 ],
 "metadata": {
  "kernelspec": {
   "display_name": "Python 3",
   "language": "python",
   "name": "python3"
  },
  "language_info": {
   "codemirror_mode": {
    "name": "ipython",
    "version": 3
   },
   "file_extension": ".py",
   "mimetype": "text/x-python",
   "name": "python",
   "nbconvert_exporter": "python",
   "pygments_lexer": "ipython3",
   "version": "3.5.1"
  }
 },
 "nbformat": 4,
 "nbformat_minor": 0
}
