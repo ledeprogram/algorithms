{
 "cells": [
  {
   "cell_type": "code",
   "execution_count": 7,
   "metadata": {
    "collapsed": true
   },
   "outputs": [],
   "source": [
    "# add all the elements in a list \n",
    "# count the number of elements in a list \n",
    "# divide sum of all element by number of elements \n",
    "\n",
    "def mean(list): \n",
    "    list_sum = 0 \n",
    "    list_len = 0\n",
    "    for element in list: \n",
    "        # c += a is equivalent to c = c + a\n",
    "        list_sum += element\n",
    "        list_len += 1\n",
    "    return list_sum/list_len"
   ]
  }
 ],
 "metadata": {
  "kernelspec": {
   "display_name": "Python 3",
   "language": "python",
   "name": "python3"
  },
  "language_info": {
   "codemirror_mode": {
    "name": "ipython",
    "version": 3
   },
   "file_extension": ".py",
   "mimetype": "text/x-python",
   "name": "python",
   "nbconvert_exporter": "python",
   "pygments_lexer": "ipython3",
   "version": "3.5.1"
  }
 },
 "nbformat": 4,
 "nbformat_minor": 0
}
