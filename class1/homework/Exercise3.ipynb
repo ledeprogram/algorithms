{
 "cells": [
  {
   "cell_type": "markdown",
   "metadata": {},
   "source": [
    "# The following code will print the prime numbers between 1 and 100. Modify the code so it prints every other prime number from 1 to 100"
   ]
  },
  {
   "cell_type": "code",
   "execution_count": 40,
   "metadata": {
    "collapsed": false
   },
   "outputs": [
    {
     "name": "stdout",
     "output_type": "stream",
     "text": [
      "Skipped prim number is: 2\n",
      "Skipped prim number is: 5\n",
      "Skipped prim number is: 11\n",
      "Skipped prim number is: 17\n",
      "Skipped prim number is: 23\n",
      "Skipped prim number is: 31\n",
      "Skipped prim number is: 41\n",
      "Skipped prim number is: 47\n",
      "Skipped prim number is: 59\n",
      "Skipped prim number is: 67\n",
      "Skipped prim number is: 73\n",
      "Skipped prim number is: 83\n",
      "Skipped prim number is: 97\n"
     ]
    }
   ],
   "source": [
    "count = 0\n",
    "prime = True\n",
    "for num in range(1,101): # for-loop through the numbers\n",
    "    prime = True\n",
    "    for i in range(2,num): # for-loop to check for \"primeness\" by checking for divisors other than 1\n",
    "        if (num%i==0): # logical test for the number having a divisor other than 1 and itself\n",
    "            prime = False # if there's a divisor, the boolean value gets flipped to False\n",
    "    if prime: # if prime is still True after going through all numbers from 1 - 100, then it gets printed\n",
    "        count += 1\n",
    "        if count%2 == 0:\n",
    "            print(\"Skipped prim number is:\", num)"
   ]
  },
  {
   "cell_type": "markdown",
   "metadata": {},
   "source": [
    "# Extra Credit: Can you write a procedure that runs faster than the one above?"
   ]
  },
  {
   "cell_type": "code",
   "execution_count": null,
   "metadata": {
    "collapsed": false
   },
   "outputs": [],
   "source": []
  }
 ],
 "metadata": {
  "kernelspec": {
   "display_name": "Python 3",
   "language": "python",
   "name": "python3"
  },
  "language_info": {
   "codemirror_mode": {
    "name": "ipython",
    "version": 3
   },
   "file_extension": ".py",
   "mimetype": "text/x-python",
   "name": "python",
   "nbconvert_exporter": "python",
   "pygments_lexer": "ipython3",
   "version": "3.5.1"
  }
 },
 "nbformat": 4,
 "nbformat_minor": 0
}
