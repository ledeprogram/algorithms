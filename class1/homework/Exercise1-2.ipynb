{
 "cells": [
  {
   "cell_type": "markdown",
   "metadata": {},
   "source": [
    "# Assignment 1: Mean"
   ]
  },
  {
   "cell_type": "code",
   "execution_count": 13,
   "metadata": {
    "collapsed": false
   },
   "outputs": [
    {
     "data": {
      "text/plain": [
       "4.4"
      ]
     },
     "execution_count": 13,
     "metadata": {},
     "output_type": "execute_result"
    }
   ],
   "source": [
    "def get_mean(numbers_list):\n",
    "    s = numbers_list[0]\n",
    "    for element in numbers_list[1:]:\n",
    "        s += element\n",
    "    return s/len(numbers_list)\n",
    "get_mean([2, 2, 3, 10, 5])\n"
   ]
  },
  {
   "cell_type": "markdown",
   "metadata": {},
   "source": [
    "# Assignment 2: Mayoral Excuses"
   ]
  },
  {
   "cell_type": "code",
   "execution_count": 57,
   "metadata": {
    "collapsed": true
   },
   "outputs": [],
   "source": [
    "import pandas as pd\n",
    "from numpy import random as rd\n",
    "df = pd.read_csv('data/excuse.csv')"
   ]
  },
  {
   "cell_type": "code",
   "execution_count": 58,
   "metadata": {
    "collapsed": false
   },
   "outputs": [
    {
     "name": "stdout",
     "output_type": "stream",
     "text": [
      "What's your name? RIchard\n",
      "Where were you supposed to go? yoman\n",
      "\n",
      "Sorry, RIchard, I was late to yoman to meet you, breakfast began a little later than expected. \n",
      "Read the story: http://www.dnainfo.com/new-york/20150317/midtown/de-blasio-15-minutes-late-st-patricks-day-mass-blames-breakfast\n"
     ]
    }
   ],
   "source": [
    "phrase = \"\\nSorry, {}, I was late to {} to meet you, {}. \\nRead the story: {}\"\n",
    "\n",
    "name = input(\"What's your name? \")\n",
    "location = input(\"Where were you supposed to go? \")\n",
    "rand_index = rd.randint(0, len(df)-1)\n",
    "\n",
    "print(phrase.format(name, location, df['excuse'].iloc[rand_index], df['hyperlink'].iloc[rand_index]))"
   ]
  },
  {
   "cell_type": "code",
   "execution_count": null,
   "metadata": {
    "collapsed": true
   },
   "outputs": [],
   "source": []
  }
 ],
 "metadata": {
  "kernelspec": {
   "display_name": "Python 3",
   "language": "python",
   "name": "python3"
  },
  "language_info": {
   "codemirror_mode": {
    "name": "ipython",
    "version": 3
   },
   "file_extension": ".py",
   "mimetype": "text/x-python",
   "name": "python",
   "nbconvert_exporter": "python",
   "pygments_lexer": "ipython3",
   "version": "3.5.1"
  },
  "widgets": {
   "state": {},
   "version": "1.1.2"
  }
 },
 "nbformat": 4,
 "nbformat_minor": 0
}
