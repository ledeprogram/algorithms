{
 "cells": [
  {
   "cell_type": "code",
   "execution_count": 2,
   "metadata": {
    "collapsed": false
   },
   "outputs": [
    {
     "name": "stderr",
     "output_type": "stream",
     "text": [
      "/Users/Monica/.virtualenvs/dataanalysis/lib/python3.5/site-packages/matplotlib/__init__.py:1035: UserWarning: Duplicate key in file \"/Users/Monica/.matplotlib/matplotlibrc\", line #2\n",
      "  (fname, cnt))\n"
     ]
    }
   ],
   "source": [
    "import pandas as pd\n",
    "excuses_df= pd.read_csv(\"data/excuse.csv\")"
   ]
  },
  {
   "cell_type": "code",
   "execution_count": 3,
   "metadata": {
    "collapsed": false
   },
   "outputs": [
    {
     "data": {
      "text/html": [
       "<div>\n",
       "<table border=\"1\" class=\"dataframe\">\n",
       "  <thead>\n",
       "    <tr style=\"text-align: right;\">\n",
       "      <th></th>\n",
       "      <th>excuse</th>\n",
       "      <th>headline</th>\n",
       "      <th>hyperlink</th>\n",
       "    </tr>\n",
       "  </thead>\n",
       "  <tbody>\n",
       "    <tr>\n",
       "      <th>0</th>\n",
       "      <td>the fog was unexpected and did slow us down a bit</td>\n",
       "      <td>De Blasio Blames 'Rough Night' and Fog for Mis...</td>\n",
       "      <td>http://www.dnainfo.com/new-york/20141112/rocka...</td>\n",
       "    </tr>\n",
       "    <tr>\n",
       "      <th>1</th>\n",
       "      <td>we had some meetings at Gracie Mansion</td>\n",
       "      <td>De Blasio 30 Minutes Late to Rockaway St. Patr...</td>\n",
       "      <td>http://www.dnainfo.com/new-york/20150307/belle...</td>\n",
       "    </tr>\n",
       "    <tr>\n",
       "      <th>2</th>\n",
       "      <td>I had a very rough night and woke up sluggish</td>\n",
       "      <td>De Blasio Blames 'Rough Night' and Fog for Mis...</td>\n",
       "      <td>http://www.dnainfo.com/new-york/20141112/rocka...</td>\n",
       "    </tr>\n",
       "    <tr>\n",
       "      <th>3</th>\n",
       "      <td>I just woke up in the middle of the night and ...</td>\n",
       "      <td>De Blasio Blames 'Rough Night' and Fog for Mis...</td>\n",
       "      <td>http://www.dnainfo.com/new-york/20141112/rocka...</td>\n",
       "    </tr>\n",
       "    <tr>\n",
       "      <th>4</th>\n",
       "      <td>we had some stuff we had to do</td>\n",
       "      <td>De Blasio 30 Minutes Late to Rockaway St. Patr...</td>\n",
       "      <td>http://www.dnainfo.com/new-york/20150307/belle...</td>\n",
       "    </tr>\n",
       "  </tbody>\n",
       "</table>\n",
       "</div>"
      ],
      "text/plain": [
       "                                              excuse  \\\n",
       "0  the fog was unexpected and did slow us down a bit   \n",
       "1             we had some meetings at Gracie Mansion   \n",
       "2      I had a very rough night and woke up sluggish   \n",
       "3  I just woke up in the middle of the night and ...   \n",
       "4                     we had some stuff we had to do   \n",
       "\n",
       "                                            headline  \\\n",
       "0  De Blasio Blames 'Rough Night' and Fog for Mis...   \n",
       "1  De Blasio 30 Minutes Late to Rockaway St. Patr...   \n",
       "2  De Blasio Blames 'Rough Night' and Fog for Mis...   \n",
       "3  De Blasio Blames 'Rough Night' and Fog for Mis...   \n",
       "4  De Blasio 30 Minutes Late to Rockaway St. Patr...   \n",
       "\n",
       "                                           hyperlink  \n",
       "0  http://www.dnainfo.com/new-york/20141112/rocka...  \n",
       "1  http://www.dnainfo.com/new-york/20150307/belle...  \n",
       "2  http://www.dnainfo.com/new-york/20141112/rocka...  \n",
       "3  http://www.dnainfo.com/new-york/20141112/rocka...  \n",
       "4  http://www.dnainfo.com/new-york/20150307/belle...  "
      ]
     },
     "execution_count": 3,
     "metadata": {},
     "output_type": "execute_result"
    }
   ],
   "source": [
    "excuses_df.head()"
   ]
  },
  {
   "cell_type": "code",
   "execution_count": 4,
   "metadata": {
    "collapsed": true
   },
   "outputs": [],
   "source": [
    "excuse = \"\""
   ]
  },
  {
   "cell_type": "code",
   "execution_count": 5,
   "metadata": {
    "collapsed": false
   },
   "outputs": [
    {
     "name": "stdout",
     "output_type": "stream",
     "text": [
      "Enter your name: Monica\n"
     ]
    }
   ],
   "source": [
    "person = input('Enter your name: ')"
   ]
  },
  {
   "cell_type": "code",
   "execution_count": 6,
   "metadata": {
    "collapsed": false
   },
   "outputs": [
    {
     "name": "stdout",
     "output_type": "stream",
     "text": [
      "Where was the mayor supposed to meet you?Baltimore\n"
     ]
    }
   ],
   "source": [
    "location = input('Where was the mayor supposed to meet you? ')"
   ]
  },
  {
   "cell_type": "code",
   "execution_count": 38,
   "metadata": {
    "collapsed": true
   },
   "outputs": [],
   "source": [
    "import random\n",
    "#stop = len(excuses_df)"
   ]
  },
  {
   "cell_type": "code",
   "execution_count": 48,
   "metadata": {
    "collapsed": false
   },
   "outputs": [],
   "source": [
    "#random_excuse = excuses_df['excuse'][random.randrange(stop)]\n",
    "#print(type(random_excuse))"
   ]
  },
  {
   "cell_type": "code",
   "execution_count": 49,
   "metadata": {
    "collapsed": false
   },
   "outputs": [],
   "source": [
    "# print(\"Sorry,\", person, \"I was late to\", location, 'to meet you,', random_excuse)\n"
   ]
  },
  {
   "cell_type": "code",
   "execution_count": 50,
   "metadata": {
    "collapsed": false
   },
   "outputs": [
    {
     "name": "stdout",
     "output_type": "stream",
     "text": [
      "Sorry, Monica I was late to Baltimore to meet you, we need a better system url:  http://www.nytimes.com/2015/05/06/nyregion/mayor-de-blasio-is-irked-by-a-subway-delay.html?ref=nyregion&_r=0\n"
     ]
    }
   ],
   "source": [
    "\n",
    "stop = len(excuses_df)\n",
    "random_index = random.randrange(stop)\n",
    "link = excuses_df['hyperlink'][random_index]\n",
    "random_excuse = excuses_df['excuse'][random_index]\n",
    "\n",
    "\n",
    "\n",
    "\n",
    "print(\"Sorry,\", person, \"I was late to\", location, 'to meet you,', random_excuse, \"url: \" , link)\n"
   ]
  },
  {
   "cell_type": "code",
   "execution_count": null,
   "metadata": {
    "collapsed": false
   },
   "outputs": [],
   "source": []
  },
  {
   "cell_type": "code",
   "execution_count": null,
   "metadata": {
    "collapsed": true
   },
   "outputs": [],
   "source": []
  }
 ],
 "metadata": {
  "kernelspec": {
   "display_name": "Python 3",
   "language": "python",
   "name": "python3"
  },
  "language_info": {
   "codemirror_mode": {
    "name": "ipython",
    "version": 3
   },
   "file_extension": ".py",
   "mimetype": "text/x-python",
   "name": "python",
   "nbconvert_exporter": "python",
   "pygments_lexer": "ipython3",
   "version": "3.5.1"
  }
 },
 "nbformat": 4,
 "nbformat_minor": 0
}
