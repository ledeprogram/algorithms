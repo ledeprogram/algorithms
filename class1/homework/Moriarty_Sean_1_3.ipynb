{
 "cells": [
  {
   "cell_type": "markdown",
   "metadata": {},
   "source": [
    "# The following code will print the prime numbers between 1 and 100. Modify the code so it prints every other prime number from 1 to 100"
   ]
  },
  {
   "cell_type": "code",
   "execution_count": 9,
   "metadata": {
    "collapsed": false
   },
   "outputs": [
    {
     "name": "stdout",
     "output_type": "stream",
     "text": [
      "2\n",
      "5\n",
      "11\n",
      "17\n",
      "23\n",
      "31\n",
      "41\n",
      "47\n",
      "59\n",
      "67\n",
      "73\n",
      "83\n",
      "97\n"
     ]
    }
   ],
   "source": [
    "skip=False # 1 is, by definition, not a prime number, so we will start with 2 \n",
    "           # and skip every other result after that\n",
    "for num in range(2,101): \n",
    "    prime = True \n",
    "    for i in range(2,num): \n",
    "        if (num%i==0): \n",
    "            prime = False \n",
    "    if prime:\n",
    "        if skip:\n",
    "            skip=False\n",
    "        else:\n",
    "            print(num)\n",
    "            skip=True"
   ]
  },
  {
   "cell_type": "markdown",
   "metadata": {},
   "source": [
    "# Extra Credit: Can you write a procedure that runs faster than the one above?"
   ]
  },
  {
   "cell_type": "code",
   "execution_count": 19,
   "metadata": {
    "collapsed": false
   },
   "outputs": [
    {
     "name": "stdout",
     "output_type": "stream",
     "text": [
      "[2, 3, 5, 7, 11, 13, 17, 19, 23, 29, 31, 37, 41, 43, 47, 53, 59, 61, 67, 71, 73, 79, 83, 89, 97]\n"
     ]
    }
   ],
   "source": [
    "# to test for primes, we actually only need to test for divisibility by all previously discovered primes\n",
    "# this version will perform far fewer mod operations\n",
    "primes=[]\n",
    "for num in range(2,101): \n",
    "    prime_test = True \n",
    "    for prime in primes: \n",
    "        if (num%prime==0): \n",
    "            prime_test = False \n",
    "    if prime_test:\n",
    "        primes.append(num)\n",
    "print(primes)"
   ]
  },
  {
   "cell_type": "code",
   "execution_count": null,
   "metadata": {
    "collapsed": true
   },
   "outputs": [],
   "source": []
  }
 ],
 "metadata": {
  "kernelspec": {
   "display_name": "IPython (Python 3)",
   "language": "python",
   "name": "python3"
  },
  "language_info": {
   "codemirror_mode": {
    "name": "ipython",
    "version": 3
   },
   "file_extension": ".py",
   "mimetype": "text/x-python",
   "name": "python",
   "nbconvert_exporter": "python",
   "pygments_lexer": "ipython3",
   "version": "3.5.1+"
  }
 },
 "nbformat": 4,
 "nbformat_minor": 0
}
