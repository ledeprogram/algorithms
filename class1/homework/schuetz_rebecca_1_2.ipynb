{
 "cells": [
  {
   "cell_type": "code",
   "execution_count": 23,
   "metadata": {
    "collapsed": true
   },
   "outputs": [],
   "source": [
    "def mayoral_excuse_machine(name, location):\n",
    "    import pandas as pd\n",
    "    import random \n",
    "    \n",
    "    apologies = [\n",
    "    'Sorry,', \n",
    "    'My apologies,', \n",
    "    'My bad,', \n",
    "    'I\\'m terribly sorry,']\n",
    "    apology = random.choice(apologies)\n",
    "    \n",
    "    df = pd.read_csv('data/excuse.csv')\n",
    "    row = random.randrange(11)\n",
    "    excuse_lower = df['excuse'][row]\n",
    "    excuse = excuse_lower[0].upper() + excuse_lower[1:] + '.'\n",
    "    url = df['hyperlink'][row]\n",
    "    \n",
    "    return apology + ' ' + name + ', for being late to '+ location + '. ' + excuse + '\\n' + url"
   ]
  }
 ],
 "metadata": {
  "kernelspec": {
   "display_name": "Python 3",
   "language": "python",
   "name": "python3"
  },
  "language_info": {
   "codemirror_mode": {
    "name": "ipython",
    "version": 3
   },
   "file_extension": ".py",
   "mimetype": "text/x-python",
   "name": "python",
   "nbconvert_exporter": "python",
   "pygments_lexer": "ipython3",
   "version": "3.5.1"
  }
 },
 "nbformat": 4,
 "nbformat_minor": 0
}
