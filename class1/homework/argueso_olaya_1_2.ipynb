{
 "cells": [
  {
   "cell_type": "code",
   "execution_count": 1,
   "metadata": {
    "collapsed": true
   },
   "outputs": [],
   "source": [
    "import pandas as pd\n",
    "import random"
   ]
  },
  {
   "cell_type": "code",
   "execution_count": 2,
   "metadata": {
    "collapsed": false
   },
   "outputs": [
    {
     "name": "stdout",
     "output_type": "stream",
     "text": [
      "Enter the name of the person you were meeting:Mercy\n",
      "Enter the place where you were supposed to go:Columbia\n"
     ]
    },
    {
     "data": {
      "text/plain": [
       "'Sorry, Mercy, I could not meet you at Columbia, we waited 20 mins for an express only to hear there were major delays'"
      ]
     },
     "execution_count": 2,
     "metadata": {},
     "output_type": "execute_result"
    }
   ],
   "source": [
    "def get_excuse(item):\n",
    "    excuses = pd.read_csv(item)\n",
    "    excuse = random.choice(excuses['excuse'])\n",
    "    name = input('Enter the name of the person you were meeting:')\n",
    "    location = input('Enter the place where you were supposed to go:')\n",
    "    \n",
    "    return \"Sorry, \" + name + \", I could not meet you at \" + location + \", \" + excuse\n",
    "\n",
    "get_excuse(\"excuse.csv\")"
   ]
  },
  {
   "cell_type": "code",
   "execution_count": null,
   "metadata": {
    "collapsed": true
   },
   "outputs": [],
   "source": []
  },
  {
   "cell_type": "code",
   "execution_count": null,
   "metadata": {
    "collapsed": true
   },
   "outputs": [],
   "source": []
  }
 ],
 "metadata": {
  "kernelspec": {
   "display_name": "Python 3",
   "language": "python",
   "name": "python3"
  },
  "language_info": {
   "codemirror_mode": {
    "name": "ipython",
    "version": 3
   },
   "file_extension": ".py",
   "mimetype": "text/x-python",
   "name": "python",
   "nbconvert_exporter": "python",
   "pygments_lexer": "ipython3",
   "version": "3.5.1"
  }
 },
 "nbformat": 4,
 "nbformat_minor": 0
}
