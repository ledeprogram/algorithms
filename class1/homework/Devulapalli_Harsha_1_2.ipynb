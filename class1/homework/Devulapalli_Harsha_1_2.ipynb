{
 "cells": [
  {
   "cell_type": "code",
   "execution_count": 1,
   "metadata": {
    "collapsed": false
   },
   "outputs": [
    {
     "name": "stdout",
     "output_type": "stream",
     "text": [
      "Enter your name: Harsha\n",
      "Enter where you want to meet the Mayor: Times Square\n",
      "Sorry, Harsha I was late to Times Square to meet you, we had some meetings at Gracie Mansion .\n",
      "\n",
      "This actually happened: http://www.dnainfo.com/new-york/20150307/belle-harbor/de-blasio-30-minutes-late-rockaway-st-patricks-day-parade\n"
     ]
    }
   ],
   "source": [
    "import pandas as pd\n",
    "import numpy as np\n",
    "df=pd.read_csv(\"excuse.csv\")\n",
    "import random\n",
    "person = input('Enter your name: ')\n",
    "location = input('Enter where you want to meet the Mayor: ')\n",
    "n=range(0,len(df))\n",
    "random=random.choice(n)\n",
    "print(\"Sorry,\",person,\"I was late to\",location,\"to meet you,\",df['excuse'].iloc[random],\".\")\n",
    "print(\"\")\n",
    "print(\"This actually happened:\",df['hyperlink'].iloc[random])"
   ]
  },
  {
   "cell_type": "code",
   "execution_count": null,
   "metadata": {
    "collapsed": true
   },
   "outputs": [],
   "source": []
  }
 ],
 "metadata": {
  "kernelspec": {
   "display_name": "Python 3",
   "language": "python",
   "name": "python3"
  },
  "language_info": {
   "codemirror_mode": {
    "name": "ipython",
    "version": 3
   },
   "file_extension": ".py",
   "mimetype": "text/x-python",
   "name": "python",
   "nbconvert_exporter": "python",
   "pygments_lexer": "ipython3",
   "version": "3.5.1"
  }
 },
 "nbformat": 4,
 "nbformat_minor": 0
}
