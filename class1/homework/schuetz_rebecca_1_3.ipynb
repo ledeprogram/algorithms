{
 "cells": [
  {
   "cell_type": "code",
   "execution_count": 4,
   "metadata": {
    "collapsed": false
   },
   "outputs": [
    {
     "name": "stdout",
     "output_type": "stream",
     "text": [
      "2\n",
      "5\n",
      "11\n",
      "17\n",
      "23\n",
      "31\n",
      "41\n",
      "47\n",
      "59\n",
      "67\n",
      "73\n",
      "83\n",
      "97\n"
     ]
    }
   ],
   "source": [
    "every_other = 0\n",
    "for num in range(1,101):\n",
    "    prime = True\n",
    "    for i in range(2,num):\n",
    "        if (num%i==0):\n",
    "            prime = False\n",
    "    if prime:\n",
    "        every_other += 1\n",
    "        if (every_other%2==0):\n",
    "            print(num)"
   ]
  },
  {
   "cell_type": "markdown",
   "metadata": {},
   "source": [
    "I think this should be faster, but it's hard to tell:"
   ]
  },
  {
   "cell_type": "code",
   "execution_count": 19,
   "metadata": {
    "collapsed": false
   },
   "outputs": [
    {
     "name": "stdout",
     "output_type": "stream",
     "text": [
      "2\n",
      "5\n",
      "11\n",
      "17\n",
      "23\n",
      "31\n",
      "41\n",
      "47\n",
      "59\n",
      "67\n",
      "73\n",
      "83\n",
      "97\n"
     ]
    }
   ],
   "source": [
    "every_other = 0\n",
    "primes = []\n",
    "for num in range(2,101):\n",
    "    prime = True\n",
    "    for i in primes:\n",
    "        if (num%i==0):\n",
    "            prime = False\n",
    "    if prime:\n",
    "        every_other += 1\n",
    "        primes.append(num)\n",
    "        if (every_other%2==1):\n",
    "            print(num)"
   ]
  },
  {
   "cell_type": "code",
   "execution_count": null,
   "metadata": {
    "collapsed": true
   },
   "outputs": [],
   "source": []
  }
 ],
 "metadata": {
  "kernelspec": {
   "display_name": "Python 3",
   "language": "python",
   "name": "python3"
  },
  "language_info": {
   "codemirror_mode": {
    "name": "ipython",
    "version": 3
   },
   "file_extension": ".py",
   "mimetype": "text/x-python",
   "name": "python",
   "nbconvert_exporter": "python",
   "pygments_lexer": "ipython3",
   "version": "3.5.1"
  }
 },
 "nbformat": 4,
 "nbformat_minor": 0
}
