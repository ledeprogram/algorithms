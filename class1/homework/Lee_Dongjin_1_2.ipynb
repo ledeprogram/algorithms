{
 "cells": [
  {
   "cell_type": "code",
   "execution_count": 5,
   "metadata": {
    "collapsed": true
   },
   "outputs": [],
   "source": [
    "import pandas as pd\n",
    "import random\n",
    "\n",
    "url = 'https://raw.githubusercontent.com/ledeprogram/algorithms/gh-pages/class1/homework/data/excuse.csv'\n",
    "df = pd.read_csv(url)\n",
    "excuse_list = df['excuse'].tolist()"
   ]
  },
  {
   "cell_type": "code",
   "execution_count": 6,
   "metadata": {
    "collapsed": true
   },
   "outputs": [],
   "source": [
    "def excuse_to(name,location):\n",
    "    # step 01. get the name and location\n",
    "    data_stored = {'name':name,'location':location}\n",
    "    \n",
    "    # step 02. prepare excuse\n",
    "    \n",
    "    excuse = (random.choice(excuse_list))\n",
    "    # capitalize first letter of the sentence\n",
    "    excuse = excuse[0].capitalize() + excuse[1:] \n",
    "    data_stored['excuse'] = excuse\n",
    "    \n",
    "    # step 03. Say your excuse\n",
    "    return \"Sorry,{name}, I was late to {location} to meet you. {excuse}\".format (**data_stored)\n"
   ]
  },
  {
   "cell_type": "code",
   "execution_count": 8,
   "metadata": {
    "collapsed": false
   },
   "outputs": [
    {
     "name": "stdout",
     "output_type": "stream",
     "text": [
      "Who to apologize? Richard\n",
      "Meeting location? City Hall\n"
     ]
    },
    {
     "data": {
      "text/plain": [
       "'Sorry,Richard, I was late to City Hall to meet you. I should have gotten myself moving quicker'"
      ]
     },
     "execution_count": 8,
     "metadata": {},
     "output_type": "execute_result"
    }
   ],
   "source": [
    "a = input(\"Who to apologize? \")\n",
    "b = input (\"Meeting location? \")\n",
    "\n",
    "excuse_to(a,b)"
   ]
  },
  {
   "cell_type": "code",
   "execution_count": null,
   "metadata": {
    "collapsed": true
   },
   "outputs": [],
   "source": []
  }
 ],
 "metadata": {
  "kernelspec": {
   "display_name": "Python 3",
   "language": "python",
   "name": "python3"
  },
  "language_info": {
   "codemirror_mode": {
    "name": "ipython",
    "version": 3
   },
   "file_extension": ".py",
   "mimetype": "text/x-python",
   "name": "python",
   "nbconvert_exporter": "python",
   "pygments_lexer": "ipython3",
   "version": "3.4.4"
  }
 },
 "nbformat": 4,
 "nbformat_minor": 0
}
