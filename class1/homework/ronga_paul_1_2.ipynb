{
 "cells": [
  {
   "cell_type": "markdown",
   "metadata": {},
   "source": [
    "# Assignment 2: Mayoral Excuses"
   ]
  },
  {
   "cell_type": "code",
   "execution_count": 1,
   "metadata": {
    "collapsed": false
   },
   "outputs": [],
   "source": [
    "import pandas as pd\n",
    "from numpy import random as rd\n",
    "df = pd.read_csv('data/excuse.csv')"
   ]
  },
  {
   "cell_type": "code",
   "execution_count": 2,
   "metadata": {
    "collapsed": false
   },
   "outputs": [
    {
     "name": "stdout",
     "output_type": "stream",
     "text": [
      "What's your name? Aldo\n",
      "Where were you supposed to go? Downtown\n",
      "\n",
      "Sorry, Aldo, I was late to Downtown to meet you, we waited 20 mins for an express only to hear there were major delays. \n",
      "Read the story: http://www.nytimes.com/2015/05/06/nyregion/mayor-de-blasio-is-irked-by-a-subway-delay.html?ref=nyregion&_r=0\n"
     ]
    }
   ],
   "source": [
    "phrase = \"\\nSorry, {}, I was late to {} to meet you, {}. \\nRead the story: {}\"\n",
    "\n",
    "name = input(\"What's your name? \")\n",
    "location = input(\"Where were you supposed to go? \")\n",
    "rand_index = rd.randint(0, len(df)-1)\n",
    "\n",
    "print(phrase.format(name, location, df['excuse'].iloc[rand_index], df['hyperlink'].iloc[rand_index]))"
   ]
  },
  {
   "cell_type": "code",
   "execution_count": null,
   "metadata": {
    "collapsed": true
   },
   "outputs": [],
   "source": []
  }
 ],
 "metadata": {
  "kernelspec": {
   "display_name": "Python 3",
   "language": "python",
   "name": "python3"
  },
  "language_info": {
   "codemirror_mode": {
    "name": "ipython",
    "version": 3
   },
   "file_extension": ".py",
   "mimetype": "text/x-python",
   "name": "python",
   "nbconvert_exporter": "python",
   "pygments_lexer": "ipython3",
   "version": "3.5.1"
  },
  "widgets": {
   "state": {},
   "version": "1.1.2"
  }
 },
 "nbformat": 4,
 "nbformat_minor": 0
}
