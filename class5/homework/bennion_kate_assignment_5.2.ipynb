{
 "cells": [
  {
   "cell_type": "code",
   "execution_count": null,
   "metadata": {
    "collapsed": true
   },
   "outputs": [],
   "source": [
    "height = input('Enter your height in inches')\n",
    "gender = input('Enter your gender m/f')\n",
    "if gender != \"m\" or \"f\":\n",
    "    input('Please enter either m or f')"
   ]
  },
  {
   "cell_type": "code",
   "execution_count": null,
   "metadata": {
    "collapsed": true
   },
   "outputs": [],
   "source": [
    "df = pd.read_csv(\"data/heights_weights_genders.csv\")\n",
    "df_m = df[df['Gender'].str.contains(\"Male\")]\n",
    "df_w = df[df['Gender'].str.contains(\"Female\")]\n",
    "df_m.plot(kind=\"scatter\",x=\"Height\",y=\"Weight\")\n",
    "df_m.plot(kind=\"scatter\",x=\"Height\",y=\"Weight\")"
   ]
  },
  {
   "cell_type": "code",
   "execution_count": null,
   "metadata": {
    "collapsed": true
   },
   "outputs": [],
   "source": [
    "lmm = smf.ols(formula=\"Weight~Height\",data=df_m).fit()\n",
    "lmw = smf.ols(formula=\"Weight~Height\",data=df_w).fit()"
   ]
  },
  {
   "cell_type": "code",
   "execution_count": null,
   "metadata": {
    "collapsed": true
   },
   "outputs": [],
   "source": [
    "def weight(height):\n",
    "    if gender = 'm':\n",
    "        intercept, slope = lmm.params\n",
    "        return slope(height) + intercept\n",
    "    elif gender = 'f':\n",
    "        intercept, slope = lmw.params\n",
    "        return slope(height) + intercept"
   ]
  }
 ],
 "metadata": {
  "kernelspec": {
   "display_name": "Python 3",
   "language": "python",
   "name": "python3"
  },
  "language_info": {
   "codemirror_mode": {
    "name": "ipython",
    "version": 3
   },
   "file_extension": ".py",
   "mimetype": "text/x-python",
   "name": "python",
   "nbconvert_exporter": "python",
   "pygments_lexer": "ipython3",
   "version": "3.5.1"
  }
 },
 "nbformat": 4,
 "nbformat_minor": 0
}
