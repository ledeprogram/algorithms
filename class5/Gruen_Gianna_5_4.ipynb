{
 "cells": [
  {
   "cell_type": "markdown",
   "metadata": {},
   "source": [
    "**Journalistically, it is pretty irresponsible to plot these data in the way 538 did. For the sake of this exercise pretending to be unaware of it**"
   ]
  },
  {
   "cell_type": "code",
   "execution_count": 3,
   "metadata": {
    "collapsed": true
   },
   "outputs": [],
   "source": [
    "import pandas as pd\n",
    "import statsmodels.formula.api as smf\n",
    "import matplotlib.pyplot as plt\n",
    "%matplotlib inline"
   ]
  },
  {
   "cell_type": "code",
   "execution_count": 41,
   "metadata": {
    "collapsed": false
   },
   "outputs": [
    {
     "data": {
      "text/html": [
       "<div>\n",
       "<table border=\"1\" class=\"dataframe\">\n",
       "  <thead>\n",
       "    <tr style=\"text-align: right;\">\n",
       "      <th></th>\n",
       "      <th>Unnamed: 0</th>\n",
       "      <th>approve_obama</th>\n",
       "      <th>favor_deal</th>\n",
       "      <th>confident_in_admin_somewhat</th>\n",
       "      <th>confident_in_admin_very</th>\n",
       "      <th>confident_admin_total</th>\n",
       "    </tr>\n",
       "  </thead>\n",
       "  <tbody>\n",
       "    <tr>\n",
       "      <th>0</th>\n",
       "      <td>Democrats</td>\n",
       "      <td>78</td>\n",
       "      <td>60</td>\n",
       "      <td>49</td>\n",
       "      <td>29</td>\n",
       "      <td>78</td>\n",
       "    </tr>\n",
       "    <tr>\n",
       "      <th>1</th>\n",
       "      <td>Republicans</td>\n",
       "      <td>10</td>\n",
       "      <td>34</td>\n",
       "      <td>13</td>\n",
       "      <td>4</td>\n",
       "      <td>17</td>\n",
       "    </tr>\n",
       "    <tr>\n",
       "      <th>2</th>\n",
       "      <td>Independent</td>\n",
       "      <td>37</td>\n",
       "      <td>44</td>\n",
       "      <td>29</td>\n",
       "      <td>15</td>\n",
       "      <td>44</td>\n",
       "    </tr>\n",
       "    <tr>\n",
       "      <th>3</th>\n",
       "      <td>Men</td>\n",
       "      <td>41</td>\n",
       "      <td>46</td>\n",
       "      <td>28</td>\n",
       "      <td>17</td>\n",
       "      <td>45</td>\n",
       "    </tr>\n",
       "    <tr>\n",
       "      <th>4</th>\n",
       "      <td>Women</td>\n",
       "      <td>47</td>\n",
       "      <td>47</td>\n",
       "      <td>35</td>\n",
       "      <td>17</td>\n",
       "      <td>52</td>\n",
       "    </tr>\n",
       "    <tr>\n",
       "      <th>5</th>\n",
       "      <td>White</td>\n",
       "      <td>35</td>\n",
       "      <td>45</td>\n",
       "      <td>29</td>\n",
       "      <td>11</td>\n",
       "      <td>40</td>\n",
       "    </tr>\n",
       "    <tr>\n",
       "      <th>6</th>\n",
       "      <td>Black</td>\n",
       "      <td>85</td>\n",
       "      <td>54</td>\n",
       "      <td>46</td>\n",
       "      <td>37</td>\n",
       "      <td>83</td>\n",
       "    </tr>\n",
       "    <tr>\n",
       "      <th>7</th>\n",
       "      <td>college_degree</td>\n",
       "      <td>47</td>\n",
       "      <td>50</td>\n",
       "      <td>35</td>\n",
       "      <td>20</td>\n",
       "      <td>55</td>\n",
       "    </tr>\n",
       "    <tr>\n",
       "      <th>8</th>\n",
       "      <td>no_degree</td>\n",
       "      <td>43</td>\n",
       "      <td>45</td>\n",
       "      <td>29</td>\n",
       "      <td>14</td>\n",
       "      <td>43</td>\n",
       "    </tr>\n",
       "    <tr>\n",
       "      <th>9</th>\n",
       "      <td>u_35</td>\n",
       "      <td>56</td>\n",
       "      <td>51</td>\n",
       "      <td>39</td>\n",
       "      <td>18</td>\n",
       "      <td>57</td>\n",
       "    </tr>\n",
       "    <tr>\n",
       "      <th>10</th>\n",
       "      <td>34_54</td>\n",
       "      <td>35</td>\n",
       "      <td>46</td>\n",
       "      <td>29</td>\n",
       "      <td>13</td>\n",
       "      <td>42</td>\n",
       "    </tr>\n",
       "    <tr>\n",
       "      <th>11</th>\n",
       "      <td>a55</td>\n",
       "      <td>55</td>\n",
       "      <td>45</td>\n",
       "      <td>29</td>\n",
       "      <td>19</td>\n",
       "      <td>48</td>\n",
       "    </tr>\n",
       "    <tr>\n",
       "      <th>12</th>\n",
       "      <td>a65</td>\n",
       "      <td>43</td>\n",
       "      <td>41</td>\n",
       "      <td>26</td>\n",
       "      <td>18</td>\n",
       "      <td>44</td>\n",
       "    </tr>\n",
       "    <tr>\n",
       "      <th>13</th>\n",
       "      <td>u55k_income</td>\n",
       "      <td>48</td>\n",
       "      <td>47</td>\n",
       "      <td>34</td>\n",
       "      <td>18</td>\n",
       "      <td>52</td>\n",
       "    </tr>\n",
       "    <tr>\n",
       "      <th>14</th>\n",
       "      <td>a55k_income</td>\n",
       "      <td>42</td>\n",
       "      <td>48</td>\n",
       "      <td>31</td>\n",
       "      <td>16</td>\n",
       "      <td>47</td>\n",
       "    </tr>\n",
       "    <tr>\n",
       "      <th>15</th>\n",
       "      <td>Lib</td>\n",
       "      <td>69</td>\n",
       "      <td>61</td>\n",
       "      <td>48</td>\n",
       "      <td>24</td>\n",
       "      <td>72</td>\n",
       "    </tr>\n",
       "    <tr>\n",
       "      <th>16</th>\n",
       "      <td>Con</td>\n",
       "      <td>24</td>\n",
       "      <td>35</td>\n",
       "      <td>19</td>\n",
       "      <td>10</td>\n",
       "      <td>29</td>\n",
       "    </tr>\n",
       "    <tr>\n",
       "      <th>17</th>\n",
       "      <td>Tea</td>\n",
       "      <td>15</td>\n",
       "      <td>35</td>\n",
       "      <td>11</td>\n",
       "      <td>6</td>\n",
       "      <td>17</td>\n",
       "    </tr>\n",
       "  </tbody>\n",
       "</table>\n",
       "</div>"
      ],
      "text/plain": [
       "        Unnamed: 0  approve_obama  favor_deal  confident_in_admin_somewhat  \\\n",
       "0        Democrats             78          60                           49   \n",
       "1      Republicans             10          34                           13   \n",
       "2      Independent             37          44                           29   \n",
       "3              Men             41          46                           28   \n",
       "4            Women             47          47                           35   \n",
       "5            White             35          45                           29   \n",
       "6            Black             85          54                           46   \n",
       "7   college_degree             47          50                           35   \n",
       "8        no_degree             43          45                           29   \n",
       "9             u_35             56          51                           39   \n",
       "10           34_54             35          46                           29   \n",
       "11             a55             55          45                           29   \n",
       "12             a65             43          41                           26   \n",
       "13     u55k_income             48          47                           34   \n",
       "14     a55k_income             42          48                           31   \n",
       "15             Lib             69          61                           48   \n",
       "16             Con             24          35                           19   \n",
       "17             Tea             15          35                           11   \n",
       "\n",
       "    confident_in_admin_very  confident_admin_total  \n",
       "0                        29                     78  \n",
       "1                         4                     17  \n",
       "2                        15                     44  \n",
       "3                        17                     45  \n",
       "4                        17                     52  \n",
       "5                        11                     40  \n",
       "6                        37                     83  \n",
       "7                        20                     55  \n",
       "8                        14                     43  \n",
       "9                        18                     57  \n",
       "10                       13                     42  \n",
       "11                       19                     48  \n",
       "12                       18                     44  \n",
       "13                       18                     52  \n",
       "14                       16                     47  \n",
       "15                       24                     72  \n",
       "16                       10                     29  \n",
       "17                        6                     17  "
      ]
     },
     "execution_count": 41,
     "metadata": {},
     "output_type": "execute_result"
    }
   ],
   "source": [
    "df = pd.read_csv('fox_news_data.csv')\n",
    "df"
   ]
  },
  {
   "cell_type": "code",
   "execution_count": 42,
   "metadata": {
    "collapsed": false
   },
   "outputs": [
    {
     "data": {
      "text/plain": [
       "Intercept        30.690072\n",
       "approve_obama     0.347628\n",
       "dtype: float64"
      ]
     },
     "execution_count": 42,
     "metadata": {},
     "output_type": "execute_result"
    }
   ],
   "source": [
    "lm = smf.ols(formula=\"favor_deal~approve_obama\",data=df).fit()\n",
    "lm.params"
   ]
  },
  {
   "cell_type": "code",
   "execution_count": 43,
   "metadata": {
    "collapsed": true
   },
   "outputs": [],
   "source": [
    "intercept, slope = lm.params"
   ]
  },
  {
   "cell_type": "code",
   "execution_count": 44,
   "metadata": {
    "collapsed": false
   },
   "outputs": [
    {
     "data": {
      "text/plain": [
       "<matplotlib.text.Text at 0x110d2eeb8>"
      ]
     },
     "execution_count": 44,
     "metadata": {},
     "output_type": "execute_result"
    },
    {
     "data": {
      "image/png": "[encoded data removed]",
      "text/plain": [
       "<matplotlib.figure.Figure at 0x1102c6dd8>"
      ]
     },
     "metadata": {},
     "output_type": "display_data"
    }
   ],
   "source": [
    "fig, ax = plt.subplots(figsize=(7,7))\n",
    "plt.style.use('fivethirtyeight')\n",
    "\n",
    "ax = df.plot(ax = ax, kind='scatter', x=\"approve_obama\", y=\"favor_deal\")\n",
    "plt.plot(df['approve_obama'],slope*df['approve_obama']+intercept, color=\"red\", linewidth=2)\n",
    "\n",
    "ax.set_xlim(0,85)\n",
    "ax.set_ylim(0,85)\n",
    "\n",
    "ax.set_ylabel(\"Favor Iran deal\")\n",
    "ax.set_xlabel(\"Approve of Obama\")"
   ]
  },
  {
   "cell_type": "code",
   "execution_count": 46,
   "metadata": {
    "collapsed": false
   },
   "outputs": [
    {
     "data": {
      "text/plain": [
       "Intercept        7.636140\n",
       "approve_obama    0.898209\n",
       "dtype: float64"
      ]
     },
     "execution_count": 46,
     "metadata": {},
     "output_type": "execute_result"
    }
   ],
   "source": [
    "lm2 = smf.ols(formula=\"confident_admin_total~approve_obama\",data=df).fit()\n",
    "lm2.params"
   ]
  },
  {
   "cell_type": "code",
   "execution_count": 47,
   "metadata": {
    "collapsed": true
   },
   "outputs": [],
   "source": [
    "intercept2, slope2 = lm2.params"
   ]
  },
  {
   "cell_type": "code",
   "execution_count": 48,
   "metadata": {
    "collapsed": false
   },
   "outputs": [
    {
     "data": {
      "text/plain": [
       "<matplotlib.text.Text at 0x110f07860>"
      ]
     },
     "execution_count": 48,
     "metadata": {},
     "output_type": "execute_result"
    },
    {
     "data": {
      "image/png": "[encoded data removed]",
      "text/plain": [
       "<matplotlib.figure.Figure at 0x11107ce10>"
      ]
     },
     "metadata": {},
     "output_type": "display_data"
    }
   ],
   "source": [
    "fig, ax = plt.subplots(figsize=(7,7))\n",
    "plt.style.use('fivethirtyeight')\n",
    "\n",
    "ax = df.plot(ax = ax, kind='scatter', x=\"approve_obama\", y=\"confident_admin_total\")\n",
    "plt.plot(df['approve_obama'],slope2*df['approve_obama']+intercept2, color=\"red\", linewidth=2)\n",
    "\n",
    "ax.set_xlim(0,85)\n",
    "ax.set_ylim(0,85)\n",
    "\n",
    "ax.set_ylabel(\"Confident administration will do a good job in negotiations\")\n",
    "ax.set_xlabel(\"Approve of Obama\")"
   ]
  },
  {
   "cell_type": "code",
   "execution_count": null,
   "metadata": {
    "collapsed": true
   },
   "outputs": [],
   "source": []
  }
 ],
 "metadata": {
  "kernelspec": {
   "display_name": "Python 3",
   "language": "python",
   "name": "python3"
  },
  "language_info": {
   "codemirror_mode": {
    "name": "ipython",
    "version": 3
   },
   "file_extension": ".py",
   "mimetype": "text/x-python",
   "name": "python",
   "nbconvert_exporter": "python",
   "pygments_lexer": "ipython3",
   "version": "3.5.1"
  }
 },
 "nbformat": 4,
 "nbformat_minor": 0
}
