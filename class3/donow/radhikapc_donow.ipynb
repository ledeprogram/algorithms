{
 "cells": [
  {
   "cell_type": "markdown",
   "metadata": {},
   "source": [
    "Create a function to search a list of numbers for a given number and return the index of that number in the list"
   ]
  },
  {
   "cell_type": "code",
   "execution_count": 5,
   "metadata": {
    "collapsed": true
   },
   "outputs": [],
   "source": [
    "def search_element(your_number):\n",
    "    your_list = []\n",
    "    user_input = input(\" enter the list\")\n",
    "    user_list = user_input.split(',')\n",
    "    #print(user_list)\n",
    "    your_list = [int(i) for i in user_list]\n",
    "    #print(int_list)\n",
    "    pos = 0\n",
    "    for item in your_list:\n",
    "        if your_number in your_list:\n",
    "            return your_list[pos]\n",
    "        else:\n",
    "            return \"Your number is not in the list!\""
   ]
  },
  {
   "cell_type": "code",
   "execution_count": 8,
   "metadata": {
    "collapsed": false
   },
   "outputs": [
    {
     "name": "stdout",
     "output_type": "stream",
     "text": [
      " enter the list345\n"
     ]
    },
    {
     "data": {
      "text/plain": [
       "'Your number is not in the list!'"
      ]
     },
     "execution_count": 8,
     "metadata": {},
     "output_type": "execute_result"
    }
   ],
   "source": [
    "search_element(5)\n"
   ]
  },
  {
   "cell_type": "code",
   "execution_count": null,
   "metadata": {
    "collapsed": true
   },
   "outputs": [],
   "source": []
  }
 ],
 "metadata": {
  "kernelspec": {
   "display_name": "Python 3",
   "language": "python",
   "name": "python3"
  },
  "language_info": {
   "codemirror_mode": {
    "name": "ipython",
    "version": 3
   },
   "file_extension": ".py",
   "mimetype": "text/x-python",
   "name": "python",
   "nbconvert_exporter": "python",
   "pygments_lexer": "ipython3",
   "version": "3.5.1"
  }
 },
 "nbformat": 4,
 "nbformat_minor": 0
}
