{
 "cells": [
  {
   "cell_type": "markdown",
   "metadata": {},
   "source": [
    "Create a function to search a list of numbers for a given number and return the index of that number in the list"
   ]
  },
  {
   "cell_type": "code",
   "execution_count": 27,
   "metadata": {
    "collapsed": false
   },
   "outputs": [],
   "source": [
    "def search_element(your_number):\n",
    "    your_list = []\n",
    "    user_input = input(\" enter the list\")\n",
    "    user_list = user_input.split(',')\n",
    "    #print(user_list)\n",
    "    your_list = [int(i) for i in user_list]\n",
    "    #print(int_list)\n",
    "    pos = 0\n",
    "    index = []\n",
    "    for item in your_list:\n",
    "        if item == your_number:\n",
    "            index.append(pos)\n",
    "        pos = pos + 1\n",
    "    if index:\n",
    "            return \"The number you have entered\", your_number,\"is at the position\", index\n",
    "        \n",
    "    else:\n",
    "        return \"Your number is not in the list!\""
   ]
  },
  {
   "cell_type": "code",
   "execution_count": 28,
   "metadata": {
    "collapsed": false
   },
   "outputs": [
    {
     "name": "stdout",
     "output_type": "stream",
     "text": [
      " enter the list3,4,5\n"
     ]
    },
    {
     "data": {
      "text/plain": [
       "('The number you have entered', 5, 'is at the position', [2])"
      ]
     },
     "execution_count": 28,
     "metadata": {},
     "output_type": "execute_result"
    }
   ],
   "source": [
    "search_element(5)\n"
   ]
  },
  {
   "cell_type": "code",
   "execution_count": null,
   "metadata": {
    "collapsed": true
   },
   "outputs": [],
   "source": []
  }
 ],
 "metadata": {
  "kernelspec": {
   "display_name": "Python 3",
   "language": "python",
   "name": "python3"
  },
  "language_info": {
   "codemirror_mode": {
    "name": "ipython",
    "version": 3
   },
   "file_extension": ".py",
   "mimetype": "text/x-python",
   "name": "python",
   "nbconvert_exporter": "python",
   "pygments_lexer": "ipython3",
   "version": "3.5.1"
  }
 },
 "nbformat": 4,
 "nbformat_minor": 0
}
