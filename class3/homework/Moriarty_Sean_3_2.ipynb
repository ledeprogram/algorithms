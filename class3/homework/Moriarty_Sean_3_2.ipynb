{
 "cells": [
  {
   "cell_type": "markdown",
   "metadata": {},
   "source": [
    "* take in a random list and a search number\n",
    "* iterate along each index of that list\n",
    "* if the query is equal to the item at that index:\n",
    "    * append the index of that item to a new list\n",
    "* if the output list has items in it:\n",
    "    * output the list\n",
    "* otherwise:\n",
    "    * output item not found\n",
    "    \n",
    "This search is pretty inefficient, since it has to look at every item in the list no matter what. I tried to at least get it to only search until the query was greater than the current item, but my ability to make a while loop that works is currently limited, it seems"
   ]
  },
  {
   "cell_type": "code",
   "execution_count": 40,
   "metadata": {
    "collapsed": true
   },
   "outputs": [],
   "source": [
    "def list_search(query, input_list):\n",
    "    output_list=[]\n",
    "    for index in range(len(input_list)):\n",
    "        if input_list[index]==query:\n",
    "            output_list.append(index)\n",
    "    if output_list:\n",
    "        return output_list\n",
    "    else:\n",
    "        return 'item not found'"
   ]
  },
  {
   "cell_type": "code",
   "execution_count": 37,
   "metadata": {
    "collapsed": true
   },
   "outputs": [],
   "source": [
    "from random import randint\n",
    "sorted_list_10=sorted([randint(0,999) for i in range(10)])\n",
    "sorted_list_100=sorted([randint(0,999) for i in range(100)])\n",
    "sorted_list_1000=sorted([randint(0,999) for i in range(1000)])"
   ]
  },
  {
   "cell_type": "code",
   "execution_count": 74,
   "metadata": {
    "collapsed": false,
    "scrolled": true
   },
   "outputs": [
    {
     "name": "stdout",
     "output_type": "stream",
     "text": [
      "CPU times: user 0 ns, sys: 0 ns, total: 0 ns\n",
      "Wall time: 80.1 µs\n"
     ]
    },
    {
     "data": {
      "text/plain": [
       "[20, 21, 22]"
      ]
     },
     "execution_count": 74,
     "metadata": {},
     "output_type": "execute_result"
    }
   ],
   "source": [
    "%time list_search(35, sorted_list_1000)"
   ]
  },
  {
   "cell_type": "code",
   "execution_count": 75,
   "metadata": {
    "collapsed": false
   },
   "outputs": [
    {
     "name": "stdout",
     "output_type": "stream",
     "text": [
      "CPU times: user 0 ns, sys: 0 ns, total: 0 ns\n",
      "Wall time: 75.1 µs\n"
     ]
    },
    {
     "data": {
      "text/plain": [
       "[20, 21, 22]"
      ]
     },
     "execution_count": 75,
     "metadata": {},
     "output_type": "execute_result"
    }
   ],
   "source": [
    "%time [i for i, x in enumerate(sorted_list_1000) if x==35]"
   ]
  },
  {
   "cell_type": "markdown",
   "metadata": {},
   "source": [
    "That was for testing. Interesting that the super pythonic list comprehension is just a little bit faster, but I think it works in basically the same way.\n",
    "\n",
    "Here is the same thing but using my code from assignment 1:"
   ]
  },
  {
   "cell_type": "code",
   "execution_count": 62,
   "metadata": {
    "collapsed": true
   },
   "outputs": [],
   "source": [
    "def list_sort(input_list):\n",
    "    output_list=[]\n",
    "    for input_item in input_list:\n",
    "        if not output_list:\n",
    "            output_list.append(input_item)\n",
    "        else:\n",
    "            index=0\n",
    "            for a in range(len(output_list)):\n",
    "                if output_list[index]<input_item:\n",
    "                    index+=1\n",
    "            if index==len(output_list):\n",
    "                output_list.append(input_item)\n",
    "            else:\n",
    "                first_half=output_list[:index]\n",
    "                first_half.append(input_item)\n",
    "                last_half=output_list[index:]\n",
    "                output_list=first_half+last_half\n",
    "    return output_list"
   ]
  },
  {
   "cell_type": "code",
   "execution_count": 63,
   "metadata": {
    "collapsed": true
   },
   "outputs": [],
   "source": [
    "def random_list_maker(list_len):\n",
    "    from random import randint\n",
    "    return_list=[]\n",
    "    for i in range(list_len):\n",
    "        return_list.append(randint(0,999))\n",
    "    return return_list"
   ]
  },
  {
   "cell_type": "code",
   "execution_count": 81,
   "metadata": {
    "collapsed": false
   },
   "outputs": [
    {
     "name": "stdout",
     "output_type": "stream",
     "text": [
      "CPU times: user 48 ms, sys: 4 ms, total: 52 ms\n",
      "Wall time: 85.7 ms\n"
     ]
    },
    {
     "data": {
      "text/plain": [
       "[19]"
      ]
     },
     "execution_count": 81,
     "metadata": {},
     "output_type": "execute_result"
    }
   ],
   "source": [
    "# this will actually generate a new list of 1000 random numbers, sort them, and then search them for\n",
    "# the number specified, returning the indices of any instances of that number\n",
    "# this whole operation is pretty slow\n",
    "%time list_search(20, list_sort(random_list_maker(1000)))"
   ]
  },
  {
   "cell_type": "code",
   "execution_count": 102,
   "metadata": {
    "collapsed": false
   },
   "outputs": [
    {
     "name": "stdout",
     "output_type": "stream",
     "text": [
      "CPU times: user 0 ns, sys: 0 ns, total: 0 ns\n",
      "Wall time: 2.16 ms\n"
     ]
    },
    {
     "data": {
      "text/plain": [
       "[18]"
      ]
     },
     "execution_count": 102,
     "metadata": {},
     "output_type": "execute_result"
    }
   ],
   "source": [
    "# i'm pretty sure this is the same operation as above but mashed into one list comprehendion, \n",
    "# using built in functions and libraries. it is a lot faster.\n",
    "%time [i for i, x in enumerate(sorted([randint(0,999) for i in range(1000)])) if x==20]"
   ]
  },
  {
   "cell_type": "code",
   "execution_count": null,
   "metadata": {
    "collapsed": true
   },
   "outputs": [],
   "source": []
  }
 ],
 "metadata": {
  "kernelspec": {
   "display_name": "IPython (Python 3)",
   "language": "python",
   "name": "python3"
  },
  "language_info": {
   "codemirror_mode": {
    "name": "ipython",
    "version": 3
   },
   "file_extension": ".py",
   "mimetype": "text/x-python",
   "name": "python",
   "nbconvert_exporter": "python",
   "pygments_lexer": "ipython3",
   "version": "3.5.1+"
  }
 },
 "nbformat": 4,
 "nbformat_minor": 0
}
