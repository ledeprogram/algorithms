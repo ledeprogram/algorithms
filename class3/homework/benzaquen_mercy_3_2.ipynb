{
 "cells": [
  {
   "cell_type": "markdown",
   "metadata": {},
   "source": [
    "# Assignment 2\n",
    "Implement the search algorithm you came up with in pseudocode with Python\n",
    "\n",
    "\n",
    "Test the search algorithm with a list of 10,100,1000 random numbers (sorted with your sorting algorithm) and compare\n",
    "\n",
    "the result using the %time to time your code and submit your results in code comments"
   ]
  },
  {
   "cell_type": "markdown",
   "metadata": {},
   "source": [
    "Search\n",
    "\n",
    "Input: a sorted list and a search term\n",
    "\n",
    "\n",
    "Operation: find the element in the list\n",
    "\n",
    "\n",
    "Output: the location of the item in the list or indicate if it's not there"
   ]
  },
  {
   "cell_type": "code",
   "execution_count": 4,
   "metadata": {
    "collapsed": true
   },
   "outputs": [],
   "source": [
    "import random"
   ]
  },
  {
   "cell_type": "code",
   "execution_count": 5,
   "metadata": {
    "collapsed": true
   },
   "outputs": [],
   "source": [
    "#We can do this in two different ways.\n",
    "#I will do both and see the time difference.\n",
    "#With the ---linear search--- we can check ALL values in order until we find the one we want \n",
    "#With the ---binary search--- we check for the value in the middle of the list, eliminating the\n",
    "#half of the list that are smaller or bigger than the number we are looking for. "
   ]
  },
  {
   "cell_type": "markdown",
   "metadata": {},
   "source": [
    "# Sorting function "
   ]
  },
  {
   "cell_type": "code",
   "execution_count": 6,
   "metadata": {
    "collapsed": true
   },
   "outputs": [],
   "source": [
    "def sorting_function(my_list):\n",
    "    for index in range(1,len(my_list)): \n",
    "        index_number= my_list[index] \n",
    "        index_to_the_left= index - 1 \n",
    "        while index_to_the_left >=0:\n",
    "            if index_number < my_list[index_to_the_left]:\n",
    "                my_list[index_to_the_left+1] = my_list[index_to_the_left] \n",
    "                my_list[index_to_the_left] = index_number \n",
    "                index_to_the_left = index_to_the_left -1\n",
    "            else:\n",
    "                break\n",
    "    return my_list"
   ]
  },
  {
   "cell_type": "code",
   "execution_count": 7,
   "metadata": {
    "collapsed": false
   },
   "outputs": [
    {
     "data": {
      "text/plain": [
       "[1, 2, 3, 4, 5, 6, 7, 8, 9, 10]"
      ]
     },
     "execution_count": 7,
     "metadata": {},
     "output_type": "execute_result"
    }
   ],
   "source": [
    "list_of_10= random.sample(range(1,11),10)\n",
    "sorting_function(list_of_10)\n"
   ]
  },
  {
   "cell_type": "markdown",
   "metadata": {},
   "source": [
    "# Using linear search with enumerate function"
   ]
  },
  {
   "cell_type": "code",
   "execution_count": 8,
   "metadata": {
    "collapsed": true
   },
   "outputs": [],
   "source": [
    "def linear_search_function(list_of_items, item_we_want):\n",
    "    for index_number, item in enumerate(list_of_items):\n",
    "        if item == item_we_want:\n",
    "            return index_number\n",
    "\n",
    "    raise ValueError(\"%s was not found in the list.\" % desired_item)"
   ]
  },
  {
   "cell_type": "code",
   "execution_count": 9,
   "metadata": {
    "collapsed": false
   },
   "outputs": [
    {
     "name": "stdout",
     "output_type": "stream",
     "text": [
      "CPU times: user 11 µs, sys: 1 µs, total: 12 µs\n",
      "Wall time: 16.9 µs\n"
     ]
    },
    {
     "data": {
      "text/plain": [
       "5"
      ]
     },
     "execution_count": 9,
     "metadata": {},
     "output_type": "execute_result"
    }
   ],
   "source": [
    "% time linear_search_function(list_of_10, 6) #it works!\n",
    "\n",
    "# CPU times: user 7 µs, sys: 1e+03 ns, total: 8 µs\n",
    "# Wall time: 20 µs"
   ]
  },
  {
   "cell_type": "markdown",
   "metadata": {},
   "source": [
    "# Using Binary search "
   ]
  },
  {
   "cell_type": "code",
   "execution_count": 27,
   "metadata": {
    "collapsed": true
   },
   "outputs": [],
   "source": [
    "list_of_twenty= [1, 2, 3, 4, 5, 6, 7, 8, 9, 10, 11, 12, 13, 14, 15, 16, 17, 18, 19, 20]"
   ]
  },
  {
   "cell_type": "code",
   "execution_count": 32,
   "metadata": {
    "collapsed": false
   },
   "outputs": [],
   "source": [
    "def binary_search_function(list_of_items, value):\n",
    "    start= 0\n",
    "    end= len(list_of_items)-1\n",
    "    while end - start >1:\n",
    "      \n",
    "        if value == list_of_items[start]:\n",
    "            return start\n",
    "        \n",
    "        if value == list_of_items[end]:\n",
    "            return end\n",
    "        \n",
    "        mid = int((start + end) // 2)\n",
    "        \n",
    "        if value == int(list_of_items[mid]):\n",
    "            return mid\n",
    "        \n",
    "        elif value > list_of_items[mid]:\n",
    "            start = mid\n",
    "\n",
    "        else:\n",
    "            end = mid"
   ]
  },
  {
   "cell_type": "code",
   "execution_count": 33,
   "metadata": {
    "collapsed": false
   },
   "outputs": [
    {
     "data": {
      "text/plain": [
       "8"
      ]
     },
     "execution_count": 33,
     "metadata": {},
     "output_type": "execute_result"
    }
   ],
   "source": [
    "binary_search_function(list_of_twenty, 9)"
   ]
  },
  {
   "cell_type": "code",
   "execution_count": null,
   "metadata": {
    "collapsed": true
   },
   "outputs": [],
   "source": []
  }
 ],
 "metadata": {
  "kernelspec": {
   "display_name": "Python 3",
   "language": "python",
   "name": "python3"
  },
  "language_info": {
   "codemirror_mode": {
    "name": "ipython",
    "version": 3
   },
   "file_extension": ".py",
   "mimetype": "text/x-python",
   "name": "python",
   "nbconvert_exporter": "python",
   "pygments_lexer": "ipython3",
   "version": "3.5.1"
  }
 },
 "nbformat": 4,
 "nbformat_minor": 0
}
