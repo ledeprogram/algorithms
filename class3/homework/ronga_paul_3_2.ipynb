{
 "cells": [
  {
   "cell_type": "markdown",
   "metadata": {},
   "source": [
    "# Search function\n",
    "* Input: a sorted list and a search term\n",
    "* Operation: find the element in the list\n",
    "* Output: the location of the item in the list or indicate if it's not there"
   ]
  },
  {
   "cell_type": "code",
   "execution_count": 1,
   "metadata": {
    "collapsed": false
   },
   "outputs": [],
   "source": [
    "# (Sort function, used before the search algorithm)\n",
    "\n",
    "from numpy import random as rd\n",
    "\n",
    "def sort_list(list_to_sort):\n",
    "    if not isinstance(list_to_sort, list): # Not a list error\n",
    "        raise NameError('Error: arg shouls be a list.')\n",
    "    if len(list_to_sort) < 2: # empty or 1-element list\n",
    "        return list_to_sort\n",
    "    new_list = []\n",
    "    new_list.append(list_to_sort[0])\n",
    "    \n",
    "    for i in list_to_sort[1:]:\n",
    "        if i > new_list[-1]: # if biggest number, append it and continue\n",
    "            new_list.append(i)\n",
    "            continue\n",
    "            \n",
    "        elif len(new_list) < 10: # new list (still) small, doesn't need optimisation\n",
    "            for j in range(0, len(new_list)):\n",
    "                if i <= new_list[j]: # if smaller or equal than element at index j, insert before j\n",
    "                    new_list.insert(j, i)\n",
    "                    break\n",
    "                    \n",
    "        else: # search for the middle, ...\n",
    "            left_boundary = 0\n",
    "            right_boundary = len(new_list)-1\n",
    "            positionFound = False\n",
    "            while positionFound == False:\n",
    "                # mid ~= median of new list\n",
    "                mid = int(left_boundary + (right_boundary - left_boundary) / 2)\n",
    "\n",
    "                if right_boundary - left_boundary < 2:\n",
    "                    new_list.insert(right_boundary, i)\n",
    "                    positionFound = True\n",
    "                    break\n",
    "                elif i == new_list[mid]:\n",
    "                    new_list.insert(mid, i)\n",
    "                    positionFound = True\n",
    "                    break\n",
    "\n",
    "                elif i > new_list[mid]: # => narrow to the right\n",
    "                    left_boundary = mid\n",
    "                elif i < new_list[mid]: # => narrow to the left\n",
    "                    right_boundary = mid                    \n",
    "\n",
    "    return new_list\n",
    "    \n",
    "\n",
    "sample_lists = []\n",
    "ranges = [10, 100, 1000]\n",
    "\n",
    "for r in ranges:\n",
    "    sample_lists.append((rd.rand(1, r)*100)[0].tolist())"
   ]
  },
  {
   "cell_type": "code",
   "execution_count": 2,
   "metadata": {
    "collapsed": false
   },
   "outputs": [
    {
     "name": "stdout",
     "output_type": "stream",
     "text": [
      "\n",
      "Running test with a sorted list of 10 items. Needle:  38.9287594465\n",
      "CPU times: user 7 µs, sys: 1 µs, total: 8 µs\n",
      "Wall time: 10 µs\n",
      "\n",
      "Running test with a sorted list of 100 items. Needle:  72.4389192771\n",
      "CPU times: user 7 µs, sys: 1e+03 ns, total: 8 µs\n",
      "Wall time: 11 µs\n",
      "\n",
      "Running test with a sorted list of 1000 items. Needle:  13.7151070323\n",
      "CPU times: user 11 µs, sys: 0 ns, total: 11 µs\n",
      "Wall time: 13.1 µs\n"
     ]
    }
   ],
   "source": [
    "'''\n",
    "Running test with a sorted list of 10 items. Needle:  93.8485227549\n",
    "CPU times: user 8 µs, sys: 1 µs, total: 9 µs\n",
    "Wall time: 11 µs\n",
    "\n",
    "Running test with a sorted list of 100 items. Needle:  3.117958693\n",
    "CPU times: user 9 µs, sys: 0 ns, total: 9 µs\n",
    "Wall time: 12.2 µs\n",
    "\n",
    "Running test with a sorted list of 1000 items. Needle:  60.6537886941\n",
    "CPU times: user 11 µs, sys: 0 ns, total: 11 µs\n",
    "Wall time: 12.9 µs\n",
    "'''\n",
    "\n",
    "def find_value_index(sorted_list, needle):\n",
    "    found = False\n",
    "    left_boundary = 0\n",
    "    right_boundary = len(sorted_list)-1\n",
    "\n",
    "    while found == False:\n",
    "        mid = int(left_boundary + (right_boundary - left_boundary) / 2) # quadtree! (sort of)\n",
    "        if needle > sorted_list[mid]:\n",
    "            left_boundary = mid\n",
    "        elif needle == sorted_list[mid]:\n",
    "            return mid\n",
    "            found = True\n",
    "        else:\n",
    "            right_boundary = mid\n",
    "            \n",
    "        if right_boundary - left_boundary < 2:\n",
    "            if needle == sorted_list[right_boundary]: # because we never ceil to get the mid\n",
    "                return mid\n",
    "            else:\n",
    "                found = False\n",
    "                if mid - 1 > 0:\n",
    "                    print(\"Not found. Closest values:\", sorted_list[mid-1], sorted_list[mid])\n",
    "                else:\n",
    "                    print(\"Not found. Closest value:\", sorted_list[mid])\n",
    "                return False\n",
    "\n",
    "        \n",
    "sample_sorted_lists = []\n",
    "sample_needles = []\n",
    "\n",
    "for sample in sample_lists:\n",
    "    sample_sorted_lists.append(sort_list(sample))\n",
    "\n",
    "for sample in sample_sorted_lists:\n",
    "    needle = rd.choice(sample)\n",
    "    print(\"\\nRunning test with a sorted list of\", len(sample), \"items. Needle: \", needle)\n",
    "    \n",
    "    %time find_value_index(sample, needle)\n",
    "\n"
   ]
  }
 ],
 "metadata": {
  "kernelspec": {
   "display_name": "Python 3",
   "language": "python",
   "name": "python3"
  },
  "language_info": {
   "codemirror_mode": {
    "name": "ipython",
    "version": 3
   },
   "file_extension": ".py",
   "mimetype": "text/x-python",
   "name": "python",
   "nbconvert_exporter": "python",
   "pygments_lexer": "ipython3",
   "version": "3.5.1"
  },
  "widgets": {
   "state": {},
   "version": "1.1.2"
  }
 },
 "nbformat": 4,
 "nbformat_minor": 0
}
