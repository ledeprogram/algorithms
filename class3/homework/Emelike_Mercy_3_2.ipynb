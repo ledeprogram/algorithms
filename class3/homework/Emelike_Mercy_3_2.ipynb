{
 "cells": [
  {
   "cell_type": "markdown",
   "metadata": {},
   "source": [
    "# Search Algorithm"
   ]
  },
  {
   "cell_type": "code",
   "execution_count": 2,
   "metadata": {
    "collapsed": true
   },
   "outputs": [],
   "source": [
    "def sort_list(listed):\n",
    "    \n",
    "    # for each index number in the list starting at 1: \n",
    "    for i in range(1,len(listed)):\n",
    "        \n",
    "        # set the current value equal to the value at index, i: \n",
    "        currentvalue = listed[i]\n",
    "#         print('current value:', currentvalue)\n",
    "        \n",
    "        # set position to index of the current value\n",
    "        position = i\n",
    "#         print('position:', position)\n",
    "    \n",
    "        # while the index number is greater than zero and the value before the current value \n",
    "        # is greater than the current value:\n",
    "        while position>0 and listed[position-1]>currentvalue:\n",
    "#                 print('Index position', position, 'is greater than 0')\n",
    "#                 print('The value at index position', position, 'is', listed[position])\n",
    "#                 print ('And the value at index position', position-1, 'is', listed[position-1], 'which is greater than', currentvalue)\n",
    "#                 print('We change the value of', listed[position], 'to', listed[position-1])\n",
    "                listed[position]=listed[position-1]\n",
    "#                 print('We change the value of the variable storing index position from', position, 'to', position-1)\n",
    "                position = position-1\n",
    "\n",
    "    \n",
    "        listed[position]=currentvalue\n",
    "#         print('Index position equals 0, so we exit the loop')\n",
    "#         print('And we set the value at index position', position, \"to\", currentvalue)"
   ]
  },
  {
   "cell_type": "code",
   "execution_count": 3,
   "metadata": {
    "collapsed": false
   },
   "outputs": [],
   "source": [
    "def search_list(listed, search_item):\n",
    "        # set start to index position zero\n",
    "        start = 0\n",
    "        # set end to last index position: \n",
    "        end = len(alist)-1\n",
    "        found = False\n",
    "        \n",
    "        # while start index is less than or equal to end index and found is False: \n",
    "        while start<=end and not found:\n",
    "            # set middle to half the length of the list\n",
    "            middle = int((start + end)//2)\n",
    "            # if the value at the middle index position equals the search item: \n",
    "            if listed[middle] == search_item:\n",
    "                # set found equal to True\n",
    "                found = True\n",
    "            # if the value at the middle index position does not equal the search item: \n",
    "            else:\n",
    "                # if the search item is less than the value at the middle index: \n",
    "                if search_item < listed[middle]:\n",
    "                    # then set end to index position middle-1\n",
    "                    end = middle-1\n",
    "                # if the search item is greater than the value at the middle index:     \n",
    "                else:\n",
    "                    # then set start to index position middle+1\n",
    "                    start = middle+1\n",
    "        # return found value, search item value, index position\n",
    "        return found, search_item, middle\n",
    "       "
   ]
  },
  {
   "cell_type": "code",
   "execution_count": 7,
   "metadata": {
    "collapsed": false
   },
   "outputs": [
    {
     "name": "stdout",
     "output_type": "stream",
     "text": [
      "CPU times: user 11 µs, sys: 1 µs, total: 12 µs\n",
      "Wall time: 13.8 µs\n",
      "CPU times: user 20 µs, sys: 1 µs, total: 21 µs\n",
      "Wall time: 26 µs\n",
      "CPU times: user 21 µs, sys: 0 ns, total: 21 µs\n",
      "Wall time: 25 µs\n"
     ]
    }
   ],
   "source": [
    "import random\n",
    "\n",
    "lengths=[10,100,1000]\n",
    "for x in lengths:  \n",
    "    alist = random.sample(range(x), x)\n",
    "    sort_list(alist)\n",
    "    %time search_list(alist, random.choice(alist))\n",
    "\n",
    "# for a list length 10: \n",
    "# CPU times: user 13 µs, sys: 1 µs, total: 14 µs\n",
    "# Wall time: 14.8 µs\n",
    "    \n",
    "# for a list length 100: \n",
    "# CPU times: user 15 µs, sys: 0 ns, total: 15 µs\n",
    "# Wall time: 18.1 µs\n",
    "    \n",
    "# for a list length 1000: \n",
    "# CPU times: user 17 µs, sys: 0 ns, total: 17 µs\n",
    "# Wall time: 20 µs"
   ]
  },
  {
   "cell_type": "code",
   "execution_count": null,
   "metadata": {
    "collapsed": true
   },
   "outputs": [],
   "source": []
  }
 ],
 "metadata": {
  "kernelspec": {
   "display_name": "Python 3",
   "language": "python",
   "name": "python3"
  },
  "language_info": {
   "codemirror_mode": {
    "name": "ipython",
    "version": 3
   },
   "file_extension": ".py",
   "mimetype": "text/x-python",
   "name": "python",
   "nbconvert_exporter": "python",
   "pygments_lexer": "ipython3",
   "version": "3.5.1"
  }
 },
 "nbformat": 4,
 "nbformat_minor": 0
}
