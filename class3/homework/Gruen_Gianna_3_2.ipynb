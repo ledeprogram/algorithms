{
 "cells": [
  {
   "cell_type": "code",
   "execution_count": 3,
   "metadata": {
    "collapsed": true
   },
   "outputs": [],
   "source": [
    "import random"
   ]
  },
  {
   "cell_type": "markdown",
   "metadata": {},
   "source": [
    "# Search Algorithm"
   ]
  },
  {
   "cell_type": "code",
   "execution_count": 4,
   "metadata": {
    "collapsed": true
   },
   "outputs": [],
   "source": [
    "# Input: Number and a list of numbers that comes sorted \n",
    "#(in case it would not, just make the sort algorithm part of the below function)\n",
    "# Output: Index of the number that was put in"
   ]
  },
  {
   "cell_type": "code",
   "execution_count": 5,
   "metadata": {
    "collapsed": true
   },
   "outputs": [],
   "source": [
    "# pseudocode:\n",
    "# iterate over the input list\n",
    "# each time, compare the number for the searched one\n",
    "# if they are identical\n",
    "# check for the position of that element within the list\n",
    "# if there's no match\n",
    "# return 'not found'"
   ]
  },
  {
   "cell_type": "code",
   "execution_count": 44,
   "metadata": {
    "collapsed": true
   },
   "outputs": [],
   "source": [
    "def search_function6(chosen_number, input_list):\n",
    "#not necessary in this case, because list already sorted, but in case it would not be:\n",
    "    input_list.sort()\n",
    "    if chosen_number >= input_list[0] and chosen_number <= input_list[int(len(input_list)-1)]: \n",
    "        end_number = input_list[int(len(input_list)-1)]\n",
    "        start_number = input_list[0]\n",
    "        \n",
    "        sub = 1\n",
    "        while chosen_number < end_number:\n",
    "            sub = sub + 1\n",
    "            end_number = input_list[int(len(input_list)-sub)]\n",
    "            start_number = input_list[0+sub]\n",
    "        if end_number == chosen_number:\n",
    "            print(int(len(input_list))-(sub))\n",
    "    else:\n",
    "        print(\"Number not found in list\")"
   ]
  },
  {
   "cell_type": "code",
   "execution_count": null,
   "metadata": {
    "collapsed": true
   },
   "outputs": [],
   "source": [
    "# In a previous code version for the search function, I tested only lowering the end_number, without increasing the start_number at the same time. \n",
    "# However as the version that alters both variables at once performed better, timewise \n",
    "#(I guess, because the range to search through decreases quicker than if you only alter the upper boundary)\n",
    "# I chose the code with one more variable over that with one less."
   ]
  },
  {
   "cell_type": "markdown",
   "metadata": {},
   "source": [
    "# Testing runtime"
   ]
  },
  {
   "cell_type": "code",
   "execution_count": 51,
   "metadata": {
    "collapsed": true
   },
   "outputs": [],
   "source": [
    "# http://stackoverflow.com/questions/14608015/how-to-check-if-a-specific-integer-is-in-a-list\n",
    "\n",
    "# To not only compare the runtime of the code with differently-sized datasets, but also to a code that has uses\n",
    "# the index function I wrote this snippet to compare to as well\n",
    "def search_function_with_index(chosen_number2, input_list2):\n",
    "    if chosen_number2 in input_list2:\n",
    "        print(input_list2.index(chosen_number2))\n",
    "    else:\n",
    "        print(\"Number not within the list\")"
   ]
  },
  {
   "cell_type": "code",
   "execution_count": 52,
   "metadata": {
    "collapsed": false
   },
   "outputs": [],
   "source": [
    "test_list_10 = list(range(1,11))\n",
    "test_list_100 = list(range(1,101))\n",
    "test_list_1000 = list(range(1,1001))"
   ]
  },
  {
   "cell_type": "code",
   "execution_count": 54,
   "metadata": {
    "collapsed": false
   },
   "outputs": [
    {
     "name": "stdout",
     "output_type": "stream",
     "text": [
      "1\n",
      "CPU times: user 94 µs, sys: 1 µs, total: 95 µs\n",
      "Wall time: 106 µs\n",
      "1\n",
      "CPU times: user 57 µs, sys: 1 µs, total: 58 µs\n",
      "Wall time: 66 µs\n"
     ]
    }
   ],
   "source": [
    "%time search_function_with_index(2, test_list_10)\n",
    "%time search_function6(2, test_list_10)\n",
    "# I'm surprised that my self-written code runs faster (58 microseconds)\n",
    "# than the one that uses the pre-set index function (95 microseconds)!!!"
   ]
  },
  {
   "cell_type": "code",
   "execution_count": 65,
   "metadata": {
    "collapsed": false
   },
   "outputs": [
    {
     "name": "stdout",
     "output_type": "stream",
     "text": [
      "73\n",
      "CPU times: user 46 µs, sys: 1e+03 ns, total: 47 µs\n",
      "Wall time: 51 µs\n",
      "73\n",
      "CPU times: user 33 µs, sys: 0 ns, total: 33 µs\n",
      "Wall time: 36 µs\n"
     ]
    }
   ],
   "source": [
    "%time search_function_with_index(74, test_list_100)\n",
    "%time search_function6(74, test_list_100)\n",
    "# This time, I'm surprised that for both codes -- irrespective of being self-written or not -- the runtime is faster\n",
    "# than in the previous test, although the dataset is bigger this time. \n",
    "\n",
    "# I also tested by searching for 34, where my code was faster (mine:37 microseconds vs with_index: 48 microseconds)\n",
    "# And for 2, where my code performs worse than the other one (105 microseconds vs 60)\n",
    "# As well as for 91, where my code performs better (16 microseconds vs 33)\n",
    "\n",
    "# I\"m surprised about this inconsistency. I would have expected that having a number closer to the start (2) \n",
    "# or end (91) would lead in both cases to one code being more efficient than the other\n",
    "# rather than having one perform better on the lower and and one perform better on the upper end"
   ]
  },
  {
   "cell_type": "code",
   "execution_count": 68,
   "metadata": {
    "collapsed": false
   },
   "outputs": [
    {
     "name": "stdout",
     "output_type": "stream",
     "text": [
      "930\n",
      "CPU times: user 89 µs, sys: 1e+03 ns, total: 90 µs\n",
      "Wall time: 93 µs\n",
      "930\n",
      "CPU times: user 108 µs, sys: 10 µs, total: 118 µs\n",
      "Wall time: 134 µs\n"
     ]
    }
   ],
   "source": [
    "%time search_function_with_index(931, test_list_1000)\n",
    "%time search_function6(931, test_list_1000)\n",
    "\n",
    "# Test searching for 2: the with_index one runs faster (30 vs 410 microseconds)\n",
    "# Test searching for 501: the with_index one runs faster (49 vs 215 microseconds)\n",
    "# Test searching for 931: the with_index one runs faster (90 vs 118 microseconds)\n",
    "\n",
    "# It's makes sense that both codes need longer to run over a 1000 element dataset than \n",
    "# over the previous 100 element dataset. \n",
    "\n",
    "# Contrary to the runtime tests for the sorting function, it seems that for the my search function there's a\n",
    "# possible correlation between dataset-size and runtime, given the fact that the runtime for the 1000-element\n",
    "# dataset is roughly ten times longer than the runtime for the 100-element dataset.\n",
    "\n",
    "# However now I'm even more confused why in previous cases my code was more efficient than the one using the\n",
    "# preset index function"
   ]
  },
  {
   "cell_type": "code",
   "execution_count": null,
   "metadata": {
    "collapsed": true
   },
   "outputs": [],
   "source": []
  }
 ],
 "metadata": {
  "kernelspec": {
   "display_name": "Python 3",
   "language": "python",
   "name": "python3"
  },
  "language_info": {
   "codemirror_mode": {
    "name": "ipython",
    "version": 3
   },
   "file_extension": ".py",
   "mimetype": "text/x-python",
   "name": "python",
   "nbconvert_exporter": "python",
   "pygments_lexer": "ipython3",
   "version": "3.5.1"
  }
 },
 "nbformat": 4,
 "nbformat_minor": 0
}
