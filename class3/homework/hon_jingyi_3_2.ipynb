{
 "cells": [
  {
   "cell_type": "markdown",
   "metadata": {},
   "source": [
    "Question: Implement the search algorithm you came up with in pseudocode with Python\n",
    "Test the search algorithm with a list of 10,100,1000 random numbers (sorted with your sorting algorithm) and compare the result using the %time to time your code and submit your results in code comments"
   ]
  },
  {
   "cell_type": "markdown",
   "metadata": {},
   "source": [
    "My pseudocode:\n",
    "\n",
    "- We start with a sorted list and a number (a search term).\n",
    "- Loop over the list and see if the search term is equal to the item.\n",
    "- If it is, return the index. (Using a counter?  or len(list) - 1)\n",
    "- If the loop has not returned anything, return not found."
   ]
  },
  {
   "cell_type": "code",
   "execution_count": 67,
   "metadata": {
    "collapsed": true
   },
   "outputs": [],
   "source": [
    "import random\n",
    "from bisect import bisect"
   ]
  },
  {
   "cell_type": "code",
   "execution_count": 74,
   "metadata": {
    "collapsed": true
   },
   "outputs": [],
   "source": [
    "def look_for_index(search_term, list_of_numbers):\n",
    "    sorted_numbers = sorted(list_of_numbers)\n",
    "    #return sorted_numbers #Check if it does. Yes it does.\n",
    "    index = bisect(sorted_numbers, search_term) - 1\n",
    "    return index"
   ]
  },
  {
   "cell_type": "code",
   "execution_count": 75,
   "metadata": {
    "collapsed": false
   },
   "outputs": [
    {
     "data": {
      "text/plain": [
       "1"
      ]
     },
     "execution_count": 75,
     "metadata": {},
     "output_type": "execute_result"
    }
   ],
   "source": [
    "#Testing\n",
    "look_for_index(2, [1,5,2,4,3])"
   ]
  },
  {
   "cell_type": "code",
   "execution_count": 78,
   "metadata": {
    "collapsed": false
   },
   "outputs": [
    {
     "data": {
      "text/plain": [
       "0"
      ]
     },
     "execution_count": 78,
     "metadata": {},
     "output_type": "execute_result"
    }
   ],
   "source": [
    "#Testing again\n",
    "look_for_index(2823, [834728934, 2823, 967596, 2323434])\n",
    "\n",
    "#Yes it works"
   ]
  },
  {
   "cell_type": "code",
   "execution_count": 79,
   "metadata": {
    "collapsed": false
   },
   "outputs": [
    {
     "name": "stdout",
     "output_type": "stream",
     "text": [
      "CPU times: user 4 µs, sys: 1e+03 ns, total: 5 µs\n",
      "Wall time: 16.9 µs\n"
     ]
    }
   ],
   "source": [
    "list_of_ten_numbers = random.sample(range(1,1000000), 10)\n",
    "def look_for_index(search_term, list_of_ten_numbers):\n",
    "    sorted_ten_numbers = sorted(list_of_ten_numbers)\n",
    "    index = bisect(sorted_ten_numbers, search_term) - 1\n",
    "    return index\n",
    "%time"
   ]
  },
  {
   "cell_type": "code",
   "execution_count": 80,
   "metadata": {
    "collapsed": false
   },
   "outputs": [
    {
     "name": "stdout",
     "output_type": "stream",
     "text": [
      "CPU times: user 2 µs, sys: 1 µs, total: 3 µs\n",
      "Wall time: 6.91 µs\n"
     ]
    }
   ],
   "source": [
    "list_of_hundred_numbers = random.sample(range(1,1000000), 100)\n",
    "def look_for_index(search_term, list_of_hundred_numbers):\n",
    "    sorted_hundred_numbers = sorted(list_of_hundred_numbers)\n",
    "    index = bisect(sorted_hundred_numbers, search_term) - 1\n",
    "    return index\n",
    "%time"
   ]
  },
  {
   "cell_type": "code",
   "execution_count": 81,
   "metadata": {
    "collapsed": false
   },
   "outputs": [
    {
     "name": "stdout",
     "output_type": "stream",
     "text": [
      "CPU times: user 3 µs, sys: 0 ns, total: 3 µs\n",
      "Wall time: 6.91 µs\n"
     ]
    }
   ],
   "source": [
    "list_of_thou_numbers = random.sample(range(1,1000000), 1000)\n",
    "def look_for_index(search_term, list_of_thou_numbers):\n",
    "    sorted_thou_numbers = sorted(list_of_thou_numbers)\n",
    "    index = bisect(sorted_thou_numbers, search_term) - 1\n",
    "    return index\n",
    "%time"
   ]
  },
  {
   "cell_type": "code",
   "execution_count": null,
   "metadata": {
    "collapsed": true
   },
   "outputs": [],
   "source": []
  }
 ],
 "metadata": {
  "kernelspec": {
   "display_name": "Python 3",
   "language": "python",
   "name": "python3"
  },
  "language_info": {
   "codemirror_mode": {
    "name": "ipython",
    "version": 3
   },
   "file_extension": ".py",
   "mimetype": "text/x-python",
   "name": "python",
   "nbconvert_exporter": "python",
   "pygments_lexer": "ipython3",
   "version": "3.5.1"
  }
 },
 "nbformat": 4,
 "nbformat_minor": 0
}
