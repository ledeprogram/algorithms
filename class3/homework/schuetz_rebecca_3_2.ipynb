{
 "cells": [
  {
   "cell_type": "markdown",
   "metadata": {},
   "source": [
    "Input: a sorted list and a search term\n",
    "Operation: find the element in the list\n",
    "Output: the location of the item in the list or indicate if it's not there"
   ]
  },
  {
   "cell_type": "code",
   "execution_count": 2,
   "metadata": {
    "collapsed": true
   },
   "outputs": [],
   "source": [
    "import random"
   ]
  },
  {
   "cell_type": "code",
   "execution_count": 10,
   "metadata": {
    "collapsed": true
   },
   "outputs": [],
   "source": [
    "def find_value_index(sorted_list, search_term):\n",
    "    answer = []\n",
    "    \n",
    "    def check_repeats():\n",
    "            other_index = answer[0]\n",
    "            try:\n",
    "                while search_term == sorted_list[other_index + 1]:\n",
    "                    answer.append(other_index + 1)\n",
    "                    other_index += 1\n",
    "            except:\n",
    "                other_index = answer[0]\n",
    "                while search_term == sorted_list[other_index - 1]:\n",
    "                    answer.append(other_index - 1)\n",
    "                    other_index -= 1\n",
    "                return answer\n",
    "\n",
    "    start_index = 0\n",
    "    end_index = len(sorted_list) - 1\n",
    "    while end_index - start_index > 1:\n",
    "        middle_index = int((end_index - start_index) / 2 + start_index)\n",
    "        if search_term == sorted_list[start_index]:\n",
    "            answer.append(start_index)\n",
    "            check_repeats()\n",
    "            return answer\n",
    "        elif search_term == sorted_list[end_index]:\n",
    "            answer.append(end_index)\n",
    "            check_repeats()\n",
    "            return answer\n",
    "        elif search_term == sorted_list[middle_index]:\n",
    "            answer.append(middle_index)\n",
    "            check_repeats()\n",
    "            return answer\n",
    "        elif search_term < sorted_list[middle_index]:\n",
    "            end_index = middle_index\n",
    "        else:\n",
    "            start_index = middle_index\n",
    "    return 'Value not found'"
   ]
  },
  {
   "cell_type": "code",
   "execution_count": 17,
   "metadata": {
    "collapsed": false
   },
   "outputs": [],
   "source": [
    "list10 = []\n",
    "for x in range(10):\n",
    "    list10.append(random.randrange(100))\n",
    "list10.sort()"
   ]
  },
  {
   "cell_type": "code",
   "execution_count": 18,
   "metadata": {
    "collapsed": true
   },
   "outputs": [],
   "source": [
    "list100 = []\n",
    "for x in range(100):\n",
    "    list100.append(random.randrange(100))\n",
    "list100.sort()"
   ]
  },
  {
   "cell_type": "code",
   "execution_count": 19,
   "metadata": {
    "collapsed": true
   },
   "outputs": [],
   "source": [
    "list1000 = []\n",
    "for x in range(1000):\n",
    "    list1000.append(random.randrange(100))\n",
    "list1000.sort()"
   ]
  },
  {
   "cell_type": "code",
   "execution_count": 20,
   "metadata": {
    "collapsed": false
   },
   "outputs": [
    {
     "name": "stdout",
     "output_type": "stream",
     "text": [
      "CPU times: user 16 µs, sys: 0 ns, total: 16 µs\n",
      "Wall time: 21 µs\n"
     ]
    },
    {
     "data": {
      "text/plain": [
       "[3]"
      ]
     },
     "execution_count": 20,
     "metadata": {},
     "output_type": "execute_result"
    }
   ],
   "source": [
    "%time find_value_index(list10, 50)"
   ]
  },
  {
   "cell_type": "code",
   "execution_count": 21,
   "metadata": {
    "collapsed": false
   },
   "outputs": [
    {
     "name": "stdout",
     "output_type": "stream",
     "text": [
      "CPU times: user 16 µs, sys: 1 µs, total: 17 µs\n",
      "Wall time: 21.9 µs\n"
     ]
    },
    {
     "data": {
      "text/plain": [
       "[49]"
      ]
     },
     "execution_count": 21,
     "metadata": {},
     "output_type": "execute_result"
    }
   ],
   "source": [
    "%time find_value_index(list100, 50)"
   ]
  },
  {
   "cell_type": "code",
   "execution_count": 22,
   "metadata": {
    "collapsed": false
   },
   "outputs": [
    {
     "name": "stdout",
     "output_type": "stream",
     "text": [
      "CPU times: user 35 µs, sys: 1 µs, total: 36 µs\n",
      "Wall time: 39.8 µs\n"
     ]
    },
    {
     "data": {
      "text/plain": [
       "[514, 515, 516, 517, 518, 519, 520, 521, 522, 523, 524, 525]"
      ]
     },
     "execution_count": 22,
     "metadata": {},
     "output_type": "execute_result"
    }
   ],
   "source": [
    "%time find_value_index(list1000, 50)"
   ]
  },
  {
   "cell_type": "code",
   "execution_count": null,
   "metadata": {
    "collapsed": true
   },
   "outputs": [],
   "source": []
  }
 ],
 "metadata": {
  "kernelspec": {
   "display_name": "Python 3",
   "language": "python",
   "name": "python3"
  },
  "language_info": {
   "codemirror_mode": {
    "name": "ipython",
    "version": 3
   },
   "file_extension": ".py",
   "mimetype": "text/x-python",
   "name": "python",
   "nbconvert_exporter": "python",
   "pygments_lexer": "ipython3",
   "version": "3.5.1"
  }
 },
 "nbformat": 4,
 "nbformat_minor": 0
}
