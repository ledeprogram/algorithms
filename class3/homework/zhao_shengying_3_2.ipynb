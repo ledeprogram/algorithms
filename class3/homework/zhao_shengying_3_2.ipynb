{
 "cells": [
  {
   "cell_type": "markdown",
   "metadata": {},
   "source": [
    "Implement the search algorithm you came up with in pseudocode with Python\n",
    "Test the search algorithm with a list of 10,100,1000 random numbers (sorted with your sorting algorithm) and compare the result using the %time to time your code and submit your results in code comments"
   ]
  },
  {
   "cell_type": "markdown",
   "metadata": {
    "collapsed": true
   },
   "source": [
    "### In computer science, a search algorithm is an algorithm that retrieves information stored within some data structure. Data structures can include linked lists, arrays, search trees, hash tables, or various other storage methods. The appropriate search algorithm often depends on the data structure being searched"
   ]
  },
  {
   "cell_type": "code",
   "execution_count": null,
   "metadata": {
    "collapsed": true
   },
   "outputs": [],
   "source": [
    "#search algorithm\n",
    "#input: a sorted list and a search term\n",
    "#operation: find the element in that list\n",
    "#output: location of the item in the list or indicate if it's not there\n",
    "# the binary search will start by examing in the middle term"
   ]
  },
  {
   "cell_type": "code",
   "execution_count": 7,
   "metadata": {
    "collapsed": true
   },
   "outputs": [],
   "source": [
    "def binarysearch(sorted_list, item):\n",
    "    if len(sorted_list)==0:\n",
    "        return False\n",
    "    else:\n",
    "        start=0\n",
    "        end=len(sorted_list)-1\n",
    "        midpoint=(start+end)/2\n",
    "        midpoint = int(midpoint)\n",
    "        print(midpoint)\n",
    "        if sorted_list[midpoint]==item:\n",
    "            return True\n",
    "        else:\n",
    "            if item < sorted_list[midpoint]:\n",
    "                end=midpoint-1\n",
    "            else:\n",
    "                start=midpoint+1"
   ]
  },
  {
   "cell_type": "code",
   "execution_count": 8,
   "metadata": {
    "collapsed": false
   },
   "outputs": [
    {
     "name": "stdout",
     "output_type": "stream",
     "text": [
      "4\n",
      "True\n"
     ]
    }
   ],
   "source": [
    "sorted_list=[0, 1, 2, 8, 13, 17, 19, 32, 42]\n",
    "print(binarysearch(sorted_list,13))"
   ]
  },
  {
   "cell_type": "code",
   "execution_count": 14,
   "metadata": {
    "collapsed": true
   },
   "outputs": [],
   "source": [
    "import random "
   ]
  },
  {
   "cell_type": "code",
   "execution_count": 15,
   "metadata": {
    "collapsed": false
   },
   "outputs": [],
   "source": [
    "list10 = []\n",
    "for x in range(10):\n",
    "    list10.append(random.randrange(100))\n",
    "list10.sort()"
   ]
  },
  {
   "cell_type": "code",
   "execution_count": 16,
   "metadata": {
    "collapsed": true
   },
   "outputs": [],
   "source": [
    "list100 = []\n",
    "for x in range(100):\n",
    "    list100.append(random.randrange(100))\n",
    "list100.sort()"
   ]
  },
  {
   "cell_type": "code",
   "execution_count": 17,
   "metadata": {
    "collapsed": true
   },
   "outputs": [],
   "source": [
    "list1000 = []\n",
    "for x in range(1000):\n",
    "    list1000.append(random.randrange(100))\n",
    "list1000.sort()"
   ]
  },
  {
   "cell_type": "code",
   "execution_count": 19,
   "metadata": {
    "collapsed": false
   },
   "outputs": [
    {
     "name": "stdout",
     "output_type": "stream",
     "text": [
      "4\n",
      "CPU times: user 45 µs, sys: 0 ns, total: 45 µs\n",
      "Wall time: 50.1 µs\n"
     ]
    }
   ],
   "source": [
    "%time binarysearch(list10, 5)"
   ]
  },
  {
   "cell_type": "code",
   "execution_count": 20,
   "metadata": {
    "collapsed": false
   },
   "outputs": [
    {
     "name": "stdout",
     "output_type": "stream",
     "text": [
      "49\n",
      "CPU times: user 54 µs, sys: 11 µs, total: 65 µs\n",
      "Wall time: 69.9 µs\n"
     ]
    }
   ],
   "source": [
    "%time binarysearch(list100, 50)"
   ]
  },
  {
   "cell_type": "code",
   "execution_count": 21,
   "metadata": {
    "collapsed": false
   },
   "outputs": [
    {
     "name": "stdout",
     "output_type": "stream",
     "text": [
      "499\n",
      "CPU times: user 35 µs, sys: 0 ns, total: 35 µs\n",
      "Wall time: 37.9 µs\n"
     ]
    }
   ],
   "source": [
    "%time binarysearch(list1000, 500)"
   ]
  },
  {
   "cell_type": "code",
   "execution_count": null,
   "metadata": {
    "collapsed": true
   },
   "outputs": [],
   "source": []
  }
 ],
 "metadata": {
  "kernelspec": {
   "display_name": "Python 3",
   "language": "python",
   "name": "python3"
  },
  "language_info": {
   "codemirror_mode": {
    "name": "ipython",
    "version": 3
   },
   "file_extension": ".py",
   "mimetype": "text/x-python",
   "name": "python",
   "nbconvert_exporter": "python",
   "pygments_lexer": "ipython3",
   "version": "3.5.1"
  }
 },
 "nbformat": 4,
 "nbformat_minor": 0
}
