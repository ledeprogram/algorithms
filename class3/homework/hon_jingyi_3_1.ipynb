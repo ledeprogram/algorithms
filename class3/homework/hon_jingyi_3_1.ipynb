{
 "cells": [
  {
   "cell_type": "markdown",
   "metadata": {},
   "source": [
    "Question: \n",
    "Implement the sorting algorithm you came up with in pseudocode with Python\n",
    "Test the sorting algorithm with a list of 10, 100, 1000 random numbers and compare the result using the %time to time your code and submit your results in code comments"
   ]
  },
  {
   "cell_type": "markdown",
   "metadata": {},
   "source": [
    "My pseudocode:\n",
    "    1. Have a list of random numbers\n",
    "    2. Create a new empty list\n",
    "    3. Find the smallest number of the first list and put it in the empty list\n",
    "    4. Remove the smallest number from the old list\n",
    "    5. Do it again until we run out of numbers using a for loop"
   ]
  },
  {
   "cell_type": "code",
   "execution_count": 1,
   "metadata": {
    "collapsed": true
   },
   "outputs": [],
   "source": [
    "import random"
   ]
  },
  {
   "cell_type": "code",
   "execution_count": 30,
   "metadata": {
    "collapsed": false
   },
   "outputs": [
    {
     "name": "stdout",
     "output_type": "stream",
     "text": [
      "CPU times: user 3 µs, sys: 1 µs, total: 4 µs\n",
      "Wall time: 5.96 µs\n"
     ]
    }
   ],
   "source": [
    "list_of_ten_numbers = random.sample(range(1,1000000), 10)\n",
    "new_ten_list = []\n",
    "for item in range(len(list_of_ten_numbers)):\n",
    "    smallest_number = min(list_of_ten_numbers)\n",
    "    new_ten_list.append(smallest_number)\n",
    "    list_of_ten_numbers.remove(smallest_number)\n",
    "new_ten_list\n",
    "%time"
   ]
  },
  {
   "cell_type": "code",
   "execution_count": 29,
   "metadata": {
    "collapsed": false
   },
   "outputs": [
    {
     "name": "stdout",
     "output_type": "stream",
     "text": [
      "CPU times: user 3 µs, sys: 0 ns, total: 3 µs\n",
      "Wall time: 5.96 µs\n"
     ]
    }
   ],
   "source": [
    "list_of_hundred_numbers = random.sample(range(1,1000000), 100)\n",
    "new_hundred_list = []\n",
    "for item in range(len(list_of_hundred_numbers)):\n",
    "    smallest_number = min(list_of_hundred_numbers)\n",
    "    new_hundred_list.append(smallest_number)\n",
    "    list_of_hundred_numbers.remove(smallest_number)\n",
    "new_hundred_list\n",
    "%time"
   ]
  },
  {
   "cell_type": "code",
   "execution_count": 32,
   "metadata": {
    "collapsed": false
   },
   "outputs": [
    {
     "name": "stdout",
     "output_type": "stream",
     "text": [
      "CPU times: user 5 µs, sys: 1 µs, total: 6 µs\n",
      "Wall time: 11.9 µs\n"
     ]
    }
   ],
   "source": [
    "list_of_thou_numbers = random.sample(range(1,1000000), 1000)\n",
    "new_thou_list = []\n",
    "for item in range(len(list_of_thou_numbers)):\n",
    "    smallest_number = min(list_of_thou_numbers)\n",
    "    new_thou_list.append(smallest_number)\n",
    "    list_of_thou_numbers.remove(smallest_number)\n",
    "new_thou_list\n",
    "%time"
   ]
  },
  {
   "cell_type": "code",
   "execution_count": null,
   "metadata": {
    "collapsed": true
   },
   "outputs": [],
   "source": []
  }
 ],
 "metadata": {
  "kernelspec": {
   "display_name": "Python 3",
   "language": "python",
   "name": "python3"
  },
  "language_info": {
   "codemirror_mode": {
    "name": "ipython",
    "version": 3
   },
   "file_extension": ".py",
   "mimetype": "text/x-python",
   "name": "python",
   "nbconvert_exporter": "python",
   "pygments_lexer": "ipython3",
   "version": "3.5.1"
  }
 },
 "nbformat": 4,
 "nbformat_minor": 0
}
