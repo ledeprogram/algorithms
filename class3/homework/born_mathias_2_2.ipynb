{
 "cells": [
  {
   "cell_type": "markdown",
   "metadata": {},
   "source": [
    "# Assignment 2\n",
    "\n",
    "- Implement the search algorithm you came up with in pseudocode with Python\n",
    "- Test the search algorithm with a list of 10,100,1000 random numbers (sorted with your sorting algorithm) and compare the result using the %time to time your code and submit your results in code comments\n"
   ]
  },
  {
   "cell_type": "markdown",
   "metadata": {},
   "source": [
    "## Pseudocode\n",
    "\n",
    "Get a sorted list and a search term. \n",
    "\n",
    "Loop through the sorted list:\n",
    "\n",
    "    Compare the item to the search term. \n",
    "    \n",
    "    If the search term matches the item:\n",
    "    \n",
    "        return the couter value\n",
    "    \n",
    "    Add one to the counter"
   ]
  },
  {
   "cell_type": "code",
   "execution_count": 37,
   "metadata": {
    "collapsed": true
   },
   "outputs": [],
   "source": [
    "import random"
   ]
  },
  {
   "cell_type": "markdown",
   "metadata": {},
   "source": [
    "## The algorithm"
   ]
  },
  {
   "cell_type": "code",
   "execution_count": 112,
   "metadata": {
    "collapsed": false
   },
   "outputs": [],
   "source": [
    "# Simple brute force search engine\n",
    "\n",
    "def ownsearch(sorted_list, search_term):\n",
    "    counter = 0\n",
    "    for i in sorted_list:\n",
    "        if search_term == i:\n",
    "            return \"I found the term \" + str(search_term) + \" the first time at index \" + str(counter)\n",
    "        counter += 1"
   ]
  },
  {
   "cell_type": "code",
   "execution_count": 113,
   "metadata": {
    "collapsed": false
   },
   "outputs": [
    {
     "name": "stdout",
     "output_type": "stream",
     "text": [
      "I found the term Mater the first time at index 2\n"
     ]
    }
   ],
   "source": [
    "sorted_list = ['Alma', 'Annus', 'Mater', 'mirabilis']\n",
    "search_term = 'Mater'\n",
    "\n",
    "print(ownsearch(sorted_list,search_term))"
   ]
  },
  {
   "cell_type": "markdown",
   "metadata": {},
   "source": [
    "## Testing the algorithm"
   ]
  },
  {
   "cell_type": "code",
   "execution_count": 114,
   "metadata": {
    "collapsed": true
   },
   "outputs": [],
   "source": [
    "# The algorithm from the previous assignment\n",
    "\n",
    "def ownsort(int_list):\n",
    "    for i in range(len(int_list) - 1):\n",
    "        k = i\n",
    "        for j in range(i + 1, len(int_list)):\n",
    "            if int_list[j] < int_list[k]:\n",
    "                k = j\n",
    "        int_list[i], int_list[k] = int_list[k], int_list[i]\n",
    "    return int_list"
   ]
  },
  {
   "cell_type": "code",
   "execution_count": 115,
   "metadata": {
    "collapsed": false
   },
   "outputs": [],
   "source": [
    "# Generate Lists with Random numbers \n",
    "\n",
    "int_list_10 = []\n",
    "for i in range(0,10):\n",
    "    int_list_10.append(random.randint(1,100))\n",
    "\n",
    "int_list_100 = []\n",
    "for i in range(0,100):\n",
    "    int_list_100.append(random.randint(1,100))\n",
    "\n",
    "int_list_1000 = []\n",
    "for i in range(0,1000):\n",
    "    int_list_1000.append(random.randint(1,100))"
   ]
  },
  {
   "cell_type": "code",
   "execution_count": 116,
   "metadata": {
    "collapsed": false
   },
   "outputs": [
    {
     "name": "stdout",
     "output_type": "stream",
     "text": [
      "None\n",
      "CPU times: user 0 ns, sys: 0 ns, total: 0 ns\n",
      "Wall time: 5.01 µs\n"
     ]
    }
   ],
   "source": [
    "# Generating random int for search term\n",
    "\n",
    "search_term = random.randint(1,100)\n",
    "\n",
    "# Generating sorted list\n",
    "int_list_10 = ownsort(int_list_10)\n",
    "\n",
    "print(ownsearch(int_list_10, search_term))\n",
    "\n",
    "%time"
   ]
  },
  {
   "cell_type": "markdown",
   "metadata": {},
   "source": [
    "Result of %time:\n",
    "\n",
    "CPU times: user 0 ns, sys: 0 ns, total: 0 ns\n",
    "Wall time: 5.01 µs"
   ]
  },
  {
   "cell_type": "code",
   "execution_count": 117,
   "metadata": {
    "collapsed": false
   },
   "outputs": [
    {
     "name": "stdout",
     "output_type": "stream",
     "text": [
      "I found the term 36 the first time at index 35\n",
      "CPU times: user 0 ns, sys: 0 ns, total: 0 ns\n",
      "Wall time: 5.72 µs\n"
     ]
    }
   ],
   "source": [
    "# Generating random int for search term\n",
    "\n",
    "search_term = random.randint(1,100)\n",
    "\n",
    "# Generating sorted list\n",
    "int_list_100 = ownsort(int_list_100)\n",
    "\n",
    "print(ownsearch(int_list_100, search_term))\n",
    "\n",
    "%time"
   ]
  },
  {
   "cell_type": "code",
   "execution_count": null,
   "metadata": {
    "collapsed": true
   },
   "outputs": [],
   "source": [
    "Result of %time:\n",
    "\n",
    "CPU times: user 0 ns, sys: 0 ns, total: 0 ns\n",
    "Wall time: 5.72 µs"
   ]
  },
  {
   "cell_type": "code",
   "execution_count": 118,
   "metadata": {
    "collapsed": false
   },
   "outputs": [
    {
     "name": "stdout",
     "output_type": "stream",
     "text": [
      "I found the term 11 the first time at index 105\n",
      "CPU times: user 0 ns, sys: 0 ns, total: 0 ns\n",
      "Wall time: 5.01 µs\n"
     ]
    }
   ],
   "source": [
    "# Generating random int for search term\n",
    "\n",
    "search_term = random.randint(1,100)\n",
    "\n",
    "# Generating sorted list\n",
    "int_list_1000 = ownsort(int_list_1000)\n",
    "\n",
    "print(ownsearch(int_list_1000, search_term))\n",
    "\n",
    "%time"
   ]
  },
  {
   "cell_type": "code",
   "execution_count": null,
   "metadata": {
    "collapsed": true
   },
   "outputs": [],
   "source": [
    "CPU times: user 0 ns, sys: 0 ns, total: 0 ns\n",
    "Wall time: 5.01 µs"
   ]
  }
 ],
 "metadata": {
  "kernelspec": {
   "display_name": "Python 3",
   "language": "python",
   "name": "python3"
  },
  "language_info": {
   "codemirror_mode": {
    "name": "ipython",
    "version": 3
   },
   "file_extension": ".py",
   "mimetype": "text/x-python",
   "name": "python",
   "nbconvert_exporter": "python",
   "pygments_lexer": "ipython3",
   "version": "3.5.2"
  }
 },
 "nbformat": 4,
 "nbformat_minor": 0
}
