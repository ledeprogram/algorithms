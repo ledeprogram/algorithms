{
 "cells": [
  {
   "cell_type": "markdown",
   "metadata": {},
   "source": [
    "## Asignment 1\n",
    "* Implement the sorting algorithm you came up with in pseudocode with Python\n",
    "* Test the sorting algorithm with a list of 10, 100, 1000 random numbers and compare the result using the %time to time your code and submit your results in code comments"
   ]
  },
  {
   "cell_type": "code",
   "execution_count": 1,
   "metadata": {
    "collapsed": true
   },
   "outputs": [],
   "source": [
    "## pseudocode\n",
    "# for number in a list:\n",
    "#     put the first number of the list into the new list\n",
    "#     for other numbers in the list\n",
    "#     compare it with every number in the new list,get it's index number\n",
    "#     if it's larger than any number in the new list, put it on the index+1 position"
   ]
  },
  {
   "cell_type": "code",
   "execution_count": 87,
   "metadata": {
    "collapsed": false
   },
   "outputs": [],
   "source": [
    "def get_sort(l):\n",
    "    newlist = []\n",
    "    newlist.append(l[0])\n",
    "    for i in range(1,len(l)):\n",
    "        added = False\n",
    "        for m in range(len(newlist)):\n",
    "            if l[i] > newlist[m]:\n",
    "                added = False\n",
    "            if added == False:\n",
    "                if l[i] <= newlist[m]:\n",
    "                    newlist.insert(m,l[i])\n",
    "                    added = True \n",
    "        if added == False:\n",
    "            newlist.append(l[i])\n",
    "    return newlist"
   ]
  },
  {
   "cell_type": "code",
   "execution_count": 89,
   "metadata": {
    "collapsed": false
   },
   "outputs": [
    {
     "name": "stdout",
     "output_type": "stream",
     "text": [
      "CPU times: user 25 µs, sys: 0 ns, total: 25 µs\n",
      "Wall time: 28.1 µs\n"
     ]
    },
    {
     "data": {
      "text/plain": [
       "[1, 3, 4, 5, 5, 8, 14, 22, 23, 50]"
      ]
     },
     "execution_count": 89,
     "metadata": {},
     "output_type": "execute_result"
    }
   ],
   "source": [
    "test10 = [4,5,8,1,3,5,22,14,50,23]\n",
    "%time get_sort(test10)\n",
    "# CPU times: user 25 µs, sys: 0 ns, total: 25 µs\n",
    "# Wall time: 28.1 µs\n",
    "# Out[79]:\n",
    "# [1, 3, 4, 5, 5, 8, 14, 22, 23, 50]"
   ]
  },
  {
   "cell_type": "code",
   "execution_count": 80,
   "metadata": {
    "collapsed": true
   },
   "outputs": [],
   "source": [
    "import random"
   ]
  },
  {
   "cell_type": "code",
   "execution_count": 85,
   "metadata": {
    "collapsed": false
   },
   "outputs": [],
   "source": [
    "# test100 = random.sample(range(1, 1000), 100)\n",
    "# %time get_sort(test100)\n",
    "# CPU times: user 997 µs, sys: 20 µs, total: 1.02 ms\n",
    "# Wall time: 1.05 ms"
   ]
  },
  {
   "cell_type": "code",
   "execution_count": 86,
   "metadata": {
    "collapsed": false
   },
   "outputs": [],
   "source": [
    "# test1000 = random.sample(range(1, 10000), 1000)\n",
    "# %time get_sort(test1000)\n",
    "# CPU times: user 128 ms, sys: 3.59 ms, total: 131 ms\n",
    "# Wall time: 170 ms"
   ]
  },
  {
   "cell_type": "code",
   "execution_count": 94,
   "metadata": {
    "collapsed": false
   },
   "outputs": [],
   "source": [
    "sorted10 = get_sort(test10)\n",
    "sorted100 = get_sort(test100)\n",
    "sorted1000 = get_sort(test1000)"
   ]
  },
  {
   "cell_type": "markdown",
   "metadata": {
    "collapsed": true
   },
   "source": [
    "## Assignment 2\n",
    "* Implement the search algorithm you came up with in pseudocode with Python\n",
    "* Test the search algorithm with a list of 10,100,1000 random numbers (sorted with your sorting algorithm) and compare the result using the %time to time your code and submit your results in code comments"
   ]
  },
  {
   "cell_type": "code",
   "execution_count": null,
   "metadata": {
    "collapsed": true
   },
   "outputs": [],
   "source": [
    "## pseudocode\n",
    "# input a sorted list and a search term\n",
    "#     get the length of the list\n",
    "#     for each number in the range of length\n",
    "#         if the index number of the list equals to the search term\n",
    "#             print index\n",
    "#             something = True\n",
    "#         else \n",
    "#             something = False\n",
    "#     if False\n",
    "#         print the item is not found"
   ]
  },
  {
   "cell_type": "code",
   "execution_count": 121,
   "metadata": {
    "collapsed": false
   },
   "outputs": [],
   "source": [
    "def check_num(l,n):\n",
    "    for i in range(len(l)):\n",
    "#         print(l[i])\n",
    "        found = False\n",
    "        if l[i] == n:\n",
    "            found = True\n",
    "            return \"The index of the number in the list is \" + str(i)\n",
    "    if not found:\n",
    "        return \"The number is not in the list.\""
   ]
  },
  {
   "cell_type": "code",
   "execution_count": 122,
   "metadata": {
    "collapsed": false
   },
   "outputs": [
    {
     "name": "stdout",
     "output_type": "stream",
     "text": [
      "CPU times: user 7 µs, sys: 0 ns, total: 7 µs\n",
      "Wall time: 11.2 µs\n"
     ]
    },
    {
     "data": {
      "text/plain": [
       "'The index of the number in the list is 2'"
      ]
     },
     "execution_count": 122,
     "metadata": {},
     "output_type": "execute_result"
    }
   ],
   "source": [
    "%time check_num(sorted10,4)\n",
    "# CPU times: user 7 µs, sys: 0 ns, total: 7 µs\n",
    "# Wall time: 11.2 µs\n",
    "# Out[122]:\n",
    "# 'The index of the number in the list is 2'"
   ]
  },
  {
   "cell_type": "code",
   "execution_count": 123,
   "metadata": {
    "collapsed": false
   },
   "outputs": [
    {
     "name": "stdout",
     "output_type": "stream",
     "text": [
      "CPU times: user 20 µs, sys: 0 ns, total: 20 µs\n",
      "Wall time: 23.1 µs\n"
     ]
    },
    {
     "data": {
      "text/plain": [
       "'The number is not in the list.'"
      ]
     },
     "execution_count": 123,
     "metadata": {},
     "output_type": "execute_result"
    }
   ],
   "source": [
    "%time check_num(sorted100,4)\n",
    "# CPU times: user 20 µs, sys: 0 ns, total: 20 µs\n",
    "# Wall time: 23.1 µs\n",
    "# Out[123]:\n",
    "# 'The number is not in the list.'"
   ]
  },
  {
   "cell_type": "code",
   "execution_count": 127,
   "metadata": {
    "collapsed": false
   },
   "outputs": [
    {
     "name": "stdout",
     "output_type": "stream",
     "text": [
      "CPU times: user 120 µs, sys: 0 ns, total: 120 µs\n",
      "Wall time: 123 µs\n"
     ]
    },
    {
     "data": {
      "text/plain": [
       "'The index of the number in the list is 998'"
      ]
     },
     "execution_count": 127,
     "metadata": {},
     "output_type": "execute_result"
    }
   ],
   "source": [
    "%time check_num(sorted1000,9987)\n",
    "# CPU times: user 120 µs, sys: 0 ns, total: 120 µs\n",
    "# Wall time: 123 µs\n",
    "# Out[127]:\n",
    "# 'The index of the number in the list is 998'"
   ]
  },
  {
   "cell_type": "code",
   "execution_count": null,
   "metadata": {
    "collapsed": true
   },
   "outputs": [],
   "source": []
  }
 ],
 "metadata": {
  "kernelspec": {
   "display_name": "Python 3",
   "language": "python",
   "name": "python3"
  },
  "language_info": {
   "codemirror_mode": {
    "name": "ipython",
    "version": 3
   },
   "file_extension": ".py",
   "mimetype": "text/x-python",
   "name": "python",
   "nbconvert_exporter": "python",
   "pygments_lexer": "ipython3",
   "version": "3.5.1"
  }
 },
 "nbformat": 4,
 "nbformat_minor": 0
}
