{
 "cells": [
  {
   "cell_type": "markdown",
   "metadata": {},
   "source": [
    "# Sort function\n",
    "\n",
    "* Input: a list of values\n",
    "* Operation: sort the list\n",
    "* Output: a sorted list of values"
   ]
  },
  {
   "cell_type": "code",
   "execution_count": 1,
   "metadata": {
    "collapsed": false
   },
   "outputs": [
    {
     "name": "stdout",
     "output_type": "stream",
     "text": [
      "\n",
      "Running test with a list of 10 items.\n",
      "CPU times: user 17 µs, sys: 1 µs, total: 18 µs\n",
      "Wall time: 21 µs\n",
      "\n",
      "Running test with a list of 100 items.\n",
      "CPU times: user 603 µs, sys: 1 µs, total: 604 µs\n",
      "Wall time: 608 µs\n",
      "\n",
      "Running test with a list of 1000 items.\n",
      "CPU times: user 8.1 ms, sys: 109 µs, total: 8.21 ms\n",
      "Wall time: 8.13 ms\n"
     ]
    }
   ],
   "source": [
    "'''\n",
    "Running test with a list of 10 items.\n",
    "CPU times: user 17 µs, sys: 0 ns, total: 17 µs\n",
    "Wall time: 20 µs\n",
    "\n",
    "Running test with a list of 100 items.\n",
    "CPU times: user 388 µs, sys: 1 µs, total: 389 µs\n",
    "Wall time: 391 µs\n",
    "\n",
    "Running test with a list of 1000 items.\n",
    "CPU times: user 6.21 ms, sys: 167 µs, total: 6.37 ms\n",
    "Wall time: 6.31 ms\n",
    "'''\n",
    "\n",
    "from numpy import random as rd\n",
    "\n",
    "def sort_list(list_to_sort):\n",
    "    if not isinstance(list_to_sort, list): # Not a list error\n",
    "        raise NameError('Error: arg shouls be a list.')\n",
    "    if len(list_to_sort) < 2: # empty or 1-element list\n",
    "        return list_to_sort\n",
    "    new_list = []\n",
    "    new_list.append(list_to_sort[0])\n",
    "    \n",
    "    for i in list_to_sort[1:]:\n",
    "        if i > new_list[-1]: # if biggest number, append it and continue\n",
    "            new_list.append(i)\n",
    "            continue\n",
    "            \n",
    "        elif len(new_list) < 10: # new list (still) small, doesn't need optimisation\n",
    "            for j in range(0, len(new_list)):\n",
    "                if i <= new_list[j]: # if smaller or equal than element at index j, insert before j\n",
    "                    new_list.insert(j, i)\n",
    "                    break\n",
    "                    \n",
    "        else: # search for the middle, ...\n",
    "            left_boundary = 0\n",
    "            right_boundary = len(new_list)-1\n",
    "            positionFound = False\n",
    "            while positionFound == False:\n",
    "                # mid ~= median of new list\n",
    "                mid = int(left_boundary + (right_boundary - left_boundary) / 2)\n",
    "\n",
    "                if right_boundary - left_boundary < 2:\n",
    "                    new_list.insert(right_boundary, i)\n",
    "                    positionFound = True\n",
    "                    break\n",
    "                elif i == new_list[mid]:\n",
    "                    new_list.insert(mid, i)\n",
    "                    positionFound = True\n",
    "                    break\n",
    "\n",
    "                elif i > new_list[mid]: # => narrow to the right\n",
    "                    left_boundary = mid\n",
    "                elif i < new_list[mid]: # => narrow to the left\n",
    "                    right_boundary = mid                    \n",
    "\n",
    "    return new_list\n",
    "    \n",
    "\n",
    "sample_lists = []\n",
    "ranges = [10, 100, 1000]\n",
    "\n",
    "for r in ranges:\n",
    "    sample_lists.append((rd.rand(1, r)*100)[0].tolist())\n",
    "\n",
    "for sample in sample_lists:\n",
    "    print(\"\\nRunning test with a list of\", len(sample), \"items.\")\n",
    "    %time sort_list(sample)"
   ]
  },
  {
   "cell_type": "code",
   "execution_count": 1,
   "metadata": {
    "collapsed": false
   },
   "outputs": [
    {
     "name": "stdout",
     "output_type": "stream",
     "text": [
      "\n",
      "Running test with a list of 10 items.\n",
      "CPU times: user 17 µs, sys: 0 ns, total: 17 µs\n",
      "Wall time: 20 µs\n",
      "\n",
      "Running test with a list of 100 items.\n",
      "CPU times: user 1.54 ms, sys: 1 µs, total: 1.54 ms\n",
      "Wall time: 1.54 ms\n",
      "\n",
      "Running test with a list of 1000 items.\n",
      "CPU times: user 182 ms, sys: 239 µs, total: 182 ms\n",
      "Wall time: 182 ms\n"
     ]
    }
   ],
   "source": [
    "# really slow sort function, bad for long lists - just to give a try\n",
    "\n",
    "'''\n",
    "Running test with a list of 10 items.\n",
    "CPU times: user 17 µs, sys: 0 ns, total: 17 µs\n",
    "Wall time: 20 µs\n",
    "\n",
    "Running test with a list of 100 items.\n",
    "CPU times: user 1.54 ms, sys: 1 µs, total: 1.54 ms\n",
    "Wall time: 1.54 ms\n",
    "\n",
    "Running test with a list of 1000 items.\n",
    "CPU times: user 182 ms, sys: 239 µs, total: 182 ms\n",
    "Wall time: 182 ms\n",
    "'''\n",
    "\n",
    "\n",
    "from numpy import random as rd\n",
    "\n",
    "def sort_list(list_to_sort):\n",
    "    sort_completed = False\n",
    "    while sort_completed == False:\n",
    "        sort_completed = True\n",
    "        for idx in range(0, len(list_to_sort)-1):\n",
    "            if list_to_sort[idx] > list_to_sort[idx+1]:\n",
    "                sort_completed = False\n",
    "                list_to_sort[idx], list_to_sort[idx+1] = list_to_sort[idx+1], list_to_sort[idx]\n",
    "\n",
    "sample_lists = []\n",
    "ranges = [10, 100, 1000]\n",
    "\n",
    "for r in ranges:\n",
    "    sample_lists.append((rd.rand(1, r)*100)[0].tolist())\n",
    "\n",
    "for sample in sample_lists:\n",
    "    print(\"\\nRunning test with a list of\", len(sample), \"items.\")\n",
    "    %time sort_list(sample)\n",
    "\n"
   ]
  }
 ],
 "metadata": {
  "kernelspec": {
   "display_name": "Python 3",
   "language": "python",
   "name": "python3"
  },
  "language_info": {
   "codemirror_mode": {
    "name": "ipython",
    "version": 3
   },
   "file_extension": ".py",
   "mimetype": "text/x-python",
   "name": "python",
   "nbconvert_exporter": "python",
   "pygments_lexer": "ipython3",
   "version": "3.5.1"
  },
  "widgets": {
   "state": {},
   "version": "1.1.2"
  }
 },
 "nbformat": 4,
 "nbformat_minor": 0
}
