{
 "cells": [
  {
   "cell_type": "code",
   "execution_count": 115,
   "metadata": {
    "collapsed": true
   },
   "outputs": [],
   "source": [
    "# Pseudocode:\n",
    "# Assume index = 0\n",
    "# for number in the input_list\n",
    "# count the number\n",
    "# if given number is in the list\n",
    "# return the index = n-1, because index starts from 0\n",
    "# if it is not in the list\n",
    "# return sorry"
   ]
  },
  {
   "cell_type": "code",
   "execution_count": 116,
   "metadata": {
    "collapsed": false
   },
   "outputs": [],
   "source": [
    "def to_index(input_list,a):\n",
    "    n = 0\n",
    "    for item in input_list:\n",
    "        n = n + 1\n",
    "        if item == a:\n",
    "            index = n - 1 \n",
    "            return \"The index of given number is:\", str(index)\n",
    "    else:\n",
    "            return \"Sorry, can't find the numer.\""
   ]
  },
  {
   "cell_type": "code",
   "execution_count": 118,
   "metadata": {
    "collapsed": true
   },
   "outputs": [],
   "source": [
    "import random"
   ]
  },
  {
   "cell_type": "code",
   "execution_count": 113,
   "metadata": {
    "collapsed": false
   },
   "outputs": [],
   "source": [
    "test_10 = random.sample(range(1,1000), 10)\n",
    "# %time to_index(test_10,5)\n",
    "# CPU times: user 6 µs, sys: 1 µs, total: 7 µs\n",
    "# Wall time: 11 µs\n",
    "# Out[12]:\"Sorry, can't find the numer.\""
   ]
  },
  {
   "cell_type": "code",
   "execution_count": 103,
   "metadata": {
    "collapsed": false
   },
   "outputs": [],
   "source": [
    "test_100 = random.sample(range(1,1000), 100)\n",
    "# %time to_index(test_100, 12)\n",
    "# CPU times: user 8 µs, sys: 1 µs, total: 9 µs\n",
    "# Wall time: 11 µs\n",
    "# Out[102]:('The index of given number is:', '19')"
   ]
  },
  {
   "cell_type": "code",
   "execution_count": 110,
   "metadata": {
    "collapsed": false
   },
   "outputs": [],
   "source": [
    "test_1000 = random.sample(range(1,10000), 1000)\n",
    "# %time to_index(test_1000, 23)\n",
    "# CPU times: user 120 µs, sys: 1 µs, total: 121 µs\n",
    "# Wall time: 124 µs\n",
    "# Out[109]: \"Sorry, can't find the numer.\""
   ]
  }
 ],
 "metadata": {
  "kernelspec": {
   "display_name": "Python 3",
   "language": "python",
   "name": "python3"
  },
  "language_info": {
   "codemirror_mode": {
    "name": "ipython",
    "version": 3
   },
   "file_extension": ".py",
   "mimetype": "text/x-python",
   "name": "python",
   "nbconvert_exporter": "python",
   "pygments_lexer": "ipython3",
   "version": "3.5.1"
  }
 },
 "nbformat": 4,
 "nbformat_minor": 0
}
