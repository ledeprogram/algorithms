{
 "cells": [
  {
   "cell_type": "markdown",
   "metadata": {},
   "source": [
    "# Search function"
   ]
  },
  {
   "cell_type": "code",
   "execution_count": null,
   "metadata": {
    "collapsed": true
   },
   "outputs": [],
   "source": [
    "#Search Pseudo-Code\n",
    "\n",
    "#inputs list and value\n",
    "#set counter to 0\n",
    "#iterate through the list of numbers\n",
    "#start a counter, while iterating through the list\n",
    "#if the value is in the list, return the index generated with the counter\n",
    "#else it is not in the list, return thast the value is not in the list\n",
    "#if it is, return the current index"
   ]
  },
  {
   "cell_type": "code",
   "execution_count": null,
   "metadata": {
    "collapsed": true
   },
   "outputs": [],
   "source": [
    "#or: binary search"
   ]
  },
  {
   "cell_type": "code",
   "execution_count": 65,
   "metadata": {
    "collapsed": false
   },
   "outputs": [],
   "source": [
    "def finding(lst, value):\n",
    "    index = 0\n",
    "    for item in lst:\n",
    "        if value == lst[index]:\n",
    "            print(\"The value is in the list, and it's index is: \" + str(index) + '.')\n",
    "            #break\n",
    "        if value not in lst:\n",
    "            print(\"The value is not in the list.\")\n",
    "            break\n",
    "        else:\n",
    "            index += 1"
   ]
  },
  {
   "cell_type": "code",
   "execution_count": 66,
   "metadata": {
    "collapsed": false
   },
   "outputs": [],
   "source": [
    "import random\n",
    "value1000 = random.randint(0,1000)"
   ]
  },
  {
   "cell_type": "code",
   "execution_count": 70,
   "metadata": {
    "collapsed": false
   },
   "outputs": [
    {
     "name": "stdout",
     "output_type": "stream",
     "text": [
      "CPU times: user 2 µs, sys: 1 µs, total: 3 µs\n",
      "Wall time: 5.01 µs\n",
      "The value is not in the list.\n"
     ]
    }
   ],
   "source": [
    "%time\n",
    "lst10 = [random.randint(0,1000) for r in range(10)]\n",
    "finding(lst, value1000)\n"
   ]
  },
  {
   "cell_type": "code",
   "execution_count": 71,
   "metadata": {
    "collapsed": false
   },
   "outputs": [
    {
     "name": "stdout",
     "output_type": "stream",
     "text": [
      "CPU times: user 2 µs, sys: 0 ns, total: 2 µs\n",
      "Wall time: 5.01 µs\n",
      "The value is not in the list.\n"
     ]
    }
   ],
   "source": [
    "%time\n",
    "lst100 = [random.randint(0,1000) for r in range(100)]\n",
    "finding(lst100, value1000)"
   ]
  },
  {
   "cell_type": "code",
   "execution_count": 72,
   "metadata": {
    "collapsed": false
   },
   "outputs": [
    {
     "name": "stdout",
     "output_type": "stream",
     "text": [
      "CPU times: user 2 µs, sys: 1e+03 ns, total: 3 µs\n",
      "Wall time: 7.15 µs\n",
      "The value is in the list, and it's index is: 452.\n"
     ]
    }
   ],
   "source": [
    "%time\n",
    "lst1000 = [random.randint(0,1000) for r in range(1000)]\n",
    "finding(lst1000, value1000)"
   ]
  }
 ],
 "metadata": {
  "kernelspec": {
   "display_name": "Python 3",
   "language": "python",
   "name": "python3"
  },
  "language_info": {
   "codemirror_mode": {
    "name": "ipython",
    "version": 3
   },
   "file_extension": ".py",
   "mimetype": "text/x-python",
   "name": "python",
   "nbconvert_exporter": "python",
   "pygments_lexer": "ipython3",
   "version": "3.5.1"
  }
 },
 "nbformat": 4,
 "nbformat_minor": 0
}
