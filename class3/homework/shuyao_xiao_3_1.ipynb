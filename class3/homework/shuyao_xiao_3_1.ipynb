{
 "cells": [
  {
   "cell_type": "markdown",
   "metadata": {},
   "source": [
    "## Here is the first way to sort:"
   ]
  },
  {
   "cell_type": "code",
   "execution_count": 133,
   "metadata": {
    "collapsed": false
   },
   "outputs": [],
   "source": [
    "# Pseudocode:\n",
    "# Creat a empty sort_list, \n",
    "# Assume the first number of the input list is the minimum,\n",
    "# Compare the number with the \"minimum\", \n",
    "# If number less than the minimum, it becomes the new minimum\n",
    "# Append the \"new minimum\" in the sort_list and remove it from input_list at the same time\n",
    "# Repeat it till there is none in the original list. \n",
    "# Which means all the numbers have been added into sort_list one by one as \"new minimum\".\n",
    "# The while loop stops, return the new sorted list.\n",
    "\n",
    "def to_sort(input_list):\n",
    "    sort_list = []\n",
    "    while input_list:\n",
    "        minimum = input_list[0]\n",
    "        for number in input_list:\n",
    "            if number < minimum:\n",
    "                minimum = number\n",
    "        sort_list.append(minimum)\n",
    "        input_list.remove(minimum)\n",
    "    return sort_list"
   ]
  },
  {
   "cell_type": "code",
   "execution_count": 177,
   "metadata": {
    "collapsed": false
   },
   "outputs": [
    {
     "name": "stdout",
     "output_type": "stream",
     "text": [
      "CPU times: user 16 µs, sys: 0 ns, total: 16 µs\n",
      "Wall time: 18.8 µs\n"
     ]
    },
    {
     "data": {
      "text/plain": [
       "[-109, -10, 0, 4, 5, 15, 22, 31, 222, 3123]"
      ]
     },
     "execution_count": 177,
     "metadata": {},
     "output_type": "execute_result"
    }
   ],
   "source": [
    "# Test 10\n",
    "a = [5,222,4,31,3123,-109,22,15,-10,0]\n",
    "%time to_sort(a)"
   ]
  },
  {
   "cell_type": "code",
   "execution_count": 168,
   "metadata": {
    "collapsed": true
   },
   "outputs": [],
   "source": [
    "import random"
   ]
  },
  {
   "cell_type": "code",
   "execution_count": 179,
   "metadata": {
    "collapsed": false
   },
   "outputs": [],
   "source": [
    "# Test 100\n",
    "test_100 = random.sample(range(1,10000), 100)\n",
    "#%time to_sort(test_100)\n",
    "#CPU times: user 477 µs, sys: 0 ns, total: 477 µs\n",
    "#Wall time: 482 µs"
   ]
  },
  {
   "cell_type": "code",
   "execution_count": 182,
   "metadata": {
    "collapsed": false
   },
   "outputs": [],
   "source": [
    "# Test 1000\n",
    "test_1000 = random.sample(range(1,100000), 1000)\n",
    "#%time to_sort(test_1000)\n",
    "#CPU times: user 38.2 ms, sys: 1.06 ms, total: 39.3 ms\n",
    "#Wall time: 39 ms"
   ]
  },
  {
   "cell_type": "markdown",
   "metadata": {},
   "source": [
    "## Here is the second way to sort:"
   ]
  },
  {
   "cell_type": "code",
   "execution_count": 189,
   "metadata": {
    "collapsed": false
   },
   "outputs": [],
   "source": [
    "# Pseudocode:\n",
    "# Old_list is the unsorted list \n",
    "# For index in the range(len(old_list))\n",
    "# Start from the first number, compare it with the next one.\n",
    "# If the left one is greater than the right one，exchange them. \n",
    "# Else, nothing changes, go back and continue\n",
    "# Repeat it till the minimum becomes the first number.\n",
    "\n",
    "def waytwo(old_list):\n",
    "    for i in range(len(old_list)):\n",
    "        for j in range(len(old_list)-1): \n",
    "            if old_list[j] > old_list[j+1]:\n",
    "                old_list[j+1], old_list[j] = old_list[j], old_list[j+1]\n",
    "    return old_list"
   ]
  },
  {
   "cell_type": "code",
   "execution_count": 190,
   "metadata": {
    "collapsed": false
   },
   "outputs": [
    {
     "name": "stdout",
     "output_type": "stream",
     "text": [
      "CPU times: user 32 µs, sys: 0 ns, total: 32 µs\n",
      "Wall time: 34.8 µs\n"
     ]
    },
    {
     "data": {
      "text/plain": [
       "[-109, -10, 0, 4, 5, 15, 22, 31, 222, 3123]"
      ]
     },
     "execution_count": 190,
     "metadata": {},
     "output_type": "execute_result"
    }
   ],
   "source": [
    "# Test 10\n",
    "a = [5,222,4,31,3123,-109,22,15,-10,0]\n",
    "%time waytwo(a)"
   ]
  },
  {
   "cell_type": "code",
   "execution_count": 185,
   "metadata": {
    "collapsed": false
   },
   "outputs": [],
   "source": [
    "# Test 100\n",
    "test2_100 = random.sample(range(1,10000), 100)\n",
    "#%time to_sort(test2_100)\n",
    "#CPU times: user 391 µs, sys: 0 ns, total: 391 µs\n",
    "#Wall time: 395 µs"
   ]
  },
  {
   "cell_type": "code",
   "execution_count": 188,
   "metadata": {
    "collapsed": false
   },
   "outputs": [],
   "source": [
    "# Test 1000\n",
    "test2_1000 = random.sample(range(1,100000), 1000)\n",
    "#%time to_sort(test2_1000)\n",
    "#CPU times: user 43.1 ms, sys: 832 µs, total: 43.9 ms\n",
    "#Wall time: 43.5 ms"
   ]
  },
  {
   "cell_type": "code",
   "execution_count": null,
   "metadata": {
    "collapsed": true
   },
   "outputs": [],
   "source": []
  }
 ],
 "metadata": {
  "kernelspec": {
   "display_name": "Python 3",
   "language": "python",
   "name": "python3"
  },
  "language_info": {
   "codemirror_mode": {
    "name": "ipython",
    "version": 3
   },
   "file_extension": ".py",
   "mimetype": "text/x-python",
   "name": "python",
   "nbconvert_exporter": "python",
   "pygments_lexer": "ipython3",
   "version": "3.5.1"
  }
 },
 "nbformat": 4,
 "nbformat_minor": 0
}
