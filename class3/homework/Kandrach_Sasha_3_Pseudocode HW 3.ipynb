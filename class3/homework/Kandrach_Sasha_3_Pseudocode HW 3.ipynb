{
 "cells": [
  {
   "cell_type": "code",
   "execution_count": 2,
   "metadata": {
    "collapsed": false
   },
   "outputs": [
    {
     "name": "stdout",
     "output_type": "stream",
     "text": [
      "[31, 88, 12, 67, 96, 13, 48, 18, 76, 97]\n"
     ]
    }
   ],
   "source": [
    "import random #import random data set of numbers \n",
    "random_nums=[] #create variable name for random data set of numbers\n",
    "\n",
    "for i in range (10): #set up for loop for random set of numbers\n",
    "\n",
    "    random_nums.append(random.randrange(1,101,1)) #join random numbers with range 1-101\n",
    "\n",
    "print (random_nums) #print list of random numbers"
   ]
  },
  {
   "cell_type": "code",
   "execution_count": 4,
   "metadata": {
    "collapsed": false
   },
   "outputs": [
    {
     "name": "stdout",
     "output_type": "stream",
     "text": [
      "None\n"
     ]
    }
   ],
   "source": [
    "print(random_nums.sort()) #first attempt to sort random numbrs "
   ]
  },
  {
   "cell_type": "code",
   "execution_count": 14,
   "metadata": {
    "collapsed": false
   },
   "outputs": [
    {
     "name": "stdout",
     "output_type": "stream",
     "text": [
      "[4, 13, 36, 50, 60, 60, 69, 72, 73, 77]\n"
     ]
    }
   ],
   "source": [
    "random_nums_list = [random.randint(1,101) for i in range(10)] #create a separate variable for sorted random numbers within range 1-101\n",
    "random_nums_list.sort() #sort the newly declared variable\n",
    "print(random_nums_list) # print sorted list "
   ]
  },
  {
   "cell_type": "code",
   "execution_count": null,
   "metadata": {
    "collapsed": false
   },
   "outputs": [],
   "source": []
  },
  {
   "cell_type": "code",
   "execution_count": 22,
   "metadata": {
    "collapsed": true
   },
   "outputs": [],
   "source": [
    "list_nums = [12, 4, 2, 8, 10, 6]"
   ]
  },
  {
   "cell_type": "code",
   "execution_count": 29,
   "metadata": {
    "collapsed": false
   },
   "outputs": [
    {
     "name": "stdout",
     "output_type": "stream",
     "text": [
      "[[12, 4, 2, 8, 10, 6]]\n"
     ]
    }
   ],
   "source": [
    "sorted_list = [list_nums for i in range(1)]\n",
    "sorted_list.sort()\n",
    "print(sorted_list)"
   ]
  },
  {
   "cell_type": "code",
   "execution_count": null,
   "metadata": {
    "collapsed": false
   },
   "outputs": [],
   "source": []
  },
  {
   "cell_type": "code",
   "execution_count": null,
   "metadata": {
    "collapsed": true
   },
   "outputs": [],
   "source": [
    "#len(list[-1])"
   ]
  }
 ],
 "metadata": {
  "kernelspec": {
   "display_name": "Python 3",
   "language": "python",
   "name": "python3"
  },
  "language_info": {
   "codemirror_mode": {
    "name": "ipython",
    "version": 3
   },
   "file_extension": ".py",
   "mimetype": "text/x-python",
   "name": "python",
   "nbconvert_exporter": "python",
   "pygments_lexer": "ipython3",
   "version": "3.5.1"
  }
 },
 "nbformat": 4,
 "nbformat_minor": 0
}
