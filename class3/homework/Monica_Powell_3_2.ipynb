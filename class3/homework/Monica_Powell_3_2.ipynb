{
 "cells": [
  {
   "cell_type": "markdown",
   "metadata": {},
   "source": [
    "Implement the sorting algorithm you came up with in pseudocode with Python"
   ]
  },
  {
   "cell_type": "code",
   "execution_count": 65,
   "metadata": {
    "collapsed": false
   },
   "outputs": [],
   "source": [
    "# This code works for positive integers and assumes the list is already sorted\n",
    "def binary_search(list, value):\n",
    "    high = len(list) - 1;\n",
    "    low = 0;\n",
    "    #print(\"The length of the list is\", len(list))\n",
    "        #counter is used to track the index point \n",
    "        #that the binary_search is looking at\n",
    "    counter = int((high+low)/2) # start by looking at the middle \n",
    "\n",
    "        #if the list is empty do not proceed!\n",
    "    if len(list) == 0:\n",
    "        return 0\n",
    "        \n",
    "    while low <= high and counter <= high:\n",
    "        #print(\"counter is\", counter)\n",
    "        #print(list[counter])\n",
    "        #print(value)\n",
    "        if list[counter] == value:\n",
    "            return print(\"Value of\", value, \"was found at the index\", counter)\n",
    "        elif low < value < list[counter]:\n",
    "            counter = counter - 1\n",
    "        elif value == 0:\n",
    "            if list[0] == 0:\n",
    "                 return print(\"Value of\", value, \"was found at the index 0\")\n",
    "            else:\n",
    "                return print(\"Unfortunately\", value, \"was not found in this list.\")\n",
    "       \n",
    "        else: \n",
    "            counter = counter + 1\n",
    "    return print(\"Unfortunately\", value, \"was not found in this list.\")\n",
    "                \n",
    "            "
   ]
  },
  {
   "cell_type": "code",
   "execution_count": 66,
   "metadata": {
    "collapsed": false
   },
   "outputs": [
    {
     "name": "stdout",
     "output_type": "stream",
     "text": [
      "Unfortunately 0 was not found in this list.\n"
     ]
    }
   ],
   "source": [
    "binary_search([1,2,3,4], 0)"
   ]
  },
  {
   "cell_type": "code",
   "execution_count": null,
   "metadata": {
    "collapsed": true
   },
   "outputs": [],
   "source": []
  },
  {
   "cell_type": "code",
   "execution_count": null,
   "metadata": {
    "collapsed": true
   },
   "outputs": [],
   "source": []
  }
 ],
 "metadata": {
  "kernelspec": {
   "display_name": "Python 3",
   "language": "python",
   "name": "python3"
  },
  "language_info": {
   "codemirror_mode": {
    "name": "ipython",
    "version": 3
   },
   "file_extension": ".py",
   "mimetype": "text/x-python",
   "name": "python",
   "nbconvert_exporter": "python",
   "pygments_lexer": "ipython3",
   "version": "3.5.1"
  }
 },
 "nbformat": 4,
 "nbformat_minor": 0
}
