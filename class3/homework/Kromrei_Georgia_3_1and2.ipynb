{
 "cells": [
  {
   "cell_type": "code",
   "execution_count": 50,
   "metadata": {
    "collapsed": false
   },
   "outputs": [],
   "source": [
    "import random\n",
    "tiny_numbers_list=random.sample(range(1,101), 100)\n",
    "small_numbers_list=random.sample(range(1,1001), 1000)\n",
    "big_numbers_list=random.sample(range(1,100001), 10000)"
   ]
  },
  {
   "cell_type": "code",
   "execution_count": 47,
   "metadata": {
    "collapsed": false
   },
   "outputs": [],
   "source": [
    "def switcher(numbers_list):\n",
    "    changed = True\n",
    "    while changed:\n",
    "        changed = False\n",
    "        for n in range(len(numbers_list) - 1):\n",
    "            if numbers_list[n] > numbers_list[n+1]:\n",
    "                numbers_list[n], numbers_list[n+1] = numbers_list[n+1], numbers_list[n]\n",
    "                changed = True\n",
    "                \n",
    "def search(numbers_list):\n",
    "    search_term = random.choice(range(len(numbers_list)))\n",
    "    counter = 0\n",
    "    for num in numbers_list:\n",
    "        counter = counter + 1\n",
    "        if num == search_term:\n",
    "            return counter\n"
   ]
  },
  {
   "cell_type": "code",
   "execution_count": 51,
   "metadata": {
    "collapsed": false
   },
   "outputs": [
    {
     "name": "stdout",
     "output_type": "stream",
     "text": [
      "CPU times: user 1.37 ms, sys: 1 µs, total: 1.37 ms\n",
      "Wall time: 1.37 ms\n",
      "CPU times: user 201 ms, sys: 2.74 ms, total: 203 ms\n",
      "Wall time: 208 ms\n",
      "CPU times: user 19.6 s, sys: 81.9 ms, total: 19.7 s\n",
      "Wall time: 19.8 s\n"
     ]
    },
    {
     "data": {
      "text/plain": [
       "'\\nfor a list of 100 numbers:\\nCPU times: user 1.46 ms, sys: 6 µs, total: 1.47 ms\\nWall time: 1.48 ms\\n\\nfor a list of 1000 numbers:\\nCPU times: user 192 ms, sys: 2.21 ms, total: 194 ms\\nWall time: 194 ms\\n\\nfor a list of 10000 numbers:\\nCPU times: user 18.5 s, sys: 93.5 ms, total: 18.6 s\\nWall time: 18.8 s\\n'"
      ]
     },
     "execution_count": 51,
     "metadata": {},
     "output_type": "execute_result"
    }
   ],
   "source": [
    "%time switcher(tiny_numbers_list)\n",
    "%time switcher(small_numbers_list)\n",
    "%time switcher(big_numbers_list)\n",
    "\n",
    "\"\"\"\n",
    "100\n",
    "CPU times: user 1.37 ms, sys: 1 µs, total: 1.37 ms\n",
    "Wall time: 1.37 ms\n",
    "1000\n",
    "CPU times: user 201 ms, sys: 2.74 ms, total: 203 ms\n",
    "Wall time: 208 ms\n",
    "10000\n",
    "CPU times: user 19.6 s, sys: 81.9 ms, total: 19.7 s\n",
    "Wall time: 19.8 s\n",
    "\"\"\""
   ]
  },
  {
   "cell_type": "code",
   "execution_count": 53,
   "metadata": {
    "collapsed": false,
    "scrolled": false
   },
   "outputs": [
    {
     "data": {
      "text/plain": [
       "51"
      ]
     },
     "execution_count": 53,
     "metadata": {},
     "output_type": "execute_result"
    }
   ],
   "source": [
    "%time search(tiny_numbers_list)\n",
    "%time search(small_numbers_list)\n",
    "%time search(big_numbers_list)\n",
    "\n",
    "\"\"\"\n",
    "100\n",
    "CPU times: user 17 µs, sys: 1 µs, total: 18 µs\n",
    "Wall time: 18.8 µs\n",
    "1000\n",
    "CPU times: user 21 µs, sys: 0 ns, total: 21 µs\n",
    "Wall time: 23.1 µs\n",
    "10000\n",
    "CPU times: user 1.41 ms, sys: 5 µs, total: 1.42 ms\n",
    "Wall time: 1.42 ms\n",
    "\"\"\""
   ]
  },
  {
   "cell_type": "code",
   "execution_count": null,
   "metadata": {
    "collapsed": true
   },
   "outputs": [],
   "source": []
  }
 ],
 "metadata": {
  "kernelspec": {
   "display_name": "Python 3",
   "language": "python",
   "name": "python3"
  },
  "language_info": {
   "codemirror_mode": {
    "name": "ipython",
    "version": 3
   },
   "file_extension": ".py",
   "mimetype": "text/x-python",
   "name": "python",
   "nbconvert_exporter": "python",
   "pygments_lexer": "ipython3",
   "version": "3.5.1"
  }
 },
 "nbformat": 4,
 "nbformat_minor": 0
}
