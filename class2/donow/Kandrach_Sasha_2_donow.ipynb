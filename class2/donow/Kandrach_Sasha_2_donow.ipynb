{
 "cells": [
  {
   "cell_type": "code",
   "execution_count": null,
   "metadata": {
    "collapsed": true
   },
   "outputs": [],
   "source": [
    "from math import pi "
   ]
  },
  {
   "cell_type": "code",
   "execution_count": null,
   "metadata": {
    "collapsed": false
   },
   "outputs": [],
   "source": [
    "#volume_of_sphere = (((4/3) *math.pi) *5**3)"
   ]
  },
  {
   "cell_type": "code",
   "execution_count": null,
   "metadata": {
    "collapsed": true
   },
   "outputs": [],
   "source": [
    "#print(volume_of_sphere)"
   ]
  },
  {
   "cell_type": "code",
   "execution_count": null,
   "metadata": {
    "collapsed": true
   },
   "outputs": [],
   "source": [
    "math.pi \n",
    "\n",
    "radius = float(input('Please enter radius:'))\n",
    "suface_area = 4 * math.pi * radius * radius \n",
    "volume_of_sphere = (4/3) * math.pi * radius * radius * radius \n",
    "\n",
    "print(\"\\n The surface area of the sphere = %.2f\" %surface_area)\n",
    "print(\"\\n The Volume of the sphere is %.2f\" %volume)"
   ]
  },
  {
   "cell_type": "code",
   "execution_count": null,
   "metadata": {
    "collapsed": true
   },
   "outputs": [],
   "source": [
    "#Example in class:\n",
    "\n",
    "# def volume(r):\n",
    "#       if r<0:\n",
    "#        return False\n",
    "#    return(4/3) * pi * (r**3)\n",
    "#volume(5)"
   ]
  },
  {
   "cell_type": "code",
   "execution_count": null,
   "metadata": {
    "collapsed": true
   },
   "outputs": [],
   "source": []
  }
 ],
 "metadata": {
  "kernelspec": {
   "display_name": "Python 3",
   "language": "python",
   "name": "python3"
  },
  "language_info": {
   "codemirror_mode": {
    "name": "ipython",
    "version": 3
   },
   "file_extension": ".py",
   "mimetype": "text/x-python",
   "name": "python",
   "nbconvert_exporter": "python",
   "pygments_lexer": "ipython3",
   "version": "3.5.1"
  }
 },
 "nbformat": 4,
 "nbformat_minor": 0
}
