{
 "cells": [
  {
   "cell_type": "code",
   "execution_count": 1,
   "metadata": {
    "collapsed": false
   },
   "outputs": [
    {
     "name": "stdout",
     "output_type": "stream",
     "text": [
      "Requirement already satisfied (use --upgrade to upgrade): pg8000 in /Users/Monica/.virtualenvs/dataanalysis/lib/python3.5/site-packages\n",
      "Requirement already satisfied (use --upgrade to upgrade): six>=1.10.0 in /Users/Monica/.virtualenvs/dataanalysis/lib/python3.5/site-packages (from pg8000)\n",
      "Requirement already satisfied (use --upgrade to upgrade): config in /Users/Monica/.virtualenvs/dataanalysis/lib/python3.5/site-packages\n"
     ]
    }
   ],
   "source": [
    "!pip install pg8000\n",
    "!pip install config"
   ]
  },
  {
   "cell_type": "code",
   "execution_count": 2,
   "metadata": {
    "collapsed": false
   },
   "outputs": [],
   "source": [
    "# import config"
   ]
  },
  {
   "cell_type": "code",
   "execution_count": 3,
   "metadata": {
    "collapsed": false
   },
   "outputs": [],
   "source": [
    "import pg8000\n",
    "conn = pg8000.connect(user=\"dot_student\", host=\"training.c1erymiua9dx.us-east-1.rds.amazonaws.com\", port=5432,  database=\"training\", password=\"qgis\")"
   ]
  },
  {
   "cell_type": "code",
   "execution_count": 4,
   "metadata": {
    "collapsed": false
   },
   "outputs": [],
   "source": [
    "conn.rollback()"
   ]
  },
  {
   "cell_type": "code",
   "execution_count": 5,
   "metadata": {
    "collapsed": true
   },
   "outputs": [],
   "source": [
    "cursor = conn.cursor()"
   ]
  },
  {
   "cell_type": "code",
   "execution_count": 6,
   "metadata": {
    "collapsed": false
   },
   "outputs": [
    {
     "data": {
      "text/plain": [
       "['gid',\n",
       " 'unique_key',\n",
       " 'agency',\n",
       " 'agency nam',\n",
       " 'complaint',\n",
       " 'descriptor',\n",
       " 'location t',\n",
       " 'incident z',\n",
       " 'incident a',\n",
       " 'street nam',\n",
       " 'cross stre',\n",
       " 'cross st_1',\n",
       " 'intersecti',\n",
       " 'intersec_1',\n",
       " 'address ty',\n",
       " 'city',\n",
       " 'landmark',\n",
       " 'facility t',\n",
       " 'status',\n",
       " 'due date',\n",
       " 'resolution',\n",
       " 'resoluti_1',\n",
       " 'community',\n",
       " 'borough',\n",
       " 'x coordina',\n",
       " 'y coordina',\n",
       " 'park facil',\n",
       " 'park borou',\n",
       " 'school nam',\n",
       " 'school num',\n",
       " 'school reg',\n",
       " 'school cod',\n",
       " 'school pho',\n",
       " 'school add',\n",
       " 'school cit',\n",
       " 'school sta',\n",
       " 'school zip',\n",
       " 'school not',\n",
       " 'school or',\n",
       " 'vehicle ty',\n",
       " 'taxi compa',\n",
       " 'taxi pick',\n",
       " 'bridge hig',\n",
       " 'bridge h_1',\n",
       " 'road ramp',\n",
       " 'bridge h_2',\n",
       " 'garage lot',\n",
       " 'ferry dire',\n",
       " 'ferry term',\n",
       " 'latitude',\n",
       " 'longitude',\n",
       " 'location',\n",
       " 'geom',\n",
       " 'created_date',\n",
       " 'closed_date']"
      ]
     },
     "execution_count": 6,
     "metadata": {},
     "output_type": "execute_result"
    }
   ],
   "source": [
    "cursor.execute(\"select column_name from information_schema.columns where table_name='dot_311'\")\n",
    "column_list = []\n",
    "for row in cursor.fetchall():\n",
    "   column_list.append(row[0])\n",
    "column_list"
   ]
  },
  {
   "cell_type": "code",
   "execution_count": 7,
   "metadata": {
    "collapsed": true
   },
   "outputs": [],
   "source": [
    "response = \"select * from dot_311\""
   ]
  },
  {
   "cell_type": "code",
   "execution_count": 8,
   "metadata": {
    "collapsed": true
   },
   "outputs": [],
   "source": [
    "cursor.execute(\"select * from dot_311\")\n",
    "output = []\n",
    "for row in cursor.fetchall():\n",
    "    output.append(row)"
   ]
  },
  {
   "cell_type": "code",
   "execution_count": 9,
   "metadata": {
    "collapsed": false
   },
   "outputs": [
    {
     "name": "stderr",
     "output_type": "stream",
     "text": [
      "/Users/Monica/.virtualenvs/dataanalysis/lib/python3.5/site-packages/matplotlib/__init__.py:1035: UserWarning: Duplicate key in file \"/Users/Monica/.matplotlib/matplotlibrc\", line #2\n",
      "  (fname, cnt))\n"
     ]
    }
   ],
   "source": [
    "import pandas as pd"
   ]
  },
  {
   "cell_type": "code",
   "execution_count": 10,
   "metadata": {
    "collapsed": false
   },
   "outputs": [],
   "source": [
    "df = pd.DataFrame(data=output, columns=column_list)"
   ]
  },
  {
   "cell_type": "code",
   "execution_count": 11,
   "metadata": {
    "collapsed": false
   },
   "outputs": [
    {
     "name": "stdout",
     "output_type": "stream",
     "text": [
      "       gid unique_key agency                    agency nam  \\\n",
      "0        2   32570549    DOT  Department of Transportation   \n",
      "1        3   32572958    DOT  Department of Transportation   \n",
      "2        4   32573576    DOT  Department of Transportation   \n",
      "3        5   32572389    DOT  Department of Transportation   \n",
      "4        6   32570548    DOT  Department of Transportation   \n",
      "5        7   32574044    DOT  Department of Transportation   \n",
      "6        8   32573047    DOT  Department of Transportation   \n",
      "7        9   32572971    DOT  Department of Transportation   \n",
      "8       10   32575571    DOT  Department of Transportation   \n",
      "9       11   32576008    DOT  Department of Transportation   \n",
      "10      12   32573945    DOT  Department of Transportation   \n",
      "11      13   32570682    DOT  Department of Transportation   \n",
      "12      14   32572906    DOT  Department of Transportation   \n",
      "13      15   32579102    DOT  Department of Transportation   \n",
      "14     519   32578446    DOT  Department of Transportation   \n",
      "15      16   32573686    DOT  Department of Transportation   \n",
      "16      18   32570317    DOT  Department of Transportation   \n",
      "17      19   32581124    DOT  Department of Transportation   \n",
      "18      20   32579277    DOT  Department of Transportation   \n",
      "19      21   32580720    DOT  Department of Transportation   \n",
      "20      22   32571895    DOT  Department of Transportation   \n",
      "21      23   32580285    DOT  Department of Transportation   \n",
      "22      24   32575419    DOT  Department of Transportation   \n",
      "23      25   32570671    DOT  Department of Transportation   \n",
      "24      26   32581170    DOT  Department of Transportation   \n",
      "25      27   32581434    DOT  Department of Transportation   \n",
      "26      28   32575447    DOT  Department of Transportation   \n",
      "27      29   32577440    DOT  Department of Transportation   \n",
      "28      30   32577560    DOT  Department of Transportation   \n",
      "29      31   32575033    DOT  Department of Transportation   \n",
      "...    ...        ...    ...                           ...   \n",
      "5821  5808   32614085    DOT  Department of Transportation   \n",
      "5822  5815   32612339    DOT  Department of Transportation   \n",
      "5823  5816   32612333    DOT  Department of Transportation   \n",
      "5824  5817   32614717    DOT  Department of Transportation   \n",
      "5825  5818   32617685    DOT  Department of Transportation   \n",
      "5826  5819   32615195    DOT  Department of Transportation   \n",
      "5827  5820   32613947    DOT  Department of Transportation   \n",
      "5828  5821   32612566    DOT  Department of Transportation   \n",
      "5829  5822   32614725    DOT  Department of Transportation   \n",
      "5830  5823   32617705    DOT  Department of Transportation   \n",
      "5831  5837   32620216    DOT  Department of Transportation   \n",
      "5832  5824   32617828    DOT  Department of Transportation   \n",
      "5833  5825   32618570    DOT  Department of Transportation   \n",
      "5834  5826   32616052    DOT  Department of Transportation   \n",
      "5835  5827   32612279    DOT  Department of Transportation   \n",
      "5836  5828   32614241    DOT  Department of Transportation   \n",
      "5837  5829   32617383    DOT  Department of Transportation   \n",
      "5838  5830   32618573    DOT  Department of Transportation   \n",
      "5839  5831   32617669    DOT  Department of Transportation   \n",
      "5840  5832   32612533    DOT  Department of Transportation   \n",
      "5841  5834   32618378    DOT  Department of Transportation   \n",
      "5842  5835   32622707    DOT  Department of Transportation   \n",
      "5843  5836   32622721    DOT  Department of Transportation   \n",
      "5844  5838   32613217    DOT  Department of Transportation   \n",
      "5845  5839   32623981    DOT  Department of Transportation   \n",
      "5846  5840   32617301    DOT  Department of Transportation   \n",
      "5847  5848   32614083    DOT  Department of Transportation   \n",
      "5848  5849   32612807    DOT  Department of Transportation   \n",
      "5849  5850   32617735    DOT  Department of Transportation   \n",
      "5850  5851   32619242    DOT  Department of Transportation   \n",
      "\n",
      "                     complaint                 descriptor location t  \\\n",
      "0     Traffic Signal Condition                 Controller       None   \n",
      "1     Traffic Signal Condition                 Controller       None   \n",
      "2     Traffic Signal Condition                 Controller       None   \n",
      "3     Traffic Signal Condition                 Controller       None   \n",
      "4     Traffic Signal Condition                 Controller       None   \n",
      "5     Traffic Signal Condition                 Controller       None   \n",
      "6     Traffic Signal Condition                 Controller       None   \n",
      "7     Traffic Signal Condition                 Controller       None   \n",
      "8     Traffic Signal Condition                  Base Door       None   \n",
      "9             Street Condition                    Pothole       None   \n",
      "10            Street Condition    Plate Condition - Noisy     Street   \n",
      "11      Street Light Condition           Street Light Out       None   \n",
      "12    Traffic Signal Condition                       Post       None   \n",
      "13    Traffic Signal Condition          Pedestrian Signal       None   \n",
      "14      Street Light Condition      Lamppost Knocked Down       None   \n",
      "15      Street Light Condition           Street Light Out       None   \n",
      "16            Street Condition       Line/Marking - Faded     Street   \n",
      "17      Street Light Condition           Street Light Out       None   \n",
      "18      Street Light Condition           Street Light Out       None   \n",
      "19      Street Light Condition           Street Light Out       None   \n",
      "20            Street Condition                    Pothole       None   \n",
      "21      Street Light Condition           Street Light Out       None   \n",
      "22          Sidewalk Condition    Newspaper Box Complaint   Sidewalk   \n",
      "23            Street Condition                    Pothole       None   \n",
      "24      Street Light Condition           Street Light Out       None   \n",
      "25    Traffic Signal Condition                 Controller       None   \n",
      "26      Street Light Condition           Street Light Out       None   \n",
      "27      Street Light Condition           Street Light Out       None   \n",
      "28    Traffic Signal Condition        LED Pedestrian Unit       None   \n",
      "29            Street Condition                    Pothole       None   \n",
      "...                        ...                        ...        ...   \n",
      "5821          Street Condition  Plate Condition - Shifted     Street   \n",
      "5822          Street Condition    Plate Condition - Noisy     Street   \n",
      "5823          Street Condition    Plate Condition - Noisy     Street   \n",
      "5824    Street Light Condition           Street Light Out       None   \n",
      "5825    Street Light Condition           Street Light Out       None   \n",
      "5826          Street Condition    Plate Condition - Noisy     Street   \n",
      "5827         Highway Condition          Pothole - Highway    Highway   \n",
      "5828    Street Light Condition      Lamppost Knocked Down       None   \n",
      "5829    Street Light Condition           Street Light Out       None   \n",
      "5830     Street Sign - Missing                   Bus Stop     Street   \n",
      "5831          Street Condition                    Pothole       None   \n",
      "5832            Curb Condition                 Defacement       Curb   \n",
      "5833     Street Sign - Missing                   Bus Stop     Street   \n",
      "5834          Street Condition                    Cave-in     Street   \n",
      "5835          Street Condition  Plate Condition - Shifted     Street   \n",
      "5836          Street Condition    Plate Condition - Noisy     Street   \n",
      "5837    Street Light Condition           Street Light Out       None   \n",
      "5838          Street Condition                    Pothole       None   \n",
      "5839          Street Condition                    Pothole       None   \n",
      "5840    Street Light Condition           Street Light Out       None   \n",
      "5841  Traffic Signal Condition                 Controller       None   \n",
      "5842          Street Condition                    Pothole       None   \n",
      "5843          Street Condition                    Pothole       None   \n",
      "5844          Street Condition  Plate Condition - Shifted     Street   \n",
      "5845          Street Condition                    Pothole       None   \n",
      "5846    Street Light Condition           Street Light Out       None   \n",
      "5847          Street Condition                    Cave-in     Street   \n",
      "5848    Street Light Condition           Street Light Out       None   \n",
      "5849          Bridge Condition                    Pothole     Bridge   \n",
      "5850    Street Light Condition           Street Light Out       None   \n",
      "\n",
      "     incident z                 incident a            street nam  \\\n",
      "0         10301                       None                  None   \n",
      "1         10301                       None                  None   \n",
      "2         10310                       None                  None   \n",
      "3          None                       None                  None   \n",
      "4          None                       None                  None   \n",
      "5          None                       None                  None   \n",
      "6          None                       None                  None   \n",
      "7         11235                       None                  None   \n",
      "8          None                       None                  None   \n",
      "9         10011        30 WEST   15 STREET      WEST   15 STREET   \n",
      "10        10014                       None                  None   \n",
      "11        11234           2015 MILL AVENUE           MILL AVENUE   \n",
      "12        11237                       None                  None   \n",
      "13         None                       None                  None   \n",
      "14         None                       None                  None   \n",
      "15        11231           455 UNION STREET          UNION STREET   \n",
      "16        11234                       None                  None   \n",
      "17         None              VAN WYCK EXPY         VAN WYCK EXPY   \n",
      "18        10458                       None                  None   \n",
      "19        10312           167 WOODROW ROAD          WOODROW ROAD   \n",
      "20        11363      41-53 GLENWOOD STREET       GLENWOOD STREET   \n",
      "21         None                       None                  None   \n",
      "22        11226         1501 FOSTER AVENUE         FOSTER AVENUE   \n",
      "23        11223                87 AVENUE U              AVENUE U   \n",
      "24         None        WILLIAMSBURG BRIDGE   WILLIAMSBURG BRIDGE   \n",
      "25         None                       None                  None   \n",
      "26        11209                       None                  None   \n",
      "27        10006             LIBERTY STREET        LIBERTY STREET   \n",
      "28         None                       None                  None   \n",
      "29        11223      2076 WEST    7 STREET      WEST    7 STREET   \n",
      "...         ...                        ...                   ...   \n",
      "5821      10463  3530 HENRY HUDSON PARKWAY  HENRY HUDSON PARKWAY   \n",
      "5822      10023                       None                  None   \n",
      "5823      10023         111 WEST 71 STREET        WEST 71 STREET   \n",
      "5824      11385       90-60 UNION TURNPIKE        UNION TURNPIKE   \n",
      "5825      11201        155 ATLANTIC AVENUE       ATLANTIC AVENUE   \n",
      "5826      10023                       None                  None   \n",
      "5827      11231                       None                  None   \n",
      "5828       None              PROSPECT EXPY         PROSPECT EXPY   \n",
      "5829      11434          114-15 174 STREET            174 STREET   \n",
      "5830      10022                       None                  None   \n",
      "5831      10032              3933 BROADWAY              BROADWAY   \n",
      "5832      10463      3533 RIVERDALE AVENUE      RIVERDALE AVENUE   \n",
      "5833      10022                       None                  None   \n",
      "5834      11208   586 SOUTH CONDUIT AVENUE  SOUTH CONDUIT AVENUE   \n",
      "5835      10024         132 WEST 82 STREET        WEST 82 STREET   \n",
      "5836      10014                       None                  None   \n",
      "5837      11421                       None                  None   \n",
      "5838      10018              476 11 AVENUE             11 AVENUE   \n",
      "5839      10018              462 11 AVENUE             11 AVENUE   \n",
      "5840       None                       None                  None   \n",
      "5841      10467                       None                  None   \n",
      "5842      10465                       None                  None   \n",
      "5843      10033                       None                  None   \n",
      "5844      10025                       None                  None   \n",
      "5845      10031       600 WEST  141 STREET      WEST  141 STREET   \n",
      "5846       None                       None                  None   \n",
      "5847      10019         236 WEST 52 STREET        WEST 52 STREET   \n",
      "5848       None               226 111 ST W              111 ST W   \n",
      "5849      11378                       None                  None   \n",
      "5850      10459                       None                  None   \n",
      "\n",
      "             ...                                               bridge h_2  \\\n",
      "0            ...                                                     None   \n",
      "1            ...                                                     None   \n",
      "2            ...                                                     None   \n",
      "3            ...                                                     None   \n",
      "4            ...                                                     None   \n",
      "5            ...                                                     None   \n",
      "6            ...                                                     None   \n",
      "7            ...                                                     None   \n",
      "8            ...                                                     None   \n",
      "9            ...                                                     None   \n",
      "10           ...                                                     None   \n",
      "11           ...                                                     None   \n",
      "12           ...                                                     None   \n",
      "13           ...                                                     None   \n",
      "14           ...                                                     None   \n",
      "15           ...                                                     None   \n",
      "16           ...                                                     None   \n",
      "17           ...                                                     None   \n",
      "18           ...                                                     None   \n",
      "19           ...                                                     None   \n",
      "20           ...                                                     None   \n",
      "21           ...                                                     None   \n",
      "22           ...                                                     None   \n",
      "23           ...                                                     None   \n",
      "24           ...                                                     None   \n",
      "25           ...                                                     None   \n",
      "26           ...                                                     None   \n",
      "27           ...                                                     None   \n",
      "28           ...                                                     None   \n",
      "29           ...                                                     None   \n",
      "...          ...                                                      ...   \n",
      "5821         ...                                                     None   \n",
      "5822         ...                                                     None   \n",
      "5823         ...                                                     None   \n",
      "5824         ...                                                     None   \n",
      "5825         ...                                                     None   \n",
      "5826         ...                                                     None   \n",
      "5827         ...          Atlantic Ave (Exit 27) - Hamilton Ave (Exit 26)   \n",
      "5828         ...                                                     None   \n",
      "5829         ...                                                     None   \n",
      "5830         ...                                                     None   \n",
      "5831         ...                                                     None   \n",
      "5832         ...                                                     None   \n",
      "5833         ...                                                     None   \n",
      "5834         ...                                                     None   \n",
      "5835         ...                                                     None   \n",
      "5836         ...                                                     None   \n",
      "5837         ...                                                     None   \n",
      "5838         ...                                                     None   \n",
      "5839         ...                                                     None   \n",
      "5840         ...                                                     None   \n",
      "5841         ...                                                     None   \n",
      "5842         ...                                                     None   \n",
      "5843         ...                                                     None   \n",
      "5844         ...                                                     None   \n",
      "5845         ...                                                     None   \n",
      "5846         ...                                                     None   \n",
      "5847         ...                                                     None   \n",
      "5848         ...                                                     None   \n",
      "5849         ...                                                  Roadway   \n",
      "5850         ...                                                     None   \n",
      "\n",
      "     garage lot ferry dire ferry term            latitude  \\\n",
      "0          None       None       None  40.613803753157917   \n",
      "1          None       None       None  40.626545297464929   \n",
      "2          None       None       None  40.629249554787492   \n",
      "3          None       None       None                None   \n",
      "4          None       None       None                None   \n",
      "5          None       None       None                None   \n",
      "6          None       None       None                None   \n",
      "7          None       None       None  40.581970000748562   \n",
      "8          None       None       None                None   \n",
      "9          None       None       None  40.737163011181920   \n",
      "10         None       None       None  40.736839213422464   \n",
      "11         None       None       None  40.615433104276697   \n",
      "12         None       None       None  40.705217029080806   \n",
      "13         None       None       None                None   \n",
      "14         None       None       None                None   \n",
      "15         None       None       None  40.680332444518470   \n",
      "16         None       None       None  40.615433104276697   \n",
      "17         None       None       None                None   \n",
      "18         None       None       None  40.871343985427906   \n",
      "19         None       None       None  40.560603307473166   \n",
      "20         None       None       None  40.773767941165900   \n",
      "21         None       None       None                None   \n",
      "22         None       None       None  40.634088319895888   \n",
      "23         None       None       None  40.596118490543070   \n",
      "24         None       None       None                None   \n",
      "25         None       None       None                None   \n",
      "26         None       None       None  40.636800952626160   \n",
      "27         None       None       None  40.709687536520519   \n",
      "28         None       None       None                None   \n",
      "29         None       None       None  40.597073252537918   \n",
      "...         ...        ...        ...                 ...   \n",
      "5821       None       None       None  40.886428893610784   \n",
      "5822       None       None       None  40.776106560588481   \n",
      "5823       None       None       None  40.777001370729927   \n",
      "5824       None       None       None  40.705987411554943   \n",
      "5825       None       None       None  40.690757413845581   \n",
      "5826       None       None       None  40.776106560588481   \n",
      "5827       None       None       None  40.685471044784713   \n",
      "5828       None       None       None                None   \n",
      "5829       None       None       None  40.690730612393871   \n",
      "5830       None       None       None  40.759308045196732   \n",
      "5831       None       None       None  40.838769242057694   \n",
      "5832       None       None       None  40.886043273551003   \n",
      "5833       None       None       None  40.762288004988541   \n",
      "5834       None       None       None  40.676433814244696   \n",
      "5835       None       None       None  40.784345355522767   \n",
      "5836       None       None       None  40.731775196703985   \n",
      "5837       None       None       None  40.697558165916313   \n",
      "5838       None       None       None  40.758500829065163   \n",
      "5839       None       None       None  40.757940900545982   \n",
      "5840       None       None       None                None   \n",
      "5841       None       None       None  40.884348470484561   \n",
      "5842       None       None       None  40.834402513003816   \n",
      "5843       None       None       None  40.847998812236256   \n",
      "5844       None       None       None  40.796739381719725   \n",
      "5845       None       None       None  40.824046272945296   \n",
      "5846       None       None       None                None   \n",
      "5847       None       None       None  40.762968139787574   \n",
      "5848       None       None       None                None   \n",
      "5849       None       None       None  40.728220546482930   \n",
      "5850       None       None       None  40.832344487846150   \n",
      "\n",
      "                longitude                                  location  \\\n",
      "0     -74.113373738864198    (40.61380375315792, -74.1133737388642)   \n",
      "1     -74.091582334480577   (40.62654529746493, -74.09158233448058)   \n",
      "2     -74.123220752604595    (40.62924955478749, -74.1232207526046)   \n",
      "3                    None                                      None   \n",
      "4                    None                                      None   \n",
      "5                    None                                      None   \n",
      "6                    None                                      None   \n",
      "7     -73.954941416795819   (40.58197000074856, -73.95494141679582)   \n",
      "8                    None                                      None   \n",
      "9     -73.994262543022671   (40.73716301118192, -73.99426254302267)   \n",
      "10    -74.003713090903730   (40.73683921342246, -74.00371309090373)   \n",
      "11    -73.913875359186989    (40.6154331042767, -73.91387535918699)   \n",
      "12    -73.920684296190075  (40.705217029080806, -73.92068429619007)   \n",
      "13                   None                                      None   \n",
      "14                   None                                      None   \n",
      "15    -73.990532250064405    (40.68033244451847, -73.9905322500644)   \n",
      "16    -73.913875359186989    (40.6154331042767, -73.91387535918699)   \n",
      "17                   None                                      None   \n",
      "18    -73.886917542990247  (40.871343985427906, -73.88691754299025)   \n",
      "19    -74.180428734412558  (40.560603307473166, -74.18042873441256)   \n",
      "20    -73.736599442397463    (40.7737679411659, -73.73659944239746)   \n",
      "21                   None                                      None   \n",
      "22    -73.963037950455359   (40.63408831989589, -73.96303795045536)   \n",
      "23    -73.981084780913918   (40.59611849054307, -73.98108478091392)   \n",
      "24                   None                                      None   \n",
      "25                   None                                      None   \n",
      "26    -74.034441426326580   (40.63680095262616, -74.03444142632658)   \n",
      "27    -74.011672174837173   (40.70968753652052, -74.01167217483717)   \n",
      "28                   None                                      None   \n",
      "29    -73.978643105123780   (40.59707325253792, -73.97864310512378)   \n",
      "...                   ...                                       ...   \n",
      "5821  -73.912247640634590  (40.886428893610784, -73.91224764063459)   \n",
      "5822  -73.979744680840554   (40.77610656058848, -73.97974468084055)   \n",
      "5823  -73.979892444176258   (40.77700137072993, -73.97989244417626)   \n",
      "5824  -73.857175216458685   (40.70598741155494, -73.85717521645869)   \n",
      "5825  -73.996231780059787   (40.69075741384558, -73.99623178005979)   \n",
      "5826  -73.979744680840554   (40.77610656058848, -73.97974468084055)   \n",
      "5827  -74.000811274900897    (40.68547104478471, -74.0008112749009)   \n",
      "5828                 None                                      None   \n",
      "5829  -73.775489661073280   (40.69073061239387, -73.77548966107328)   \n",
      "5830  -73.965293087379791   (40.75930804519673, -73.96529308737979)   \n",
      "5831  -73.941449993230449  (40.838769242057694, -73.94144999323045)   \n",
      "5832  -73.907000540789284     (40.886043273551, -73.90700054078928)   \n",
      "5833  -73.972363181607278   (40.76228800498854, -73.97236318160728)   \n",
      "5834  -73.868147788780064  (40.676433814244696, -73.86814778878006)   \n",
      "5835  -73.975141734145680   (40.78434535552277, -73.97514173414568)   \n",
      "5836  -74.001165439473155  (40.731775196703985, -74.00116543947316)   \n",
      "5837  -73.852771919825358   (40.69755816591631, -73.85277191982536)   \n",
      "5838  -73.999985561522166   (40.75850082906516, -73.99998556152217)   \n",
      "5839  -74.000389835624617   (40.75794090054598, -74.00038983562462)   \n",
      "5840                 None                                      None   \n",
      "5841  -73.887050930441191   (40.88434847048456, -73.88705093044119)   \n",
      "5842  -73.823194164076611  (40.834402513003816, -73.82319416407661)   \n",
      "5843  -73.934693640817514  (40.847998812236256, -73.93469364081751)   \n",
      "5844  -73.960979269074201   (40.796739381719725, -73.9609792690742)   \n",
      "5845  -73.952699924071808  (40.824046272945296, -73.95269992407181)   \n",
      "5846                 None                                      None   \n",
      "5847  -73.983853089123315  (40.762968139787574, -73.98385308912331)   \n",
      "5848                 None                                      None   \n",
      "5849  -73.928569218350148   (40.72822054648293, -73.92856921835015)   \n",
      "5850  -73.892686133209040   (40.83234448784615, -73.89268613320904)   \n",
      "\n",
      "                                                   geom        created_date  \\\n",
      "0     0101000020E61000006829ED83418752C0D7FC121F914E... 2016-02-01 00:12:00   \n",
      "1     0101000020E610000011DF267CDC8552C08809E5A23250... 2016-02-01 00:14:00   \n",
      "2     0101000020E610000004A84BD9E28752C0DC6AD93F8B50... 2016-02-01 00:15:00   \n",
      "3     0101000020E610000004A84BD9E28752C0DC6AD93F8B50... 2016-02-01 00:17:00   \n",
      "4     0101000020E610000004A84BD9E28752C0DC6AD93F8B50... 2016-02-01 00:19:00   \n",
      "5     0101000020E610000004A84BD9E28752C0DC6AD93F8B50... 2016-02-01 00:21:00   \n",
      "6     0101000020E610000004A84BD9E28752C0DC6AD93F8B50... 2016-02-01 00:22:00   \n",
      "7     0101000020E6100000F9AE9AC21D7D52C0ED3B34FE7D4A... 2016-02-01 00:27:00   \n",
      "8     0101000020E6100000F9AE9AC21D7D52C0ED3B34FE7D4A... 2016-02-01 00:32:00   \n",
      "9     0101000020E6100000E47A5CFFA17F52C0726C885B5B5E... 2016-02-01 00:32:16   \n",
      "10    0101000020E6100000E9FFD4D53C8052C0A90752BF505E... 2016-02-01 00:40:25   \n",
      "11    0101000020E6100000041513EF7C7A52C041DF0F83C64E... 2016-02-01 00:44:00   \n",
      "12    0101000020E6100000F084D37DEC7A52C0FF3D368D445A... 2016-02-01 00:50:00   \n",
      "13    0101000020E6100000F084D37DEC7A52C0FF3D368D445A... 2016-02-01 00:53:00   \n",
      "14    0101000020E61000004E87A4F7C28B52C03CEA0200E146... 2016-02-01 14:26:00   \n",
      "15    0101000020E61000003CEA60E1647F52C0AACE2F221557... 2016-02-01 00:57:00   \n",
      "16    0101000020E6100000041513EF7C7A52C041DF0F83C64E... 2016-02-01 01:18:49   \n",
      "17    0101000020E6100000041513EF7C7A52C041DF0F83C64E... 2016-02-01 01:20:00   \n",
      "18    0101000020E61000001359CC41C37852C0557D2033886F... 2016-02-01 01:36:00   \n",
      "19    0101000020E6100000E163F6248C8B52C037D063D9C147... 2016-02-01 01:36:00   \n",
      "20    0101000020E610000055D6FC71246F52C01A00F1D30A63... 2016-02-01 01:51:36   \n",
      "21    0101000020E610000055D6FC71246F52C01A00F1D30A63... 2016-02-01 02:07:00   \n",
      "22    0101000020E6100000CF80ED69A27D52C03D5D5ACE2951... 2016-02-01 02:32:08   \n",
      "23    0101000020E61000003B28D217CA7E52C031B6569C4D4C... 2016-02-01 02:43:01   \n",
      "24    0101000020E61000003B28D217CA7E52C031B6569C4D4C... 2016-02-01 03:21:00   \n",
      "25    0101000020E61000003B28D217CA7E52C031B6569C4D4C... 2016-02-01 03:24:00   \n",
      "26    0101000020E6100000D1ECCF49348252C0A6CB90B18251... 2016-02-01 03:25:00   \n",
      "27    0101000020E6100000BA4CA63CBF8052C002DE8B0AD75A... 2016-02-01 03:26:00   \n",
      "28    0101000020E6100000BA4CA63CBF8052C002DE8B0AD75A... 2016-02-01 03:37:00   \n",
      "29    0101000020E61000009ABDB016A27E52C0BD7B76E56C4C... 2016-02-01 03:49:22   \n",
      "...                                                 ...                 ...   \n",
      "5821  0101000020E61000003D98ED43627A52C0D62482807671... 2016-02-06 22:07:24   \n",
      "5822  0101000020E6100000F8A80823B47E52C023F8B3755763... 2016-02-06 22:23:07   \n",
      "5823  0101000020E61000006955CC8EB67E52C0B91DEAC77463... 2016-02-06 22:25:28   \n",
      "5824  0101000020E61000006F6870F5DB7652C01202A6CB5D5A... 2016-02-06 22:27:00   \n",
      "5825  0101000020E6100000EEA5F042C27F52C0D9F72ABD6A58... 2016-02-06 22:32:00   \n",
      "5826  0101000020E6100000F8A80823B47E52C023F8B3755763... 2016-02-06 22:34:14   \n",
      "5827  0101000020E6100000B7CABB4A0D8052C047DAE383BD57... 2016-02-06 22:34:34   \n",
      "5828  0101000020E6100000B7CABB4A0D8052C047DAE383BD57... 2016-02-06 22:35:00   \n",
      "5829  0101000020E6100000892C639FA17152C0F34957DC6958... 2016-02-06 22:41:00   \n",
      "5830  0101000020E61000007856A85CC77D52C0D6DA8A013161... 2016-02-06 22:42:29   \n",
      "5831  0101000020E6100000A1EF78B7407C52C0A6C35FCA5C6B... 2016-02-06 23:35:42   \n",
      "5832  0101000020E61000003C09FF4B0C7A52C0055FB1DD6971... 2016-02-06 22:47:30   \n",
      "5833  0101000020E61000009E35C8323B7E52C089C741A79261... 2016-02-06 22:49:43   \n",
      "5834  0101000020E6100000ED39BEBB8F7752C0750B1B629556... 2016-02-06 22:53:35   \n",
      "5835  0101000020E6100000B547E0B8687E52C0B15EB96D6564... 2016-02-06 22:55:05   \n",
      "5836  0101000020E61000000D1B3518138052C00DEF44CFAA5D... 2016-02-06 22:56:01   \n",
      "5837  0101000020E610000036A6ACD0937652C08BD502964959... 2016-02-06 22:59:00   \n",
      "5838  0101000020E61000006FCD70C3FF7F52C071691F8E1661... 2016-02-06 23:02:17   \n",
      "5839  0101000020E61000008CD01663068052C0A9121A350461... 2016-02-06 23:02:35   \n",
      "5840  0101000020E61000008CD01663068052C0A9121A350461... 2016-02-06 23:06:00   \n",
      "5841  0101000020E610000067084471C57852C0D97FA7543271... 2016-02-06 23:09:00   \n",
      "5842  0101000020E6100000E53D9336AF7452C09B8698B3CD6A... 2016-02-06 23:33:49   \n",
      "5843  0101000020E6100000C9C54605D27B52C000CD9E398B6C... 2016-02-06 23:35:02   \n",
      "5844  0101000020E6100000B13331AF807D52C0F3F5598EFB65... 2016-02-06 23:36:15   \n",
      "5845  0101000020E610000091321A09F97C52C06A5828597A69... 2016-02-06 23:36:20   \n",
      "5846  0101000020E610000091321A09F97C52C06A5828597A69... 2016-02-06 23:37:00   \n",
      "5847  0101000020E61000009B76F272F77E52C08823A4F0A861... 2016-02-06 23:46:22   \n",
      "5848  0101000020E61000009B76F272F77E52C08823A4F0A861... 2016-02-06 23:53:00   \n",
      "5849  0101000020E6100000B73896AD6D7B52C0B0B5B354365D... 2016-02-06 23:54:02   \n",
      "5850  0101000020E61000006FEE04C5217952C00D27A1438A6A... 2016-02-07 00:00:00   \n",
      "\n",
      "             closed_date  \n",
      "0    2016-02-01 01:15:00  \n",
      "1    2016-02-01 00:54:00  \n",
      "2    2016-02-01 01:30:00  \n",
      "3    2016-02-01 02:35:00  \n",
      "4    2016-02-01 01:00:00  \n",
      "5    2016-02-01 02:00:00  \n",
      "6    2016-02-01 01:30:00  \n",
      "7    2016-02-01 01:05:00  \n",
      "8    2016-02-01 00:42:00  \n",
      "9    2016-02-01 22:30:00  \n",
      "10   2016-02-01 20:44:42  \n",
      "11   2016-02-08 12:29:00  \n",
      "12   2016-02-10 09:10:00  \n",
      "13   2016-02-01 01:13:00  \n",
      "14                   NaT  \n",
      "15   2016-02-01 13:45:00  \n",
      "16   2016-02-03 16:59:00  \n",
      "17   2016-02-05 12:04:00  \n",
      "18   2016-02-04 10:37:00  \n",
      "19   2016-02-02 13:09:00  \n",
      "20   2016-02-01 10:23:00  \n",
      "21   2016-02-08 15:25:00  \n",
      "22   2016-02-04 12:06:14  \n",
      "23   2016-02-01 09:40:00  \n",
      "24   2016-02-02 14:57:00  \n",
      "25   2016-02-01 11:30:00  \n",
      "26   2016-02-01 13:44:00  \n",
      "27   2016-02-03 10:03:00  \n",
      "28   2016-02-01 04:00:00  \n",
      "29   2016-02-01 09:57:00  \n",
      "...                  ...  \n",
      "5821 2016-02-09 15:23:13  \n",
      "5822 2016-02-08 03:08:37  \n",
      "5823 2016-02-08 03:09:49  \n",
      "5824 2016-02-08 11:26:00  \n",
      "5825 2016-02-09 12:07:00  \n",
      "5826 2016-02-08 03:08:37  \n",
      "5827 2016-02-08 14:39:00  \n",
      "5828 2016-03-16 10:39:00  \n",
      "5829 2016-02-11 09:43:00  \n",
      "5830 2016-02-26 10:13:26  \n",
      "5831 2016-02-07 20:40:00  \n",
      "5832 2016-02-12 15:18:14  \n",
      "5833 2016-02-22 10:04:38  \n",
      "5834 2016-02-17 09:21:23  \n",
      "5835 2016-02-08 04:09:00  \n",
      "5836 2016-02-08 13:32:54  \n",
      "5837 2016-02-08 11:27:00  \n",
      "5838 2016-02-08 23:46:00  \n",
      "5839 2016-02-16 09:45:00  \n",
      "5840 2016-02-08 21:50:00  \n",
      "5841 2016-02-07 03:30:00  \n",
      "5842 2016-02-07 17:05:00  \n",
      "5843 2016-02-07 19:40:00  \n",
      "5844 2016-02-08 06:52:08  \n",
      "5845 2016-02-07 21:10:00  \n",
      "5846 2016-02-08 22:50:00  \n",
      "5847                 NaT  \n",
      "5848 2016-02-12 22:30:00  \n",
      "5849 2016-02-08 10:07:29  \n",
      "5850 2016-02-10 15:19:00  \n",
      "\n",
      "[5851 rows x 55 columns]\n"
     ]
    }
   ],
   "source": [
    "print(df)"
   ]
  },
  {
   "cell_type": "code",
   "execution_count": 12,
   "metadata": {
    "collapsed": false
   },
   "outputs": [
    {
     "data": {
      "text/plain": [
       "0   2016-02-01 00:12:00\n",
       "1   2016-02-01 00:14:00\n",
       "2   2016-02-01 00:15:00\n",
       "3   2016-02-01 00:17:00\n",
       "4   2016-02-01 00:19:00\n",
       "Name: created_date, dtype: datetime64[ns]"
      ]
     },
     "execution_count": 12,
     "metadata": {},
     "output_type": "execute_result"
    }
   ],
   "source": [
    "df['created_date'].head()"
   ]
  },
  {
   "cell_type": "code",
   "execution_count": 52,
   "metadata": {
    "collapsed": false
   },
   "outputs": [
    {
     "data": {
      "text/plain": [
       "0   2016-02-01 01:15:00\n",
       "1   2016-02-01 00:54:00\n",
       "2   2016-02-01 01:30:00\n",
       "3   2016-02-01 02:35:00\n",
       "4   2016-02-01 01:00:00\n",
       "Name: closed_date, dtype: datetime64[ns]"
      ]
     },
     "execution_count": 52,
     "metadata": {},
     "output_type": "execute_result"
    }
   ],
   "source": [
    "df['closed_date'].head()"
   ]
  },
  {
   "cell_type": "code",
   "execution_count": 46,
   "metadata": {
    "collapsed": false
   },
   "outputs": [],
   "source": [
    "df['time open'] = df['closed_date'] - df['created_date']"
   ]
  },
  {
   "cell_type": "code",
   "execution_count": 47,
   "metadata": {
    "collapsed": false
   },
   "outputs": [],
   "source": [
    "\n",
    "# df.plot(kind='scatter',y='date_created',x='closed_date')"
   ]
  },
  {
   "cell_type": "code",
   "execution_count": 57,
   "metadata": {
    "collapsed": false
   },
   "outputs": [
    {
     "data": {
      "text/plain": [
       "count                       5650\n",
       "mean      6 days 15:05:05.589380\n",
       "std      14 days 12:05:38.260805\n",
       "min           -19 days +09:29:00\n",
       "25%              0 days 01:14:00\n",
       "50%              0 days 21:48:15\n",
       "75%       4 days 00:30:48.500000\n",
       "max             89 days 18:54:00\n",
       "Name: time open, dtype: object"
      ]
     },
     "execution_count": 57,
     "metadata": {},
     "output_type": "execute_result"
    }
   ],
   "source": [
    "df['time open'].describe()"
   ]
  },
  {
   "cell_type": "code",
   "execution_count": 55,
   "metadata": {
    "collapsed": false
   },
   "outputs": [
    {
     "data": {
      "text/plain": [
       "0   01:03:00\n",
       "1   00:40:00\n",
       "2   01:15:00\n",
       "3   02:18:00\n",
       "4   00:41:00\n",
       "Name: time open, dtype: timedelta64[ns]"
      ]
     },
     "execution_count": 55,
     "metadata": {},
     "output_type": "execute_result"
    }
   ],
   "source": [
    "df['time open'].head()"
   ]
  },
  {
   "cell_type": "markdown",
   "metadata": {},
   "source": [
    "# before removing negative time differences "
   ]
  },
  {
   "cell_type": "code",
   "execution_count": 67,
   "metadata": {
    "collapsed": false
   },
   "outputs": [
    {
     "data": {
      "text/plain": [
       "count                        5467\n",
       "mean     -1 days +22:13:18.931040\n",
       "std       19 days 02:45:11.441675\n",
       "min            -88 days +06:38:00\n",
       "25%      -2 days +06:55:34.500000\n",
       "50%               0 days 00:00:00\n",
       "75%        1 days 10:50:27.500000\n",
       "max              85 days 14:33:50\n",
       "Name: time open, dtype: object"
      ]
     },
     "execution_count": 67,
     "metadata": {},
     "output_type": "execute_result"
    }
   ],
   "source": [
    "# source to remove negative values\n",
    "# http://www.datasciencebytes.com/bytes/2015/05/16/pandas-timedelta-histograms-unit-conversion-and-overflow-danger/\n",
    "time_diff = df['time open'].diff()\n",
    "time_diff.describe()"
   ]
  },
  {
   "cell_type": "markdown",
   "metadata": {},
   "source": [
    "# After removing negatives "
   ]
  },
  {
   "cell_type": "code",
   "execution_count": 68,
   "metadata": {
    "collapsed": false
   },
   "outputs": [
    {
     "data": {
      "text/plain": [
       "count                       2480\n",
       "mean     11 days 01:40:55.583064\n",
       "std      16 days 16:20:47.742352\n",
       "min              0 days 00:00:18\n",
       "25%              0 days 05:44:29\n",
       "50%       2 days 02:32:34.500000\n",
       "75%             14 days 04:47:13\n",
       "max             85 days 14:33:50\n",
       "Name: time open, dtype: object"
      ]
     },
     "execution_count": 68,
     "metadata": {},
     "output_type": "execute_result"
    }
   ],
   "source": [
    "time_diff = time_diff[time_diff > pd.Timedelta(hours=0)].dropna()\n",
    "time_diff.describe()"
   ]
  }
 ],
 "metadata": {
  "kernelspec": {
   "display_name": "Python 3",
   "language": "python",
   "name": "python3"
  },
  "language_info": {
   "codemirror_mode": {
    "name": "ipython",
    "version": 3
   },
   "file_extension": ".py",
   "mimetype": "text/x-python",
   "name": "python",
   "nbconvert_exporter": "python",
   "pygments_lexer": "ipython3",
   "version": "3.5.1"
  }
 },
 "nbformat": 4,
 "nbformat_minor": 0
}
