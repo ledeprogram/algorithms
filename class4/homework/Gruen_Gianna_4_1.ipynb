{
 "cells": [
  {
   "cell_type": "code",
   "execution_count": 10,
   "metadata": {
    "collapsed": true
   },
   "outputs": [],
   "source": [
    "import pandas as pd\n",
    "import pg8000\n",
    "conn = pg8000.connect(host='training.c1erymiua9dx.us-east-1.rds.amazonaws.com', port=5432, database='training', user='dot_student', password='qgis')"
   ]
  },
  {
   "cell_type": "code",
   "execution_count": 11,
   "metadata": {
    "collapsed": true
   },
   "outputs": [],
   "source": [
    "cursor = conn.cursor()"
   ]
  },
  {
   "cell_type": "code",
   "execution_count": 12,
   "metadata": {
    "collapsed": true
   },
   "outputs": [],
   "source": [
    "cursor.execute(\"SELECT * FROM dot_311\")"
   ]
  },
  {
   "cell_type": "code",
   "execution_count": 13,
   "metadata": {
    "collapsed": true
   },
   "outputs": [],
   "source": [
    "dataset = []\n",
    "for record in cursor.fetchall():\n",
    "    dataset.append(record)"
   ]
  },
  {
   "cell_type": "code",
   "execution_count": 14,
   "metadata": {
    "collapsed": false
   },
   "outputs": [],
   "source": [
    "df = pd.DataFrame(dataset)"
   ]
  },
  {
   "cell_type": "code",
   "execution_count": 18,
   "metadata": {
    "collapsed": true
   },
   "outputs": [],
   "source": [
    "conn.rollback()"
   ]
  },
  {
   "cell_type": "code",
   "execution_count": 16,
   "metadata": {
    "collapsed": false
   },
   "outputs": [
    {
     "data": {
      "text/html": [
       "<div>\n",
       "<table border=\"1\" class=\"dataframe\">\n",
       "  <thead>\n",
       "    <tr style=\"text-align: right;\">\n",
       "      <th></th>\n",
       "      <th>0</th>\n",
       "      <th>1</th>\n",
       "      <th>2</th>\n",
       "      <th>3</th>\n",
       "      <th>4</th>\n",
       "      <th>5</th>\n",
       "      <th>6</th>\n",
       "      <th>7</th>\n",
       "      <th>8</th>\n",
       "      <th>9</th>\n",
       "      <th>...</th>\n",
       "      <th>45</th>\n",
       "      <th>46</th>\n",
       "      <th>47</th>\n",
       "      <th>48</th>\n",
       "      <th>49</th>\n",
       "      <th>50</th>\n",
       "      <th>51</th>\n",
       "      <th>52</th>\n",
       "      <th>53</th>\n",
       "      <th>54</th>\n",
       "    </tr>\n",
       "  </thead>\n",
       "  <tbody>\n",
       "    <tr>\n",
       "      <th>0</th>\n",
       "      <td>2</td>\n",
       "      <td>32570549</td>\n",
       "      <td>DOT</td>\n",
       "      <td>Department of Transportation</td>\n",
       "      <td>Traffic Signal Condition</td>\n",
       "      <td>Controller</td>\n",
       "      <td>None</td>\n",
       "      <td>10301</td>\n",
       "      <td>None</td>\n",
       "      <td>None</td>\n",
       "      <td>...</td>\n",
       "      <td>None</td>\n",
       "      <td>None</td>\n",
       "      <td>None</td>\n",
       "      <td>None</td>\n",
       "      <td>40.613803753157917</td>\n",
       "      <td>-74.113373738864198</td>\n",
       "      <td>(40.61380375315792, -74.1133737388642)</td>\n",
       "      <td>0101000020E61000006829ED83418752C0D7FC121F914E...</td>\n",
       "      <td>2016-02-01 00:12:00</td>\n",
       "      <td>2016-02-01 01:15:00</td>\n",
       "    </tr>\n",
       "    <tr>\n",
       "      <th>1</th>\n",
       "      <td>3</td>\n",
       "      <td>32572958</td>\n",
       "      <td>DOT</td>\n",
       "      <td>Department of Transportation</td>\n",
       "      <td>Traffic Signal Condition</td>\n",
       "      <td>Controller</td>\n",
       "      <td>None</td>\n",
       "      <td>10301</td>\n",
       "      <td>None</td>\n",
       "      <td>None</td>\n",
       "      <td>...</td>\n",
       "      <td>None</td>\n",
       "      <td>None</td>\n",
       "      <td>None</td>\n",
       "      <td>None</td>\n",
       "      <td>40.626545297464929</td>\n",
       "      <td>-74.091582334480577</td>\n",
       "      <td>(40.62654529746493, -74.09158233448058)</td>\n",
       "      <td>0101000020E610000011DF267CDC8552C08809E5A23250...</td>\n",
       "      <td>2016-02-01 00:14:00</td>\n",
       "      <td>2016-02-01 00:54:00</td>\n",
       "    </tr>\n",
       "    <tr>\n",
       "      <th>2</th>\n",
       "      <td>4</td>\n",
       "      <td>32573576</td>\n",
       "      <td>DOT</td>\n",
       "      <td>Department of Transportation</td>\n",
       "      <td>Traffic Signal Condition</td>\n",
       "      <td>Controller</td>\n",
       "      <td>None</td>\n",
       "      <td>10310</td>\n",
       "      <td>None</td>\n",
       "      <td>None</td>\n",
       "      <td>...</td>\n",
       "      <td>None</td>\n",
       "      <td>None</td>\n",
       "      <td>None</td>\n",
       "      <td>None</td>\n",
       "      <td>40.629249554787492</td>\n",
       "      <td>-74.123220752604595</td>\n",
       "      <td>(40.62924955478749, -74.1232207526046)</td>\n",
       "      <td>0101000020E610000004A84BD9E28752C0DC6AD93F8B50...</td>\n",
       "      <td>2016-02-01 00:15:00</td>\n",
       "      <td>2016-02-01 01:30:00</td>\n",
       "    </tr>\n",
       "    <tr>\n",
       "      <th>3</th>\n",
       "      <td>5</td>\n",
       "      <td>32572389</td>\n",
       "      <td>DOT</td>\n",
       "      <td>Department of Transportation</td>\n",
       "      <td>Traffic Signal Condition</td>\n",
       "      <td>Controller</td>\n",
       "      <td>None</td>\n",
       "      <td>None</td>\n",
       "      <td>None</td>\n",
       "      <td>None</td>\n",
       "      <td>...</td>\n",
       "      <td>None</td>\n",
       "      <td>None</td>\n",
       "      <td>None</td>\n",
       "      <td>None</td>\n",
       "      <td>None</td>\n",
       "      <td>None</td>\n",
       "      <td>None</td>\n",
       "      <td>0101000020E610000004A84BD9E28752C0DC6AD93F8B50...</td>\n",
       "      <td>2016-02-01 00:17:00</td>\n",
       "      <td>2016-02-01 02:35:00</td>\n",
       "    </tr>\n",
       "    <tr>\n",
       "      <th>4</th>\n",
       "      <td>6</td>\n",
       "      <td>32570548</td>\n",
       "      <td>DOT</td>\n",
       "      <td>Department of Transportation</td>\n",
       "      <td>Traffic Signal Condition</td>\n",
       "      <td>Controller</td>\n",
       "      <td>None</td>\n",
       "      <td>None</td>\n",
       "      <td>None</td>\n",
       "      <td>None</td>\n",
       "      <td>...</td>\n",
       "      <td>None</td>\n",
       "      <td>None</td>\n",
       "      <td>None</td>\n",
       "      <td>None</td>\n",
       "      <td>None</td>\n",
       "      <td>None</td>\n",
       "      <td>None</td>\n",
       "      <td>0101000020E610000004A84BD9E28752C0DC6AD93F8B50...</td>\n",
       "      <td>2016-02-01 00:19:00</td>\n",
       "      <td>2016-02-01 01:00:00</td>\n",
       "    </tr>\n",
       "  </tbody>\n",
       "</table>\n",
       "<p>5 rows × 55 columns</p>\n",
       "</div>"
      ],
      "text/plain": [
       "   0         1    2                             3                         4   \\\n",
       "0   2  32570549  DOT  Department of Transportation  Traffic Signal Condition   \n",
       "1   3  32572958  DOT  Department of Transportation  Traffic Signal Condition   \n",
       "2   4  32573576  DOT  Department of Transportation  Traffic Signal Condition   \n",
       "3   5  32572389  DOT  Department of Transportation  Traffic Signal Condition   \n",
       "4   6  32570548  DOT  Department of Transportation  Traffic Signal Condition   \n",
       "\n",
       "           5     6      7     8     9          ...            45    46    47  \\\n",
       "0  Controller  None  10301  None  None         ...          None  None  None   \n",
       "1  Controller  None  10301  None  None         ...          None  None  None   \n",
       "2  Controller  None  10310  None  None         ...          None  None  None   \n",
       "3  Controller  None   None  None  None         ...          None  None  None   \n",
       "4  Controller  None   None  None  None         ...          None  None  None   \n",
       "\n",
       "     48                  49                   50  \\\n",
       "0  None  40.613803753157917  -74.113373738864198   \n",
       "1  None  40.626545297464929  -74.091582334480577   \n",
       "2  None  40.629249554787492  -74.123220752604595   \n",
       "3  None                None                 None   \n",
       "4  None                None                 None   \n",
       "\n",
       "                                        51  \\\n",
       "0   (40.61380375315792, -74.1133737388642)   \n",
       "1  (40.62654529746493, -74.09158233448058)   \n",
       "2   (40.62924955478749, -74.1232207526046)   \n",
       "3                                     None   \n",
       "4                                     None   \n",
       "\n",
       "                                                  52                  53  \\\n",
       "0  0101000020E61000006829ED83418752C0D7FC121F914E... 2016-02-01 00:12:00   \n",
       "1  0101000020E610000011DF267CDC8552C08809E5A23250... 2016-02-01 00:14:00   \n",
       "2  0101000020E610000004A84BD9E28752C0DC6AD93F8B50... 2016-02-01 00:15:00   \n",
       "3  0101000020E610000004A84BD9E28752C0DC6AD93F8B50... 2016-02-01 00:17:00   \n",
       "4  0101000020E610000004A84BD9E28752C0DC6AD93F8B50... 2016-02-01 00:19:00   \n",
       "\n",
       "                   54  \n",
       "0 2016-02-01 01:15:00  \n",
       "1 2016-02-01 00:54:00  \n",
       "2 2016-02-01 01:30:00  \n",
       "3 2016-02-01 02:35:00  \n",
       "4 2016-02-01 01:00:00  \n",
       "\n",
       "[5 rows x 55 columns]"
      ]
     },
     "execution_count": 16,
     "metadata": {},
     "output_type": "execute_result"
    }
   ],
   "source": [
    "df.head()"
   ]
  },
  {
   "cell_type": "code",
   "execution_count": 24,
   "metadata": {
    "collapsed": false
   },
   "outputs": [
    {
     "data": {
      "text/plain": [
       "RangeIndex(start=0, stop=55, step=1)"
      ]
     },
     "execution_count": 24,
     "metadata": {},
     "output_type": "execute_result"
    }
   ],
   "source": [
    "df.columns"
   ]
  },
  {
   "cell_type": "code",
   "execution_count": 28,
   "metadata": {
    "collapsed": false
   },
   "outputs": [],
   "source": [
    "selection = df[[1,53,54]]\n",
    "selection.columns = (\"unique_key\", \"created_date\", \"closed_date\")"
   ]
  },
  {
   "cell_type": "code",
   "execution_count": 30,
   "metadata": {
    "collapsed": false
   },
   "outputs": [
    {
     "data": {
      "text/html": [
       "<div>\n",
       "<table border=\"1\" class=\"dataframe\">\n",
       "  <thead>\n",
       "    <tr style=\"text-align: right;\">\n",
       "      <th></th>\n",
       "      <th>unique_key</th>\n",
       "      <th>created_date</th>\n",
       "      <th>closed_date</th>\n",
       "    </tr>\n",
       "  </thead>\n",
       "  <tbody>\n",
       "    <tr>\n",
       "      <th>0</th>\n",
       "      <td>32570549</td>\n",
       "      <td>2016-02-01 00:12:00</td>\n",
       "      <td>2016-02-01 01:15:00</td>\n",
       "    </tr>\n",
       "    <tr>\n",
       "      <th>1</th>\n",
       "      <td>32572958</td>\n",
       "      <td>2016-02-01 00:14:00</td>\n",
       "      <td>2016-02-01 00:54:00</td>\n",
       "    </tr>\n",
       "    <tr>\n",
       "      <th>2</th>\n",
       "      <td>32573576</td>\n",
       "      <td>2016-02-01 00:15:00</td>\n",
       "      <td>2016-02-01 01:30:00</td>\n",
       "    </tr>\n",
       "    <tr>\n",
       "      <th>3</th>\n",
       "      <td>32572389</td>\n",
       "      <td>2016-02-01 00:17:00</td>\n",
       "      <td>2016-02-01 02:35:00</td>\n",
       "    </tr>\n",
       "    <tr>\n",
       "      <th>4</th>\n",
       "      <td>32570548</td>\n",
       "      <td>2016-02-01 00:19:00</td>\n",
       "      <td>2016-02-01 01:00:00</td>\n",
       "    </tr>\n",
       "  </tbody>\n",
       "</table>\n",
       "</div>"
      ],
      "text/plain": [
       "  unique_key        created_date         closed_date\n",
       "0   32570549 2016-02-01 00:12:00 2016-02-01 01:15:00\n",
       "1   32572958 2016-02-01 00:14:00 2016-02-01 00:54:00\n",
       "2   32573576 2016-02-01 00:15:00 2016-02-01 01:30:00\n",
       "3   32572389 2016-02-01 00:17:00 2016-02-01 02:35:00\n",
       "4   32570548 2016-02-01 00:19:00 2016-02-01 01:00:00"
      ]
     },
     "execution_count": 30,
     "metadata": {},
     "output_type": "execute_result"
    }
   ],
   "source": [
    "selection.head()"
   ]
  },
  {
   "cell_type": "code",
   "execution_count": 38,
   "metadata": {
    "collapsed": false
   },
   "outputs": [
    {
     "data": {
      "text/plain": [
       "0       0 days 01:03:00\n",
       "1       0 days 00:40:00\n",
       "2       0 days 01:15:00\n",
       "3       0 days 02:18:00\n",
       "4       0 days 00:41:00\n",
       "5       0 days 01:39:00\n",
       "6       0 days 01:08:00\n",
       "7       0 days 00:38:00\n",
       "8       0 days 00:10:00\n",
       "9       0 days 21:57:44\n",
       "10      0 days 20:04:17\n",
       "11      7 days 11:45:00\n",
       "12      9 days 08:20:00\n",
       "13      0 days 00:20:00\n",
       "14                  NaT\n",
       "15      0 days 12:48:00\n",
       "16      2 days 15:40:11\n",
       "17      4 days 10:44:00\n",
       "18      3 days 09:01:00\n",
       "19      1 days 11:33:00\n",
       "20      0 days 08:31:24\n",
       "21      7 days 13:18:00\n",
       "22      3 days 09:34:06\n",
       "23      0 days 06:56:59\n",
       "24      1 days 11:36:00\n",
       "25      0 days 08:06:00\n",
       "26      0 days 10:19:00\n",
       "27      2 days 06:37:00\n",
       "28      0 days 00:23:00\n",
       "29      0 days 06:07:38\n",
       "             ...       \n",
       "5821    2 days 17:15:49\n",
       "5822    1 days 04:45:30\n",
       "5823    1 days 04:44:21\n",
       "5824    1 days 12:59:00\n",
       "5825    2 days 13:35:00\n",
       "5826    1 days 04:34:23\n",
       "5827    1 days 16:04:26\n",
       "5828   38 days 12:04:00\n",
       "5829    4 days 11:02:00\n",
       "5830   19 days 11:30:57\n",
       "5831    0 days 21:04:18\n",
       "5832    5 days 16:30:44\n",
       "5833   15 days 11:14:55\n",
       "5834   10 days 10:27:48\n",
       "5835    1 days 05:13:55\n",
       "5836    1 days 14:36:53\n",
       "5837    1 days 12:28:00\n",
       "5838    2 days 00:43:43\n",
       "5839    9 days 10:42:25\n",
       "5840    1 days 22:44:00\n",
       "5841    0 days 04:21:00\n",
       "5842    0 days 17:31:11\n",
       "5843    0 days 20:04:58\n",
       "5844    1 days 07:15:53\n",
       "5845    0 days 21:33:40\n",
       "5846    1 days 23:13:00\n",
       "5847                NaT\n",
       "5848    5 days 22:37:00\n",
       "5849    1 days 10:13:27\n",
       "5850    3 days 15:19:00\n",
       "dtype: timedelta64[ns]"
      ]
     },
     "execution_count": 38,
     "metadata": {},
     "output_type": "execute_result"
    }
   ],
   "source": [
    "selection['closed_date'] - selection['created_date']"
   ]
  },
  {
   "cell_type": "code",
   "execution_count": 41,
   "metadata": {
    "collapsed": false
   },
   "outputs": [
    {
     "name": "stderr",
     "output_type": "stream",
     "text": [
      "/Users/gcg/.virtualenvs/ddj/lib/python3.5/site-packages/ipykernel/__main__.py:1: SettingWithCopyWarning: \n",
      "A value is trying to be set on a copy of a slice from a DataFrame.\n",
      "Try using .loc[row_indexer,col_indexer] = value instead\n",
      "\n",
      "See the caveats in the documentation: http://pandas.pydata.org/pandas-docs/stable/indexing.html#indexing-view-versus-copy\n",
      "  if __name__ == '__main__':\n"
     ]
    }
   ],
   "source": [
    "selection['time_open'] = selection['closed_date'] - selection['created_date']"
   ]
  },
  {
   "cell_type": "code",
   "execution_count": 43,
   "metadata": {
    "collapsed": false
   },
   "outputs": [
    {
     "data": {
      "text/html": [
       "<div>\n",
       "<table border=\"1\" class=\"dataframe\">\n",
       "  <thead>\n",
       "    <tr style=\"text-align: right;\">\n",
       "      <th></th>\n",
       "      <th>unique_key</th>\n",
       "      <th>created_date</th>\n",
       "      <th>closed_date</th>\n",
       "      <th>time_open</th>\n",
       "    </tr>\n",
       "  </thead>\n",
       "  <tbody>\n",
       "    <tr>\n",
       "      <th>0</th>\n",
       "      <td>32570549</td>\n",
       "      <td>2016-02-01 00:12:00</td>\n",
       "      <td>2016-02-01 01:15:00</td>\n",
       "      <td>0 days 01:03:00</td>\n",
       "    </tr>\n",
       "    <tr>\n",
       "      <th>1</th>\n",
       "      <td>32572958</td>\n",
       "      <td>2016-02-01 00:14:00</td>\n",
       "      <td>2016-02-01 00:54:00</td>\n",
       "      <td>0 days 00:40:00</td>\n",
       "    </tr>\n",
       "    <tr>\n",
       "      <th>2</th>\n",
       "      <td>32573576</td>\n",
       "      <td>2016-02-01 00:15:00</td>\n",
       "      <td>2016-02-01 01:30:00</td>\n",
       "      <td>0 days 01:15:00</td>\n",
       "    </tr>\n",
       "    <tr>\n",
       "      <th>3</th>\n",
       "      <td>32572389</td>\n",
       "      <td>2016-02-01 00:17:00</td>\n",
       "      <td>2016-02-01 02:35:00</td>\n",
       "      <td>0 days 02:18:00</td>\n",
       "    </tr>\n",
       "    <tr>\n",
       "      <th>4</th>\n",
       "      <td>32570548</td>\n",
       "      <td>2016-02-01 00:19:00</td>\n",
       "      <td>2016-02-01 01:00:00</td>\n",
       "      <td>0 days 00:41:00</td>\n",
       "    </tr>\n",
       "    <tr>\n",
       "      <th>5</th>\n",
       "      <td>32574044</td>\n",
       "      <td>2016-02-01 00:21:00</td>\n",
       "      <td>2016-02-01 02:00:00</td>\n",
       "      <td>0 days 01:39:00</td>\n",
       "    </tr>\n",
       "    <tr>\n",
       "      <th>6</th>\n",
       "      <td>32573047</td>\n",
       "      <td>2016-02-01 00:22:00</td>\n",
       "      <td>2016-02-01 01:30:00</td>\n",
       "      <td>0 days 01:08:00</td>\n",
       "    </tr>\n",
       "    <tr>\n",
       "      <th>7</th>\n",
       "      <td>32572971</td>\n",
       "      <td>2016-02-01 00:27:00</td>\n",
       "      <td>2016-02-01 01:05:00</td>\n",
       "      <td>0 days 00:38:00</td>\n",
       "    </tr>\n",
       "    <tr>\n",
       "      <th>8</th>\n",
       "      <td>32575571</td>\n",
       "      <td>2016-02-01 00:32:00</td>\n",
       "      <td>2016-02-01 00:42:00</td>\n",
       "      <td>0 days 00:10:00</td>\n",
       "    </tr>\n",
       "    <tr>\n",
       "      <th>9</th>\n",
       "      <td>32576008</td>\n",
       "      <td>2016-02-01 00:32:16</td>\n",
       "      <td>2016-02-01 22:30:00</td>\n",
       "      <td>0 days 21:57:44</td>\n",
       "    </tr>\n",
       "    <tr>\n",
       "      <th>10</th>\n",
       "      <td>32573945</td>\n",
       "      <td>2016-02-01 00:40:25</td>\n",
       "      <td>2016-02-01 20:44:42</td>\n",
       "      <td>0 days 20:04:17</td>\n",
       "    </tr>\n",
       "    <tr>\n",
       "      <th>11</th>\n",
       "      <td>32570682</td>\n",
       "      <td>2016-02-01 00:44:00</td>\n",
       "      <td>2016-02-08 12:29:00</td>\n",
       "      <td>7 days 11:45:00</td>\n",
       "    </tr>\n",
       "    <tr>\n",
       "      <th>12</th>\n",
       "      <td>32572906</td>\n",
       "      <td>2016-02-01 00:50:00</td>\n",
       "      <td>2016-02-10 09:10:00</td>\n",
       "      <td>9 days 08:20:00</td>\n",
       "    </tr>\n",
       "    <tr>\n",
       "      <th>13</th>\n",
       "      <td>32579102</td>\n",
       "      <td>2016-02-01 00:53:00</td>\n",
       "      <td>2016-02-01 01:13:00</td>\n",
       "      <td>0 days 00:20:00</td>\n",
       "    </tr>\n",
       "    <tr>\n",
       "      <th>14</th>\n",
       "      <td>32578446</td>\n",
       "      <td>2016-02-01 14:26:00</td>\n",
       "      <td>NaT</td>\n",
       "      <td>NaT</td>\n",
       "    </tr>\n",
       "    <tr>\n",
       "      <th>15</th>\n",
       "      <td>32573686</td>\n",
       "      <td>2016-02-01 00:57:00</td>\n",
       "      <td>2016-02-01 13:45:00</td>\n",
       "      <td>0 days 12:48:00</td>\n",
       "    </tr>\n",
       "    <tr>\n",
       "      <th>16</th>\n",
       "      <td>32570317</td>\n",
       "      <td>2016-02-01 01:18:49</td>\n",
       "      <td>2016-02-03 16:59:00</td>\n",
       "      <td>2 days 15:40:11</td>\n",
       "    </tr>\n",
       "    <tr>\n",
       "      <th>17</th>\n",
       "      <td>32581124</td>\n",
       "      <td>2016-02-01 01:20:00</td>\n",
       "      <td>2016-02-05 12:04:00</td>\n",
       "      <td>4 days 10:44:00</td>\n",
       "    </tr>\n",
       "    <tr>\n",
       "      <th>18</th>\n",
       "      <td>32579277</td>\n",
       "      <td>2016-02-01 01:36:00</td>\n",
       "      <td>2016-02-04 10:37:00</td>\n",
       "      <td>3 days 09:01:00</td>\n",
       "    </tr>\n",
       "    <tr>\n",
       "      <th>19</th>\n",
       "      <td>32580720</td>\n",
       "      <td>2016-02-01 01:36:00</td>\n",
       "      <td>2016-02-02 13:09:00</td>\n",
       "      <td>1 days 11:33:00</td>\n",
       "    </tr>\n",
       "    <tr>\n",
       "      <th>20</th>\n",
       "      <td>32571895</td>\n",
       "      <td>2016-02-01 01:51:36</td>\n",
       "      <td>2016-02-01 10:23:00</td>\n",
       "      <td>0 days 08:31:24</td>\n",
       "    </tr>\n",
       "    <tr>\n",
       "      <th>21</th>\n",
       "      <td>32580285</td>\n",
       "      <td>2016-02-01 02:07:00</td>\n",
       "      <td>2016-02-08 15:25:00</td>\n",
       "      <td>7 days 13:18:00</td>\n",
       "    </tr>\n",
       "    <tr>\n",
       "      <th>22</th>\n",
       "      <td>32575419</td>\n",
       "      <td>2016-02-01 02:32:08</td>\n",
       "      <td>2016-02-04 12:06:14</td>\n",
       "      <td>3 days 09:34:06</td>\n",
       "    </tr>\n",
       "    <tr>\n",
       "      <th>23</th>\n",
       "      <td>32570671</td>\n",
       "      <td>2016-02-01 02:43:01</td>\n",
       "      <td>2016-02-01 09:40:00</td>\n",
       "      <td>0 days 06:56:59</td>\n",
       "    </tr>\n",
       "    <tr>\n",
       "      <th>24</th>\n",
       "      <td>32581170</td>\n",
       "      <td>2016-02-01 03:21:00</td>\n",
       "      <td>2016-02-02 14:57:00</td>\n",
       "      <td>1 days 11:36:00</td>\n",
       "    </tr>\n",
       "    <tr>\n",
       "      <th>25</th>\n",
       "      <td>32581434</td>\n",
       "      <td>2016-02-01 03:24:00</td>\n",
       "      <td>2016-02-01 11:30:00</td>\n",
       "      <td>0 days 08:06:00</td>\n",
       "    </tr>\n",
       "    <tr>\n",
       "      <th>26</th>\n",
       "      <td>32575447</td>\n",
       "      <td>2016-02-01 03:25:00</td>\n",
       "      <td>2016-02-01 13:44:00</td>\n",
       "      <td>0 days 10:19:00</td>\n",
       "    </tr>\n",
       "    <tr>\n",
       "      <th>27</th>\n",
       "      <td>32577440</td>\n",
       "      <td>2016-02-01 03:26:00</td>\n",
       "      <td>2016-02-03 10:03:00</td>\n",
       "      <td>2 days 06:37:00</td>\n",
       "    </tr>\n",
       "    <tr>\n",
       "      <th>28</th>\n",
       "      <td>32577560</td>\n",
       "      <td>2016-02-01 03:37:00</td>\n",
       "      <td>2016-02-01 04:00:00</td>\n",
       "      <td>0 days 00:23:00</td>\n",
       "    </tr>\n",
       "    <tr>\n",
       "      <th>29</th>\n",
       "      <td>32575033</td>\n",
       "      <td>2016-02-01 03:49:22</td>\n",
       "      <td>2016-02-01 09:57:00</td>\n",
       "      <td>0 days 06:07:38</td>\n",
       "    </tr>\n",
       "    <tr>\n",
       "      <th>...</th>\n",
       "      <td>...</td>\n",
       "      <td>...</td>\n",
       "      <td>...</td>\n",
       "      <td>...</td>\n",
       "    </tr>\n",
       "    <tr>\n",
       "      <th>5821</th>\n",
       "      <td>32614085</td>\n",
       "      <td>2016-02-06 22:07:24</td>\n",
       "      <td>2016-02-09 15:23:13</td>\n",
       "      <td>2 days 17:15:49</td>\n",
       "    </tr>\n",
       "    <tr>\n",
       "      <th>5822</th>\n",
       "      <td>32612339</td>\n",
       "      <td>2016-02-06 22:23:07</td>\n",
       "      <td>2016-02-08 03:08:37</td>\n",
       "      <td>1 days 04:45:30</td>\n",
       "    </tr>\n",
       "    <tr>\n",
       "      <th>5823</th>\n",
       "      <td>32612333</td>\n",
       "      <td>2016-02-06 22:25:28</td>\n",
       "      <td>2016-02-08 03:09:49</td>\n",
       "      <td>1 days 04:44:21</td>\n",
       "    </tr>\n",
       "    <tr>\n",
       "      <th>5824</th>\n",
       "      <td>32614717</td>\n",
       "      <td>2016-02-06 22:27:00</td>\n",
       "      <td>2016-02-08 11:26:00</td>\n",
       "      <td>1 days 12:59:00</td>\n",
       "    </tr>\n",
       "    <tr>\n",
       "      <th>5825</th>\n",
       "      <td>32617685</td>\n",
       "      <td>2016-02-06 22:32:00</td>\n",
       "      <td>2016-02-09 12:07:00</td>\n",
       "      <td>2 days 13:35:00</td>\n",
       "    </tr>\n",
       "    <tr>\n",
       "      <th>5826</th>\n",
       "      <td>32615195</td>\n",
       "      <td>2016-02-06 22:34:14</td>\n",
       "      <td>2016-02-08 03:08:37</td>\n",
       "      <td>1 days 04:34:23</td>\n",
       "    </tr>\n",
       "    <tr>\n",
       "      <th>5827</th>\n",
       "      <td>32613947</td>\n",
       "      <td>2016-02-06 22:34:34</td>\n",
       "      <td>2016-02-08 14:39:00</td>\n",
       "      <td>1 days 16:04:26</td>\n",
       "    </tr>\n",
       "    <tr>\n",
       "      <th>5828</th>\n",
       "      <td>32612566</td>\n",
       "      <td>2016-02-06 22:35:00</td>\n",
       "      <td>2016-03-16 10:39:00</td>\n",
       "      <td>38 days 12:04:00</td>\n",
       "    </tr>\n",
       "    <tr>\n",
       "      <th>5829</th>\n",
       "      <td>32614725</td>\n",
       "      <td>2016-02-06 22:41:00</td>\n",
       "      <td>2016-02-11 09:43:00</td>\n",
       "      <td>4 days 11:02:00</td>\n",
       "    </tr>\n",
       "    <tr>\n",
       "      <th>5830</th>\n",
       "      <td>32617705</td>\n",
       "      <td>2016-02-06 22:42:29</td>\n",
       "      <td>2016-02-26 10:13:26</td>\n",
       "      <td>19 days 11:30:57</td>\n",
       "    </tr>\n",
       "    <tr>\n",
       "      <th>5831</th>\n",
       "      <td>32620216</td>\n",
       "      <td>2016-02-06 23:35:42</td>\n",
       "      <td>2016-02-07 20:40:00</td>\n",
       "      <td>0 days 21:04:18</td>\n",
       "    </tr>\n",
       "    <tr>\n",
       "      <th>5832</th>\n",
       "      <td>32617828</td>\n",
       "      <td>2016-02-06 22:47:30</td>\n",
       "      <td>2016-02-12 15:18:14</td>\n",
       "      <td>5 days 16:30:44</td>\n",
       "    </tr>\n",
       "    <tr>\n",
       "      <th>5833</th>\n",
       "      <td>32618570</td>\n",
       "      <td>2016-02-06 22:49:43</td>\n",
       "      <td>2016-02-22 10:04:38</td>\n",
       "      <td>15 days 11:14:55</td>\n",
       "    </tr>\n",
       "    <tr>\n",
       "      <th>5834</th>\n",
       "      <td>32616052</td>\n",
       "      <td>2016-02-06 22:53:35</td>\n",
       "      <td>2016-02-17 09:21:23</td>\n",
       "      <td>10 days 10:27:48</td>\n",
       "    </tr>\n",
       "    <tr>\n",
       "      <th>5835</th>\n",
       "      <td>32612279</td>\n",
       "      <td>2016-02-06 22:55:05</td>\n",
       "      <td>2016-02-08 04:09:00</td>\n",
       "      <td>1 days 05:13:55</td>\n",
       "    </tr>\n",
       "    <tr>\n",
       "      <th>5836</th>\n",
       "      <td>32614241</td>\n",
       "      <td>2016-02-06 22:56:01</td>\n",
       "      <td>2016-02-08 13:32:54</td>\n",
       "      <td>1 days 14:36:53</td>\n",
       "    </tr>\n",
       "    <tr>\n",
       "      <th>5837</th>\n",
       "      <td>32617383</td>\n",
       "      <td>2016-02-06 22:59:00</td>\n",
       "      <td>2016-02-08 11:27:00</td>\n",
       "      <td>1 days 12:28:00</td>\n",
       "    </tr>\n",
       "    <tr>\n",
       "      <th>5838</th>\n",
       "      <td>32618573</td>\n",
       "      <td>2016-02-06 23:02:17</td>\n",
       "      <td>2016-02-08 23:46:00</td>\n",
       "      <td>2 days 00:43:43</td>\n",
       "    </tr>\n",
       "    <tr>\n",
       "      <th>5839</th>\n",
       "      <td>32617669</td>\n",
       "      <td>2016-02-06 23:02:35</td>\n",
       "      <td>2016-02-16 09:45:00</td>\n",
       "      <td>9 days 10:42:25</td>\n",
       "    </tr>\n",
       "    <tr>\n",
       "      <th>5840</th>\n",
       "      <td>32612533</td>\n",
       "      <td>2016-02-06 23:06:00</td>\n",
       "      <td>2016-02-08 21:50:00</td>\n",
       "      <td>1 days 22:44:00</td>\n",
       "    </tr>\n",
       "    <tr>\n",
       "      <th>5841</th>\n",
       "      <td>32618378</td>\n",
       "      <td>2016-02-06 23:09:00</td>\n",
       "      <td>2016-02-07 03:30:00</td>\n",
       "      <td>0 days 04:21:00</td>\n",
       "    </tr>\n",
       "    <tr>\n",
       "      <th>5842</th>\n",
       "      <td>32622707</td>\n",
       "      <td>2016-02-06 23:33:49</td>\n",
       "      <td>2016-02-07 17:05:00</td>\n",
       "      <td>0 days 17:31:11</td>\n",
       "    </tr>\n",
       "    <tr>\n",
       "      <th>5843</th>\n",
       "      <td>32622721</td>\n",
       "      <td>2016-02-06 23:35:02</td>\n",
       "      <td>2016-02-07 19:40:00</td>\n",
       "      <td>0 days 20:04:58</td>\n",
       "    </tr>\n",
       "    <tr>\n",
       "      <th>5844</th>\n",
       "      <td>32613217</td>\n",
       "      <td>2016-02-06 23:36:15</td>\n",
       "      <td>2016-02-08 06:52:08</td>\n",
       "      <td>1 days 07:15:53</td>\n",
       "    </tr>\n",
       "    <tr>\n",
       "      <th>5845</th>\n",
       "      <td>32623981</td>\n",
       "      <td>2016-02-06 23:36:20</td>\n",
       "      <td>2016-02-07 21:10:00</td>\n",
       "      <td>0 days 21:33:40</td>\n",
       "    </tr>\n",
       "    <tr>\n",
       "      <th>5846</th>\n",
       "      <td>32617301</td>\n",
       "      <td>2016-02-06 23:37:00</td>\n",
       "      <td>2016-02-08 22:50:00</td>\n",
       "      <td>1 days 23:13:00</td>\n",
       "    </tr>\n",
       "    <tr>\n",
       "      <th>5847</th>\n",
       "      <td>32614083</td>\n",
       "      <td>2016-02-06 23:46:22</td>\n",
       "      <td>NaT</td>\n",
       "      <td>NaT</td>\n",
       "    </tr>\n",
       "    <tr>\n",
       "      <th>5848</th>\n",
       "      <td>32612807</td>\n",
       "      <td>2016-02-06 23:53:00</td>\n",
       "      <td>2016-02-12 22:30:00</td>\n",
       "      <td>5 days 22:37:00</td>\n",
       "    </tr>\n",
       "    <tr>\n",
       "      <th>5849</th>\n",
       "      <td>32617735</td>\n",
       "      <td>2016-02-06 23:54:02</td>\n",
       "      <td>2016-02-08 10:07:29</td>\n",
       "      <td>1 days 10:13:27</td>\n",
       "    </tr>\n",
       "    <tr>\n",
       "      <th>5850</th>\n",
       "      <td>32619242</td>\n",
       "      <td>2016-02-07 00:00:00</td>\n",
       "      <td>2016-02-10 15:19:00</td>\n",
       "      <td>3 days 15:19:00</td>\n",
       "    </tr>\n",
       "  </tbody>\n",
       "</table>\n",
       "<p>5851 rows × 4 columns</p>\n",
       "</div>"
      ],
      "text/plain": [
       "     unique_key        created_date         closed_date        time_open\n",
       "0      32570549 2016-02-01 00:12:00 2016-02-01 01:15:00  0 days 01:03:00\n",
       "1      32572958 2016-02-01 00:14:00 2016-02-01 00:54:00  0 days 00:40:00\n",
       "2      32573576 2016-02-01 00:15:00 2016-02-01 01:30:00  0 days 01:15:00\n",
       "3      32572389 2016-02-01 00:17:00 2016-02-01 02:35:00  0 days 02:18:00\n",
       "4      32570548 2016-02-01 00:19:00 2016-02-01 01:00:00  0 days 00:41:00\n",
       "5      32574044 2016-02-01 00:21:00 2016-02-01 02:00:00  0 days 01:39:00\n",
       "6      32573047 2016-02-01 00:22:00 2016-02-01 01:30:00  0 days 01:08:00\n",
       "7      32572971 2016-02-01 00:27:00 2016-02-01 01:05:00  0 days 00:38:00\n",
       "8      32575571 2016-02-01 00:32:00 2016-02-01 00:42:00  0 days 00:10:00\n",
       "9      32576008 2016-02-01 00:32:16 2016-02-01 22:30:00  0 days 21:57:44\n",
       "10     32573945 2016-02-01 00:40:25 2016-02-01 20:44:42  0 days 20:04:17\n",
       "11     32570682 2016-02-01 00:44:00 2016-02-08 12:29:00  7 days 11:45:00\n",
       "12     32572906 2016-02-01 00:50:00 2016-02-10 09:10:00  9 days 08:20:00\n",
       "13     32579102 2016-02-01 00:53:00 2016-02-01 01:13:00  0 days 00:20:00\n",
       "14     32578446 2016-02-01 14:26:00                 NaT              NaT\n",
       "15     32573686 2016-02-01 00:57:00 2016-02-01 13:45:00  0 days 12:48:00\n",
       "16     32570317 2016-02-01 01:18:49 2016-02-03 16:59:00  2 days 15:40:11\n",
       "17     32581124 2016-02-01 01:20:00 2016-02-05 12:04:00  4 days 10:44:00\n",
       "18     32579277 2016-02-01 01:36:00 2016-02-04 10:37:00  3 days 09:01:00\n",
       "19     32580720 2016-02-01 01:36:00 2016-02-02 13:09:00  1 days 11:33:00\n",
       "20     32571895 2016-02-01 01:51:36 2016-02-01 10:23:00  0 days 08:31:24\n",
       "21     32580285 2016-02-01 02:07:00 2016-02-08 15:25:00  7 days 13:18:00\n",
       "22     32575419 2016-02-01 02:32:08 2016-02-04 12:06:14  3 days 09:34:06\n",
       "23     32570671 2016-02-01 02:43:01 2016-02-01 09:40:00  0 days 06:56:59\n",
       "24     32581170 2016-02-01 03:21:00 2016-02-02 14:57:00  1 days 11:36:00\n",
       "25     32581434 2016-02-01 03:24:00 2016-02-01 11:30:00  0 days 08:06:00\n",
       "26     32575447 2016-02-01 03:25:00 2016-02-01 13:44:00  0 days 10:19:00\n",
       "27     32577440 2016-02-01 03:26:00 2016-02-03 10:03:00  2 days 06:37:00\n",
       "28     32577560 2016-02-01 03:37:00 2016-02-01 04:00:00  0 days 00:23:00\n",
       "29     32575033 2016-02-01 03:49:22 2016-02-01 09:57:00  0 days 06:07:38\n",
       "...         ...                 ...                 ...              ...\n",
       "5821   32614085 2016-02-06 22:07:24 2016-02-09 15:23:13  2 days 17:15:49\n",
       "5822   32612339 2016-02-06 22:23:07 2016-02-08 03:08:37  1 days 04:45:30\n",
       "5823   32612333 2016-02-06 22:25:28 2016-02-08 03:09:49  1 days 04:44:21\n",
       "5824   32614717 2016-02-06 22:27:00 2016-02-08 11:26:00  1 days 12:59:00\n",
       "5825   32617685 2016-02-06 22:32:00 2016-02-09 12:07:00  2 days 13:35:00\n",
       "5826   32615195 2016-02-06 22:34:14 2016-02-08 03:08:37  1 days 04:34:23\n",
       "5827   32613947 2016-02-06 22:34:34 2016-02-08 14:39:00  1 days 16:04:26\n",
       "5828   32612566 2016-02-06 22:35:00 2016-03-16 10:39:00 38 days 12:04:00\n",
       "5829   32614725 2016-02-06 22:41:00 2016-02-11 09:43:00  4 days 11:02:00\n",
       "5830   32617705 2016-02-06 22:42:29 2016-02-26 10:13:26 19 days 11:30:57\n",
       "5831   32620216 2016-02-06 23:35:42 2016-02-07 20:40:00  0 days 21:04:18\n",
       "5832   32617828 2016-02-06 22:47:30 2016-02-12 15:18:14  5 days 16:30:44\n",
       "5833   32618570 2016-02-06 22:49:43 2016-02-22 10:04:38 15 days 11:14:55\n",
       "5834   32616052 2016-02-06 22:53:35 2016-02-17 09:21:23 10 days 10:27:48\n",
       "5835   32612279 2016-02-06 22:55:05 2016-02-08 04:09:00  1 days 05:13:55\n",
       "5836   32614241 2016-02-06 22:56:01 2016-02-08 13:32:54  1 days 14:36:53\n",
       "5837   32617383 2016-02-06 22:59:00 2016-02-08 11:27:00  1 days 12:28:00\n",
       "5838   32618573 2016-02-06 23:02:17 2016-02-08 23:46:00  2 days 00:43:43\n",
       "5839   32617669 2016-02-06 23:02:35 2016-02-16 09:45:00  9 days 10:42:25\n",
       "5840   32612533 2016-02-06 23:06:00 2016-02-08 21:50:00  1 days 22:44:00\n",
       "5841   32618378 2016-02-06 23:09:00 2016-02-07 03:30:00  0 days 04:21:00\n",
       "5842   32622707 2016-02-06 23:33:49 2016-02-07 17:05:00  0 days 17:31:11\n",
       "5843   32622721 2016-02-06 23:35:02 2016-02-07 19:40:00  0 days 20:04:58\n",
       "5844   32613217 2016-02-06 23:36:15 2016-02-08 06:52:08  1 days 07:15:53\n",
       "5845   32623981 2016-02-06 23:36:20 2016-02-07 21:10:00  0 days 21:33:40\n",
       "5846   32617301 2016-02-06 23:37:00 2016-02-08 22:50:00  1 days 23:13:00\n",
       "5847   32614083 2016-02-06 23:46:22                 NaT              NaT\n",
       "5848   32612807 2016-02-06 23:53:00 2016-02-12 22:30:00  5 days 22:37:00\n",
       "5849   32617735 2016-02-06 23:54:02 2016-02-08 10:07:29  1 days 10:13:27\n",
       "5850   32619242 2016-02-07 00:00:00 2016-02-10 15:19:00  3 days 15:19:00\n",
       "\n",
       "[5851 rows x 4 columns]"
      ]
     },
     "execution_count": 43,
     "metadata": {},
     "output_type": "execute_result"
    }
   ],
   "source": [
    "selection"
   ]
  },
  {
   "cell_type": "code",
   "execution_count": 44,
   "metadata": {
    "collapsed": false
   },
   "outputs": [
    {
     "data": {
      "text/plain": [
       "Timedelta('6 days 15:05:05.589380')"
      ]
     },
     "execution_count": 44,
     "metadata": {},
     "output_type": "execute_result"
    }
   ],
   "source": [
    "selection['time_open'].mean()"
   ]
  },
  {
   "cell_type": "code",
   "execution_count": 45,
   "metadata": {
    "collapsed": false
   },
   "outputs": [
    {
     "data": {
      "text/plain": [
       "Timedelta('0 days 21:48:15')"
      ]
     },
     "execution_count": 45,
     "metadata": {},
     "output_type": "execute_result"
    }
   ],
   "source": [
    "selection['time_open'].median()"
   ]
  },
  {
   "cell_type": "code",
   "execution_count": 47,
   "metadata": {
    "collapsed": true
   },
   "outputs": [],
   "source": [
    "range_time_open = max(selection['time_open']) - min(selection['time_open'])"
   ]
  },
  {
   "cell_type": "code",
   "execution_count": 48,
   "metadata": {
    "collapsed": false
   },
   "outputs": [
    {
     "data": {
      "text/plain": [
       "Timedelta('108 days 09:25:00')"
      ]
     },
     "execution_count": 48,
     "metadata": {},
     "output_type": "execute_result"
    }
   ],
   "source": [
    "range_time_open"
   ]
  },
  {
   "cell_type": "code",
   "execution_count": 49,
   "metadata": {
    "collapsed": false
   },
   "outputs": [
    {
     "data": {
      "text/plain": [
       "Timedelta('14 days 12:05:38.260805')"
      ]
     },
     "execution_count": 49,
     "metadata": {},
     "output_type": "execute_result"
    }
   ],
   "source": [
    "selection['time_open'].std()"
   ]
  },
  {
   "cell_type": "code",
   "execution_count": 51,
   "metadata": {
    "collapsed": false
   },
   "outputs": [
    {
     "data": {
      "text/plain": [
       "Timedelta('0 days 01:14:00')"
      ]
     },
     "execution_count": 51,
     "metadata": {},
     "output_type": "execute_result"
    }
   ],
   "source": [
    "selection['time_open'].quantile(q=0.25)"
   ]
  },
  {
   "cell_type": "code",
   "execution_count": 52,
   "metadata": {
    "collapsed": false
   },
   "outputs": [
    {
     "data": {
      "text/plain": [
       "Timedelta('0 days 21:48:15')"
      ]
     },
     "execution_count": 52,
     "metadata": {},
     "output_type": "execute_result"
    }
   ],
   "source": [
    "selection['time_open'].quantile(q=0.5)"
   ]
  },
  {
   "cell_type": "code",
   "execution_count": 53,
   "metadata": {
    "collapsed": false
   },
   "outputs": [
    {
     "data": {
      "text/plain": [
       "Timedelta('4 days 00:30:48.500000')"
      ]
     },
     "execution_count": 53,
     "metadata": {},
     "output_type": "execute_result"
    }
   ],
   "source": [
    "selection['time_open'].quantile(q=0.75)"
   ]
  },
  {
   "cell_type": "code",
   "execution_count": 55,
   "metadata": {
    "collapsed": false
   },
   "outputs": [
    {
     "data": {
      "text/plain": [
       "Timedelta('3 days 23:16:48.500000')"
      ]
     },
     "execution_count": 55,
     "metadata": {},
     "output_type": "execute_result"
    }
   ],
   "source": [
    "iqr = selection['time_open'].quantile(q=0.75) - selection['time_open'].quantile(q=0.25)\n",
    "iqr"
   ]
  },
  {
   "cell_type": "code",
   "execution_count": 57,
   "metadata": {
    "collapsed": false
   },
   "outputs": [],
   "source": [
    "#check for outliers"
   ]
  },
  {
   "cell_type": "code",
   "execution_count": 59,
   "metadata": {
    "collapsed": false
   },
   "outputs": [
    {
     "data": {
      "text/plain": [
       "Timedelta('9 days 23:26:01.250000')"
      ]
     },
     "execution_count": 59,
     "metadata": {},
     "output_type": "execute_result"
    }
   ],
   "source": [
    "ual = selection['time_open'].quantile(q=0.75) + (iqr * 1.5)\n",
    "ual"
   ]
  },
  {
   "cell_type": "code",
   "execution_count": 60,
   "metadata": {
    "collapsed": false
   },
   "outputs": [
    {
     "data": {
      "text/plain": [
       "Timedelta('-6 days +02:18:47.250000')"
      ]
     },
     "execution_count": 60,
     "metadata": {},
     "output_type": "execute_result"
    }
   ],
   "source": [
    "lal = selection['time_open'].quantile(q=0.25) - (iqr * 1.5)\n",
    "lal"
   ]
  },
  {
   "cell_type": "code",
   "execution_count": null,
   "metadata": {
    "collapsed": true
   },
   "outputs": [],
   "source": []
  }
 ],
 "metadata": {
  "kernelspec": {
   "display_name": "Python 3",
   "language": "python",
   "name": "python3"
  },
  "language_info": {
   "codemirror_mode": {
    "name": "ipython",
    "version": 3
   },
   "file_extension": ".py",
   "mimetype": "text/x-python",
   "name": "python",
   "nbconvert_exporter": "python",
   "pygments_lexer": "ipython3",
   "version": "3.5.1"
  }
 },
 "nbformat": 4,
 "nbformat_minor": 0
}
