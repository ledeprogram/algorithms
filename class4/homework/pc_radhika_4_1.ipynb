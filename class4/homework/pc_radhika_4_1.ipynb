{
 "cells": [
  {
   "cell_type": "markdown",
   "metadata": {},
   "source": [
    "### Assignment 1 ###\n",
    "\n",
    "Perform a basic statistical analysis of the time DOT 311 (table is called dot_311) complaints are open (subtract closed date from created date)\n",
    "Connect to the database to get the data and do the analysis. Submit the code through Github and type up your results in your PR\n",
    "\n",
    "Host: training.c1erymiua9dx.us-east-1.rds.amazonaws.com\n",
    "Port: 5432\n",
    "Database: training\n",
    "Username: dot_student\n",
    "Password: qgis"
   ]
  },
  {
   "cell_type": "code",
   "execution_count": 1,
   "metadata": {
    "collapsed": true
   },
   "outputs": [],
   "source": [
    "import pandas as pd\n",
    "import numpy as np\n",
    "import matplotlib.pyplot as plt\n",
    "%matplotlib inline\n",
    "plt.style.use('ggplot')\n",
    "import dateutil.parser\n",
    "import pg8000\n",
    "from pandas import DataFrame\n"
   ]
  },
  {
   "cell_type": "code",
   "execution_count": 2,
   "metadata": {
    "collapsed": false
   },
   "outputs": [],
   "source": [
    "conn = pg8000.connect(host=\"training.c1erymiua9dx.us-east-1.rds.amazonaws.com\", user='dot_student', password='qgis', database='training')\n",
    "cursor = conn.cursor()"
   ]
  },
  {
   "cell_type": "code",
   "execution_count": 3,
   "metadata": {
    "collapsed": false
   },
   "outputs": [
    {
     "data": {
      "text/plain": [
       "['gid',\n",
       " 'unique_key',\n",
       " 'agency',\n",
       " 'agency nam',\n",
       " 'complaint',\n",
       " 'descriptor',\n",
       " 'location t',\n",
       " 'incident z',\n",
       " 'incident a',\n",
       " 'street nam',\n",
       " 'cross stre',\n",
       " 'cross st_1',\n",
       " 'intersecti',\n",
       " 'intersec_1',\n",
       " 'address ty',\n",
       " 'city',\n",
       " 'landmark',\n",
       " 'facility t',\n",
       " 'status',\n",
       " 'due date',\n",
       " 'resolution',\n",
       " 'resoluti_1',\n",
       " 'community',\n",
       " 'borough',\n",
       " 'x coordina',\n",
       " 'y coordina',\n",
       " 'park facil',\n",
       " 'park borou',\n",
       " 'school nam',\n",
       " 'school num',\n",
       " 'school reg',\n",
       " 'school cod',\n",
       " 'school pho',\n",
       " 'school add',\n",
       " 'school cit',\n",
       " 'school sta',\n",
       " 'school zip',\n",
       " 'school not',\n",
       " 'school or',\n",
       " 'vehicle ty',\n",
       " 'taxi compa',\n",
       " 'taxi pick',\n",
       " 'bridge hig',\n",
       " 'bridge h_1',\n",
       " 'road ramp',\n",
       " 'bridge h_2',\n",
       " 'garage lot',\n",
       " 'ferry dire',\n",
       " 'ferry term',\n",
       " 'latitude',\n",
       " 'longitude',\n",
       " 'location',\n",
       " 'geom',\n",
       " 'created_date',\n",
       " 'closed_date']"
      ]
     },
     "execution_count": 3,
     "metadata": {},
     "output_type": "execute_result"
    }
   ],
   "source": [
    "cursor.execute(\"select column_name from information_schema.columns where table_name='dot_311'\")\n",
    "column_list = []\n",
    "for row in cursor.fetchall():\n",
    "    column_list.append(row[0])\n",
    "column_list"
   ]
  },
  {
   "cell_type": "code",
   "execution_count": 4,
   "metadata": {
    "collapsed": true
   },
   "outputs": [],
   "source": [
    "response = \"select * from dot_311\""
   ]
  },
  {
   "cell_type": "code",
   "execution_count": 5,
   "metadata": {
    "collapsed": false
   },
   "outputs": [],
   "source": [
    "cursor.execute(\"select * from dot_311\")\n",
    "output = []\n",
    "for row in cursor.fetchall():\n",
    "    output.append(row)\n"
   ]
  },
  {
   "cell_type": "code",
   "execution_count": 6,
   "metadata": {
    "collapsed": true
   },
   "outputs": [],
   "source": [
    "df = pd.DataFrame(data=output, columns=column_list)"
   ]
  },
  {
   "cell_type": "code",
   "execution_count": 7,
   "metadata": {
    "collapsed": false
   },
   "outputs": [
    {
     "data": {
      "text/html": [
       "<div>\n",
       "<table border=\"1\" class=\"dataframe\">\n",
       "  <thead>\n",
       "    <tr style=\"text-align: right;\">\n",
       "      <th></th>\n",
       "      <th>gid</th>\n",
       "      <th>unique_key</th>\n",
       "      <th>agency</th>\n",
       "      <th>agency nam</th>\n",
       "      <th>complaint</th>\n",
       "      <th>descriptor</th>\n",
       "      <th>location t</th>\n",
       "      <th>incident z</th>\n",
       "      <th>incident a</th>\n",
       "      <th>street nam</th>\n",
       "      <th>...</th>\n",
       "      <th>bridge h_2</th>\n",
       "      <th>garage lot</th>\n",
       "      <th>ferry dire</th>\n",
       "      <th>ferry term</th>\n",
       "      <th>latitude</th>\n",
       "      <th>longitude</th>\n",
       "      <th>location</th>\n",
       "      <th>geom</th>\n",
       "      <th>created_date</th>\n",
       "      <th>closed_date</th>\n",
       "    </tr>\n",
       "  </thead>\n",
       "  <tbody>\n",
       "    <tr>\n",
       "      <th>0</th>\n",
       "      <td>2</td>\n",
       "      <td>32570549</td>\n",
       "      <td>DOT</td>\n",
       "      <td>Department of Transportation</td>\n",
       "      <td>Traffic Signal Condition</td>\n",
       "      <td>Controller</td>\n",
       "      <td>None</td>\n",
       "      <td>10301</td>\n",
       "      <td>None</td>\n",
       "      <td>None</td>\n",
       "      <td>...</td>\n",
       "      <td>None</td>\n",
       "      <td>None</td>\n",
       "      <td>None</td>\n",
       "      <td>None</td>\n",
       "      <td>40.613803753157917</td>\n",
       "      <td>-74.113373738864198</td>\n",
       "      <td>(40.61380375315792, -74.1133737388642)</td>\n",
       "      <td>0101000020E61000006829ED83418752C0D7FC121F914E...</td>\n",
       "      <td>2016-02-01 00:12:00</td>\n",
       "      <td>2016-02-01 01:15:00</td>\n",
       "    </tr>\n",
       "    <tr>\n",
       "      <th>1</th>\n",
       "      <td>3</td>\n",
       "      <td>32572958</td>\n",
       "      <td>DOT</td>\n",
       "      <td>Department of Transportation</td>\n",
       "      <td>Traffic Signal Condition</td>\n",
       "      <td>Controller</td>\n",
       "      <td>None</td>\n",
       "      <td>10301</td>\n",
       "      <td>None</td>\n",
       "      <td>None</td>\n",
       "      <td>...</td>\n",
       "      <td>None</td>\n",
       "      <td>None</td>\n",
       "      <td>None</td>\n",
       "      <td>None</td>\n",
       "      <td>40.626545297464929</td>\n",
       "      <td>-74.091582334480577</td>\n",
       "      <td>(40.62654529746493, -74.09158233448058)</td>\n",
       "      <td>0101000020E610000011DF267CDC8552C08809E5A23250...</td>\n",
       "      <td>2016-02-01 00:14:00</td>\n",
       "      <td>2016-02-01 00:54:00</td>\n",
       "    </tr>\n",
       "    <tr>\n",
       "      <th>2</th>\n",
       "      <td>4</td>\n",
       "      <td>32573576</td>\n",
       "      <td>DOT</td>\n",
       "      <td>Department of Transportation</td>\n",
       "      <td>Traffic Signal Condition</td>\n",
       "      <td>Controller</td>\n",
       "      <td>None</td>\n",
       "      <td>10310</td>\n",
       "      <td>None</td>\n",
       "      <td>None</td>\n",
       "      <td>...</td>\n",
       "      <td>None</td>\n",
       "      <td>None</td>\n",
       "      <td>None</td>\n",
       "      <td>None</td>\n",
       "      <td>40.629249554787492</td>\n",
       "      <td>-74.123220752604595</td>\n",
       "      <td>(40.62924955478749, -74.1232207526046)</td>\n",
       "      <td>0101000020E610000004A84BD9E28752C0DC6AD93F8B50...</td>\n",
       "      <td>2016-02-01 00:15:00</td>\n",
       "      <td>2016-02-01 01:30:00</td>\n",
       "    </tr>\n",
       "  </tbody>\n",
       "</table>\n",
       "<p>3 rows × 55 columns</p>\n",
       "</div>"
      ],
      "text/plain": [
       "   gid unique_key agency                    agency nam  \\\n",
       "0    2   32570549    DOT  Department of Transportation   \n",
       "1    3   32572958    DOT  Department of Transportation   \n",
       "2    4   32573576    DOT  Department of Transportation   \n",
       "\n",
       "                  complaint  descriptor location t incident z incident a  \\\n",
       "0  Traffic Signal Condition  Controller       None      10301       None   \n",
       "1  Traffic Signal Condition  Controller       None      10301       None   \n",
       "2  Traffic Signal Condition  Controller       None      10310       None   \n",
       "\n",
       "  street nam         ...         bridge h_2 garage lot ferry dire ferry term  \\\n",
       "0       None         ...               None       None       None       None   \n",
       "1       None         ...               None       None       None       None   \n",
       "2       None         ...               None       None       None       None   \n",
       "\n",
       "             latitude            longitude  \\\n",
       "0  40.613803753157917  -74.113373738864198   \n",
       "1  40.626545297464929  -74.091582334480577   \n",
       "2  40.629249554787492  -74.123220752604595   \n",
       "\n",
       "                                  location  \\\n",
       "0   (40.61380375315792, -74.1133737388642)   \n",
       "1  (40.62654529746493, -74.09158233448058)   \n",
       "2   (40.62924955478749, -74.1232207526046)   \n",
       "\n",
       "                                                geom        created_date  \\\n",
       "0  0101000020E61000006829ED83418752C0D7FC121F914E... 2016-02-01 00:12:00   \n",
       "1  0101000020E610000011DF267CDC8552C08809E5A23250... 2016-02-01 00:14:00   \n",
       "2  0101000020E610000004A84BD9E28752C0DC6AD93F8B50... 2016-02-01 00:15:00   \n",
       "\n",
       "          closed_date  \n",
       "0 2016-02-01 01:15:00  \n",
       "1 2016-02-01 00:54:00  \n",
       "2 2016-02-01 01:30:00  \n",
       "\n",
       "[3 rows x 55 columns]"
      ]
     },
     "execution_count": 7,
     "metadata": {},
     "output_type": "execute_result"
    }
   ],
   "source": [
    "df.head(3)"
   ]
  },
  {
   "cell_type": "code",
   "execution_count": 8,
   "metadata": {
    "collapsed": false
   },
   "outputs": [],
   "source": [
    "sel_df = df[[\n",
    " 'unique_key',\n",
    " 'agency',\n",
    " 'agency nam',\n",
    " 'created_date',\n",
    " 'closed_date',                  \n",
    " 'complaint',\n",
    " 'descriptor',\n",
    " 'status',\n",
    " 'due date',\n",
    " 'resolution',\n",
    " 'city',\n",
    " 'borough'\n",
    " ]]"
   ]
  },
  {
   "cell_type": "code",
   "execution_count": 9,
   "metadata": {
    "collapsed": false
   },
   "outputs": [
    {
     "data": {
      "text/html": [
       "<div>\n",
       "<table border=\"1\" class=\"dataframe\">\n",
       "  <thead>\n",
       "    <tr style=\"text-align: right;\">\n",
       "      <th></th>\n",
       "      <th>unique_key</th>\n",
       "      <th>agency</th>\n",
       "      <th>agency nam</th>\n",
       "      <th>created_date</th>\n",
       "      <th>closed_date</th>\n",
       "      <th>complaint</th>\n",
       "      <th>descriptor</th>\n",
       "      <th>status</th>\n",
       "      <th>due date</th>\n",
       "      <th>resolution</th>\n",
       "      <th>city</th>\n",
       "      <th>borough</th>\n",
       "    </tr>\n",
       "  </thead>\n",
       "  <tbody>\n",
       "    <tr>\n",
       "      <th>0</th>\n",
       "      <td>32570549</td>\n",
       "      <td>DOT</td>\n",
       "      <td>Department of Transportation</td>\n",
       "      <td>2016-02-01 00:12:00</td>\n",
       "      <td>2016-02-01 01:15:00</td>\n",
       "      <td>Traffic Signal Condition</td>\n",
       "      <td>Controller</td>\n",
       "      <td>Closed</td>\n",
       "      <td>None</td>\n",
       "      <td>None</td>\n",
       "      <td>STATEN ISLAND</td>\n",
       "      <td>STATEN ISLAND</td>\n",
       "    </tr>\n",
       "    <tr>\n",
       "      <th>1</th>\n",
       "      <td>32572958</td>\n",
       "      <td>DOT</td>\n",
       "      <td>Department of Transportation</td>\n",
       "      <td>2016-02-01 00:14:00</td>\n",
       "      <td>2016-02-01 00:54:00</td>\n",
       "      <td>Traffic Signal Condition</td>\n",
       "      <td>Controller</td>\n",
       "      <td>Closed</td>\n",
       "      <td>None</td>\n",
       "      <td>None</td>\n",
       "      <td>STATEN ISLAND</td>\n",
       "      <td>STATEN ISLAND</td>\n",
       "    </tr>\n",
       "    <tr>\n",
       "      <th>2</th>\n",
       "      <td>32573576</td>\n",
       "      <td>DOT</td>\n",
       "      <td>Department of Transportation</td>\n",
       "      <td>2016-02-01 00:15:00</td>\n",
       "      <td>2016-02-01 01:30:00</td>\n",
       "      <td>Traffic Signal Condition</td>\n",
       "      <td>Controller</td>\n",
       "      <td>Closed</td>\n",
       "      <td>None</td>\n",
       "      <td>None</td>\n",
       "      <td>STATEN ISLAND</td>\n",
       "      <td>STATEN ISLAND</td>\n",
       "    </tr>\n",
       "  </tbody>\n",
       "</table>\n",
       "</div>"
      ],
      "text/plain": [
       "  unique_key agency                    agency nam        created_date  \\\n",
       "0   32570549    DOT  Department of Transportation 2016-02-01 00:12:00   \n",
       "1   32572958    DOT  Department of Transportation 2016-02-01 00:14:00   \n",
       "2   32573576    DOT  Department of Transportation 2016-02-01 00:15:00   \n",
       "\n",
       "          closed_date                 complaint  descriptor  status due date  \\\n",
       "0 2016-02-01 01:15:00  Traffic Signal Condition  Controller  Closed     None   \n",
       "1 2016-02-01 00:54:00  Traffic Signal Condition  Controller  Closed     None   \n",
       "2 2016-02-01 01:30:00  Traffic Signal Condition  Controller  Closed     None   \n",
       "\n",
       "  resolution           city        borough  \n",
       "0       None  STATEN ISLAND  STATEN ISLAND  \n",
       "1       None  STATEN ISLAND  STATEN ISLAND  \n",
       "2       None  STATEN ISLAND  STATEN ISLAND  "
      ]
     },
     "execution_count": 9,
     "metadata": {},
     "output_type": "execute_result"
    }
   ],
   "source": [
    "sel_df.head(3)"
   ]
  },
  {
   "cell_type": "code",
   "execution_count": 10,
   "metadata": {
    "collapsed": false,
    "scrolled": true
   },
   "outputs": [
    {
     "name": "stdout",
     "output_type": "stream",
     "text": [
      "<class 'pandas.core.frame.DataFrame'>\n",
      "RangeIndex: 5851 entries, 0 to 5850\n",
      "Data columns (total 12 columns):\n",
      "unique_key      5851 non-null object\n",
      "agency          5851 non-null object\n",
      "agency nam      5851 non-null object\n",
      "created_date    5851 non-null datetime64[ns]\n",
      "closed_date     5650 non-null datetime64[ns]\n",
      "complaint       5851 non-null object\n",
      "descriptor      5851 non-null object\n",
      "status          5851 non-null object\n",
      "due date        1464 non-null object\n",
      "resolution      1657 non-null object\n",
      "city            4405 non-null object\n",
      "borough         5851 non-null object\n",
      "dtypes: datetime64[ns](2), object(10)\n",
      "memory usage: 320.0+ KB\n"
     ]
    }
   ],
   "source": [
    "sel_df.info()"
   ]
  },
  {
   "cell_type": "code",
   "execution_count": 78,
   "metadata": {
    "collapsed": false
   },
   "outputs": [],
   "source": [
    "#dateutil.parser.parse(\"2016-02-01 00:15:00\")"
   ]
  },
  {
   "cell_type": "code",
   "execution_count": 60,
   "metadata": {
    "collapsed": false
   },
   "outputs": [
    {
     "name": "stdout",
     "output_type": "stream",
     "text": [
      "<class 'pandas.core.frame.DataFrame'>\n",
      "RangeIndex: 5851 entries, 0 to 5850\n",
      "Data columns (total 15 columns):\n",
      "unique_key      5851 non-null object\n",
      "agency          5851 non-null object\n",
      "agency nam      5851 non-null object\n",
      "created_date    5851 non-null datetime64[ns]\n",
      "closed_date     5650 non-null datetime64[ns]\n",
      "complaint       5851 non-null object\n",
      "descriptor      5851 non-null object\n",
      "status          5851 non-null object\n",
      "due date        1464 non-null object\n",
      "resolution      1657 non-null object\n",
      "city            4405 non-null object\n",
      "borough         5851 non-null object\n",
      "delay           4547 non-null timedelta64[ns]\n",
      "CreatedDate     5851 non-null datetime64[ns]\n",
      "ClosedDate      5650 non-null datetime64[ns]\n",
      "dtypes: datetime64[ns](4), object(10), timedelta64[ns](1)\n",
      "memory usage: 457.1+ KB\n"
     ]
    },
    {
     "name": "stderr",
     "output_type": "stream",
     "text": [
      "c:\\users\\radhika\\appdata\\local\\programs\\python\\python35-32\\lib\\site-packages\\ipykernel\\__main__.py:1: SettingWithCopyWarning: \n",
      "A value is trying to be set on a copy of a slice from a DataFrame.\n",
      "Try using .loc[row_indexer,col_indexer] = value instead\n",
      "\n",
      "See the caveats in the documentation: http://pandas.pydata.org/pandas-docs/stable/indexing.html#indexing-view-versus-copy\n",
      "  if __name__ == '__main__':\n"
     ]
    }
   ],
   "source": [
    "sel_df['ClosedDate'] = pd.to_datetime(sel_df['closed_date'], format='%m/%d/%y %H:%M:%S')\n",
    "sel_df.info()"
   ]
  },
  {
   "cell_type": "code",
   "execution_count": 59,
   "metadata": {
    "collapsed": false
   },
   "outputs": [
    {
     "name": "stdout",
     "output_type": "stream",
     "text": [
      "<class 'pandas.core.frame.DataFrame'>\n",
      "RangeIndex: 5851 entries, 0 to 5850\n",
      "Data columns (total 14 columns):\n",
      "unique_key      5851 non-null object\n",
      "agency          5851 non-null object\n",
      "agency nam      5851 non-null object\n",
      "created_date    5851 non-null datetime64[ns]\n",
      "closed_date     5650 non-null datetime64[ns]\n",
      "complaint       5851 non-null object\n",
      "descriptor      5851 non-null object\n",
      "status          5851 non-null object\n",
      "due date        1464 non-null object\n",
      "resolution      1657 non-null object\n",
      "city            4405 non-null object\n",
      "borough         5851 non-null object\n",
      "delay           4547 non-null timedelta64[ns]\n",
      "CreatedDate     5851 non-null datetime64[ns]\n",
      "dtypes: datetime64[ns](3), object(10), timedelta64[ns](1)\n",
      "memory usage: 411.4+ KB\n"
     ]
    },
    {
     "name": "stderr",
     "output_type": "stream",
     "text": [
      "c:\\users\\radhika\\appdata\\local\\programs\\python\\python35-32\\lib\\site-packages\\ipykernel\\__main__.py:2: SettingWithCopyWarning: \n",
      "A value is trying to be set on a copy of a slice from a DataFrame.\n",
      "Try using .loc[row_indexer,col_indexer] = value instead\n",
      "\n",
      "See the caveats in the documentation: http://pandas.pydata.org/pandas-docs/stable/indexing.html#indexing-view-versus-copy\n",
      "  from ipykernel import kernelapp as app\n"
     ]
    }
   ],
   "source": [
    "#no need to do this step as created date and closed date are already in datetime format\n",
    "sel_df['CreatedDate'] = pd.to_datetime(sel_df['created_date'], format='%m/%d/%y %H:%M:%S')\n",
    "sel_df.info()"
   ]
  },
  {
   "cell_type": "code",
   "execution_count": 15,
   "metadata": {
    "collapsed": false
   },
   "outputs": [],
   "source": [
    "#def parse_date(str_date):\n",
    "    #return dateutil.parser.parse(str_date)\n",
    "\n",
    "#df['Created Date'] = df['created_date'].apply(parse_date)"
   ]
  },
  {
   "cell_type": "code",
   "execution_count": 79,
   "metadata": {
    "collapsed": false
   },
   "outputs": [
    {
     "name": "stderr",
     "output_type": "stream",
     "text": [
      "c:\\users\\radhika\\appdata\\local\\programs\\python\\python35-32\\lib\\site-packages\\ipykernel\\__main__.py:1: SettingWithCopyWarning: \n",
      "A value is trying to be set on a copy of a slice from a DataFrame.\n",
      "Try using .loc[row_indexer,col_indexer] = value instead\n",
      "\n",
      "See the caveats in the documentation: http://pandas.pydata.org/pandas-docs/stable/indexing.html#indexing-view-versus-copy\n",
      "  if __name__ == '__main__':\n"
     ]
    },
    {
     "data": {
      "text/plain": [
       "0   01:03:00\n",
       "1   00:40:00\n",
       "2   01:15:00\n",
       "Name: delay, dtype: timedelta64[ns]"
      ]
     },
     "execution_count": 79,
     "metadata": {},
     "output_type": "execute_result"
    }
   ],
   "source": [
    "sel_df['delay'] = sel_df['ClosedDate'] - sel_df['CreatedDate']\n",
    "sel_df['delay'].head(3)"
   ]
  },
  {
   "cell_type": "code",
   "execution_count": 64,
   "metadata": {
    "collapsed": false,
    "scrolled": true
   },
   "outputs": [
    {
     "data": {
      "text/plain": [
       "False    5650\n",
       "True      201\n",
       "dtype: int64"
      ]
     },
     "execution_count": 64,
     "metadata": {},
     "output_type": "execute_result"
    }
   ],
   "source": [
    "delay.isnull().value_counts()"
   ]
  },
  {
   "cell_type": "code",
   "execution_count": 65,
   "metadata": {
    "collapsed": false
   },
   "outputs": [
    {
     "data": {
      "text/html": [
       "<div>\n",
       "<table border=\"1\" class=\"dataframe\">\n",
       "  <thead>\n",
       "    <tr style=\"text-align: right;\">\n",
       "      <th></th>\n",
       "      <th>delay</th>\n",
       "    </tr>\n",
       "  </thead>\n",
       "  <tbody>\n",
       "    <tr>\n",
       "      <th>count</th>\n",
       "      <td>4547</td>\n",
       "    </tr>\n",
       "    <tr>\n",
       "      <th>mean</th>\n",
       "      <td>8 days 16:15:03.514405</td>\n",
       "    </tr>\n",
       "    <tr>\n",
       "      <th>std</th>\n",
       "      <td>15 days 10:48:08.619990</td>\n",
       "    </tr>\n",
       "    <tr>\n",
       "      <th>min</th>\n",
       "      <td>0 days 00:00:01</td>\n",
       "    </tr>\n",
       "    <tr>\n",
       "      <th>25%</th>\n",
       "      <td>0 days 12:41:58</td>\n",
       "    </tr>\n",
       "    <tr>\n",
       "      <th>50%</th>\n",
       "      <td>1 days 03:33:17</td>\n",
       "    </tr>\n",
       "    <tr>\n",
       "      <th>75%</th>\n",
       "      <td>6 days 00:30:23.500000</td>\n",
       "    </tr>\n",
       "    <tr>\n",
       "      <th>max</th>\n",
       "      <td>89 days 18:54:00</td>\n",
       "    </tr>\n",
       "  </tbody>\n",
       "</table>\n",
       "</div>"
      ],
      "text/plain": [
       "                         delay\n",
       "count                     4547\n",
       "mean    8 days 16:15:03.514405\n",
       "std    15 days 10:48:08.619990\n",
       "min            0 days 00:00:01\n",
       "25%            0 days 12:41:58\n",
       "50%            1 days 03:33:17\n",
       "75%     6 days 00:30:23.500000\n",
       "max           89 days 18:54:00"
      ]
     },
     "execution_count": 65,
     "metadata": {},
     "output_type": "execute_result"
    }
   ],
   "source": [
    "delay_delta = pd.DataFrame(sel_df['delay'][sel_df['delay']> pd.Timedelta(seconds=0)].dropna())\n",
    "delay_delta.describe()"
   ]
  },
  {
   "cell_type": "code",
   "execution_count": 83,
   "metadata": {
    "collapsed": false
   },
   "outputs": [
    {
     "data": {
      "text/html": [
       "<div>\n",
       "<table border=\"1\" class=\"dataframe\">\n",
       "  <thead>\n",
       "    <tr style=\"text-align: right;\">\n",
       "      <th></th>\n",
       "      <th>delay</th>\n",
       "    </tr>\n",
       "  </thead>\n",
       "  <tbody>\n",
       "    <tr>\n",
       "      <th>0</th>\n",
       "      <td>01:03:00</td>\n",
       "    </tr>\n",
       "    <tr>\n",
       "      <th>1</th>\n",
       "      <td>00:40:00</td>\n",
       "    </tr>\n",
       "    <tr>\n",
       "      <th>2</th>\n",
       "      <td>01:15:00</td>\n",
       "    </tr>\n",
       "    <tr>\n",
       "      <th>3</th>\n",
       "      <td>02:18:00</td>\n",
       "    </tr>\n",
       "    <tr>\n",
       "      <th>4</th>\n",
       "      <td>00:41:00</td>\n",
       "    </tr>\n",
       "  </tbody>\n",
       "</table>\n",
       "</div>"
      ],
      "text/plain": [
       "     delay\n",
       "0 01:03:00\n",
       "1 00:40:00\n",
       "2 01:15:00\n",
       "3 02:18:00\n",
       "4 00:41:00"
      ]
     },
     "execution_count": 83,
     "metadata": {},
     "output_type": "execute_result"
    }
   ],
   "source": [
    "delay_delta.head()"
   ]
  },
  {
   "cell_type": "code",
   "execution_count": 66,
   "metadata": {
    "collapsed": false
   },
   "outputs": [
    {
     "data": {
      "text/plain": [
       "False    4547\n",
       "Name: delay, dtype: int64"
      ]
     },
     "execution_count": 66,
     "metadata": {},
     "output_type": "execute_result"
    }
   ],
   "source": [
    "#now all the null values have been removed. great ! now i can test with a dataframe.\n",
    "delay_delta['delay'].isnull().value_counts()"
   ]
  },
  {
   "cell_type": "code",
   "execution_count": 69,
   "metadata": {
    "collapsed": false
   },
   "outputs": [
    {
     "data": {
      "text/plain": [
       "0          3780.0\n",
       "1          2400.0\n",
       "2          4500.0\n",
       "3          8280.0\n",
       "4          2460.0\n",
       "5          5940.0\n",
       "6          4080.0\n",
       "7          2280.0\n",
       "8           600.0\n",
       "9         79064.0\n",
       "10        72257.0\n",
       "11       647100.0\n",
       "12       807600.0\n",
       "13         1200.0\n",
       "15        46080.0\n",
       "16       229211.0\n",
       "17       384240.0\n",
       "18       291660.0\n",
       "19       127980.0\n",
       "20        30684.0\n",
       "21       652680.0\n",
       "22       293646.0\n",
       "23        25019.0\n",
       "24       128160.0\n",
       "25        29160.0\n",
       "26        37140.0\n",
       "27       196620.0\n",
       "28         1380.0\n",
       "29        22058.0\n",
       "30       172860.0\n",
       "          ...    \n",
       "5820     399642.0\n",
       "5821     234949.0\n",
       "5822     103530.0\n",
       "5823     103461.0\n",
       "5824     133140.0\n",
       "5825     221700.0\n",
       "5826     102863.0\n",
       "5827     144266.0\n",
       "5828    3326640.0\n",
       "5829     385320.0\n",
       "5830    1683057.0\n",
       "5831      75858.0\n",
       "5832     491444.0\n",
       "5833    1336495.0\n",
       "5834     901668.0\n",
       "5835     105235.0\n",
       "5836     139013.0\n",
       "5837     131280.0\n",
       "5838     175423.0\n",
       "5839     816145.0\n",
       "5840     168240.0\n",
       "5841      15660.0\n",
       "5842      63071.0\n",
       "5843      72298.0\n",
       "5844     112553.0\n",
       "5845      77620.0\n",
       "5846     169980.0\n",
       "5848     513420.0\n",
       "5849     123207.0\n",
       "5850     314340.0\n",
       "Name: delay, dtype: float64"
      ]
     },
     "execution_count": 69,
     "metadata": {},
     "output_type": "execute_result"
    }
   ],
   "source": [
    "#changing the delta value to seconds so that we can plot easily\n",
    "delay_delta['delay'].astype('timedelta64[s]')"
   ]
  },
  {
   "cell_type": "code",
   "execution_count": 90,
   "metadata": {
    "collapsed": false
   },
   "outputs": [
    {
     "data": {
      "text/plain": [
       "<matplotlib.text.Text at 0x11c28310>"
      ]
     },
     "execution_count": 90,
     "metadata": {},
     "output_type": "execute_result"
    },
    {
     "data": {
      "image/png": "[encoded data removed]",
      "text/plain": [
       "<matplotlib.figure.Figure at 0xaf65450>"
      ]
     },
     "metadata": {},
     "output_type": "display_data"
    }
   ],
   "source": [
    "# plotting time delata in days bucket\n",
    "delay_delta['delay'].astype('timedelta64[D]').hist(bins=20)\n",
    "plt.xlabel('Response in Days')\n",
    "plt.ylabel('Frequency of Resonse')"
   ]
  },
  {
   "cell_type": "code",
   "execution_count": null,
   "metadata": {
    "collapsed": true
   },
   "outputs": [],
   "source": [
    "delay_delta['delay'].astype('timedelta64[D]').hist(bins=20)"
   ]
  },
  {
   "cell_type": "code",
   "execution_count": 21,
   "metadata": {
    "collapsed": false
   },
   "outputs": [
    {
     "data": {
      "text/plain": [
       "0   01:03:00\n",
       "1   00:40:00\n",
       "2   01:15:00\n",
       "3   02:18:00\n",
       "4   00:41:00\n",
       "Name: delay, dtype: timedelta64[ns]"
      ]
     },
     "execution_count": 21,
     "metadata": {},
     "output_type": "execute_result"
    }
   ],
   "source": [
    "delay_delta['delay'].head()"
   ]
  },
  {
   "cell_type": "code",
   "execution_count": 84,
   "metadata": {
    "collapsed": false
   },
   "outputs": [],
   "source": [
    "# Now checking the original dataframe sel_df. it has 201 null values which i have to remove.\n",
    "#sel_df['delay'].isnull().value_counts()"
   ]
  },
  {
   "cell_type": "code",
   "execution_count": 85,
   "metadata": {
    "collapsed": false
   },
   "outputs": [],
   "source": [
    "# Don't assign a dataframe to a column after dropping rows because if you append to the original dataframe, the index wont match.\n",
    "#sel_df['delay'] = pd.DataFrame(sel_df['delay'][sel_df['delay']> pd.Timedelta(seconds=0)].dropna())\n",
    "#sel_df['delay'].describe()"
   ]
  },
  {
   "cell_type": "code",
   "execution_count": 86,
   "metadata": {
    "collapsed": false
   },
   "outputs": [],
   "source": [
    "#pd.DataFrame(sel_df['delay'][sel_df['delay']> pd.Timedelta(seconds=0)])['delay']"
   ]
  },
  {
   "cell_type": "code",
   "execution_count": 80,
   "metadata": {
    "collapsed": false
   },
   "outputs": [],
   "source": [
    "#sel_df['delay']"
   ]
  },
  {
   "cell_type": "code",
   "execution_count": 81,
   "metadata": {
    "collapsed": false
   },
   "outputs": [],
   "source": [
    "#sel_df['delay'].isnull().value_counts()"
   ]
  },
  {
   "cell_type": "code",
   "execution_count": 82,
   "metadata": {
    "collapsed": false
   },
   "outputs": [
    {
     "data": {
      "text/html": [
       "<div>\n",
       "<table border=\"1\" class=\"dataframe\">\n",
       "  <thead>\n",
       "    <tr style=\"text-align: right;\">\n",
       "      <th></th>\n",
       "      <th>unique_key</th>\n",
       "      <th>agency</th>\n",
       "      <th>agency nam</th>\n",
       "      <th>created_date</th>\n",
       "      <th>closed_date</th>\n",
       "      <th>complaint</th>\n",
       "      <th>descriptor</th>\n",
       "      <th>status</th>\n",
       "      <th>due date</th>\n",
       "      <th>resolution</th>\n",
       "      <th>city</th>\n",
       "      <th>borough</th>\n",
       "      <th>delay</th>\n",
       "      <th>CreatedDate</th>\n",
       "      <th>ClosedDate</th>\n",
       "    </tr>\n",
       "  </thead>\n",
       "  <tbody>\n",
       "    <tr>\n",
       "      <th>0</th>\n",
       "      <td>32570549</td>\n",
       "      <td>DOT</td>\n",
       "      <td>Department of Transportation</td>\n",
       "      <td>2016-02-01 00:12:00</td>\n",
       "      <td>2016-02-01 01:15:00</td>\n",
       "      <td>Traffic Signal Condition</td>\n",
       "      <td>Controller</td>\n",
       "      <td>Closed</td>\n",
       "      <td>None</td>\n",
       "      <td>None</td>\n",
       "      <td>STATEN ISLAND</td>\n",
       "      <td>STATEN ISLAND</td>\n",
       "      <td>01:03:00</td>\n",
       "      <td>2016-02-01 00:12:00</td>\n",
       "      <td>2016-02-01 01:15:00</td>\n",
       "    </tr>\n",
       "    <tr>\n",
       "      <th>1</th>\n",
       "      <td>32572958</td>\n",
       "      <td>DOT</td>\n",
       "      <td>Department of Transportation</td>\n",
       "      <td>2016-02-01 00:14:00</td>\n",
       "      <td>2016-02-01 00:54:00</td>\n",
       "      <td>Traffic Signal Condition</td>\n",
       "      <td>Controller</td>\n",
       "      <td>Closed</td>\n",
       "      <td>None</td>\n",
       "      <td>None</td>\n",
       "      <td>STATEN ISLAND</td>\n",
       "      <td>STATEN ISLAND</td>\n",
       "      <td>00:40:00</td>\n",
       "      <td>2016-02-01 00:14:00</td>\n",
       "      <td>2016-02-01 00:54:00</td>\n",
       "    </tr>\n",
       "    <tr>\n",
       "      <th>2</th>\n",
       "      <td>32573576</td>\n",
       "      <td>DOT</td>\n",
       "      <td>Department of Transportation</td>\n",
       "      <td>2016-02-01 00:15:00</td>\n",
       "      <td>2016-02-01 01:30:00</td>\n",
       "      <td>Traffic Signal Condition</td>\n",
       "      <td>Controller</td>\n",
       "      <td>Closed</td>\n",
       "      <td>None</td>\n",
       "      <td>None</td>\n",
       "      <td>STATEN ISLAND</td>\n",
       "      <td>STATEN ISLAND</td>\n",
       "      <td>01:15:00</td>\n",
       "      <td>2016-02-01 00:15:00</td>\n",
       "      <td>2016-02-01 01:30:00</td>\n",
       "    </tr>\n",
       "  </tbody>\n",
       "</table>\n",
       "</div>"
      ],
      "text/plain": [
       "  unique_key agency                    agency nam        created_date  \\\n",
       "0   32570549    DOT  Department of Transportation 2016-02-01 00:12:00   \n",
       "1   32572958    DOT  Department of Transportation 2016-02-01 00:14:00   \n",
       "2   32573576    DOT  Department of Transportation 2016-02-01 00:15:00   \n",
       "\n",
       "          closed_date                 complaint  descriptor  status due date  \\\n",
       "0 2016-02-01 01:15:00  Traffic Signal Condition  Controller  Closed     None   \n",
       "1 2016-02-01 00:54:00  Traffic Signal Condition  Controller  Closed     None   \n",
       "2 2016-02-01 01:30:00  Traffic Signal Condition  Controller  Closed     None   \n",
       "\n",
       "  resolution           city        borough    delay         CreatedDate  \\\n",
       "0       None  STATEN ISLAND  STATEN ISLAND 01:03:00 2016-02-01 00:12:00   \n",
       "1       None  STATEN ISLAND  STATEN ISLAND 00:40:00 2016-02-01 00:14:00   \n",
       "2       None  STATEN ISLAND  STATEN ISLAND 01:15:00 2016-02-01 00:15:00   \n",
       "\n",
       "           ClosedDate  \n",
       "0 2016-02-01 01:15:00  \n",
       "1 2016-02-01 00:54:00  \n",
       "2 2016-02-01 01:30:00  "
      ]
     },
     "execution_count": 82,
     "metadata": {},
     "output_type": "execute_result"
    }
   ],
   "source": [
    "sel_df.head(3)"
   ]
  },
  {
   "cell_type": "code",
   "execution_count": 87,
   "metadata": {
    "collapsed": false
   },
   "outputs": [
    {
     "data": {
      "text/plain": [
       "0   01:03:00\n",
       "1   00:40:00\n",
       "2   01:15:00\n",
       "3   02:18:00\n",
       "4   00:41:00\n",
       "Name: delay, dtype: timedelta64[ns]"
      ]
     },
     "execution_count": 87,
     "metadata": {},
     "output_type": "execute_result"
    }
   ],
   "source": [
    "delay_delta['delay'].head()"
   ]
  },
  {
   "cell_type": "code",
   "execution_count": 88,
   "metadata": {
    "collapsed": false
   },
   "outputs": [
    {
     "data": {
      "text/plain": [
       "00:20:00    23\n",
       "01:32:00    10\n",
       "01:26:00    10\n",
       "02:02:00     9\n",
       "00:25:00     9\n",
       "Name: delay, dtype: int64"
      ]
     },
     "execution_count": 88,
     "metadata": {},
     "output_type": "execute_result"
    }
   ],
   "source": [
    "delay_delta['delay'].value_counts().head()"
   ]
  },
  {
   "cell_type": "code",
   "execution_count": 27,
   "metadata": {
    "collapsed": false
   },
   "outputs": [
    {
     "data": {
      "text/plain": [
       "<matplotlib.text.Text at 0x93a0330>"
      ]
     },
     "execution_count": 27,
     "metadata": {},
     "output_type": "execute_result"
    },
    {
     "data": {
      "image/png": "[encoded data removed]",
      "text/plain": [
       "<matplotlib.figure.Figure at 0x731fe30>"
      ]
     },
     "metadata": {},
     "output_type": "display_data"
    }
   ],
   "source": [
    "\n",
    "delay_delta['delay'].value_counts().hist()\n",
    "plt.xlabel('Delay')\n",
    "plt.ylabel('Frequency of Delay')"
   ]
  },
  {
   "cell_type": "code",
   "execution_count": 89,
   "metadata": {
    "collapsed": false
   },
   "outputs": [
    {
     "data": {
      "text/html": [
       "<div>\n",
       "<table border=\"1\" class=\"dataframe\">\n",
       "  <thead>\n",
       "    <tr style=\"text-align: right;\">\n",
       "      <th></th>\n",
       "      <th>delay</th>\n",
       "    </tr>\n",
       "  </thead>\n",
       "  <tbody>\n",
       "    <tr>\n",
       "      <th>00:20:00</th>\n",
       "      <td>23</td>\n",
       "    </tr>\n",
       "    <tr>\n",
       "      <th>01:32:00</th>\n",
       "      <td>10</td>\n",
       "    </tr>\n",
       "    <tr>\n",
       "      <th>01:26:00</th>\n",
       "      <td>10</td>\n",
       "    </tr>\n",
       "    <tr>\n",
       "      <th>02:02:00</th>\n",
       "      <td>9</td>\n",
       "    </tr>\n",
       "    <tr>\n",
       "      <th>00:25:00</th>\n",
       "      <td>9</td>\n",
       "    </tr>\n",
       "  </tbody>\n",
       "</table>\n",
       "</div>"
      ],
      "text/plain": [
       "          delay\n",
       "00:20:00     23\n",
       "01:32:00     10\n",
       "01:26:00     10\n",
       "02:02:00      9\n",
       "00:25:00      9"
      ]
     },
     "execution_count": 89,
     "metadata": {},
     "output_type": "execute_result"
    }
   ],
   "source": [
    "delay_plot = pd.DataFrame(delay_delta['delay'].value_counts())\n",
    "delay_plot.head()"
   ]
  },
  {
   "cell_type": "code",
   "execution_count": 93,
   "metadata": {
    "collapsed": false
   },
   "outputs": [
    {
     "data": {
      "text/plain": [
       "<matplotlib.text.Text at 0x17863dd0>"
      ]
     },
     "execution_count": 93,
     "metadata": {},
     "output_type": "execute_result"
    },
    {
     "data": {
      "image/png": "[encoded data removed]",
      "text/plain": [
       "<matplotlib.figure.Figure at 0x17885270>"
      ]
     },
     "metadata": {},
     "output_type": "display_data"
    }
   ],
   "source": [
    "\n",
    "delay_delta['delay'].astype('timedelta64[D]').plot(kind='bar',x=delay_plot.index, y ='delay')\n",
    "plt.xlabel('Response in Days')\n",
    "plt.ylabel('Frequency of Resonse')"
   ]
  },
  {
   "cell_type": "code",
   "execution_count": 100,
   "metadata": {
    "collapsed": false
   },
   "outputs": [
    {
     "data": {
      "text/plain": [
       "count                       4547\n",
       "mean      8 days 16:15:03.514405\n",
       "std      15 days 10:48:08.619990\n",
       "min              0 days 00:00:01\n",
       "25%              0 days 12:41:58\n",
       "50%              1 days 03:33:17\n",
       "75%       6 days 00:30:23.500000\n",
       "max             89 days 18:54:00\n",
       "Name: delay, dtype: object"
      ]
     },
     "execution_count": 100,
     "metadata": {},
     "output_type": "execute_result"
    }
   ],
   "source": [
    "delay_delta['delay'].describe()"
   ]
  },
  {
   "cell_type": "code",
   "execution_count": 30,
   "metadata": {
    "collapsed": false
   },
   "outputs": [
    {
     "data": {
      "text/plain": [
       "delay    1.0\n",
       "dtype: float64"
      ]
     },
     "execution_count": 30,
     "metadata": {},
     "output_type": "execute_result"
    }
   ],
   "source": [
    "delay_plot.quantile(q=0.25)"
   ]
  },
  {
   "cell_type": "code",
   "execution_count": 31,
   "metadata": {
    "collapsed": false
   },
   "outputs": [
    {
     "data": {
      "text/plain": [
       "delay    1.0\n",
       "dtype: float64"
      ]
     },
     "execution_count": 31,
     "metadata": {},
     "output_type": "execute_result"
    }
   ],
   "source": [
    "delay_plot.quantile(q=0.5)"
   ]
  },
  {
   "cell_type": "code",
   "execution_count": 32,
   "metadata": {
    "collapsed": false
   },
   "outputs": [
    {
     "data": {
      "text/plain": [
       "delay    1.0\n",
       "dtype: float64"
      ]
     },
     "execution_count": 32,
     "metadata": {},
     "output_type": "execute_result"
    }
   ],
   "source": [
    "delay_plot.quantile(q=0.75)"
   ]
  },
  {
   "cell_type": "code",
   "execution_count": null,
   "metadata": {
    "collapsed": true
   },
   "outputs": [],
   "source": []
  }
 ],
 "metadata": {
  "kernelspec": {
   "display_name": "Python 3",
   "language": "python",
   "name": "python3"
  },
  "language_info": {
   "codemirror_mode": {
    "name": "ipython",
    "version": 3
   },
   "file_extension": ".py",
   "mimetype": "text/x-python",
   "name": "python",
   "nbconvert_exporter": "python",
   "pygments_lexer": "ipython3",
   "version": "3.5.1"
  }
 },
 "nbformat": 4,
 "nbformat_minor": 0
}
