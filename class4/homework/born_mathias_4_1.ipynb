{
 "cells": [
  {
   "cell_type": "markdown",
   "metadata": {},
   "source": [
    "# Assignment 1\n",
    "\n",
    "- Connect to the database to get the data and do the analysis. \n",
    "- Perform a basic statistical analysis of the time DOT 311 (table is called dot_311) complaints are open (subtract closed date from created date)\n",
    "- Submit the code through Github and type up your results in your PR."
   ]
  },
  {
   "cell_type": "code",
   "execution_count": 1,
   "metadata": {
    "collapsed": true
   },
   "outputs": [],
   "source": [
    "import pandas as pd\n",
    "import pg8000\n",
    "from datetime import datetime\n",
    "import numpy as np\n",
    "import matplotlib\n",
    "%matplotlib inline"
   ]
  },
  {
   "cell_type": "markdown",
   "metadata": {},
   "source": [
    "## Preparing the data"
   ]
  },
  {
   "cell_type": "code",
   "execution_count": 2,
   "metadata": {
    "collapsed": false
   },
   "outputs": [],
   "source": [
    "# Set up the database\n",
    "conn = pg8000.connect(host='training.c1erymiua9dx.us-east-1.rds.amazonaws.com', port=5432, database='training', user='dot_student', password='qgis')"
   ]
  },
  {
   "cell_type": "code",
   "execution_count": 3,
   "metadata": {
    "collapsed": true
   },
   "outputs": [],
   "source": [
    "# Rollback database connection in case of problems\n",
    "conn.rollback()"
   ]
  },
  {
   "cell_type": "code",
   "execution_count": 4,
   "metadata": {
    "collapsed": false
   },
   "outputs": [],
   "source": [
    "# Getting the data from the database\n",
    "cursor = conn.cursor()\n",
    "db = list()\n",
    "cursor.execute(\"SELECT * FROM dot_311\")\n",
    "for item in cursor.fetchall():\n",
    "    db.append(item)"
   ]
  },
  {
   "cell_type": "code",
   "execution_count": 5,
   "metadata": {
    "collapsed": false
   },
   "outputs": [],
   "source": [
    "# Getting the headers from the database\n",
    "cursor.execute(\"SELECT column_name FROM information_schema.columns WHERE table_name='dot_311'\")\n",
    "header = list()\n",
    "for item in cursor.fetchall():\n",
    "    header.append(item[0])"
   ]
  },
  {
   "cell_type": "code",
   "execution_count": 6,
   "metadata": {
    "collapsed": false
   },
   "outputs": [],
   "source": [
    "# Creating the Pandas Dataframe\n",
    "df = pd.DataFrame(data=db)"
   ]
  },
  {
   "cell_type": "code",
   "execution_count": 7,
   "metadata": {
    "collapsed": false
   },
   "outputs": [],
   "source": [
    "# Substituting the column names\n",
    "df.columns = header"
   ]
  },
  {
   "cell_type": "code",
   "execution_count": 8,
   "metadata": {
    "collapsed": false,
    "scrolled": true
   },
   "outputs": [
    {
     "data": {
      "text/html": [
       "<div>\n",
       "<table border=\"1\" class=\"dataframe\">\n",
       "  <thead>\n",
       "    <tr style=\"text-align: right;\">\n",
       "      <th></th>\n",
       "      <th>gid</th>\n",
       "      <th>unique_key</th>\n",
       "      <th>agency</th>\n",
       "      <th>agency nam</th>\n",
       "      <th>complaint</th>\n",
       "      <th>descriptor</th>\n",
       "      <th>location t</th>\n",
       "      <th>incident z</th>\n",
       "      <th>incident a</th>\n",
       "      <th>street nam</th>\n",
       "      <th>...</th>\n",
       "      <th>bridge h_2</th>\n",
       "      <th>garage lot</th>\n",
       "      <th>ferry dire</th>\n",
       "      <th>ferry term</th>\n",
       "      <th>latitude</th>\n",
       "      <th>longitude</th>\n",
       "      <th>location</th>\n",
       "      <th>geom</th>\n",
       "      <th>created_date</th>\n",
       "      <th>closed_date</th>\n",
       "    </tr>\n",
       "  </thead>\n",
       "  <tbody>\n",
       "    <tr>\n",
       "      <th>0</th>\n",
       "      <td>2</td>\n",
       "      <td>32570549</td>\n",
       "      <td>DOT</td>\n",
       "      <td>Department of Transportation</td>\n",
       "      <td>Traffic Signal Condition</td>\n",
       "      <td>Controller</td>\n",
       "      <td>None</td>\n",
       "      <td>10301</td>\n",
       "      <td>None</td>\n",
       "      <td>None</td>\n",
       "      <td>...</td>\n",
       "      <td>None</td>\n",
       "      <td>None</td>\n",
       "      <td>None</td>\n",
       "      <td>None</td>\n",
       "      <td>40.613803753157917</td>\n",
       "      <td>-74.113373738864198</td>\n",
       "      <td>(40.61380375315792, -74.1133737388642)</td>\n",
       "      <td>0101000020E61000006829ED83418752C0D7FC121F914E...</td>\n",
       "      <td>2016-02-01 00:12:00</td>\n",
       "      <td>2016-02-01 01:15:00</td>\n",
       "    </tr>\n",
       "    <tr>\n",
       "      <th>1</th>\n",
       "      <td>3</td>\n",
       "      <td>32572958</td>\n",
       "      <td>DOT</td>\n",
       "      <td>Department of Transportation</td>\n",
       "      <td>Traffic Signal Condition</td>\n",
       "      <td>Controller</td>\n",
       "      <td>None</td>\n",
       "      <td>10301</td>\n",
       "      <td>None</td>\n",
       "      <td>None</td>\n",
       "      <td>...</td>\n",
       "      <td>None</td>\n",
       "      <td>None</td>\n",
       "      <td>None</td>\n",
       "      <td>None</td>\n",
       "      <td>40.626545297464929</td>\n",
       "      <td>-74.091582334480577</td>\n",
       "      <td>(40.62654529746493, -74.09158233448058)</td>\n",
       "      <td>0101000020E610000011DF267CDC8552C08809E5A23250...</td>\n",
       "      <td>2016-02-01 00:14:00</td>\n",
       "      <td>2016-02-01 00:54:00</td>\n",
       "    </tr>\n",
       "    <tr>\n",
       "      <th>2</th>\n",
       "      <td>4</td>\n",
       "      <td>32573576</td>\n",
       "      <td>DOT</td>\n",
       "      <td>Department of Transportation</td>\n",
       "      <td>Traffic Signal Condition</td>\n",
       "      <td>Controller</td>\n",
       "      <td>None</td>\n",
       "      <td>10310</td>\n",
       "      <td>None</td>\n",
       "      <td>None</td>\n",
       "      <td>...</td>\n",
       "      <td>None</td>\n",
       "      <td>None</td>\n",
       "      <td>None</td>\n",
       "      <td>None</td>\n",
       "      <td>40.629249554787492</td>\n",
       "      <td>-74.123220752604595</td>\n",
       "      <td>(40.62924955478749, -74.1232207526046)</td>\n",
       "      <td>0101000020E610000004A84BD9E28752C0DC6AD93F8B50...</td>\n",
       "      <td>2016-02-01 00:15:00</td>\n",
       "      <td>2016-02-01 01:30:00</td>\n",
       "    </tr>\n",
       "    <tr>\n",
       "      <th>3</th>\n",
       "      <td>5</td>\n",
       "      <td>32572389</td>\n",
       "      <td>DOT</td>\n",
       "      <td>Department of Transportation</td>\n",
       "      <td>Traffic Signal Condition</td>\n",
       "      <td>Controller</td>\n",
       "      <td>None</td>\n",
       "      <td>None</td>\n",
       "      <td>None</td>\n",
       "      <td>None</td>\n",
       "      <td>...</td>\n",
       "      <td>None</td>\n",
       "      <td>None</td>\n",
       "      <td>None</td>\n",
       "      <td>None</td>\n",
       "      <td>None</td>\n",
       "      <td>None</td>\n",
       "      <td>None</td>\n",
       "      <td>0101000020E610000004A84BD9E28752C0DC6AD93F8B50...</td>\n",
       "      <td>2016-02-01 00:17:00</td>\n",
       "      <td>2016-02-01 02:35:00</td>\n",
       "    </tr>\n",
       "    <tr>\n",
       "      <th>4</th>\n",
       "      <td>6</td>\n",
       "      <td>32570548</td>\n",
       "      <td>DOT</td>\n",
       "      <td>Department of Transportation</td>\n",
       "      <td>Traffic Signal Condition</td>\n",
       "      <td>Controller</td>\n",
       "      <td>None</td>\n",
       "      <td>None</td>\n",
       "      <td>None</td>\n",
       "      <td>None</td>\n",
       "      <td>...</td>\n",
       "      <td>None</td>\n",
       "      <td>None</td>\n",
       "      <td>None</td>\n",
       "      <td>None</td>\n",
       "      <td>None</td>\n",
       "      <td>None</td>\n",
       "      <td>None</td>\n",
       "      <td>0101000020E610000004A84BD9E28752C0DC6AD93F8B50...</td>\n",
       "      <td>2016-02-01 00:19:00</td>\n",
       "      <td>2016-02-01 01:00:00</td>\n",
       "    </tr>\n",
       "  </tbody>\n",
       "</table>\n",
       "<p>5 rows × 55 columns</p>\n",
       "</div>"
      ],
      "text/plain": [
       "   gid unique_key agency                    agency nam  \\\n",
       "0    2   32570549    DOT  Department of Transportation   \n",
       "1    3   32572958    DOT  Department of Transportation   \n",
       "2    4   32573576    DOT  Department of Transportation   \n",
       "3    5   32572389    DOT  Department of Transportation   \n",
       "4    6   32570548    DOT  Department of Transportation   \n",
       "\n",
       "                  complaint  descriptor location t incident z incident a  \\\n",
       "0  Traffic Signal Condition  Controller       None      10301       None   \n",
       "1  Traffic Signal Condition  Controller       None      10301       None   \n",
       "2  Traffic Signal Condition  Controller       None      10310       None   \n",
       "3  Traffic Signal Condition  Controller       None       None       None   \n",
       "4  Traffic Signal Condition  Controller       None       None       None   \n",
       "\n",
       "  street nam         ...         bridge h_2 garage lot ferry dire ferry term  \\\n",
       "0       None         ...               None       None       None       None   \n",
       "1       None         ...               None       None       None       None   \n",
       "2       None         ...               None       None       None       None   \n",
       "3       None         ...               None       None       None       None   \n",
       "4       None         ...               None       None       None       None   \n",
       "\n",
       "             latitude            longitude  \\\n",
       "0  40.613803753157917  -74.113373738864198   \n",
       "1  40.626545297464929  -74.091582334480577   \n",
       "2  40.629249554787492  -74.123220752604595   \n",
       "3                None                 None   \n",
       "4                None                 None   \n",
       "\n",
       "                                  location  \\\n",
       "0   (40.61380375315792, -74.1133737388642)   \n",
       "1  (40.62654529746493, -74.09158233448058)   \n",
       "2   (40.62924955478749, -74.1232207526046)   \n",
       "3                                     None   \n",
       "4                                     None   \n",
       "\n",
       "                                                geom        created_date  \\\n",
       "0  0101000020E61000006829ED83418752C0D7FC121F914E... 2016-02-01 00:12:00   \n",
       "1  0101000020E610000011DF267CDC8552C08809E5A23250... 2016-02-01 00:14:00   \n",
       "2  0101000020E610000004A84BD9E28752C0DC6AD93F8B50... 2016-02-01 00:15:00   \n",
       "3  0101000020E610000004A84BD9E28752C0DC6AD93F8B50... 2016-02-01 00:17:00   \n",
       "4  0101000020E610000004A84BD9E28752C0DC6AD93F8B50... 2016-02-01 00:19:00   \n",
       "\n",
       "          closed_date  \n",
       "0 2016-02-01 01:15:00  \n",
       "1 2016-02-01 00:54:00  \n",
       "2 2016-02-01 01:30:00  \n",
       "3 2016-02-01 02:35:00  \n",
       "4 2016-02-01 01:00:00  \n",
       "\n",
       "[5 rows x 55 columns]"
      ]
     },
     "execution_count": 8,
     "metadata": {},
     "output_type": "execute_result"
    }
   ],
   "source": [
    "df.head()"
   ]
  },
  {
   "cell_type": "code",
   "execution_count": 9,
   "metadata": {
    "collapsed": false
   },
   "outputs": [
    {
     "data": {
      "text/html": [
       "<div>\n",
       "<table border=\"1\" class=\"dataframe\">\n",
       "  <thead>\n",
       "    <tr style=\"text-align: right;\">\n",
       "      <th></th>\n",
       "      <th>created_date</th>\n",
       "      <th>closed_date</th>\n",
       "    </tr>\n",
       "  </thead>\n",
       "  <tbody>\n",
       "    <tr>\n",
       "      <th>0</th>\n",
       "      <td>2016-02-01 00:12:00</td>\n",
       "      <td>2016-02-01 01:15:00</td>\n",
       "    </tr>\n",
       "    <tr>\n",
       "      <th>1</th>\n",
       "      <td>2016-02-01 00:14:00</td>\n",
       "      <td>2016-02-01 00:54:00</td>\n",
       "    </tr>\n",
       "    <tr>\n",
       "      <th>2</th>\n",
       "      <td>2016-02-01 00:15:00</td>\n",
       "      <td>2016-02-01 01:30:00</td>\n",
       "    </tr>\n",
       "    <tr>\n",
       "      <th>3</th>\n",
       "      <td>2016-02-01 00:17:00</td>\n",
       "      <td>2016-02-01 02:35:00</td>\n",
       "    </tr>\n",
       "    <tr>\n",
       "      <th>4</th>\n",
       "      <td>2016-02-01 00:19:00</td>\n",
       "      <td>2016-02-01 01:00:00</td>\n",
       "    </tr>\n",
       "  </tbody>\n",
       "</table>\n",
       "</div>"
      ],
      "text/plain": [
       "         created_date         closed_date\n",
       "0 2016-02-01 00:12:00 2016-02-01 01:15:00\n",
       "1 2016-02-01 00:14:00 2016-02-01 00:54:00\n",
       "2 2016-02-01 00:15:00 2016-02-01 01:30:00\n",
       "3 2016-02-01 00:17:00 2016-02-01 02:35:00\n",
       "4 2016-02-01 00:19:00 2016-02-01 01:00:00"
      ]
     },
     "execution_count": 9,
     "metadata": {},
     "output_type": "execute_result"
    }
   ],
   "source": [
    "df[['created_date', 'closed_date',]].head(5)"
   ]
  },
  {
   "cell_type": "code",
   "execution_count": 10,
   "metadata": {
    "collapsed": false
   },
   "outputs": [
    {
     "data": {
      "text/html": [
       "<div>\n",
       "<table border=\"1\" class=\"dataframe\">\n",
       "  <thead>\n",
       "    <tr style=\"text-align: right;\">\n",
       "      <th></th>\n",
       "      <th>created_date</th>\n",
       "      <th>closed_date</th>\n",
       "      <th>time_elapsed</th>\n",
       "    </tr>\n",
       "  </thead>\n",
       "  <tbody>\n",
       "    <tr>\n",
       "      <th>0</th>\n",
       "      <td>2016-02-01 00:12:00</td>\n",
       "      <td>2016-02-01 01:15:00</td>\n",
       "      <td>01:03:00</td>\n",
       "    </tr>\n",
       "    <tr>\n",
       "      <th>1</th>\n",
       "      <td>2016-02-01 00:14:00</td>\n",
       "      <td>2016-02-01 00:54:00</td>\n",
       "      <td>00:40:00</td>\n",
       "    </tr>\n",
       "    <tr>\n",
       "      <th>2</th>\n",
       "      <td>2016-02-01 00:15:00</td>\n",
       "      <td>2016-02-01 01:30:00</td>\n",
       "      <td>01:15:00</td>\n",
       "    </tr>\n",
       "    <tr>\n",
       "      <th>3</th>\n",
       "      <td>2016-02-01 00:17:00</td>\n",
       "      <td>2016-02-01 02:35:00</td>\n",
       "      <td>02:18:00</td>\n",
       "    </tr>\n",
       "    <tr>\n",
       "      <th>4</th>\n",
       "      <td>2016-02-01 00:19:00</td>\n",
       "      <td>2016-02-01 01:00:00</td>\n",
       "      <td>00:41:00</td>\n",
       "    </tr>\n",
       "  </tbody>\n",
       "</table>\n",
       "</div>"
      ],
      "text/plain": [
       "         created_date         closed_date  time_elapsed\n",
       "0 2016-02-01 00:12:00 2016-02-01 01:15:00      01:03:00\n",
       "1 2016-02-01 00:14:00 2016-02-01 00:54:00      00:40:00\n",
       "2 2016-02-01 00:15:00 2016-02-01 01:30:00      01:15:00\n",
       "3 2016-02-01 00:17:00 2016-02-01 02:35:00      02:18:00\n",
       "4 2016-02-01 00:19:00 2016-02-01 01:00:00      00:41:00"
      ]
     },
     "execution_count": 10,
     "metadata": {},
     "output_type": "execute_result"
    }
   ],
   "source": [
    "# Creating a new column with the time elapsed betweedn creation of the ticket and its closing. \n",
    "df['time_elapsed'] = df['closed_date'] - df['created_date']\n",
    "df[['created_date', 'closed_date', 'time_elapsed']].head(5)"
   ]
  },
  {
   "cell_type": "code",
   "execution_count": 13,
   "metadata": {
    "collapsed": false
   },
   "outputs": [
    {
     "data": {
      "text/plain": [
       "582"
      ]
     },
     "execution_count": 13,
     "metadata": {},
     "output_type": "execute_result"
    }
   ],
   "source": [
    "# It takes time to process a request. Unfortunately, there are negative values in the dataset. That's not possible in reality...\n",
    "# Let's check how many times are negative. \n",
    "df[df['time_elapsed'] < '00:00:00']['unique_key'].count()"
   ]
  },
  {
   "cell_type": "code",
   "execution_count": 12,
   "metadata": {
    "collapsed": false
   },
   "outputs": [
    {
     "data": {
      "text/plain": [
       "5851"
      ]
     },
     "execution_count": 12,
     "metadata": {},
     "output_type": "execute_result"
    }
   ],
   "source": [
    "# Let's check how many items with 'normal' timestamps are in the dataset. \n",
    "df['unique_key'].count()"
   ]
  },
  {
   "cell_type": "code",
   "execution_count": 219,
   "metadata": {
    "collapsed": false
   },
   "outputs": [
    {
     "data": {
      "text/plain": [
       "521"
      ]
     },
     "execution_count": 219,
     "metadata": {},
     "output_type": "execute_result"
    }
   ],
   "source": [
    "# There are also a lot of tickets that have been opened and closed at the same time. \n",
    "df[df['time_elapsed'] == '00:00:00']['unique_key'].count()"
   ]
  },
  {
   "cell_type": "code",
   "execution_count": 220,
   "metadata": {
    "collapsed": false
   },
   "outputs": [
    {
     "data": {
      "text/plain": [
       "18.851478379764142"
      ]
     },
     "execution_count": 220,
     "metadata": {},
     "output_type": "execute_result"
    }
   ],
   "source": [
    "# What percentage of the times are wrong? \n",
    "100 * df[df['time_elapsed'] <= '00:00:00']['unique_key'].count() / df['unique_key'].count()"
   ]
  },
  {
   "cell_type": "code",
   "execution_count": 53,
   "metadata": {
    "collapsed": false
   },
   "outputs": [
    {
     "name": "stdout",
     "output_type": "stream",
     "text": [
      "This are all complaint categories:\n",
      "\n",
      " Street Light Condition        2040\n",
      "Street Condition              1916\n",
      "Traffic Signal Condition       808\n",
      "Broken Muni Meter              525\n",
      "Sidewalk Condition             106\n",
      "Highway Condition               90\n",
      "Street Sign - Damaged           83\n",
      "Street Sign - Missing           67\n",
      "Street Sign - Dangling          55\n",
      "DOT Literature Request          53\n",
      "Broken Parking Meter            32\n",
      "Curb Condition                  21\n",
      "Bridge Condition                18\n",
      "Ferry Inquiry                   13\n",
      "Ferry Complaint                  7\n",
      "Bus Stop Shelter Placement       7\n",
      "Highway Sign - Damaged           4\n",
      "Municipal Parking Facility       3\n",
      "Public Toilet                    2\n",
      "Parking Card                     1\n",
      "Name: complaint, dtype: int64\n",
      "This are the categories affected by non plausible values:\n",
      "\n",
      " Street Light Condition      968\n",
      "Street Condition            134\n",
      "Traffic Signal Condition      1\n",
      "Name: complaint, dtype: int64 \n",
      "\n",
      "\n",
      "In the category Street Light Condition Street Light Condition    47.45098\n",
      "Name: complaint, dtype: float64 percent are wrong.\n"
     ]
    }
   ],
   "source": [
    "# Every fith entry seems to be strange. That is a lot. If the wrong ones are filled randomly, \n",
    "# we could go on. If most of them are from the same department or about the same topic, \n",
    "# we would have to think about it.\n",
    "print(\"This are all complaint categories:\\n\\n\", df['complaint'].value_counts())\n",
    "wrong = df[df['time_elapsed'] <= '00:00:00']\n",
    "\n",
    "print(\"This are the categories affected by non plausible values:\\n\\n\", wrong['complaint'].value_counts(), \"\\n\\n\")\n",
    "print(\"In the category Street Light Condition\", 100 * wrong[wrong['complaint'] == 'Street Light Condition']['complaint'].value_counts() / df[df['complaint'] == 'Street Light Condition']['complaint'].value_counts(), \"percent are wrong.\")"
   ]
  },
  {
   "cell_type": "code",
   "execution_count": 56,
   "metadata": {
    "collapsed": false
   },
   "outputs": [
    {
     "data": {
      "text/html": [
       "<div>\n",
       "<table border=\"1\" class=\"dataframe\">\n",
       "  <thead>\n",
       "    <tr style=\"text-align: right;\">\n",
       "      <th></th>\n",
       "      <th>gid</th>\n",
       "      <th>unique_key</th>\n",
       "      <th>agency</th>\n",
       "      <th>agency nam</th>\n",
       "      <th>complaint</th>\n",
       "      <th>descriptor</th>\n",
       "      <th>location t</th>\n",
       "      <th>incident z</th>\n",
       "      <th>incident a</th>\n",
       "      <th>street nam</th>\n",
       "      <th>...</th>\n",
       "      <th>garage lot</th>\n",
       "      <th>ferry dire</th>\n",
       "      <th>ferry term</th>\n",
       "      <th>latitude</th>\n",
       "      <th>longitude</th>\n",
       "      <th>location</th>\n",
       "      <th>geom</th>\n",
       "      <th>created_date</th>\n",
       "      <th>closed_date</th>\n",
       "      <th>time_elapsed</th>\n",
       "    </tr>\n",
       "  </thead>\n",
       "  <tbody>\n",
       "    <tr>\n",
       "      <th>0</th>\n",
       "      <td>2</td>\n",
       "      <td>32570549</td>\n",
       "      <td>DOT</td>\n",
       "      <td>Department of Transportation</td>\n",
       "      <td>Traffic Signal Condition</td>\n",
       "      <td>Controller</td>\n",
       "      <td>None</td>\n",
       "      <td>10301</td>\n",
       "      <td>None</td>\n",
       "      <td>None</td>\n",
       "      <td>...</td>\n",
       "      <td>None</td>\n",
       "      <td>None</td>\n",
       "      <td>None</td>\n",
       "      <td>40.613803753157917</td>\n",
       "      <td>-74.113373738864198</td>\n",
       "      <td>(40.61380375315792, -74.1133737388642)</td>\n",
       "      <td>0101000020E61000006829ED83418752C0D7FC121F914E...</td>\n",
       "      <td>2016-02-01 00:12:00</td>\n",
       "      <td>2016-02-01 01:15:00</td>\n",
       "      <td>01:03:00</td>\n",
       "    </tr>\n",
       "    <tr>\n",
       "      <th>1</th>\n",
       "      <td>3</td>\n",
       "      <td>32572958</td>\n",
       "      <td>DOT</td>\n",
       "      <td>Department of Transportation</td>\n",
       "      <td>Traffic Signal Condition</td>\n",
       "      <td>Controller</td>\n",
       "      <td>None</td>\n",
       "      <td>10301</td>\n",
       "      <td>None</td>\n",
       "      <td>None</td>\n",
       "      <td>...</td>\n",
       "      <td>None</td>\n",
       "      <td>None</td>\n",
       "      <td>None</td>\n",
       "      <td>40.626545297464929</td>\n",
       "      <td>-74.091582334480577</td>\n",
       "      <td>(40.62654529746493, -74.09158233448058)</td>\n",
       "      <td>0101000020E610000011DF267CDC8552C08809E5A23250...</td>\n",
       "      <td>2016-02-01 00:14:00</td>\n",
       "      <td>2016-02-01 00:54:00</td>\n",
       "      <td>00:40:00</td>\n",
       "    </tr>\n",
       "    <tr>\n",
       "      <th>2</th>\n",
       "      <td>4</td>\n",
       "      <td>32573576</td>\n",
       "      <td>DOT</td>\n",
       "      <td>Department of Transportation</td>\n",
       "      <td>Traffic Signal Condition</td>\n",
       "      <td>Controller</td>\n",
       "      <td>None</td>\n",
       "      <td>10310</td>\n",
       "      <td>None</td>\n",
       "      <td>None</td>\n",
       "      <td>...</td>\n",
       "      <td>None</td>\n",
       "      <td>None</td>\n",
       "      <td>None</td>\n",
       "      <td>40.629249554787492</td>\n",
       "      <td>-74.123220752604595</td>\n",
       "      <td>(40.62924955478749, -74.1232207526046)</td>\n",
       "      <td>0101000020E610000004A84BD9E28752C0DC6AD93F8B50...</td>\n",
       "      <td>2016-02-01 00:15:00</td>\n",
       "      <td>2016-02-01 01:30:00</td>\n",
       "      <td>01:15:00</td>\n",
       "    </tr>\n",
       "  </tbody>\n",
       "</table>\n",
       "<p>3 rows × 56 columns</p>\n",
       "</div>"
      ],
      "text/plain": [
       "   gid unique_key agency                    agency nam  \\\n",
       "0    2   32570549    DOT  Department of Transportation   \n",
       "1    3   32572958    DOT  Department of Transportation   \n",
       "2    4   32573576    DOT  Department of Transportation   \n",
       "\n",
       "                  complaint  descriptor location t incident z incident a  \\\n",
       "0  Traffic Signal Condition  Controller       None      10301       None   \n",
       "1  Traffic Signal Condition  Controller       None      10301       None   \n",
       "2  Traffic Signal Condition  Controller       None      10310       None   \n",
       "\n",
       "  street nam     ...      garage lot ferry dire ferry term  \\\n",
       "0       None     ...            None       None       None   \n",
       "1       None     ...            None       None       None   \n",
       "2       None     ...            None       None       None   \n",
       "\n",
       "             latitude            longitude  \\\n",
       "0  40.613803753157917  -74.113373738864198   \n",
       "1  40.626545297464929  -74.091582334480577   \n",
       "2  40.629249554787492  -74.123220752604595   \n",
       "\n",
       "                                  location  \\\n",
       "0   (40.61380375315792, -74.1133737388642)   \n",
       "1  (40.62654529746493, -74.09158233448058)   \n",
       "2   (40.62924955478749, -74.1232207526046)   \n",
       "\n",
       "                                                geom        created_date  \\\n",
       "0  0101000020E61000006829ED83418752C0D7FC121F914E... 2016-02-01 00:12:00   \n",
       "1  0101000020E610000011DF267CDC8552C08809E5A23250... 2016-02-01 00:14:00   \n",
       "2  0101000020E610000004A84BD9E28752C0DC6AD93F8B50... 2016-02-01 00:15:00   \n",
       "\n",
       "          closed_date time_elapsed  \n",
       "0 2016-02-01 01:15:00     01:03:00  \n",
       "1 2016-02-01 00:54:00     00:40:00  \n",
       "2 2016-02-01 01:30:00     01:15:00  \n",
       "\n",
       "[3 rows x 56 columns]"
      ]
     },
     "execution_count": 56,
     "metadata": {},
     "output_type": "execute_result"
    }
   ],
   "source": [
    "# About half of the entries about \"Street Light Condition\" is wrong. Let's exclude these from our analysis.\n",
    "# We also exclude the other wrong data. We need to mention it in our article, though.\n",
    "\n",
    "df_plausible = df[df['complaint'] != 'Street Light Condition']\n",
    "df_plausible = df_plausible[df_plausible['time_elapsed'] > '00:00:00']\n",
    "df.head(3)"
   ]
  },
  {
   "cell_type": "code",
   "execution_count": 57,
   "metadata": {
    "collapsed": false
   },
   "outputs": [
    {
     "data": {
      "text/html": [
       "<div>\n",
       "<table border=\"1\" class=\"dataframe\">\n",
       "  <thead>\n",
       "    <tr style=\"text-align: right;\">\n",
       "      <th></th>\n",
       "      <th>time_elapsed</th>\n",
       "      <th>time_elapsed_minutes</th>\n",
       "    </tr>\n",
       "  </thead>\n",
       "  <tbody>\n",
       "    <tr>\n",
       "      <th>0</th>\n",
       "      <td>01:03:00</td>\n",
       "      <td>63.0</td>\n",
       "    </tr>\n",
       "    <tr>\n",
       "      <th>1</th>\n",
       "      <td>00:40:00</td>\n",
       "      <td>40.0</td>\n",
       "    </tr>\n",
       "    <tr>\n",
       "      <th>2</th>\n",
       "      <td>01:15:00</td>\n",
       "      <td>75.0</td>\n",
       "    </tr>\n",
       "    <tr>\n",
       "      <th>3</th>\n",
       "      <td>02:18:00</td>\n",
       "      <td>138.0</td>\n",
       "    </tr>\n",
       "    <tr>\n",
       "      <th>4</th>\n",
       "      <td>00:41:00</td>\n",
       "      <td>41.0</td>\n",
       "    </tr>\n",
       "  </tbody>\n",
       "</table>\n",
       "</div>"
      ],
      "text/plain": [
       "   time_elapsed  time_elapsed_minutes\n",
       "0      01:03:00                  63.0\n",
       "1      00:40:00                  40.0\n",
       "2      01:15:00                  75.0\n",
       "3      02:18:00                 138.0\n",
       "4      00:41:00                  41.0"
      ]
     },
     "execution_count": 57,
     "metadata": {},
     "output_type": "execute_result"
    }
   ],
   "source": [
    "# To be able to plot it, we will add a new column with the time converted to minutes. \n",
    "df_plausible['time_elapsed_minutes'] = df_plausible['time_elapsed'].apply(lambda x: x / np.timedelta64(1,'m'))\n",
    "df_plausible[['time_elapsed', 'time_elapsed_minutes']].head()"
   ]
  },
  {
   "cell_type": "code",
   "execution_count": 80,
   "metadata": {
    "collapsed": false
   },
   "outputs": [
    {
     "data": {
      "text/plain": [
       "<matplotlib.text.Text at 0x7f077fc74748>"
      ]
     },
     "execution_count": 80,
     "metadata": {},
     "output_type": "execute_result"
    },
    {
     "data": {
      "image/png": "[encoded data removed]",
      "text/plain": [
       "<matplotlib.figure.Figure at 0x7f077fda8b00>"
      ]
     },
     "metadata": {},
     "output_type": "display_data"
    }
   ],
   "source": [
    "# Let's get an overview by plotting it.\n",
    "ax = df_plausible['time_elapsed_minutes'].hist(bins=60)\n",
    "ax.set_title(\"The city takes little time to work on complaints\")\n",
    "ax.set_xlabel(\"Time in Minutes\")\n",
    "ax.set_ylabel(\"Number of Complaints\")"
   ]
  },
  {
   "cell_type": "code",
   "execution_count": 82,
   "metadata": {
    "collapsed": false
   },
   "outputs": [
    {
     "data": {
      "text/plain": [
       "count                       3564\n",
       "mean      8 days 14:30:00.796857\n",
       "std      14 days 23:30:11.891432\n",
       "min              0 days 00:00:01\n",
       "25%       0 days 12:19:35.250000\n",
       "50%       1 days 02:57:40.500000\n",
       "75%       5 days 21:13:29.500000\n",
       "max             86 days 06:08:31\n",
       "Name: time_elapsed, dtype: object"
      ]
     },
     "execution_count": 82,
     "metadata": {},
     "output_type": "execute_result"
    }
   ],
   "source": [
    "# How long does it them take to close a complaint? Let's check the mean, the quartiles, the min and max.\n",
    "df_plausible['time_elapsed'].describe()"
   ]
  },
  {
   "cell_type": "code",
   "execution_count": 83,
   "metadata": {
    "collapsed": false
   },
   "outputs": [
    {
     "data": {
      "text/plain": [
       "Timedelta('1 days 02:57:40.500000')"
      ]
     },
     "execution_count": 83,
     "metadata": {},
     "output_type": "execute_result"
    }
   ],
   "source": [
    "# Since we don't nearly havee a bell shaped curve, we probably better use the median instead of the mean. \n",
    "df_plausible['time_elapsed'].median()"
   ]
  },
  {
   "cell_type": "code",
   "execution_count": 84,
   "metadata": {
    "collapsed": false
   },
   "outputs": [
    {
     "data": {
      "text/plain": [
       "<matplotlib.axes._subplots.AxesSubplot at 0x7f077fbf7e48>"
      ]
     },
     "execution_count": 84,
     "metadata": {},
     "output_type": "execute_result"
    },
    {
     "data": {
      "image/png": "[encoded data removed]",
      "text/plain": [
       "<matplotlib.figure.Figure at 0x7f077fc460b8>"
      ]
     },
     "metadata": {},
     "output_type": "display_data"
    }
   ],
   "source": [
    "# Let's just look at the complaints that were closed in the first hour after their opening.\n",
    "df_plausible[df_plausible['time_elapsed_minutes'] < 60]['time_elapsed_minutes'].hist(bins=60)"
   ]
  },
  {
   "cell_type": "code",
   "execution_count": 87,
   "metadata": {
    "collapsed": false
   },
   "outputs": [
    {
     "data": {
      "text/plain": [
       "complaint\n",
       "Traffic Signal Condition        122.000000\n",
       "Public Toilet                   492.200000\n",
       "Highway Condition              1449.116667\n",
       "DOT Literature Request         1529.750000\n",
       "Street Condition               1556.266667\n",
       "Bridge Condition               2453.916667\n",
       "Ferry Inquiry                  2457.866667\n",
       "Bus Stop Shelter Placement     2655.233333\n",
       "Sidewalk Condition             2841.466667\n",
       "Ferry Complaint                3270.833333\n",
       "Curb Condition                 5022.966667\n",
       "Street Sign - Missing          8219.400000\n",
       "Street Sign - Damaged          8883.433333\n",
       "Street Sign - Dangling         9392.458333\n",
       "Highway Sign - Damaged        25954.566667\n",
       "Parking Card                  35793.000000\n",
       "Municipal Parking Facility    40212.333333\n",
       "Broken Muni Meter             58977.233333\n",
       "Broken Parking Meter          60230.033333\n",
       "Name: time_elapsed_minutes, dtype: float64"
      ]
     },
     "execution_count": 87,
     "metadata": {},
     "output_type": "execute_result"
    }
   ],
   "source": [
    "# Let's check what types of complaints take the longest and the shortest to getting closed.\n",
    "df_plausible.groupby(by='complaint')['time_elapsed_minutes'].median().sort_values()"
   ]
  },
  {
   "cell_type": "code",
   "execution_count": 96,
   "metadata": {
    "collapsed": false
   },
   "outputs": [
    {
     "data": {
      "text/plain": [
       "<matplotlib.axes._subplots.AxesSubplot at 0x7f077f754198>"
      ]
     },
     "execution_count": 96,
     "metadata": {},
     "output_type": "execute_result"
    },
    {
     "data": {
      "image/png": "[encoded data removed]",
      "text/plain": [
       "<matplotlib.figure.Figure at 0x7f077f886e48>"
      ]
     },
     "metadata": {},
     "output_type": "display_data"
    }
   ],
   "source": [
    "# Let's plot that.\n",
    "df_plausible.groupby(by='complaint')['time_elapsed_minutes'].median().sort_values(ascending=False).plot(kind='barh', legend=False)"
   ]
  },
  {
   "cell_type": "code",
   "execution_count": 101,
   "metadata": {
    "collapsed": false
   },
   "outputs": [
    {
     "data": {
      "text/plain": [
       "Timedelta('0 days 02:02:00')"
      ]
     },
     "execution_count": 101,
     "metadata": {},
     "output_type": "execute_result"
    }
   ],
   "source": [
    "df_plausible[df_plausible['complaint'] == 'Traffic Signal Condition']['time_elapsed'].median()"
   ]
  },
  {
   "cell_type": "code",
   "execution_count": 102,
   "metadata": {
    "collapsed": false
   },
   "outputs": [
    {
     "data": {
      "text/plain": [
       "Timedelta('0 days 08:12:12')"
      ]
     },
     "execution_count": 102,
     "metadata": {},
     "output_type": "execute_result"
    }
   ],
   "source": [
    "df_plausible[df_plausible['complaint'] == 'Public Toilet']['time_elapsed'].median()"
   ]
  },
  {
   "cell_type": "code",
   "execution_count": 103,
   "metadata": {
    "collapsed": false
   },
   "outputs": [
    {
     "data": {
      "text/plain": [
       "Timedelta('41 days 19:50:02')"
      ]
     },
     "execution_count": 103,
     "metadata": {},
     "output_type": "execute_result"
    }
   ],
   "source": [
    "df_plausible[df_plausible['complaint'] == 'Broken Parking Meter']['time_elapsed'].median()"
   ]
  }
 ],
 "metadata": {
  "kernelspec": {
   "display_name": "Python 3",
   "language": "python",
   "name": "python3"
  },
  "language_info": {
   "codemirror_mode": {
    "name": "ipython",
    "version": 3
   },
   "file_extension": ".py",
   "mimetype": "text/x-python",
   "name": "python",
   "nbconvert_exporter": "python",
   "pygments_lexer": "ipython3",
   "version": "3.5.2"
  }
 },
 "nbformat": 4,
 "nbformat_minor": 0
}
