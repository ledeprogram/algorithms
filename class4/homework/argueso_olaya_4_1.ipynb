{
 "cells": [
  {
   "cell_type": "code",
   "execution_count": 1,
   "metadata": {
    "collapsed": false
   },
   "outputs": [],
   "source": [
    "import pg8000\n",
    "import pandas as pd\n",
    "import matplotlib\n",
    "import numpy\n",
    "%matplotlib inline\n",
    "conn = pg8000.connect(host=\"training.c1erymiua9dx.us-east-1.rds.amazonaws.com\", port=5432, database=\"training\", user=\"dot_student\", password=\"qgis\")"
   ]
  },
  {
   "cell_type": "code",
   "execution_count": 2,
   "metadata": {
    "collapsed": true
   },
   "outputs": [],
   "source": [
    "cursor = conn.cursor()"
   ]
  },
  {
   "cell_type": "code",
   "execution_count": 3,
   "metadata": {
    "collapsed": true
   },
   "outputs": [],
   "source": [
    "conn.rollback()"
   ]
  },
  {
   "cell_type": "code",
   "execution_count": 4,
   "metadata": {
    "collapsed": false
   },
   "outputs": [],
   "source": [
    "cursor.execute(\"SELECT * FROM dot_311\")\n",
    "results = []\n",
    "for item in cursor.fetchall():\n",
    "    results.append(item)"
   ]
  },
  {
   "cell_type": "code",
   "execution_count": 5,
   "metadata": {
    "collapsed": false
   },
   "outputs": [
    {
     "name": "stdout",
     "output_type": "stream",
     "text": [
      "['gid']\n",
      "['unique_key']\n",
      "['agency']\n",
      "['agency nam']\n",
      "['complaint']\n",
      "['descriptor']\n",
      "['location t']\n",
      "['incident z']\n",
      "['incident a']\n",
      "['street nam']\n",
      "['cross stre']\n",
      "['cross st_1']\n",
      "['intersecti']\n",
      "['intersec_1']\n",
      "['address ty']\n",
      "['city']\n",
      "['landmark']\n",
      "['facility t']\n",
      "['status']\n",
      "['due date']\n",
      "['resolution']\n",
      "['resoluti_1']\n",
      "['community']\n",
      "['borough']\n",
      "['x coordina']\n",
      "['y coordina']\n",
      "['park facil']\n",
      "['park borou']\n",
      "['school nam']\n",
      "['school num']\n",
      "['school reg']\n",
      "['school cod']\n",
      "['school pho']\n",
      "['school add']\n",
      "['school cit']\n",
      "['school sta']\n",
      "['school zip']\n",
      "['school not']\n",
      "['school or']\n",
      "['vehicle ty']\n",
      "['taxi compa']\n",
      "['taxi pick']\n",
      "['bridge hig']\n",
      "['bridge h_1']\n",
      "['road ramp']\n",
      "['bridge h_2']\n",
      "['garage lot']\n",
      "['ferry dire']\n",
      "['ferry term']\n",
      "['latitude']\n",
      "['longitude']\n",
      "['location']\n",
      "['geom']\n",
      "['created_date']\n",
      "['closed_date']\n"
     ]
    }
   ],
   "source": [
    "cursor.execute(\"select column_name from information_schema.columns where table_name='dot_311'\")\n",
    "columns_names = []\n",
    "for item in cursor.fetchall():\n",
    "    print(item)\n",
    "    columns_names.append(item)"
   ]
  },
  {
   "cell_type": "code",
   "execution_count": 6,
   "metadata": {
    "collapsed": true
   },
   "outputs": [],
   "source": [
    "df= pd.DataFrame(results)"
   ]
  },
  {
   "cell_type": "code",
   "execution_count": 7,
   "metadata": {
    "collapsed": false
   },
   "outputs": [],
   "source": [
    "df.columns = ['gid', 'unique_key', 'agency', 'agency nam', 'complaint', 'descriptor', 'location t', 'incident z', 'incident a', 'street nam', 'cross stre', 'cross st_1', 'intersecti', 'intersec_1', 'address ty', 'city', 'landmark', 'facility t', 'status', 'due date', 'resolution', 'resoluti_1', 'community', 'borough', 'x coordina', 'y coordina', 'park facil', 'park borou', 'school nam', 'school num', 'school reg', 'school cod', 'school pho', 'school add', 'school cit', 'school sta', 'school zip', 'school not', 'school or', 'vehicle ty', 'taxi compa', 'taxi pick', 'bridge hig', 'bridge h_1', 'road ramp', 'bridge h_2', 'garage lot', 'ferry dire', 'ferry term', 'latitude', 'longitude', 'location', 'geom', 'created_date', 'closed_date']"
   ]
  },
  {
   "cell_type": "code",
   "execution_count": 8,
   "metadata": {
    "collapsed": false
   },
   "outputs": [
    {
     "data": {
      "text/html": [
       "<div>\n",
       "<table border=\"1\" class=\"dataframe\">\n",
       "  <thead>\n",
       "    <tr style=\"text-align: right;\">\n",
       "      <th></th>\n",
       "      <th>gid</th>\n",
       "      <th>unique_key</th>\n",
       "      <th>agency</th>\n",
       "      <th>agency nam</th>\n",
       "      <th>complaint</th>\n",
       "      <th>descriptor</th>\n",
       "      <th>location t</th>\n",
       "      <th>incident z</th>\n",
       "      <th>incident a</th>\n",
       "      <th>street nam</th>\n",
       "      <th>...</th>\n",
       "      <th>bridge h_2</th>\n",
       "      <th>garage lot</th>\n",
       "      <th>ferry dire</th>\n",
       "      <th>ferry term</th>\n",
       "      <th>latitude</th>\n",
       "      <th>longitude</th>\n",
       "      <th>location</th>\n",
       "      <th>geom</th>\n",
       "      <th>created_date</th>\n",
       "      <th>closed_date</th>\n",
       "    </tr>\n",
       "  </thead>\n",
       "  <tbody>\n",
       "    <tr>\n",
       "      <th>0</th>\n",
       "      <td>2</td>\n",
       "      <td>32570549</td>\n",
       "      <td>DOT</td>\n",
       "      <td>Department of Transportation</td>\n",
       "      <td>Traffic Signal Condition</td>\n",
       "      <td>Controller</td>\n",
       "      <td>None</td>\n",
       "      <td>10301</td>\n",
       "      <td>None</td>\n",
       "      <td>None</td>\n",
       "      <td>...</td>\n",
       "      <td>None</td>\n",
       "      <td>None</td>\n",
       "      <td>None</td>\n",
       "      <td>None</td>\n",
       "      <td>40.613803753157917</td>\n",
       "      <td>-74.113373738864198</td>\n",
       "      <td>(40.61380375315792, -74.1133737388642)</td>\n",
       "      <td>0101000020E61000006829ED83418752C0D7FC121F914E...</td>\n",
       "      <td>2016-02-01 00:12:00</td>\n",
       "      <td>2016-02-01 01:15:00</td>\n",
       "    </tr>\n",
       "    <tr>\n",
       "      <th>1</th>\n",
       "      <td>3</td>\n",
       "      <td>32572958</td>\n",
       "      <td>DOT</td>\n",
       "      <td>Department of Transportation</td>\n",
       "      <td>Traffic Signal Condition</td>\n",
       "      <td>Controller</td>\n",
       "      <td>None</td>\n",
       "      <td>10301</td>\n",
       "      <td>None</td>\n",
       "      <td>None</td>\n",
       "      <td>...</td>\n",
       "      <td>None</td>\n",
       "      <td>None</td>\n",
       "      <td>None</td>\n",
       "      <td>None</td>\n",
       "      <td>40.626545297464929</td>\n",
       "      <td>-74.091582334480577</td>\n",
       "      <td>(40.62654529746493, -74.09158233448058)</td>\n",
       "      <td>0101000020E610000011DF267CDC8552C08809E5A23250...</td>\n",
       "      <td>2016-02-01 00:14:00</td>\n",
       "      <td>2016-02-01 00:54:00</td>\n",
       "    </tr>\n",
       "    <tr>\n",
       "      <th>2</th>\n",
       "      <td>4</td>\n",
       "      <td>32573576</td>\n",
       "      <td>DOT</td>\n",
       "      <td>Department of Transportation</td>\n",
       "      <td>Traffic Signal Condition</td>\n",
       "      <td>Controller</td>\n",
       "      <td>None</td>\n",
       "      <td>10310</td>\n",
       "      <td>None</td>\n",
       "      <td>None</td>\n",
       "      <td>...</td>\n",
       "      <td>None</td>\n",
       "      <td>None</td>\n",
       "      <td>None</td>\n",
       "      <td>None</td>\n",
       "      <td>40.629249554787492</td>\n",
       "      <td>-74.123220752604595</td>\n",
       "      <td>(40.62924955478749, -74.1232207526046)</td>\n",
       "      <td>0101000020E610000004A84BD9E28752C0DC6AD93F8B50...</td>\n",
       "      <td>2016-02-01 00:15:00</td>\n",
       "      <td>2016-02-01 01:30:00</td>\n",
       "    </tr>\n",
       "    <tr>\n",
       "      <th>3</th>\n",
       "      <td>5</td>\n",
       "      <td>32572389</td>\n",
       "      <td>DOT</td>\n",
       "      <td>Department of Transportation</td>\n",
       "      <td>Traffic Signal Condition</td>\n",
       "      <td>Controller</td>\n",
       "      <td>None</td>\n",
       "      <td>None</td>\n",
       "      <td>None</td>\n",
       "      <td>None</td>\n",
       "      <td>...</td>\n",
       "      <td>None</td>\n",
       "      <td>None</td>\n",
       "      <td>None</td>\n",
       "      <td>None</td>\n",
       "      <td>None</td>\n",
       "      <td>None</td>\n",
       "      <td>None</td>\n",
       "      <td>0101000020E610000004A84BD9E28752C0DC6AD93F8B50...</td>\n",
       "      <td>2016-02-01 00:17:00</td>\n",
       "      <td>2016-02-01 02:35:00</td>\n",
       "    </tr>\n",
       "    <tr>\n",
       "      <th>4</th>\n",
       "      <td>6</td>\n",
       "      <td>32570548</td>\n",
       "      <td>DOT</td>\n",
       "      <td>Department of Transportation</td>\n",
       "      <td>Traffic Signal Condition</td>\n",
       "      <td>Controller</td>\n",
       "      <td>None</td>\n",
       "      <td>None</td>\n",
       "      <td>None</td>\n",
       "      <td>None</td>\n",
       "      <td>...</td>\n",
       "      <td>None</td>\n",
       "      <td>None</td>\n",
       "      <td>None</td>\n",
       "      <td>None</td>\n",
       "      <td>None</td>\n",
       "      <td>None</td>\n",
       "      <td>None</td>\n",
       "      <td>0101000020E610000004A84BD9E28752C0DC6AD93F8B50...</td>\n",
       "      <td>2016-02-01 00:19:00</td>\n",
       "      <td>2016-02-01 01:00:00</td>\n",
       "    </tr>\n",
       "  </tbody>\n",
       "</table>\n",
       "<p>5 rows × 55 columns</p>\n",
       "</div>"
      ],
      "text/plain": [
       "   gid unique_key agency                    agency nam  \\\n",
       "0    2   32570549    DOT  Department of Transportation   \n",
       "1    3   32572958    DOT  Department of Transportation   \n",
       "2    4   32573576    DOT  Department of Transportation   \n",
       "3    5   32572389    DOT  Department of Transportation   \n",
       "4    6   32570548    DOT  Department of Transportation   \n",
       "\n",
       "                  complaint  descriptor location t incident z incident a  \\\n",
       "0  Traffic Signal Condition  Controller       None      10301       None   \n",
       "1  Traffic Signal Condition  Controller       None      10301       None   \n",
       "2  Traffic Signal Condition  Controller       None      10310       None   \n",
       "3  Traffic Signal Condition  Controller       None       None       None   \n",
       "4  Traffic Signal Condition  Controller       None       None       None   \n",
       "\n",
       "  street nam         ...         bridge h_2 garage lot ferry dire ferry term  \\\n",
       "0       None         ...               None       None       None       None   \n",
       "1       None         ...               None       None       None       None   \n",
       "2       None         ...               None       None       None       None   \n",
       "3       None         ...               None       None       None       None   \n",
       "4       None         ...               None       None       None       None   \n",
       "\n",
       "             latitude            longitude  \\\n",
       "0  40.613803753157917  -74.113373738864198   \n",
       "1  40.626545297464929  -74.091582334480577   \n",
       "2  40.629249554787492  -74.123220752604595   \n",
       "3                None                 None   \n",
       "4                None                 None   \n",
       "\n",
       "                                  location  \\\n",
       "0   (40.61380375315792, -74.1133737388642)   \n",
       "1  (40.62654529746493, -74.09158233448058)   \n",
       "2   (40.62924955478749, -74.1232207526046)   \n",
       "3                                     None   \n",
       "4                                     None   \n",
       "\n",
       "                                                geom        created_date  \\\n",
       "0  0101000020E61000006829ED83418752C0D7FC121F914E... 2016-02-01 00:12:00   \n",
       "1  0101000020E610000011DF267CDC8552C08809E5A23250... 2016-02-01 00:14:00   \n",
       "2  0101000020E610000004A84BD9E28752C0DC6AD93F8B50... 2016-02-01 00:15:00   \n",
       "3  0101000020E610000004A84BD9E28752C0DC6AD93F8B50... 2016-02-01 00:17:00   \n",
       "4  0101000020E610000004A84BD9E28752C0DC6AD93F8B50... 2016-02-01 00:19:00   \n",
       "\n",
       "          closed_date  \n",
       "0 2016-02-01 01:15:00  \n",
       "1 2016-02-01 00:54:00  \n",
       "2 2016-02-01 01:30:00  \n",
       "3 2016-02-01 02:35:00  \n",
       "4 2016-02-01 01:00:00  \n",
       "\n",
       "[5 rows x 55 columns]"
      ]
     },
     "execution_count": 8,
     "metadata": {},
     "output_type": "execute_result"
    }
   ],
   "source": [
    "df.head()"
   ]
  },
  {
   "cell_type": "code",
   "execution_count": 9,
   "metadata": {
    "collapsed": false
   },
   "outputs": [
    {
     "data": {
      "text/plain": [
       "Index(['gid', 'unique_key', 'agency', 'agency nam', 'complaint', 'descriptor',\n",
       "       'location t', 'incident z', 'incident a', 'street nam', 'cross stre',\n",
       "       'cross st_1', 'intersecti', 'intersec_1', 'address ty', 'city',\n",
       "       'landmark', 'facility t', 'status', 'due date', 'resolution',\n",
       "       'resoluti_1', 'community', 'borough', 'x coordina', 'y coordina',\n",
       "       'park facil', 'park borou', 'school nam', 'school num', 'school reg',\n",
       "       'school cod', 'school pho', 'school add', 'school cit', 'school sta',\n",
       "       'school zip', 'school not', 'school or', 'vehicle ty', 'taxi compa',\n",
       "       'taxi pick', 'bridge hig', 'bridge h_1', 'road ramp', 'bridge h_2',\n",
       "       'garage lot', 'ferry dire', 'ferry term', 'latitude', 'longitude',\n",
       "       'location', 'geom', 'created_date', 'closed_date'],\n",
       "      dtype='object')"
      ]
     },
     "execution_count": 9,
     "metadata": {},
     "output_type": "execute_result"
    }
   ],
   "source": [
    "df.columns"
   ]
  },
  {
   "cell_type": "code",
   "execution_count": 10,
   "metadata": {
    "collapsed": false
   },
   "outputs": [],
   "source": [
    "df['new_created_date'] = pd.to_datetime(df['created_date'], \n",
    "                                format='%m/%d/%y %H:%M:%S')"
   ]
  },
  {
   "cell_type": "code",
   "execution_count": 11,
   "metadata": {
    "collapsed": false
   },
   "outputs": [],
   "source": [
    "df['new_closed_date'] = pd.to_datetime(df['closed_date'], \n",
    "                                format='%m/%d/%y %H:%M:%S')"
   ]
  },
  {
   "cell_type": "code",
   "execution_count": 12,
   "metadata": {
    "collapsed": false
   },
   "outputs": [],
   "source": [
    "df['time_open'] = df['new_closed_date'] - df['new_created_date']"
   ]
  },
  {
   "cell_type": "code",
   "execution_count": 13,
   "metadata": {
    "collapsed": false
   },
   "outputs": [
    {
     "data": {
      "text/html": [
       "<div>\n",
       "<table border=\"1\" class=\"dataframe\">\n",
       "  <thead>\n",
       "    <tr style=\"text-align: right;\">\n",
       "      <th></th>\n",
       "      <th>gid</th>\n",
       "      <th>unique_key</th>\n",
       "      <th>agency</th>\n",
       "      <th>agency nam</th>\n",
       "      <th>complaint</th>\n",
       "      <th>descriptor</th>\n",
       "      <th>location t</th>\n",
       "      <th>incident z</th>\n",
       "      <th>incident a</th>\n",
       "      <th>street nam</th>\n",
       "      <th>...</th>\n",
       "      <th>ferry term</th>\n",
       "      <th>latitude</th>\n",
       "      <th>longitude</th>\n",
       "      <th>location</th>\n",
       "      <th>geom</th>\n",
       "      <th>created_date</th>\n",
       "      <th>closed_date</th>\n",
       "      <th>new_created_date</th>\n",
       "      <th>new_closed_date</th>\n",
       "      <th>time_open</th>\n",
       "    </tr>\n",
       "  </thead>\n",
       "  <tbody>\n",
       "    <tr>\n",
       "      <th>0</th>\n",
       "      <td>2</td>\n",
       "      <td>32570549</td>\n",
       "      <td>DOT</td>\n",
       "      <td>Department of Transportation</td>\n",
       "      <td>Traffic Signal Condition</td>\n",
       "      <td>Controller</td>\n",
       "      <td>None</td>\n",
       "      <td>10301</td>\n",
       "      <td>None</td>\n",
       "      <td>None</td>\n",
       "      <td>...</td>\n",
       "      <td>None</td>\n",
       "      <td>40.613803753157917</td>\n",
       "      <td>-74.113373738864198</td>\n",
       "      <td>(40.61380375315792, -74.1133737388642)</td>\n",
       "      <td>0101000020E61000006829ED83418752C0D7FC121F914E...</td>\n",
       "      <td>2016-02-01 00:12:00</td>\n",
       "      <td>2016-02-01 01:15:00</td>\n",
       "      <td>2016-02-01 00:12:00</td>\n",
       "      <td>2016-02-01 01:15:00</td>\n",
       "      <td>01:03:00</td>\n",
       "    </tr>\n",
       "    <tr>\n",
       "      <th>1</th>\n",
       "      <td>3</td>\n",
       "      <td>32572958</td>\n",
       "      <td>DOT</td>\n",
       "      <td>Department of Transportation</td>\n",
       "      <td>Traffic Signal Condition</td>\n",
       "      <td>Controller</td>\n",
       "      <td>None</td>\n",
       "      <td>10301</td>\n",
       "      <td>None</td>\n",
       "      <td>None</td>\n",
       "      <td>...</td>\n",
       "      <td>None</td>\n",
       "      <td>40.626545297464929</td>\n",
       "      <td>-74.091582334480577</td>\n",
       "      <td>(40.62654529746493, -74.09158233448058)</td>\n",
       "      <td>0101000020E610000011DF267CDC8552C08809E5A23250...</td>\n",
       "      <td>2016-02-01 00:14:00</td>\n",
       "      <td>2016-02-01 00:54:00</td>\n",
       "      <td>2016-02-01 00:14:00</td>\n",
       "      <td>2016-02-01 00:54:00</td>\n",
       "      <td>00:40:00</td>\n",
       "    </tr>\n",
       "    <tr>\n",
       "      <th>2</th>\n",
       "      <td>4</td>\n",
       "      <td>32573576</td>\n",
       "      <td>DOT</td>\n",
       "      <td>Department of Transportation</td>\n",
       "      <td>Traffic Signal Condition</td>\n",
       "      <td>Controller</td>\n",
       "      <td>None</td>\n",
       "      <td>10310</td>\n",
       "      <td>None</td>\n",
       "      <td>None</td>\n",
       "      <td>...</td>\n",
       "      <td>None</td>\n",
       "      <td>40.629249554787492</td>\n",
       "      <td>-74.123220752604595</td>\n",
       "      <td>(40.62924955478749, -74.1232207526046)</td>\n",
       "      <td>0101000020E610000004A84BD9E28752C0DC6AD93F8B50...</td>\n",
       "      <td>2016-02-01 00:15:00</td>\n",
       "      <td>2016-02-01 01:30:00</td>\n",
       "      <td>2016-02-01 00:15:00</td>\n",
       "      <td>2016-02-01 01:30:00</td>\n",
       "      <td>01:15:00</td>\n",
       "    </tr>\n",
       "    <tr>\n",
       "      <th>3</th>\n",
       "      <td>5</td>\n",
       "      <td>32572389</td>\n",
       "      <td>DOT</td>\n",
       "      <td>Department of Transportation</td>\n",
       "      <td>Traffic Signal Condition</td>\n",
       "      <td>Controller</td>\n",
       "      <td>None</td>\n",
       "      <td>None</td>\n",
       "      <td>None</td>\n",
       "      <td>None</td>\n",
       "      <td>...</td>\n",
       "      <td>None</td>\n",
       "      <td>None</td>\n",
       "      <td>None</td>\n",
       "      <td>None</td>\n",
       "      <td>0101000020E610000004A84BD9E28752C0DC6AD93F8B50...</td>\n",
       "      <td>2016-02-01 00:17:00</td>\n",
       "      <td>2016-02-01 02:35:00</td>\n",
       "      <td>2016-02-01 00:17:00</td>\n",
       "      <td>2016-02-01 02:35:00</td>\n",
       "      <td>02:18:00</td>\n",
       "    </tr>\n",
       "    <tr>\n",
       "      <th>4</th>\n",
       "      <td>6</td>\n",
       "      <td>32570548</td>\n",
       "      <td>DOT</td>\n",
       "      <td>Department of Transportation</td>\n",
       "      <td>Traffic Signal Condition</td>\n",
       "      <td>Controller</td>\n",
       "      <td>None</td>\n",
       "      <td>None</td>\n",
       "      <td>None</td>\n",
       "      <td>None</td>\n",
       "      <td>...</td>\n",
       "      <td>None</td>\n",
       "      <td>None</td>\n",
       "      <td>None</td>\n",
       "      <td>None</td>\n",
       "      <td>0101000020E610000004A84BD9E28752C0DC6AD93F8B50...</td>\n",
       "      <td>2016-02-01 00:19:00</td>\n",
       "      <td>2016-02-01 01:00:00</td>\n",
       "      <td>2016-02-01 00:19:00</td>\n",
       "      <td>2016-02-01 01:00:00</td>\n",
       "      <td>00:41:00</td>\n",
       "    </tr>\n",
       "  </tbody>\n",
       "</table>\n",
       "<p>5 rows × 58 columns</p>\n",
       "</div>"
      ],
      "text/plain": [
       "   gid unique_key agency                    agency nam  \\\n",
       "0    2   32570549    DOT  Department of Transportation   \n",
       "1    3   32572958    DOT  Department of Transportation   \n",
       "2    4   32573576    DOT  Department of Transportation   \n",
       "3    5   32572389    DOT  Department of Transportation   \n",
       "4    6   32570548    DOT  Department of Transportation   \n",
       "\n",
       "                  complaint  descriptor location t incident z incident a  \\\n",
       "0  Traffic Signal Condition  Controller       None      10301       None   \n",
       "1  Traffic Signal Condition  Controller       None      10301       None   \n",
       "2  Traffic Signal Condition  Controller       None      10310       None   \n",
       "3  Traffic Signal Condition  Controller       None       None       None   \n",
       "4  Traffic Signal Condition  Controller       None       None       None   \n",
       "\n",
       "  street nam    ...    ferry term            latitude            longitude  \\\n",
       "0       None    ...          None  40.613803753157917  -74.113373738864198   \n",
       "1       None    ...          None  40.626545297464929  -74.091582334480577   \n",
       "2       None    ...          None  40.629249554787492  -74.123220752604595   \n",
       "3       None    ...          None                None                 None   \n",
       "4       None    ...          None                None                 None   \n",
       "\n",
       "                                  location  \\\n",
       "0   (40.61380375315792, -74.1133737388642)   \n",
       "1  (40.62654529746493, -74.09158233448058)   \n",
       "2   (40.62924955478749, -74.1232207526046)   \n",
       "3                                     None   \n",
       "4                                     None   \n",
       "\n",
       "                                                geom        created_date  \\\n",
       "0  0101000020E61000006829ED83418752C0D7FC121F914E... 2016-02-01 00:12:00   \n",
       "1  0101000020E610000011DF267CDC8552C08809E5A23250... 2016-02-01 00:14:00   \n",
       "2  0101000020E610000004A84BD9E28752C0DC6AD93F8B50... 2016-02-01 00:15:00   \n",
       "3  0101000020E610000004A84BD9E28752C0DC6AD93F8B50... 2016-02-01 00:17:00   \n",
       "4  0101000020E610000004A84BD9E28752C0DC6AD93F8B50... 2016-02-01 00:19:00   \n",
       "\n",
       "          closed_date    new_created_date     new_closed_date time_open  \n",
       "0 2016-02-01 01:15:00 2016-02-01 00:12:00 2016-02-01 01:15:00  01:03:00  \n",
       "1 2016-02-01 00:54:00 2016-02-01 00:14:00 2016-02-01 00:54:00  00:40:00  \n",
       "2 2016-02-01 01:30:00 2016-02-01 00:15:00 2016-02-01 01:30:00  01:15:00  \n",
       "3 2016-02-01 02:35:00 2016-02-01 00:17:00 2016-02-01 02:35:00  02:18:00  \n",
       "4 2016-02-01 01:00:00 2016-02-01 00:19:00 2016-02-01 01:00:00  00:41:00  \n",
       "\n",
       "[5 rows x 58 columns]"
      ]
     },
     "execution_count": 13,
     "metadata": {},
     "output_type": "execute_result"
    }
   ],
   "source": [
    "df.head()"
   ]
  },
  {
   "cell_type": "code",
   "execution_count": 14,
   "metadata": {
    "collapsed": false
   },
   "outputs": [
    {
     "data": {
      "text/plain": [
       "0 days 00:00:00      521\n",
       "-3 days +00:00:00    184\n",
       "-6 days +00:00:00    112\n",
       "-2 days +00:00:00     27\n",
       "-2 days +23:59:00     26\n",
       "0 days 00:20:00       23\n",
       "0 days 01:32:00       10\n",
       "0 days 01:26:00       10\n",
       "0 days 00:25:00        9\n",
       "0 days 01:27:00        9\n",
       "0 days 02:02:00        9\n",
       "0 days 01:34:00        9\n",
       "0 days 00:40:00        9\n",
       "0 days 00:15:00        8\n",
       "0 days 01:09:00        8\n",
       "0 days 00:54:00        8\n",
       "0 days 01:15:00        8\n",
       "0 days 00:45:00        8\n",
       "0 days 01:42:00        8\n",
       "0 days 00:49:00        7\n",
       "0 days 01:51:00        7\n",
       "0 days 01:22:00        7\n",
       "0 days 01:18:00        7\n",
       "0 days 01:52:00        7\n",
       "0 days 02:18:00        7\n",
       "0 days 01:29:00        7\n",
       "0 days 01:33:00        7\n",
       "0 days 01:58:00        7\n",
       "0 days 01:36:00        7\n",
       "-4 days +23:59:00      7\n",
       "                    ... \n",
       "0 days 23:53:09        1\n",
       "0 days 23:53:25        1\n",
       "29 days 13:19:50       1\n",
       "0 days 06:54:59        1\n",
       "0 days 21:32:37        1\n",
       "10 days 16:07:27       1\n",
       "0 days 03:14:00        1\n",
       "0 days 04:56:26        1\n",
       "3 days 16:46:05        1\n",
       "43 days 18:11:57       1\n",
       "1 days 06:05:30        1\n",
       "1 days 02:06:00        1\n",
       "43 days 15:03:49       1\n",
       "1 days 18:18:00        1\n",
       "2 days 18:07:22        1\n",
       "0 days 08:05:00        1\n",
       "0 days 01:54:23        1\n",
       "12 days 16:55:00       1\n",
       "2 days 05:16:45        1\n",
       "5 days 23:40:03        1\n",
       "7 days 20:52:00        1\n",
       "50 days 00:25:00       1\n",
       "0 days 19:02:57        1\n",
       "0 days 12:56:00        1\n",
       "-3 days +06:44:00      1\n",
       "31 days 22:41:41       1\n",
       "0 days 22:41:28        1\n",
       "13 days 23:26:00       1\n",
       "0 days 12:54:24        1\n",
       "0 days 03:11:44        1\n",
       "Name: time_open, dtype: int64"
      ]
     },
     "execution_count": 14,
     "metadata": {},
     "output_type": "execute_result"
    }
   ],
   "source": [
    "df['time_open'].value_counts()"
   ]
  },
  {
   "cell_type": "code",
   "execution_count": 15,
   "metadata": {
    "collapsed": false
   },
   "outputs": [],
   "source": [
    "time_open = pd.DataFrame(df['time_open'][df['time_open'] > pd.Timedelta(minutes=0)].dropna())"
   ]
  },
  {
   "cell_type": "code",
   "execution_count": 16,
   "metadata": {
    "collapsed": false
   },
   "outputs": [
    {
     "data": {
      "text/html": [
       "<div>\n",
       "<table border=\"1\" class=\"dataframe\">\n",
       "  <thead>\n",
       "    <tr style=\"text-align: right;\">\n",
       "      <th></th>\n",
       "      <th>time_open</th>\n",
       "    </tr>\n",
       "  </thead>\n",
       "  <tbody>\n",
       "    <tr>\n",
       "      <th>0</th>\n",
       "      <td>0 days 01:03:00</td>\n",
       "    </tr>\n",
       "    <tr>\n",
       "      <th>1</th>\n",
       "      <td>0 days 00:40:00</td>\n",
       "    </tr>\n",
       "    <tr>\n",
       "      <th>2</th>\n",
       "      <td>0 days 01:15:00</td>\n",
       "    </tr>\n",
       "    <tr>\n",
       "      <th>3</th>\n",
       "      <td>0 days 02:18:00</td>\n",
       "    </tr>\n",
       "    <tr>\n",
       "      <th>4</th>\n",
       "      <td>0 days 00:41:00</td>\n",
       "    </tr>\n",
       "    <tr>\n",
       "      <th>5</th>\n",
       "      <td>0 days 01:39:00</td>\n",
       "    </tr>\n",
       "    <tr>\n",
       "      <th>6</th>\n",
       "      <td>0 days 01:08:00</td>\n",
       "    </tr>\n",
       "    <tr>\n",
       "      <th>7</th>\n",
       "      <td>0 days 00:38:00</td>\n",
       "    </tr>\n",
       "    <tr>\n",
       "      <th>8</th>\n",
       "      <td>0 days 00:10:00</td>\n",
       "    </tr>\n",
       "    <tr>\n",
       "      <th>9</th>\n",
       "      <td>0 days 21:57:44</td>\n",
       "    </tr>\n",
       "    <tr>\n",
       "      <th>10</th>\n",
       "      <td>0 days 20:04:17</td>\n",
       "    </tr>\n",
       "    <tr>\n",
       "      <th>11</th>\n",
       "      <td>7 days 11:45:00</td>\n",
       "    </tr>\n",
       "    <tr>\n",
       "      <th>12</th>\n",
       "      <td>9 days 08:20:00</td>\n",
       "    </tr>\n",
       "    <tr>\n",
       "      <th>13</th>\n",
       "      <td>0 days 00:20:00</td>\n",
       "    </tr>\n",
       "    <tr>\n",
       "      <th>15</th>\n",
       "      <td>0 days 12:48:00</td>\n",
       "    </tr>\n",
       "    <tr>\n",
       "      <th>16</th>\n",
       "      <td>2 days 15:40:11</td>\n",
       "    </tr>\n",
       "    <tr>\n",
       "      <th>17</th>\n",
       "      <td>4 days 10:44:00</td>\n",
       "    </tr>\n",
       "    <tr>\n",
       "      <th>18</th>\n",
       "      <td>3 days 09:01:00</td>\n",
       "    </tr>\n",
       "    <tr>\n",
       "      <th>19</th>\n",
       "      <td>1 days 11:33:00</td>\n",
       "    </tr>\n",
       "    <tr>\n",
       "      <th>20</th>\n",
       "      <td>0 days 08:31:24</td>\n",
       "    </tr>\n",
       "    <tr>\n",
       "      <th>21</th>\n",
       "      <td>7 days 13:18:00</td>\n",
       "    </tr>\n",
       "    <tr>\n",
       "      <th>22</th>\n",
       "      <td>3 days 09:34:06</td>\n",
       "    </tr>\n",
       "    <tr>\n",
       "      <th>23</th>\n",
       "      <td>0 days 06:56:59</td>\n",
       "    </tr>\n",
       "    <tr>\n",
       "      <th>24</th>\n",
       "      <td>1 days 11:36:00</td>\n",
       "    </tr>\n",
       "    <tr>\n",
       "      <th>25</th>\n",
       "      <td>0 days 08:06:00</td>\n",
       "    </tr>\n",
       "    <tr>\n",
       "      <th>26</th>\n",
       "      <td>0 days 10:19:00</td>\n",
       "    </tr>\n",
       "    <tr>\n",
       "      <th>27</th>\n",
       "      <td>2 days 06:37:00</td>\n",
       "    </tr>\n",
       "    <tr>\n",
       "      <th>28</th>\n",
       "      <td>0 days 00:23:00</td>\n",
       "    </tr>\n",
       "    <tr>\n",
       "      <th>29</th>\n",
       "      <td>0 days 06:07:38</td>\n",
       "    </tr>\n",
       "    <tr>\n",
       "      <th>30</th>\n",
       "      <td>2 days 00:01:00</td>\n",
       "    </tr>\n",
       "    <tr>\n",
       "      <th>...</th>\n",
       "      <td>...</td>\n",
       "    </tr>\n",
       "    <tr>\n",
       "      <th>5820</th>\n",
       "      <td>4 days 15:00:42</td>\n",
       "    </tr>\n",
       "    <tr>\n",
       "      <th>5821</th>\n",
       "      <td>2 days 17:15:49</td>\n",
       "    </tr>\n",
       "    <tr>\n",
       "      <th>5822</th>\n",
       "      <td>1 days 04:45:30</td>\n",
       "    </tr>\n",
       "    <tr>\n",
       "      <th>5823</th>\n",
       "      <td>1 days 04:44:21</td>\n",
       "    </tr>\n",
       "    <tr>\n",
       "      <th>5824</th>\n",
       "      <td>1 days 12:59:00</td>\n",
       "    </tr>\n",
       "    <tr>\n",
       "      <th>5825</th>\n",
       "      <td>2 days 13:35:00</td>\n",
       "    </tr>\n",
       "    <tr>\n",
       "      <th>5826</th>\n",
       "      <td>1 days 04:34:23</td>\n",
       "    </tr>\n",
       "    <tr>\n",
       "      <th>5827</th>\n",
       "      <td>1 days 16:04:26</td>\n",
       "    </tr>\n",
       "    <tr>\n",
       "      <th>5828</th>\n",
       "      <td>38 days 12:04:00</td>\n",
       "    </tr>\n",
       "    <tr>\n",
       "      <th>5829</th>\n",
       "      <td>4 days 11:02:00</td>\n",
       "    </tr>\n",
       "    <tr>\n",
       "      <th>5830</th>\n",
       "      <td>19 days 11:30:57</td>\n",
       "    </tr>\n",
       "    <tr>\n",
       "      <th>5831</th>\n",
       "      <td>0 days 21:04:18</td>\n",
       "    </tr>\n",
       "    <tr>\n",
       "      <th>5832</th>\n",
       "      <td>5 days 16:30:44</td>\n",
       "    </tr>\n",
       "    <tr>\n",
       "      <th>5833</th>\n",
       "      <td>15 days 11:14:55</td>\n",
       "    </tr>\n",
       "    <tr>\n",
       "      <th>5834</th>\n",
       "      <td>10 days 10:27:48</td>\n",
       "    </tr>\n",
       "    <tr>\n",
       "      <th>5835</th>\n",
       "      <td>1 days 05:13:55</td>\n",
       "    </tr>\n",
       "    <tr>\n",
       "      <th>5836</th>\n",
       "      <td>1 days 14:36:53</td>\n",
       "    </tr>\n",
       "    <tr>\n",
       "      <th>5837</th>\n",
       "      <td>1 days 12:28:00</td>\n",
       "    </tr>\n",
       "    <tr>\n",
       "      <th>5838</th>\n",
       "      <td>2 days 00:43:43</td>\n",
       "    </tr>\n",
       "    <tr>\n",
       "      <th>5839</th>\n",
       "      <td>9 days 10:42:25</td>\n",
       "    </tr>\n",
       "    <tr>\n",
       "      <th>5840</th>\n",
       "      <td>1 days 22:44:00</td>\n",
       "    </tr>\n",
       "    <tr>\n",
       "      <th>5841</th>\n",
       "      <td>0 days 04:21:00</td>\n",
       "    </tr>\n",
       "    <tr>\n",
       "      <th>5842</th>\n",
       "      <td>0 days 17:31:11</td>\n",
       "    </tr>\n",
       "    <tr>\n",
       "      <th>5843</th>\n",
       "      <td>0 days 20:04:58</td>\n",
       "    </tr>\n",
       "    <tr>\n",
       "      <th>5844</th>\n",
       "      <td>1 days 07:15:53</td>\n",
       "    </tr>\n",
       "    <tr>\n",
       "      <th>5845</th>\n",
       "      <td>0 days 21:33:40</td>\n",
       "    </tr>\n",
       "    <tr>\n",
       "      <th>5846</th>\n",
       "      <td>1 days 23:13:00</td>\n",
       "    </tr>\n",
       "    <tr>\n",
       "      <th>5848</th>\n",
       "      <td>5 days 22:37:00</td>\n",
       "    </tr>\n",
       "    <tr>\n",
       "      <th>5849</th>\n",
       "      <td>1 days 10:13:27</td>\n",
       "    </tr>\n",
       "    <tr>\n",
       "      <th>5850</th>\n",
       "      <td>3 days 15:19:00</td>\n",
       "    </tr>\n",
       "  </tbody>\n",
       "</table>\n",
       "<p>4547 rows × 1 columns</p>\n",
       "</div>"
      ],
      "text/plain": [
       "            time_open\n",
       "0     0 days 01:03:00\n",
       "1     0 days 00:40:00\n",
       "2     0 days 01:15:00\n",
       "3     0 days 02:18:00\n",
       "4     0 days 00:41:00\n",
       "5     0 days 01:39:00\n",
       "6     0 days 01:08:00\n",
       "7     0 days 00:38:00\n",
       "8     0 days 00:10:00\n",
       "9     0 days 21:57:44\n",
       "10    0 days 20:04:17\n",
       "11    7 days 11:45:00\n",
       "12    9 days 08:20:00\n",
       "13    0 days 00:20:00\n",
       "15    0 days 12:48:00\n",
       "16    2 days 15:40:11\n",
       "17    4 days 10:44:00\n",
       "18    3 days 09:01:00\n",
       "19    1 days 11:33:00\n",
       "20    0 days 08:31:24\n",
       "21    7 days 13:18:00\n",
       "22    3 days 09:34:06\n",
       "23    0 days 06:56:59\n",
       "24    1 days 11:36:00\n",
       "25    0 days 08:06:00\n",
       "26    0 days 10:19:00\n",
       "27    2 days 06:37:00\n",
       "28    0 days 00:23:00\n",
       "29    0 days 06:07:38\n",
       "30    2 days 00:01:00\n",
       "...               ...\n",
       "5820  4 days 15:00:42\n",
       "5821  2 days 17:15:49\n",
       "5822  1 days 04:45:30\n",
       "5823  1 days 04:44:21\n",
       "5824  1 days 12:59:00\n",
       "5825  2 days 13:35:00\n",
       "5826  1 days 04:34:23\n",
       "5827  1 days 16:04:26\n",
       "5828 38 days 12:04:00\n",
       "5829  4 days 11:02:00\n",
       "5830 19 days 11:30:57\n",
       "5831  0 days 21:04:18\n",
       "5832  5 days 16:30:44\n",
       "5833 15 days 11:14:55\n",
       "5834 10 days 10:27:48\n",
       "5835  1 days 05:13:55\n",
       "5836  1 days 14:36:53\n",
       "5837  1 days 12:28:00\n",
       "5838  2 days 00:43:43\n",
       "5839  9 days 10:42:25\n",
       "5840  1 days 22:44:00\n",
       "5841  0 days 04:21:00\n",
       "5842  0 days 17:31:11\n",
       "5843  0 days 20:04:58\n",
       "5844  1 days 07:15:53\n",
       "5845  0 days 21:33:40\n",
       "5846  1 days 23:13:00\n",
       "5848  5 days 22:37:00\n",
       "5849  1 days 10:13:27\n",
       "5850  3 days 15:19:00\n",
       "\n",
       "[4547 rows x 1 columns]"
      ]
     },
     "execution_count": 16,
     "metadata": {},
     "output_type": "execute_result"
    }
   ],
   "source": [
    "time_open"
   ]
  },
  {
   "cell_type": "code",
   "execution_count": 17,
   "metadata": {
    "collapsed": false
   },
   "outputs": [
    {
     "data": {
      "text/plain": [
       "time_open   1 days 03:33:17\n",
       "dtype: timedelta64[ns]"
      ]
     },
     "execution_count": 17,
     "metadata": {},
     "output_type": "execute_result"
    }
   ],
   "source": [
    "time_open.median()"
   ]
  },
  {
   "cell_type": "code",
   "execution_count": 18,
   "metadata": {
    "collapsed": false
   },
   "outputs": [
    {
     "data": {
      "text/plain": [
       "time_open   8 days 16:15:03.514405\n",
       "dtype: timedelta64[ns]"
      ]
     },
     "execution_count": 18,
     "metadata": {},
     "output_type": "execute_result"
    }
   ],
   "source": [
    "time_open.mean()"
   ]
  },
  {
   "cell_type": "code",
   "execution_count": 19,
   "metadata": {
    "collapsed": false
   },
   "outputs": [
    {
     "data": {
      "text/html": [
       "<div>\n",
       "<table border=\"1\" class=\"dataframe\">\n",
       "  <thead>\n",
       "    <tr style=\"text-align: right;\">\n",
       "      <th></th>\n",
       "      <th>time_open</th>\n",
       "    </tr>\n",
       "  </thead>\n",
       "  <tbody>\n",
       "    <tr>\n",
       "      <th>0</th>\n",
       "      <td>00:20:00</td>\n",
       "    </tr>\n",
       "  </tbody>\n",
       "</table>\n",
       "</div>"
      ],
      "text/plain": [
       "   time_open\n",
       "0   00:20:00"
      ]
     },
     "execution_count": 19,
     "metadata": {},
     "output_type": "execute_result"
    }
   ],
   "source": [
    "time_open.mode()"
   ]
  },
  {
   "cell_type": "code",
   "execution_count": 20,
   "metadata": {
    "collapsed": false
   },
   "outputs": [
    {
     "data": {
      "text/plain": [
       "Timedelta('0 days 12:41:58')"
      ]
     },
     "execution_count": 20,
     "metadata": {},
     "output_type": "execute_result"
    }
   ],
   "source": [
    "time_open['time_open'].quantile(q=0.25)"
   ]
  },
  {
   "cell_type": "code",
   "execution_count": 21,
   "metadata": {
    "collapsed": false
   },
   "outputs": [
    {
     "data": {
      "text/plain": [
       "Timedelta('1 days 03:33:17')"
      ]
     },
     "execution_count": 21,
     "metadata": {},
     "output_type": "execute_result"
    }
   ],
   "source": [
    "time_open['time_open'].quantile(q=0.5)"
   ]
  },
  {
   "cell_type": "code",
   "execution_count": 22,
   "metadata": {
    "collapsed": false
   },
   "outputs": [
    {
     "data": {
      "text/plain": [
       "Timedelta('6 days 00:30:23.500000')"
      ]
     },
     "execution_count": 22,
     "metadata": {},
     "output_type": "execute_result"
    }
   ],
   "source": [
    "time_open['time_open'].quantile(q=0.75)"
   ]
  },
  {
   "cell_type": "code",
   "execution_count": 23,
   "metadata": {
    "collapsed": true
   },
   "outputs": [],
   "source": [
    "iqr = (time_open['time_open'].quantile(q=0.75)) - (time_open['time_open'].quantile(q=0.25))"
   ]
  },
  {
   "cell_type": "code",
   "execution_count": 24,
   "metadata": {
    "collapsed": false
   },
   "outputs": [
    {
     "data": {
      "text/plain": [
       "Timedelta('5 days 11:48:25.500000')"
      ]
     },
     "execution_count": 24,
     "metadata": {},
     "output_type": "execute_result"
    }
   ],
   "source": [
    "iqr"
   ]
  },
  {
   "cell_type": "code",
   "execution_count": 25,
   "metadata": {
    "collapsed": true
   },
   "outputs": [],
   "source": [
    "ual = (iqr * 1.5) + time_open.median()"
   ]
  },
  {
   "cell_type": "code",
   "execution_count": 26,
   "metadata": {
    "collapsed": false
   },
   "outputs": [
    {
     "data": {
      "text/plain": [
       "time_open   9 days 09:15:55.250000\n",
       "dtype: timedelta64[ns]"
      ]
     },
     "execution_count": 26,
     "metadata": {},
     "output_type": "execute_result"
    }
   ],
   "source": [
    "ual"
   ]
  },
  {
   "cell_type": "code",
   "execution_count": 27,
   "metadata": {
    "collapsed": true
   },
   "outputs": [],
   "source": [
    "lal = (iqr * 1.5) - time_open.median()"
   ]
  },
  {
   "cell_type": "code",
   "execution_count": 28,
   "metadata": {
    "collapsed": false
   },
   "outputs": [
    {
     "data": {
      "text/plain": [
       "time_open   7 days 02:09:21.250000\n",
       "dtype: timedelta64[ns]"
      ]
     },
     "execution_count": 28,
     "metadata": {},
     "output_type": "execute_result"
    }
   ],
   "source": [
    "lal"
   ]
  },
  {
   "cell_type": "code",
   "execution_count": 29,
   "metadata": {
    "collapsed": false
   },
   "outputs": [
    {
     "data": {
      "text/plain": [
       "time_open   15 days 10:45:41.824078\n",
       "dtype: timedelta64[ns]"
      ]
     },
     "execution_count": 29,
     "metadata": {},
     "output_type": "execute_result"
    }
   ],
   "source": [
    "numpy.std(time_open)"
   ]
  },
  {
   "cell_type": "code",
   "execution_count": 30,
   "metadata": {
    "collapsed": false
   },
   "outputs": [
    {
     "data": {
      "text/plain": [
       "time_open   89 days 18:54:00\n",
       "dtype: timedelta64[ns]"
      ]
     },
     "execution_count": 30,
     "metadata": {},
     "output_type": "execute_result"
    }
   ],
   "source": [
    "time_open.max()"
   ]
  },
  {
   "cell_type": "code",
   "execution_count": 31,
   "metadata": {
    "collapsed": false
   },
   "outputs": [
    {
     "data": {
      "text/plain": [
       "time_open   00:00:01\n",
       "dtype: timedelta64[ns]"
      ]
     },
     "execution_count": 31,
     "metadata": {},
     "output_type": "execute_result"
    }
   ],
   "source": [
    "time_open.min()"
   ]
  },
  {
   "cell_type": "code",
   "execution_count": 32,
   "metadata": {
    "collapsed": true
   },
   "outputs": [],
   "source": [
    "data_range = time_open.max() - time_open.min()"
   ]
  },
  {
   "cell_type": "code",
   "execution_count": 33,
   "metadata": {
    "collapsed": false
   },
   "outputs": [
    {
     "data": {
      "text/plain": [
       "time_open   89 days 18:53:59\n",
       "dtype: timedelta64[ns]"
      ]
     },
     "execution_count": 33,
     "metadata": {},
     "output_type": "execute_result"
    }
   ],
   "source": [
    "data_range"
   ]
  },
  {
   "cell_type": "code",
   "execution_count": 67,
   "metadata": {
    "collapsed": false
   },
   "outputs": [
    {
     "data": {
      "text/plain": [
       "array([[<matplotlib.axes._subplots.AxesSubplot object at 0x10df9a0f0>]], dtype=object)"
      ]
     },
     "execution_count": 67,
     "metadata": {},
     "output_type": "execute_result"
    },
    {
     "data": {
      "image/png": "[encoded data removed]",
      "text/plain": [
       "<matplotlib.figure.Figure at 0x10ddd3cc0>"
      ]
     },
     "metadata": {},
     "output_type": "display_data"
    }
   ],
   "source": [
    "(time_open.astype('timedelta64[m]')).hist(bins=100, figsize=(10,5))"
   ]
  },
  {
   "cell_type": "markdown",
   "metadata": {},
   "source": [
    "This data are skewed by some outliers, especially in the Q4: while 75% of the complaints have been open 6 days or less, the longest complaint has been open for 89 days - which is also the range of this data -, and the shortest is only one second long. This is also shown by the standard deviation, that is 15 days, and the difference between the mean (1 day) and the mean (8 days and a half). In fact, the most common value is 20 minutes."
   ]
  }
 ],
 "metadata": {
  "kernelspec": {
   "display_name": "Python 3",
   "language": "python",
   "name": "python3"
  },
  "language_info": {
   "codemirror_mode": {
    "name": "ipython",
    "version": 3
   },
   "file_extension": ".py",
   "mimetype": "text/x-python",
   "name": "python",
   "nbconvert_exporter": "python",
   "pygments_lexer": "ipython3",
   "version": "3.5.1"
  }
 },
 "nbformat": 4,
 "nbformat_minor": 0
}
