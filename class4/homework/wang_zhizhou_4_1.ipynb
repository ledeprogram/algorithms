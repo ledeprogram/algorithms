{
 "cells": [
  {
   "cell_type": "markdown",
   "metadata": {},
   "source": [
    "## Assignment 1\n",
    "* Perform a basic statistical analysis of the time DOT 311 (table is called dot_311) complaints are open (subtract closed date from created date)\n",
    "* Connect to the database to get the data and do the analysis. Submit the code through Github and type up your results in your PR"
   ]
  },
  {
   "cell_type": "markdown",
   "metadata": {},
   "source": [
    "Host: training.c1erymiua9dx.us-east-1.rds.amazonaws.com\n",
    "\n",
    "Port: 5432\n",
    "\n",
    "Database: training\n",
    "\n",
    "Username: dot_student\n",
    "\n",
    "Password: qgis"
   ]
  },
  {
   "cell_type": "code",
   "execution_count": 75,
   "metadata": {
    "collapsed": true
   },
   "outputs": [],
   "source": [
    "import pg8000\n",
    "import pandas as pd"
   ]
  },
  {
   "cell_type": "code",
   "execution_count": 76,
   "metadata": {
    "collapsed": false
   },
   "outputs": [],
   "source": [
    "conn = pg8000.connect(host='training.c1erymiua9dx.us-east-1.rds.amazonaws.com',port=5432,database='training',user='dot_student',password='qgis')"
   ]
  },
  {
   "cell_type": "code",
   "execution_count": 77,
   "metadata": {
    "collapsed": true
   },
   "outputs": [],
   "source": [
    "conn.rollback()"
   ]
  },
  {
   "cell_type": "code",
   "execution_count": 71,
   "metadata": {
    "collapsed": false
   },
   "outputs": [
    {
     "name": "stdout",
     "output_type": "stream",
     "text": [
      "['gid', 'unique_key', 'agency', 'agency nam', 'complaint', 'descriptor', 'location t', 'incident z', 'incident a', 'street nam', 'cross stre', 'cross st_1', 'intersecti', 'intersec_1', 'address ty', 'city', 'landmark', 'facility t', 'status', 'due date', 'resolution', 'resoluti_1', 'community', 'borough', 'x coordina', 'y coordina', 'park facil', 'park borou', 'school nam', 'school num', 'school reg', 'school cod', 'school pho', 'school add', 'school cit', 'school sta', 'school zip', 'school not', 'school or', 'vehicle ty', 'taxi compa', 'taxi pick', 'bridge hig', 'bridge h_1', 'road ramp', 'bridge h_2', 'garage lot', 'ferry dire', 'ferry term', 'latitude', 'longitude', 'location', 'geom', 'created_date', 'closed_date']\n"
     ]
    }
   ],
   "source": [
    "cursor = conn.cursor()\n",
    "statement=\"SELECT * from INFORMATION_SCHEMA.COLUMNs where table_name='dot_311'\"\n",
    "cursor.execute(statement)\n",
    "columns=[]\n",
    "for row in cursor.fetchall():\n",
    "    columns.append(row[3])\n",
    "print(columns)"
   ]
  },
  {
   "cell_type": "code",
   "execution_count": 95,
   "metadata": {
    "collapsed": false
   },
   "outputs": [],
   "source": [
    "cursor = conn.cursor()\n",
    "cursor.execute(\"SELECT unique_key,agency,complaint,descriptor,created_date,closed_date,borough from dot_311\")\n",
    "complaints=[]\n",
    "for item in cursor:\n",
    "    complaints.append(item)"
   ]
  },
  {
   "cell_type": "code",
   "execution_count": 145,
   "metadata": {
    "collapsed": false
   },
   "outputs": [],
   "source": [
    "df = pd.DataFrame(complaints)\n",
    "df.columns = [\"unique_key\",\"agency\",\"complaint\",\"descriptor\",\"created_date\",\"closed_date\",\"borough\"]"
   ]
  },
  {
   "cell_type": "code",
   "execution_count": 146,
   "metadata": {
    "collapsed": false
   },
   "outputs": [],
   "source": [
    "df['efficiency']=df['closed_date']-df['created_date']"
   ]
  },
  {
   "cell_type": "code",
   "execution_count": 99,
   "metadata": {
    "collapsed": false
   },
   "outputs": [
    {
     "data": {
      "text/html": [
       "<div>\n",
       "<table border=\"1\" class=\"dataframe\">\n",
       "  <thead>\n",
       "    <tr style=\"text-align: right;\">\n",
       "      <th></th>\n",
       "      <th>unique_key</th>\n",
       "      <th>agency</th>\n",
       "      <th>complaint</th>\n",
       "      <th>descriptor</th>\n",
       "      <th>created_date</th>\n",
       "      <th>closed_date</th>\n",
       "      <th>borough</th>\n",
       "      <th>efficiency</th>\n",
       "    </tr>\n",
       "  </thead>\n",
       "  <tbody>\n",
       "    <tr>\n",
       "      <th>0</th>\n",
       "      <td>32570549</td>\n",
       "      <td>DOT</td>\n",
       "      <td>Traffic Signal Condition</td>\n",
       "      <td>Controller</td>\n",
       "      <td>2016-02-01 00:12:00</td>\n",
       "      <td>2016-02-01 01:15:00</td>\n",
       "      <td>STATEN ISLAND</td>\n",
       "      <td>0 days 01:03:00</td>\n",
       "    </tr>\n",
       "    <tr>\n",
       "      <th>1</th>\n",
       "      <td>32572958</td>\n",
       "      <td>DOT</td>\n",
       "      <td>Traffic Signal Condition</td>\n",
       "      <td>Controller</td>\n",
       "      <td>2016-02-01 00:14:00</td>\n",
       "      <td>2016-02-01 00:54:00</td>\n",
       "      <td>STATEN ISLAND</td>\n",
       "      <td>0 days 00:40:00</td>\n",
       "    </tr>\n",
       "    <tr>\n",
       "      <th>2</th>\n",
       "      <td>32573576</td>\n",
       "      <td>DOT</td>\n",
       "      <td>Traffic Signal Condition</td>\n",
       "      <td>Controller</td>\n",
       "      <td>2016-02-01 00:15:00</td>\n",
       "      <td>2016-02-01 01:30:00</td>\n",
       "      <td>STATEN ISLAND</td>\n",
       "      <td>0 days 01:15:00</td>\n",
       "    </tr>\n",
       "    <tr>\n",
       "      <th>3</th>\n",
       "      <td>32572389</td>\n",
       "      <td>DOT</td>\n",
       "      <td>Traffic Signal Condition</td>\n",
       "      <td>Controller</td>\n",
       "      <td>2016-02-01 00:17:00</td>\n",
       "      <td>2016-02-01 02:35:00</td>\n",
       "      <td>MANHATTAN</td>\n",
       "      <td>0 days 02:18:00</td>\n",
       "    </tr>\n",
       "    <tr>\n",
       "      <th>4</th>\n",
       "      <td>32570548</td>\n",
       "      <td>DOT</td>\n",
       "      <td>Traffic Signal Condition</td>\n",
       "      <td>Controller</td>\n",
       "      <td>2016-02-01 00:19:00</td>\n",
       "      <td>2016-02-01 01:00:00</td>\n",
       "      <td>MANHATTAN</td>\n",
       "      <td>0 days 00:41:00</td>\n",
       "    </tr>\n",
       "    <tr>\n",
       "      <th>5</th>\n",
       "      <td>32574044</td>\n",
       "      <td>DOT</td>\n",
       "      <td>Traffic Signal Condition</td>\n",
       "      <td>Controller</td>\n",
       "      <td>2016-02-01 00:21:00</td>\n",
       "      <td>2016-02-01 02:00:00</td>\n",
       "      <td>MANHATTAN</td>\n",
       "      <td>0 days 01:39:00</td>\n",
       "    </tr>\n",
       "    <tr>\n",
       "      <th>6</th>\n",
       "      <td>32573047</td>\n",
       "      <td>DOT</td>\n",
       "      <td>Traffic Signal Condition</td>\n",
       "      <td>Controller</td>\n",
       "      <td>2016-02-01 00:22:00</td>\n",
       "      <td>2016-02-01 01:30:00</td>\n",
       "      <td>MANHATTAN</td>\n",
       "      <td>0 days 01:08:00</td>\n",
       "    </tr>\n",
       "    <tr>\n",
       "      <th>7</th>\n",
       "      <td>32572971</td>\n",
       "      <td>DOT</td>\n",
       "      <td>Traffic Signal Condition</td>\n",
       "      <td>Controller</td>\n",
       "      <td>2016-02-01 00:27:00</td>\n",
       "      <td>2016-02-01 01:05:00</td>\n",
       "      <td>BROOKLYN</td>\n",
       "      <td>0 days 00:38:00</td>\n",
       "    </tr>\n",
       "    <tr>\n",
       "      <th>8</th>\n",
       "      <td>32575571</td>\n",
       "      <td>DOT</td>\n",
       "      <td>Traffic Signal Condition</td>\n",
       "      <td>Base Door</td>\n",
       "      <td>2016-02-01 00:32:00</td>\n",
       "      <td>2016-02-01 00:42:00</td>\n",
       "      <td>BRONX</td>\n",
       "      <td>0 days 00:10:00</td>\n",
       "    </tr>\n",
       "    <tr>\n",
       "      <th>9</th>\n",
       "      <td>32576008</td>\n",
       "      <td>DOT</td>\n",
       "      <td>Street Condition</td>\n",
       "      <td>Pothole</td>\n",
       "      <td>2016-02-01 00:32:16</td>\n",
       "      <td>2016-02-01 22:30:00</td>\n",
       "      <td>MANHATTAN</td>\n",
       "      <td>0 days 21:57:44</td>\n",
       "    </tr>\n",
       "    <tr>\n",
       "      <th>10</th>\n",
       "      <td>32573945</td>\n",
       "      <td>DOT</td>\n",
       "      <td>Street Condition</td>\n",
       "      <td>Plate Condition - Noisy</td>\n",
       "      <td>2016-02-01 00:40:25</td>\n",
       "      <td>2016-02-01 20:44:42</td>\n",
       "      <td>MANHATTAN</td>\n",
       "      <td>0 days 20:04:17</td>\n",
       "    </tr>\n",
       "    <tr>\n",
       "      <th>11</th>\n",
       "      <td>32570682</td>\n",
       "      <td>DOT</td>\n",
       "      <td>Street Light Condition</td>\n",
       "      <td>Street Light Out</td>\n",
       "      <td>2016-02-01 00:44:00</td>\n",
       "      <td>2016-02-08 12:29:00</td>\n",
       "      <td>BROOKLYN</td>\n",
       "      <td>7 days 11:45:00</td>\n",
       "    </tr>\n",
       "    <tr>\n",
       "      <th>12</th>\n",
       "      <td>32572906</td>\n",
       "      <td>DOT</td>\n",
       "      <td>Traffic Signal Condition</td>\n",
       "      <td>Post</td>\n",
       "      <td>2016-02-01 00:50:00</td>\n",
       "      <td>2016-02-10 09:10:00</td>\n",
       "      <td>BROOKLYN</td>\n",
       "      <td>9 days 08:20:00</td>\n",
       "    </tr>\n",
       "    <tr>\n",
       "      <th>13</th>\n",
       "      <td>32579102</td>\n",
       "      <td>DOT</td>\n",
       "      <td>Traffic Signal Condition</td>\n",
       "      <td>Pedestrian Signal</td>\n",
       "      <td>2016-02-01 00:53:00</td>\n",
       "      <td>2016-02-01 01:13:00</td>\n",
       "      <td>BRONX</td>\n",
       "      <td>0 days 00:20:00</td>\n",
       "    </tr>\n",
       "    <tr>\n",
       "      <th>14</th>\n",
       "      <td>32578446</td>\n",
       "      <td>DOT</td>\n",
       "      <td>Street Light Condition</td>\n",
       "      <td>Lamppost Knocked Down</td>\n",
       "      <td>2016-02-01 14:26:00</td>\n",
       "      <td>NaT</td>\n",
       "      <td>BRONX</td>\n",
       "      <td>NaT</td>\n",
       "    </tr>\n",
       "    <tr>\n",
       "      <th>15</th>\n",
       "      <td>32573686</td>\n",
       "      <td>DOT</td>\n",
       "      <td>Street Light Condition</td>\n",
       "      <td>Street Light Out</td>\n",
       "      <td>2016-02-01 00:57:00</td>\n",
       "      <td>2016-02-01 13:45:00</td>\n",
       "      <td>BROOKLYN</td>\n",
       "      <td>0 days 12:48:00</td>\n",
       "    </tr>\n",
       "    <tr>\n",
       "      <th>16</th>\n",
       "      <td>32570317</td>\n",
       "      <td>DOT</td>\n",
       "      <td>Street Condition</td>\n",
       "      <td>Line/Marking - Faded</td>\n",
       "      <td>2016-02-01 01:18:49</td>\n",
       "      <td>2016-02-03 16:59:00</td>\n",
       "      <td>BROOKLYN</td>\n",
       "      <td>2 days 15:40:11</td>\n",
       "    </tr>\n",
       "    <tr>\n",
       "      <th>17</th>\n",
       "      <td>32581124</td>\n",
       "      <td>DOT</td>\n",
       "      <td>Street Light Condition</td>\n",
       "      <td>Street Light Out</td>\n",
       "      <td>2016-02-01 01:20:00</td>\n",
       "      <td>2016-02-05 12:04:00</td>\n",
       "      <td>QUEENS</td>\n",
       "      <td>4 days 10:44:00</td>\n",
       "    </tr>\n",
       "    <tr>\n",
       "      <th>18</th>\n",
       "      <td>32579277</td>\n",
       "      <td>DOT</td>\n",
       "      <td>Street Light Condition</td>\n",
       "      <td>Street Light Out</td>\n",
       "      <td>2016-02-01 01:36:00</td>\n",
       "      <td>2016-02-04 10:37:00</td>\n",
       "      <td>BRONX</td>\n",
       "      <td>3 days 09:01:00</td>\n",
       "    </tr>\n",
       "    <tr>\n",
       "      <th>19</th>\n",
       "      <td>32580720</td>\n",
       "      <td>DOT</td>\n",
       "      <td>Street Light Condition</td>\n",
       "      <td>Street Light Out</td>\n",
       "      <td>2016-02-01 01:36:00</td>\n",
       "      <td>2016-02-02 13:09:00</td>\n",
       "      <td>STATEN ISLAND</td>\n",
       "      <td>1 days 11:33:00</td>\n",
       "    </tr>\n",
       "    <tr>\n",
       "      <th>20</th>\n",
       "      <td>32571895</td>\n",
       "      <td>DOT</td>\n",
       "      <td>Street Condition</td>\n",
       "      <td>Pothole</td>\n",
       "      <td>2016-02-01 01:51:36</td>\n",
       "      <td>2016-02-01 10:23:00</td>\n",
       "      <td>QUEENS</td>\n",
       "      <td>0 days 08:31:24</td>\n",
       "    </tr>\n",
       "    <tr>\n",
       "      <th>21</th>\n",
       "      <td>32580285</td>\n",
       "      <td>DOT</td>\n",
       "      <td>Street Light Condition</td>\n",
       "      <td>Street Light Out</td>\n",
       "      <td>2016-02-01 02:07:00</td>\n",
       "      <td>2016-02-08 15:25:00</td>\n",
       "      <td>QUEENS</td>\n",
       "      <td>7 days 13:18:00</td>\n",
       "    </tr>\n",
       "    <tr>\n",
       "      <th>22</th>\n",
       "      <td>32575419</td>\n",
       "      <td>DOT</td>\n",
       "      <td>Sidewalk Condition</td>\n",
       "      <td>Newspaper Box Complaint</td>\n",
       "      <td>2016-02-01 02:32:08</td>\n",
       "      <td>2016-02-04 12:06:14</td>\n",
       "      <td>BROOKLYN</td>\n",
       "      <td>3 days 09:34:06</td>\n",
       "    </tr>\n",
       "    <tr>\n",
       "      <th>23</th>\n",
       "      <td>32570671</td>\n",
       "      <td>DOT</td>\n",
       "      <td>Street Condition</td>\n",
       "      <td>Pothole</td>\n",
       "      <td>2016-02-01 02:43:01</td>\n",
       "      <td>2016-02-01 09:40:00</td>\n",
       "      <td>BROOKLYN</td>\n",
       "      <td>0 days 06:56:59</td>\n",
       "    </tr>\n",
       "    <tr>\n",
       "      <th>24</th>\n",
       "      <td>32581170</td>\n",
       "      <td>DOT</td>\n",
       "      <td>Street Light Condition</td>\n",
       "      <td>Street Light Out</td>\n",
       "      <td>2016-02-01 03:21:00</td>\n",
       "      <td>2016-02-02 14:57:00</td>\n",
       "      <td>BROOKLYN</td>\n",
       "      <td>1 days 11:36:00</td>\n",
       "    </tr>\n",
       "    <tr>\n",
       "      <th>25</th>\n",
       "      <td>32581434</td>\n",
       "      <td>DOT</td>\n",
       "      <td>Traffic Signal Condition</td>\n",
       "      <td>Controller</td>\n",
       "      <td>2016-02-01 03:24:00</td>\n",
       "      <td>2016-02-01 11:30:00</td>\n",
       "      <td>MANHATTAN</td>\n",
       "      <td>0 days 08:06:00</td>\n",
       "    </tr>\n",
       "    <tr>\n",
       "      <th>26</th>\n",
       "      <td>32575447</td>\n",
       "      <td>DOT</td>\n",
       "      <td>Street Light Condition</td>\n",
       "      <td>Street Light Out</td>\n",
       "      <td>2016-02-01 03:25:00</td>\n",
       "      <td>2016-02-01 13:44:00</td>\n",
       "      <td>BROOKLYN</td>\n",
       "      <td>0 days 10:19:00</td>\n",
       "    </tr>\n",
       "    <tr>\n",
       "      <th>27</th>\n",
       "      <td>32577440</td>\n",
       "      <td>DOT</td>\n",
       "      <td>Street Light Condition</td>\n",
       "      <td>Street Light Out</td>\n",
       "      <td>2016-02-01 03:26:00</td>\n",
       "      <td>2016-02-03 10:03:00</td>\n",
       "      <td>MANHATTAN</td>\n",
       "      <td>2 days 06:37:00</td>\n",
       "    </tr>\n",
       "    <tr>\n",
       "      <th>28</th>\n",
       "      <td>32577560</td>\n",
       "      <td>DOT</td>\n",
       "      <td>Traffic Signal Condition</td>\n",
       "      <td>LED Pedestrian Unit</td>\n",
       "      <td>2016-02-01 03:37:00</td>\n",
       "      <td>2016-02-01 04:00:00</td>\n",
       "      <td>BRONX</td>\n",
       "      <td>0 days 00:23:00</td>\n",
       "    </tr>\n",
       "    <tr>\n",
       "      <th>29</th>\n",
       "      <td>32575033</td>\n",
       "      <td>DOT</td>\n",
       "      <td>Street Condition</td>\n",
       "      <td>Pothole</td>\n",
       "      <td>2016-02-01 03:49:22</td>\n",
       "      <td>2016-02-01 09:57:00</td>\n",
       "      <td>BROOKLYN</td>\n",
       "      <td>0 days 06:07:38</td>\n",
       "    </tr>\n",
       "    <tr>\n",
       "      <th>...</th>\n",
       "      <td>...</td>\n",
       "      <td>...</td>\n",
       "      <td>...</td>\n",
       "      <td>...</td>\n",
       "      <td>...</td>\n",
       "      <td>...</td>\n",
       "      <td>...</td>\n",
       "      <td>...</td>\n",
       "    </tr>\n",
       "    <tr>\n",
       "      <th>5821</th>\n",
       "      <td>32614085</td>\n",
       "      <td>DOT</td>\n",
       "      <td>Street Condition</td>\n",
       "      <td>Plate Condition - Shifted</td>\n",
       "      <td>2016-02-06 22:07:24</td>\n",
       "      <td>2016-02-09 15:23:13</td>\n",
       "      <td>BRONX</td>\n",
       "      <td>2 days 17:15:49</td>\n",
       "    </tr>\n",
       "    <tr>\n",
       "      <th>5822</th>\n",
       "      <td>32612339</td>\n",
       "      <td>DOT</td>\n",
       "      <td>Street Condition</td>\n",
       "      <td>Plate Condition - Noisy</td>\n",
       "      <td>2016-02-06 22:23:07</td>\n",
       "      <td>2016-02-08 03:08:37</td>\n",
       "      <td>MANHATTAN</td>\n",
       "      <td>1 days 04:45:30</td>\n",
       "    </tr>\n",
       "    <tr>\n",
       "      <th>5823</th>\n",
       "      <td>32612333</td>\n",
       "      <td>DOT</td>\n",
       "      <td>Street Condition</td>\n",
       "      <td>Plate Condition - Noisy</td>\n",
       "      <td>2016-02-06 22:25:28</td>\n",
       "      <td>2016-02-08 03:09:49</td>\n",
       "      <td>MANHATTAN</td>\n",
       "      <td>1 days 04:44:21</td>\n",
       "    </tr>\n",
       "    <tr>\n",
       "      <th>5824</th>\n",
       "      <td>32614717</td>\n",
       "      <td>DOT</td>\n",
       "      <td>Street Light Condition</td>\n",
       "      <td>Street Light Out</td>\n",
       "      <td>2016-02-06 22:27:00</td>\n",
       "      <td>2016-02-08 11:26:00</td>\n",
       "      <td>QUEENS</td>\n",
       "      <td>1 days 12:59:00</td>\n",
       "    </tr>\n",
       "    <tr>\n",
       "      <th>5825</th>\n",
       "      <td>32617685</td>\n",
       "      <td>DOT</td>\n",
       "      <td>Street Light Condition</td>\n",
       "      <td>Street Light Out</td>\n",
       "      <td>2016-02-06 22:32:00</td>\n",
       "      <td>2016-02-09 12:07:00</td>\n",
       "      <td>BROOKLYN</td>\n",
       "      <td>2 days 13:35:00</td>\n",
       "    </tr>\n",
       "    <tr>\n",
       "      <th>5826</th>\n",
       "      <td>32615195</td>\n",
       "      <td>DOT</td>\n",
       "      <td>Street Condition</td>\n",
       "      <td>Plate Condition - Noisy</td>\n",
       "      <td>2016-02-06 22:34:14</td>\n",
       "      <td>2016-02-08 03:08:37</td>\n",
       "      <td>MANHATTAN</td>\n",
       "      <td>1 days 04:34:23</td>\n",
       "    </tr>\n",
       "    <tr>\n",
       "      <th>5827</th>\n",
       "      <td>32613947</td>\n",
       "      <td>DOT</td>\n",
       "      <td>Highway Condition</td>\n",
       "      <td>Pothole - Highway</td>\n",
       "      <td>2016-02-06 22:34:34</td>\n",
       "      <td>2016-02-08 14:39:00</td>\n",
       "      <td>BROOKLYN</td>\n",
       "      <td>1 days 16:04:26</td>\n",
       "    </tr>\n",
       "    <tr>\n",
       "      <th>5828</th>\n",
       "      <td>32612566</td>\n",
       "      <td>DOT</td>\n",
       "      <td>Street Light Condition</td>\n",
       "      <td>Lamppost Knocked Down</td>\n",
       "      <td>2016-02-06 22:35:00</td>\n",
       "      <td>2016-03-16 10:39:00</td>\n",
       "      <td>BROOKLYN</td>\n",
       "      <td>38 days 12:04:00</td>\n",
       "    </tr>\n",
       "    <tr>\n",
       "      <th>5829</th>\n",
       "      <td>32614725</td>\n",
       "      <td>DOT</td>\n",
       "      <td>Street Light Condition</td>\n",
       "      <td>Street Light Out</td>\n",
       "      <td>2016-02-06 22:41:00</td>\n",
       "      <td>2016-02-11 09:43:00</td>\n",
       "      <td>QUEENS</td>\n",
       "      <td>4 days 11:02:00</td>\n",
       "    </tr>\n",
       "    <tr>\n",
       "      <th>5830</th>\n",
       "      <td>32617705</td>\n",
       "      <td>DOT</td>\n",
       "      <td>Street Sign - Missing</td>\n",
       "      <td>Bus Stop</td>\n",
       "      <td>2016-02-06 22:42:29</td>\n",
       "      <td>2016-02-26 10:13:26</td>\n",
       "      <td>MANHATTAN</td>\n",
       "      <td>19 days 11:30:57</td>\n",
       "    </tr>\n",
       "    <tr>\n",
       "      <th>5831</th>\n",
       "      <td>32620216</td>\n",
       "      <td>DOT</td>\n",
       "      <td>Street Condition</td>\n",
       "      <td>Pothole</td>\n",
       "      <td>2016-02-06 23:35:42</td>\n",
       "      <td>2016-02-07 20:40:00</td>\n",
       "      <td>MANHATTAN</td>\n",
       "      <td>0 days 21:04:18</td>\n",
       "    </tr>\n",
       "    <tr>\n",
       "      <th>5832</th>\n",
       "      <td>32617828</td>\n",
       "      <td>DOT</td>\n",
       "      <td>Curb Condition</td>\n",
       "      <td>Defacement</td>\n",
       "      <td>2016-02-06 22:47:30</td>\n",
       "      <td>2016-02-12 15:18:14</td>\n",
       "      <td>BRONX</td>\n",
       "      <td>5 days 16:30:44</td>\n",
       "    </tr>\n",
       "    <tr>\n",
       "      <th>5833</th>\n",
       "      <td>32618570</td>\n",
       "      <td>DOT</td>\n",
       "      <td>Street Sign - Missing</td>\n",
       "      <td>Bus Stop</td>\n",
       "      <td>2016-02-06 22:49:43</td>\n",
       "      <td>2016-02-22 10:04:38</td>\n",
       "      <td>MANHATTAN</td>\n",
       "      <td>15 days 11:14:55</td>\n",
       "    </tr>\n",
       "    <tr>\n",
       "      <th>5834</th>\n",
       "      <td>32616052</td>\n",
       "      <td>DOT</td>\n",
       "      <td>Street Condition</td>\n",
       "      <td>Cave-in</td>\n",
       "      <td>2016-02-06 22:53:35</td>\n",
       "      <td>2016-02-17 09:21:23</td>\n",
       "      <td>BROOKLYN</td>\n",
       "      <td>10 days 10:27:48</td>\n",
       "    </tr>\n",
       "    <tr>\n",
       "      <th>5835</th>\n",
       "      <td>32612279</td>\n",
       "      <td>DOT</td>\n",
       "      <td>Street Condition</td>\n",
       "      <td>Plate Condition - Shifted</td>\n",
       "      <td>2016-02-06 22:55:05</td>\n",
       "      <td>2016-02-08 04:09:00</td>\n",
       "      <td>MANHATTAN</td>\n",
       "      <td>1 days 05:13:55</td>\n",
       "    </tr>\n",
       "    <tr>\n",
       "      <th>5836</th>\n",
       "      <td>32614241</td>\n",
       "      <td>DOT</td>\n",
       "      <td>Street Condition</td>\n",
       "      <td>Plate Condition - Noisy</td>\n",
       "      <td>2016-02-06 22:56:01</td>\n",
       "      <td>2016-02-08 13:32:54</td>\n",
       "      <td>MANHATTAN</td>\n",
       "      <td>1 days 14:36:53</td>\n",
       "    </tr>\n",
       "    <tr>\n",
       "      <th>5837</th>\n",
       "      <td>32617383</td>\n",
       "      <td>DOT</td>\n",
       "      <td>Street Light Condition</td>\n",
       "      <td>Street Light Out</td>\n",
       "      <td>2016-02-06 22:59:00</td>\n",
       "      <td>2016-02-08 11:27:00</td>\n",
       "      <td>QUEENS</td>\n",
       "      <td>1 days 12:28:00</td>\n",
       "    </tr>\n",
       "    <tr>\n",
       "      <th>5838</th>\n",
       "      <td>32618573</td>\n",
       "      <td>DOT</td>\n",
       "      <td>Street Condition</td>\n",
       "      <td>Pothole</td>\n",
       "      <td>2016-02-06 23:02:17</td>\n",
       "      <td>2016-02-08 23:46:00</td>\n",
       "      <td>MANHATTAN</td>\n",
       "      <td>2 days 00:43:43</td>\n",
       "    </tr>\n",
       "    <tr>\n",
       "      <th>5839</th>\n",
       "      <td>32617669</td>\n",
       "      <td>DOT</td>\n",
       "      <td>Street Condition</td>\n",
       "      <td>Pothole</td>\n",
       "      <td>2016-02-06 23:02:35</td>\n",
       "      <td>2016-02-16 09:45:00</td>\n",
       "      <td>MANHATTAN</td>\n",
       "      <td>9 days 10:42:25</td>\n",
       "    </tr>\n",
       "    <tr>\n",
       "      <th>5840</th>\n",
       "      <td>32612533</td>\n",
       "      <td>DOT</td>\n",
       "      <td>Street Light Condition</td>\n",
       "      <td>Street Light Out</td>\n",
       "      <td>2016-02-06 23:06:00</td>\n",
       "      <td>2016-02-08 21:50:00</td>\n",
       "      <td>MANHATTAN</td>\n",
       "      <td>1 days 22:44:00</td>\n",
       "    </tr>\n",
       "    <tr>\n",
       "      <th>5841</th>\n",
       "      <td>32618378</td>\n",
       "      <td>DOT</td>\n",
       "      <td>Traffic Signal Condition</td>\n",
       "      <td>Controller</td>\n",
       "      <td>2016-02-06 23:09:00</td>\n",
       "      <td>2016-02-07 03:30:00</td>\n",
       "      <td>BRONX</td>\n",
       "      <td>0 days 04:21:00</td>\n",
       "    </tr>\n",
       "    <tr>\n",
       "      <th>5842</th>\n",
       "      <td>32622707</td>\n",
       "      <td>DOT</td>\n",
       "      <td>Street Condition</td>\n",
       "      <td>Pothole</td>\n",
       "      <td>2016-02-06 23:33:49</td>\n",
       "      <td>2016-02-07 17:05:00</td>\n",
       "      <td>BRONX</td>\n",
       "      <td>0 days 17:31:11</td>\n",
       "    </tr>\n",
       "    <tr>\n",
       "      <th>5843</th>\n",
       "      <td>32622721</td>\n",
       "      <td>DOT</td>\n",
       "      <td>Street Condition</td>\n",
       "      <td>Pothole</td>\n",
       "      <td>2016-02-06 23:35:02</td>\n",
       "      <td>2016-02-07 19:40:00</td>\n",
       "      <td>MANHATTAN</td>\n",
       "      <td>0 days 20:04:58</td>\n",
       "    </tr>\n",
       "    <tr>\n",
       "      <th>5844</th>\n",
       "      <td>32613217</td>\n",
       "      <td>DOT</td>\n",
       "      <td>Street Condition</td>\n",
       "      <td>Plate Condition - Shifted</td>\n",
       "      <td>2016-02-06 23:36:15</td>\n",
       "      <td>2016-02-08 06:52:08</td>\n",
       "      <td>MANHATTAN</td>\n",
       "      <td>1 days 07:15:53</td>\n",
       "    </tr>\n",
       "    <tr>\n",
       "      <th>5845</th>\n",
       "      <td>32623981</td>\n",
       "      <td>DOT</td>\n",
       "      <td>Street Condition</td>\n",
       "      <td>Pothole</td>\n",
       "      <td>2016-02-06 23:36:20</td>\n",
       "      <td>2016-02-07 21:10:00</td>\n",
       "      <td>MANHATTAN</td>\n",
       "      <td>0 days 21:33:40</td>\n",
       "    </tr>\n",
       "    <tr>\n",
       "      <th>5846</th>\n",
       "      <td>32617301</td>\n",
       "      <td>DOT</td>\n",
       "      <td>Street Light Condition</td>\n",
       "      <td>Street Light Out</td>\n",
       "      <td>2016-02-06 23:37:00</td>\n",
       "      <td>2016-02-08 22:50:00</td>\n",
       "      <td>MANHATTAN</td>\n",
       "      <td>1 days 23:13:00</td>\n",
       "    </tr>\n",
       "    <tr>\n",
       "      <th>5847</th>\n",
       "      <td>32614083</td>\n",
       "      <td>DOT</td>\n",
       "      <td>Street Condition</td>\n",
       "      <td>Cave-in</td>\n",
       "      <td>2016-02-06 23:46:22</td>\n",
       "      <td>NaT</td>\n",
       "      <td>MANHATTAN</td>\n",
       "      <td>NaT</td>\n",
       "    </tr>\n",
       "    <tr>\n",
       "      <th>5848</th>\n",
       "      <td>32612807</td>\n",
       "      <td>DOT</td>\n",
       "      <td>Street Light Condition</td>\n",
       "      <td>Street Light Out</td>\n",
       "      <td>2016-02-06 23:53:00</td>\n",
       "      <td>2016-02-12 22:30:00</td>\n",
       "      <td>MANHATTAN</td>\n",
       "      <td>5 days 22:37:00</td>\n",
       "    </tr>\n",
       "    <tr>\n",
       "      <th>5849</th>\n",
       "      <td>32617735</td>\n",
       "      <td>DOT</td>\n",
       "      <td>Bridge Condition</td>\n",
       "      <td>Pothole</td>\n",
       "      <td>2016-02-06 23:54:02</td>\n",
       "      <td>2016-02-08 10:07:29</td>\n",
       "      <td>QUEENS</td>\n",
       "      <td>1 days 10:13:27</td>\n",
       "    </tr>\n",
       "    <tr>\n",
       "      <th>5850</th>\n",
       "      <td>32619242</td>\n",
       "      <td>DOT</td>\n",
       "      <td>Street Light Condition</td>\n",
       "      <td>Street Light Out</td>\n",
       "      <td>2016-02-07 00:00:00</td>\n",
       "      <td>2016-02-10 15:19:00</td>\n",
       "      <td>BRONX</td>\n",
       "      <td>3 days 15:19:00</td>\n",
       "    </tr>\n",
       "  </tbody>\n",
       "</table>\n",
       "<p>5851 rows × 8 columns</p>\n",
       "</div>"
      ],
      "text/plain": [
       "     unique_key agency                 complaint                 descriptor  \\\n",
       "0      32570549    DOT  Traffic Signal Condition                 Controller   \n",
       "1      32572958    DOT  Traffic Signal Condition                 Controller   \n",
       "2      32573576    DOT  Traffic Signal Condition                 Controller   \n",
       "3      32572389    DOT  Traffic Signal Condition                 Controller   \n",
       "4      32570548    DOT  Traffic Signal Condition                 Controller   \n",
       "5      32574044    DOT  Traffic Signal Condition                 Controller   \n",
       "6      32573047    DOT  Traffic Signal Condition                 Controller   \n",
       "7      32572971    DOT  Traffic Signal Condition                 Controller   \n",
       "8      32575571    DOT  Traffic Signal Condition                  Base Door   \n",
       "9      32576008    DOT          Street Condition                    Pothole   \n",
       "10     32573945    DOT          Street Condition    Plate Condition - Noisy   \n",
       "11     32570682    DOT    Street Light Condition           Street Light Out   \n",
       "12     32572906    DOT  Traffic Signal Condition                       Post   \n",
       "13     32579102    DOT  Traffic Signal Condition          Pedestrian Signal   \n",
       "14     32578446    DOT    Street Light Condition      Lamppost Knocked Down   \n",
       "15     32573686    DOT    Street Light Condition           Street Light Out   \n",
       "16     32570317    DOT          Street Condition       Line/Marking - Faded   \n",
       "17     32581124    DOT    Street Light Condition           Street Light Out   \n",
       "18     32579277    DOT    Street Light Condition           Street Light Out   \n",
       "19     32580720    DOT    Street Light Condition           Street Light Out   \n",
       "20     32571895    DOT          Street Condition                    Pothole   \n",
       "21     32580285    DOT    Street Light Condition           Street Light Out   \n",
       "22     32575419    DOT        Sidewalk Condition    Newspaper Box Complaint   \n",
       "23     32570671    DOT          Street Condition                    Pothole   \n",
       "24     32581170    DOT    Street Light Condition           Street Light Out   \n",
       "25     32581434    DOT  Traffic Signal Condition                 Controller   \n",
       "26     32575447    DOT    Street Light Condition           Street Light Out   \n",
       "27     32577440    DOT    Street Light Condition           Street Light Out   \n",
       "28     32577560    DOT  Traffic Signal Condition        LED Pedestrian Unit   \n",
       "29     32575033    DOT          Street Condition                    Pothole   \n",
       "...         ...    ...                       ...                        ...   \n",
       "5821   32614085    DOT          Street Condition  Plate Condition - Shifted   \n",
       "5822   32612339    DOT          Street Condition    Plate Condition - Noisy   \n",
       "5823   32612333    DOT          Street Condition    Plate Condition - Noisy   \n",
       "5824   32614717    DOT    Street Light Condition           Street Light Out   \n",
       "5825   32617685    DOT    Street Light Condition           Street Light Out   \n",
       "5826   32615195    DOT          Street Condition    Plate Condition - Noisy   \n",
       "5827   32613947    DOT         Highway Condition          Pothole - Highway   \n",
       "5828   32612566    DOT    Street Light Condition      Lamppost Knocked Down   \n",
       "5829   32614725    DOT    Street Light Condition           Street Light Out   \n",
       "5830   32617705    DOT     Street Sign - Missing                   Bus Stop   \n",
       "5831   32620216    DOT          Street Condition                    Pothole   \n",
       "5832   32617828    DOT            Curb Condition                 Defacement   \n",
       "5833   32618570    DOT     Street Sign - Missing                   Bus Stop   \n",
       "5834   32616052    DOT          Street Condition                    Cave-in   \n",
       "5835   32612279    DOT          Street Condition  Plate Condition - Shifted   \n",
       "5836   32614241    DOT          Street Condition    Plate Condition - Noisy   \n",
       "5837   32617383    DOT    Street Light Condition           Street Light Out   \n",
       "5838   32618573    DOT          Street Condition                    Pothole   \n",
       "5839   32617669    DOT          Street Condition                    Pothole   \n",
       "5840   32612533    DOT    Street Light Condition           Street Light Out   \n",
       "5841   32618378    DOT  Traffic Signal Condition                 Controller   \n",
       "5842   32622707    DOT          Street Condition                    Pothole   \n",
       "5843   32622721    DOT          Street Condition                    Pothole   \n",
       "5844   32613217    DOT          Street Condition  Plate Condition - Shifted   \n",
       "5845   32623981    DOT          Street Condition                    Pothole   \n",
       "5846   32617301    DOT    Street Light Condition           Street Light Out   \n",
       "5847   32614083    DOT          Street Condition                    Cave-in   \n",
       "5848   32612807    DOT    Street Light Condition           Street Light Out   \n",
       "5849   32617735    DOT          Bridge Condition                    Pothole   \n",
       "5850   32619242    DOT    Street Light Condition           Street Light Out   \n",
       "\n",
       "            created_date         closed_date        borough       efficiency  \n",
       "0    2016-02-01 00:12:00 2016-02-01 01:15:00  STATEN ISLAND  0 days 01:03:00  \n",
       "1    2016-02-01 00:14:00 2016-02-01 00:54:00  STATEN ISLAND  0 days 00:40:00  \n",
       "2    2016-02-01 00:15:00 2016-02-01 01:30:00  STATEN ISLAND  0 days 01:15:00  \n",
       "3    2016-02-01 00:17:00 2016-02-01 02:35:00      MANHATTAN  0 days 02:18:00  \n",
       "4    2016-02-01 00:19:00 2016-02-01 01:00:00      MANHATTAN  0 days 00:41:00  \n",
       "5    2016-02-01 00:21:00 2016-02-01 02:00:00      MANHATTAN  0 days 01:39:00  \n",
       "6    2016-02-01 00:22:00 2016-02-01 01:30:00      MANHATTAN  0 days 01:08:00  \n",
       "7    2016-02-01 00:27:00 2016-02-01 01:05:00       BROOKLYN  0 days 00:38:00  \n",
       "8    2016-02-01 00:32:00 2016-02-01 00:42:00          BRONX  0 days 00:10:00  \n",
       "9    2016-02-01 00:32:16 2016-02-01 22:30:00      MANHATTAN  0 days 21:57:44  \n",
       "10   2016-02-01 00:40:25 2016-02-01 20:44:42      MANHATTAN  0 days 20:04:17  \n",
       "11   2016-02-01 00:44:00 2016-02-08 12:29:00       BROOKLYN  7 days 11:45:00  \n",
       "12   2016-02-01 00:50:00 2016-02-10 09:10:00       BROOKLYN  9 days 08:20:00  \n",
       "13   2016-02-01 00:53:00 2016-02-01 01:13:00          BRONX  0 days 00:20:00  \n",
       "14   2016-02-01 14:26:00                 NaT          BRONX              NaT  \n",
       "15   2016-02-01 00:57:00 2016-02-01 13:45:00       BROOKLYN  0 days 12:48:00  \n",
       "16   2016-02-01 01:18:49 2016-02-03 16:59:00       BROOKLYN  2 days 15:40:11  \n",
       "17   2016-02-01 01:20:00 2016-02-05 12:04:00         QUEENS  4 days 10:44:00  \n",
       "18   2016-02-01 01:36:00 2016-02-04 10:37:00          BRONX  3 days 09:01:00  \n",
       "19   2016-02-01 01:36:00 2016-02-02 13:09:00  STATEN ISLAND  1 days 11:33:00  \n",
       "20   2016-02-01 01:51:36 2016-02-01 10:23:00         QUEENS  0 days 08:31:24  \n",
       "21   2016-02-01 02:07:00 2016-02-08 15:25:00         QUEENS  7 days 13:18:00  \n",
       "22   2016-02-01 02:32:08 2016-02-04 12:06:14       BROOKLYN  3 days 09:34:06  \n",
       "23   2016-02-01 02:43:01 2016-02-01 09:40:00       BROOKLYN  0 days 06:56:59  \n",
       "24   2016-02-01 03:21:00 2016-02-02 14:57:00       BROOKLYN  1 days 11:36:00  \n",
       "25   2016-02-01 03:24:00 2016-02-01 11:30:00      MANHATTAN  0 days 08:06:00  \n",
       "26   2016-02-01 03:25:00 2016-02-01 13:44:00       BROOKLYN  0 days 10:19:00  \n",
       "27   2016-02-01 03:26:00 2016-02-03 10:03:00      MANHATTAN  2 days 06:37:00  \n",
       "28   2016-02-01 03:37:00 2016-02-01 04:00:00          BRONX  0 days 00:23:00  \n",
       "29   2016-02-01 03:49:22 2016-02-01 09:57:00       BROOKLYN  0 days 06:07:38  \n",
       "...                  ...                 ...            ...              ...  \n",
       "5821 2016-02-06 22:07:24 2016-02-09 15:23:13          BRONX  2 days 17:15:49  \n",
       "5822 2016-02-06 22:23:07 2016-02-08 03:08:37      MANHATTAN  1 days 04:45:30  \n",
       "5823 2016-02-06 22:25:28 2016-02-08 03:09:49      MANHATTAN  1 days 04:44:21  \n",
       "5824 2016-02-06 22:27:00 2016-02-08 11:26:00         QUEENS  1 days 12:59:00  \n",
       "5825 2016-02-06 22:32:00 2016-02-09 12:07:00       BROOKLYN  2 days 13:35:00  \n",
       "5826 2016-02-06 22:34:14 2016-02-08 03:08:37      MANHATTAN  1 days 04:34:23  \n",
       "5827 2016-02-06 22:34:34 2016-02-08 14:39:00       BROOKLYN  1 days 16:04:26  \n",
       "5828 2016-02-06 22:35:00 2016-03-16 10:39:00       BROOKLYN 38 days 12:04:00  \n",
       "5829 2016-02-06 22:41:00 2016-02-11 09:43:00         QUEENS  4 days 11:02:00  \n",
       "5830 2016-02-06 22:42:29 2016-02-26 10:13:26      MANHATTAN 19 days 11:30:57  \n",
       "5831 2016-02-06 23:35:42 2016-02-07 20:40:00      MANHATTAN  0 days 21:04:18  \n",
       "5832 2016-02-06 22:47:30 2016-02-12 15:18:14          BRONX  5 days 16:30:44  \n",
       "5833 2016-02-06 22:49:43 2016-02-22 10:04:38      MANHATTAN 15 days 11:14:55  \n",
       "5834 2016-02-06 22:53:35 2016-02-17 09:21:23       BROOKLYN 10 days 10:27:48  \n",
       "5835 2016-02-06 22:55:05 2016-02-08 04:09:00      MANHATTAN  1 days 05:13:55  \n",
       "5836 2016-02-06 22:56:01 2016-02-08 13:32:54      MANHATTAN  1 days 14:36:53  \n",
       "5837 2016-02-06 22:59:00 2016-02-08 11:27:00         QUEENS  1 days 12:28:00  \n",
       "5838 2016-02-06 23:02:17 2016-02-08 23:46:00      MANHATTAN  2 days 00:43:43  \n",
       "5839 2016-02-06 23:02:35 2016-02-16 09:45:00      MANHATTAN  9 days 10:42:25  \n",
       "5840 2016-02-06 23:06:00 2016-02-08 21:50:00      MANHATTAN  1 days 22:44:00  \n",
       "5841 2016-02-06 23:09:00 2016-02-07 03:30:00          BRONX  0 days 04:21:00  \n",
       "5842 2016-02-06 23:33:49 2016-02-07 17:05:00          BRONX  0 days 17:31:11  \n",
       "5843 2016-02-06 23:35:02 2016-02-07 19:40:00      MANHATTAN  0 days 20:04:58  \n",
       "5844 2016-02-06 23:36:15 2016-02-08 06:52:08      MANHATTAN  1 days 07:15:53  \n",
       "5845 2016-02-06 23:36:20 2016-02-07 21:10:00      MANHATTAN  0 days 21:33:40  \n",
       "5846 2016-02-06 23:37:00 2016-02-08 22:50:00      MANHATTAN  1 days 23:13:00  \n",
       "5847 2016-02-06 23:46:22                 NaT      MANHATTAN              NaT  \n",
       "5848 2016-02-06 23:53:00 2016-02-12 22:30:00      MANHATTAN  5 days 22:37:00  \n",
       "5849 2016-02-06 23:54:02 2016-02-08 10:07:29         QUEENS  1 days 10:13:27  \n",
       "5850 2016-02-07 00:00:00 2016-02-10 15:19:00          BRONX  3 days 15:19:00  \n",
       "\n",
       "[5851 rows x 8 columns]"
      ]
     },
     "execution_count": 99,
     "metadata": {},
     "output_type": "execute_result"
    }
   ],
   "source": [
    "df"
   ]
  },
  {
   "cell_type": "code",
   "execution_count": 104,
   "metadata": {
    "collapsed": false
   },
   "outputs": [],
   "source": [
    "%matplotlib inline"
   ]
  },
  {
   "cell_type": "code",
   "execution_count": 112,
   "metadata": {
    "collapsed": false
   },
   "outputs": [
    {
     "data": {
      "text/plain": [
       "count                       5650\n",
       "mean      6 days 15:05:05.589380\n",
       "std      14 days 12:05:38.260805\n",
       "min           -19 days +09:29:00\n",
       "25%              0 days 01:14:00\n",
       "50%              0 days 21:48:15\n",
       "75%       4 days 00:30:48.500000\n",
       "max             89 days 18:54:00\n",
       "Name: efficiency, dtype: object"
      ]
     },
     "execution_count": 112,
     "metadata": {},
     "output_type": "execute_result"
    }
   ],
   "source": [
    "df['efficiency'].describe()"
   ]
  },
  {
   "cell_type": "code",
   "execution_count": 204,
   "metadata": {
    "collapsed": true
   },
   "outputs": [],
   "source": [
    "df['eff_new']=df['closed_date']-df['created_date']"
   ]
  },
  {
   "cell_type": "code",
   "execution_count": 205,
   "metadata": {
    "collapsed": false
   },
   "outputs": [],
   "source": [
    "def get_days(t):\n",
    "    try:\n",
    "        return t.days\n",
    "    except:\n",
    "        pass\n",
    "\n",
    "df['eff_new'] = df['eff_new'].apply(get_days)"
   ]
  },
  {
   "cell_type": "code",
   "execution_count": 206,
   "metadata": {
    "collapsed": false
   },
   "outputs": [
    {
     "data": {
      "text/plain": [
       "0        0.0\n",
       "1        0.0\n",
       "2        0.0\n",
       "3        0.0\n",
       "4        0.0\n",
       "5        0.0\n",
       "6        0.0\n",
       "7        0.0\n",
       "8        0.0\n",
       "9        0.0\n",
       "10       0.0\n",
       "11       7.0\n",
       "12       9.0\n",
       "13       0.0\n",
       "14       NaN\n",
       "15       0.0\n",
       "16       2.0\n",
       "17       4.0\n",
       "18       3.0\n",
       "19       1.0\n",
       "20       0.0\n",
       "21       7.0\n",
       "22       3.0\n",
       "23       0.0\n",
       "24       1.0\n",
       "25       0.0\n",
       "26       0.0\n",
       "27       2.0\n",
       "28       0.0\n",
       "29       0.0\n",
       "        ... \n",
       "5821     2.0\n",
       "5822     1.0\n",
       "5823     1.0\n",
       "5824     1.0\n",
       "5825     2.0\n",
       "5826     1.0\n",
       "5827     1.0\n",
       "5828    38.0\n",
       "5829     4.0\n",
       "5830    19.0\n",
       "5831     0.0\n",
       "5832     5.0\n",
       "5833    15.0\n",
       "5834    10.0\n",
       "5835     1.0\n",
       "5836     1.0\n",
       "5837     1.0\n",
       "5838     2.0\n",
       "5839     9.0\n",
       "5840     1.0\n",
       "5841     0.0\n",
       "5842     0.0\n",
       "5843     0.0\n",
       "5844     1.0\n",
       "5845     0.0\n",
       "5846     1.0\n",
       "5847     NaN\n",
       "5848     5.0\n",
       "5849     1.0\n",
       "5850     3.0\n",
       "Name: eff_new, dtype: float64"
      ]
     },
     "execution_count": 206,
     "metadata": {},
     "output_type": "execute_result"
    }
   ],
   "source": [
    "df['eff_new']"
   ]
  },
  {
   "cell_type": "code",
   "execution_count": 207,
   "metadata": {
    "collapsed": false
   },
   "outputs": [
    {
     "data": {
      "text/plain": [
       "<matplotlib.axes._subplots.AxesSubplot at 0x1169c8d68>"
      ]
     },
     "execution_count": 207,
     "metadata": {},
     "output_type": "execute_result"
    },
    {
     "data": {
      "image/png": "[encoded data removed]",
      "text/plain": [
       "<matplotlib.figure.Figure at 0x11699dc50>"
      ]
     },
     "metadata": {},
     "output_type": "display_data"
    }
   ],
   "source": [
    "df[df['eff_new']>0]['eff_new'].hist(bins=20)"
   ]
  },
  {
   "cell_type": "code",
   "execution_count": 116,
   "metadata": {
    "collapsed": false
   },
   "outputs": [],
   "source": [
    "df2 = pd.DataFrame(complaints)\n",
    "df2.columns = [\"unique_key\",\"agency\",\"complaint\",\"descriptor\",\"created_date\",\"closed_date\",\"borough\"]\n",
    "df2['efficiency']=df2['closed_date']-df2['created_date']"
   ]
  },
  {
   "cell_type": "code",
   "execution_count": 125,
   "metadata": {
    "collapsed": false
   },
   "outputs": [],
   "source": [
    "df2.index=df2['efficiency']"
   ]
  },
  {
   "cell_type": "code",
   "execution_count": 168,
   "metadata": {
    "collapsed": false
   },
   "outputs": [
    {
     "data": {
      "text/plain": [
       "<matplotlib.axes._subplots.AxesSubplot at 0x11623c5f8>"
      ]
     },
     "execution_count": 168,
     "metadata": {},
     "output_type": "execute_result"
    },
    {
     "data": {
      "image/png": "[encoded data removed]",
      "text/plain": [
       "<matplotlib.figure.Figure at 0x110c37ac8>"
      ]
     },
     "metadata": {},
     "output_type": "display_data"
    }
   ],
   "source": [
    "df2.groupby(by=df2.index.days)['unique_key'].count().plot()"
   ]
  },
  {
   "cell_type": "code",
   "execution_count": 156,
   "metadata": {
    "collapsed": false
   },
   "outputs": [
    {
     "name": "stdout",
     "output_type": "stream",
     "text": [
      "<class 'pandas.core.frame.DataFrame'>\n",
      "RangeIndex: 5851 entries, 0 to 5850\n",
      "Data columns (total 8 columns):\n",
      "unique_key      5851 non-null object\n",
      "agency          5851 non-null object\n",
      "complaint       5851 non-null object\n",
      "descriptor      5851 non-null object\n",
      "created_date    5851 non-null datetime64[ns]\n",
      "closed_date     5650 non-null datetime64[ns]\n",
      "borough         5851 non-null object\n",
      "efficiency      5650 non-null timedelta64[ns]\n",
      "dtypes: datetime64[ns](2), object(5), timedelta64[ns](1)\n",
      "memory usage: 365.8+ KB\n"
     ]
    }
   ],
   "source": [
    "df.info()"
   ]
  },
  {
   "cell_type": "code",
   "execution_count": 162,
   "metadata": {
    "collapsed": false
   },
   "outputs": [
    {
     "data": {
      "text/plain": [
       "<matplotlib.axes._subplots.AxesSubplot at 0x11065ae10>"
      ]
     },
     "execution_count": 162,
     "metadata": {},
     "output_type": "execute_result"
    },
    {
     "data": {
      "image/png": "[encoded data removed]",
      "text/plain": [
       "<matplotlib.figure.Figure at 0x110b71a20>"
      ]
     },
     "metadata": {},
     "output_type": "display_data"
    }
   ],
   "source": [
    "df.groupby(by='complaint').count()['unique_key'].sort_values().plot(kind=\"barh\")"
   ]
  },
  {
   "cell_type": "code",
   "execution_count": 163,
   "metadata": {
    "collapsed": false
   },
   "outputs": [
    {
     "data": {
      "text/plain": [
       "<matplotlib.axes._subplots.AxesSubplot at 0x110f12f98>"
      ]
     },
     "execution_count": 163,
     "metadata": {},
     "output_type": "execute_result"
    },
    {
     "data": {
      "image/png": "[encoded data removed]",
      "text/plain": [
       "<matplotlib.figure.Figure at 0x110f16550>"
      ]
     },
     "metadata": {},
     "output_type": "display_data"
    }
   ],
   "source": [
    "df.groupby(by='borough').count()['unique_key'].sort_values().plot(kind=\"barh\")"
   ]
  },
  {
   "cell_type": "code",
   "execution_count": 210,
   "metadata": {
    "collapsed": false
   },
   "outputs": [
    {
     "data": {
      "text/plain": [
       "count    2607.000000\n",
       "mean       14.333333\n",
       "std        18.007218\n",
       "min         1.000000\n",
       "25%         1.000000\n",
       "50%         4.000000\n",
       "75%        28.000000\n",
       "max        89.000000\n",
       "Name: eff_new, dtype: float64"
      ]
     },
     "execution_count": 210,
     "metadata": {},
     "output_type": "execute_result"
    }
   ],
   "source": [
    "new_df = df[df['eff_new']>0]\n",
    "new_df['eff_new'].describe()"
   ]
  },
  {
   "cell_type": "code",
   "execution_count": 211,
   "metadata": {
    "collapsed": false
   },
   "outputs": [
    {
     "data": {
      "text/plain": [
       "4.0"
      ]
     },
     "execution_count": 211,
     "metadata": {},
     "output_type": "execute_result"
    }
   ],
   "source": [
    "new_df['eff_new'].median()"
   ]
  },
  {
   "cell_type": "code",
   "execution_count": 213,
   "metadata": {
    "collapsed": false
   },
   "outputs": [
    {
     "data": {
      "text/plain": [
       "0    1.0\n",
       "dtype: float64"
      ]
     },
     "execution_count": 213,
     "metadata": {},
     "output_type": "execute_result"
    }
   ],
   "source": [
    "new_df['eff_new'].mode()"
   ]
  },
  {
   "cell_type": "code",
   "execution_count": 212,
   "metadata": {
    "collapsed": false
   },
   "outputs": [
    {
     "data": {
      "text/plain": [
       "68.5"
      ]
     },
     "execution_count": 212,
     "metadata": {},
     "output_type": "execute_result"
    }
   ],
   "source": [
    "# UAL\n",
    "28+27*1.5"
   ]
  },
  {
   "cell_type": "code",
   "execution_count": 216,
   "metadata": {
    "collapsed": false
   },
   "outputs": [
    {
     "data": {
      "text/plain": [
       "unique_key      33\n",
       "agency          33\n",
       "complaint       33\n",
       "descriptor      33\n",
       "created_date    33\n",
       "closed_date     33\n",
       "borough         33\n",
       "efficiency      33\n",
       "eff_new         33\n",
       "dtype: int64"
      ]
     },
     "execution_count": 216,
     "metadata": {},
     "output_type": "execute_result"
    }
   ],
   "source": [
    "# outlier\n",
    "new_df[new_df['eff_new']>68.5].count()"
   ]
  },
  {
   "cell_type": "markdown",
   "metadata": {},
   "source": [
    "## Conclusion\n",
    "* In terms of borough, Queens has the most complaints, the second and the third is Brooklyn and Manhattan.\n",
    "* Street light condition and stree condition is the most common reason for a complaint, much more than other reasons.\n",
    "* If we don't consider the \"null\" data and bad data, the average time of close time is 14 days, with the min of same day closing and max of 89 days. Median closing day equals to 4. “Middle” 50% of data is in range of same day to 28 days. the standard deviation is 18, which seems to be high. There are 33 outliers."
   ]
  },
  {
   "cell_type": "code",
   "execution_count": null,
   "metadata": {
    "collapsed": false
   },
   "outputs": [],
   "source": []
  },
  {
   "cell_type": "code",
   "execution_count": null,
   "metadata": {
    "collapsed": true
   },
   "outputs": [],
   "source": []
  }
 ],
 "metadata": {
  "kernelspec": {
   "display_name": "Python 3",
   "language": "python",
   "name": "python3"
  },
  "language_info": {
   "codemirror_mode": {
    "name": "ipython",
    "version": 3
   },
   "file_extension": ".py",
   "mimetype": "text/x-python",
   "name": "python",
   "nbconvert_exporter": "python",
   "pygments_lexer": "ipython3",
   "version": "3.5.1"
  }
 },
 "nbformat": 4,
 "nbformat_minor": 0
}
