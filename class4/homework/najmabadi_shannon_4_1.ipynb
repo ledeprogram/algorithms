{
 "cells": [
  {
   "cell_type": "markdown",
   "metadata": {},
   "source": [
    "Assignment #1: Perform a basic statistical analysis of the time DOT 311 (table is called dot_311) complaints are open (subtract closed date from created date). Connect to the database to get the data and do the analysis."
   ]
  },
  {
   "cell_type": "code",
   "execution_count": 492,
   "metadata": {
    "collapsed": false
   },
   "outputs": [],
   "source": [
    "import pandas as pd\n",
    "import matplotlib.pyplot as plt\n",
    "plt.style.use('fivethirtyeight')\n",
    "%matplotlib inline\n",
    "\n",
    "from datetime import timedelta\n",
    "\n",
    "import pg8000\n",
    "conn = pg8000.connect(host='training.c1erymiua9dx.us-east-1.rds.amazonaws.com', database=\"training\", port=5432, user='dot_student', password='qgis')"
   ]
  },
  {
   "cell_type": "code",
   "execution_count": 495,
   "metadata": {
    "collapsed": false
   },
   "outputs": [
    {
     "name": "stdout",
     "output_type": "stream",
     "text": [
      "['gid', 'unique_key', 'agency', 'agency nam', 'complaint', 'descriptor', 'location t', 'incident z', 'incident a', 'street nam', 'cross stre', 'cross st_1', 'intersecti', 'intersec_1', 'address ty', 'city', 'landmark', 'facility t', 'status', 'due date', 'resolution', 'resoluti_1', 'community', 'borough', 'x coordina', 'y coordina', 'park facil', 'park borou', 'school nam', 'school num', 'school reg', 'school cod', 'school pho', 'school add', 'school cit', 'school sta', 'school zip', 'school not', 'school or', 'vehicle ty', 'taxi compa', 'taxi pick', 'bridge hig', 'bridge h_1', 'road ramp', 'bridge h_2', 'garage lot', 'ferry dire', 'ferry term', 'latitude', 'longitude', 'location', 'geom', 'created_date', 'closed_date']\n"
     ]
    }
   ],
   "source": [
    "cursor = conn.cursor()\n",
    "statement = \"SELECT * FROM information_schema.columns WHERE table_name= 'dot_311'\"\n",
    "cursor.execute(statement)\n",
    "column_names = []\n",
    "for row in cursor.fetchall():\n",
    "    column_names.append(row[3])\n",
    "print(column_names)"
   ]
  },
  {
   "cell_type": "code",
   "execution_count": 239,
   "metadata": {
    "collapsed": false
   },
   "outputs": [],
   "source": [
    "statement = \"SELECT complaint, agency, created_date, closed_date FROM dot_311\"\n",
    "cursor.execute(statement)\n",
    "complaint_data = []\n",
    "for row in cursor:\n",
    "    complaint_data.append(row)"
   ]
  },
  {
   "cell_type": "code",
   "execution_count": 352,
   "metadata": {
    "collapsed": false
   },
   "outputs": [
    {
     "data": {
      "text/html": [
       "<div>\n",
       "<table border=\"1\" class=\"dataframe\">\n",
       "  <thead>\n",
       "    <tr style=\"text-align: right;\">\n",
       "      <th></th>\n",
       "      <th>complaint</th>\n",
       "      <th>agency</th>\n",
       "      <th>created_date</th>\n",
       "      <th>closed_date</th>\n",
       "    </tr>\n",
       "  </thead>\n",
       "  <tbody>\n",
       "    <tr>\n",
       "      <th>0</th>\n",
       "      <td>Traffic Signal Condition</td>\n",
       "      <td>DOT</td>\n",
       "      <td>2016-02-01 00:12:00</td>\n",
       "      <td>2016-02-01 01:15:00</td>\n",
       "    </tr>\n",
       "    <tr>\n",
       "      <th>1</th>\n",
       "      <td>Traffic Signal Condition</td>\n",
       "      <td>DOT</td>\n",
       "      <td>2016-02-01 00:14:00</td>\n",
       "      <td>2016-02-01 00:54:00</td>\n",
       "    </tr>\n",
       "    <tr>\n",
       "      <th>2</th>\n",
       "      <td>Traffic Signal Condition</td>\n",
       "      <td>DOT</td>\n",
       "      <td>2016-02-01 00:15:00</td>\n",
       "      <td>2016-02-01 01:30:00</td>\n",
       "    </tr>\n",
       "  </tbody>\n",
       "</table>\n",
       "</div>"
      ],
      "text/plain": [
       "                  complaint agency        created_date         closed_date\n",
       "0  Traffic Signal Condition    DOT 2016-02-01 00:12:00 2016-02-01 01:15:00\n",
       "1  Traffic Signal Condition    DOT 2016-02-01 00:14:00 2016-02-01 00:54:00\n",
       "2  Traffic Signal Condition    DOT 2016-02-01 00:15:00 2016-02-01 01:30:00"
      ]
     },
     "execution_count": 352,
     "metadata": {},
     "output_type": "execute_result"
    }
   ],
   "source": [
    "df = pd.DataFrame(complaint_data)\n",
    "df.columns = ['complaint', 'agency', 'created_date', 'closed_date']\n",
    "df.head(3)"
   ]
  },
  {
   "cell_type": "code",
   "execution_count": 353,
   "metadata": {
    "collapsed": false
   },
   "outputs": [
    {
     "data": {
      "text/plain": [
       "Street Light Condition        2040\n",
       "Street Condition              1916\n",
       "Traffic Signal Condition       808\n",
       "Broken Muni Meter              525\n",
       "Sidewalk Condition             106\n",
       "Highway Condition               90\n",
       "Street Sign - Damaged           83\n",
       "Street Sign - Missing           67\n",
       "Street Sign - Dangling          55\n",
       "DOT Literature Request          53\n",
       "Broken Parking Meter            32\n",
       "Curb Condition                  21\n",
       "Bridge Condition                18\n",
       "Ferry Inquiry                   13\n",
       "Bus Stop Shelter Placement       7\n",
       "Ferry Complaint                  7\n",
       "Highway Sign - Damaged           4\n",
       "Municipal Parking Facility       3\n",
       "Public Toilet                    2\n",
       "Parking Card                     1\n",
       "dtype: int64"
      ]
     },
     "execution_count": 353,
     "metadata": {},
     "output_type": "execute_result"
    }
   ],
   "source": [
    "pd.value_counts(df['complaint'].values, sort=True)"
   ]
  },
  {
   "cell_type": "markdown",
   "metadata": {},
   "source": [
    "The most frequent complaints were for street light, street, and traffic signal conditions. "
   ]
  },
  {
   "cell_type": "code",
   "execution_count": 465,
   "metadata": {
    "collapsed": false
   },
   "outputs": [
    {
     "data": {
      "text/html": [
       "<div>\n",
       "<table border=\"1\" class=\"dataframe\">\n",
       "  <thead>\n",
       "    <tr style=\"text-align: right;\">\n",
       "      <th></th>\n",
       "      <th>Time Taken</th>\n",
       "    </tr>\n",
       "  </thead>\n",
       "  <tbody>\n",
       "    <tr>\n",
       "      <th>count</th>\n",
       "      <td>5650</td>\n",
       "    </tr>\n",
       "    <tr>\n",
       "      <th>mean</th>\n",
       "      <td>6 days 15:05:05.589380</td>\n",
       "    </tr>\n",
       "    <tr>\n",
       "      <th>std</th>\n",
       "      <td>14 days 12:05:38.260805</td>\n",
       "    </tr>\n",
       "    <tr>\n",
       "      <th>min</th>\n",
       "      <td>-19 days +09:29:00</td>\n",
       "    </tr>\n",
       "    <tr>\n",
       "      <th>25%</th>\n",
       "      <td>0 days 01:14:00</td>\n",
       "    </tr>\n",
       "    <tr>\n",
       "      <th>50%</th>\n",
       "      <td>0 days 21:48:15</td>\n",
       "    </tr>\n",
       "    <tr>\n",
       "      <th>75%</th>\n",
       "      <td>4 days 00:30:48.500000</td>\n",
       "    </tr>\n",
       "    <tr>\n",
       "      <th>max</th>\n",
       "      <td>89 days 18:54:00</td>\n",
       "    </tr>\n",
       "  </tbody>\n",
       "</table>\n",
       "</div>"
      ],
      "text/plain": [
       "                    Time Taken\n",
       "count                     5650\n",
       "mean    6 days 15:05:05.589380\n",
       "std    14 days 12:05:38.260805\n",
       "min         -19 days +09:29:00\n",
       "25%            0 days 01:14:00\n",
       "50%            0 days 21:48:15\n",
       "75%     4 days 00:30:48.500000\n",
       "max           89 days 18:54:00"
      ]
     },
     "execution_count": 465,
     "metadata": {},
     "output_type": "execute_result"
    }
   ],
   "source": [
    "date1 = df['closed_date']\n",
    "date2 = df['created_date']\n",
    "timeopen = date1 - date2\n",
    "df1 = pd.DataFrame(timeopen)\n",
    "df1.columns = ['Time Taken']\n",
    "df1.describe()"
   ]
  },
  {
   "cell_type": "code",
   "execution_count": 375,
   "metadata": {
    "collapsed": false
   },
   "outputs": [
    {
     "name": "stdout",
     "output_type": "stream",
     "text": [
      "The smallest time taken to respond to a noise complaint was, miraculously: -19 days +09:29:00\n",
      "The longest amount of time was: 89 days 18:54:00\n",
      "The average time was: 6 days 15:05:05.589380\n"
     ]
    }
   ],
   "source": [
    "print(\"The smallest time taken to respond to a noise complaint was, miraculously: \" + str(c.min()))\n",
    "print(\"The longest amount of time was: \" + str(df1['Time Taken'].max()))\n",
    "print(\"The average time was: \" + str(df1['Time Taken'].mean()))"
   ]
  },
  {
   "cell_type": "code",
   "execution_count": 496,
   "metadata": {
    "collapsed": false
   },
   "outputs": [
    {
     "data": {
      "text/html": [
       "<div>\n",
       "<table border=\"1\" class=\"dataframe\">\n",
       "  <thead>\n",
       "    <tr style=\"text-align: right;\">\n",
       "      <th></th>\n",
       "      <th>Complaint</th>\n",
       "      <th>Agency</th>\n",
       "      <th>Created Date</th>\n",
       "      <th>Closed Date</th>\n",
       "      <th>Time Taken</th>\n",
       "    </tr>\n",
       "  </thead>\n",
       "  <tbody>\n",
       "    <tr>\n",
       "      <th>1743</th>\n",
       "      <td>Street Light Condition</td>\n",
       "      <td>DOT</td>\n",
       "      <td>2016-02-02 16:08:00</td>\n",
       "      <td>2016-05-02 11:02:00</td>\n",
       "      <td>89 days 18:54:00</td>\n",
       "    </tr>\n",
       "    <tr>\n",
       "      <th>3665</th>\n",
       "      <td>Street Light Condition</td>\n",
       "      <td>DOT</td>\n",
       "      <td>2016-02-04 12:43:00</td>\n",
       "      <td>2016-05-02 10:28:00</td>\n",
       "      <td>87 days 21:45:00</td>\n",
       "    </tr>\n",
       "    <tr>\n",
       "      <th>1349</th>\n",
       "      <td>Sidewalk Condition</td>\n",
       "      <td>DOT</td>\n",
       "      <td>2016-02-02 11:13:28</td>\n",
       "      <td>2016-04-28 17:21:59</td>\n",
       "      <td>86 days 06:08:31</td>\n",
       "    </tr>\n",
       "  </tbody>\n",
       "</table>\n",
       "</div>"
      ],
      "text/plain": [
       "                   Complaint Agency        Created Date         Closed Date  \\\n",
       "1743  Street Light Condition    DOT 2016-02-02 16:08:00 2016-05-02 11:02:00   \n",
       "3665  Street Light Condition    DOT 2016-02-04 12:43:00 2016-05-02 10:28:00   \n",
       "1349      Sidewalk Condition    DOT 2016-02-02 11:13:28 2016-04-28 17:21:59   \n",
       "\n",
       "           Time Taken  \n",
       "1743 89 days 18:54:00  \n",
       "3665 87 days 21:45:00  \n",
       "1349 86 days 06:08:31  "
      ]
     },
     "execution_count": 496,
     "metadata": {},
     "output_type": "execute_result"
    }
   ],
   "source": [
    "df2 = pd.concat([df, df1], axis=1)\n",
    "df2.columns = ['Complaint', 'Agency', 'Created Date', 'Closed Date', 'Time Taken']\n",
    "df3 = bdf[pd.notnull(df2['Time Taken'])]\n",
    "df3.sort_values(by='Time Taken', ascending=False).head(3)"
   ]
  },
  {
   "cell_type": "code",
   "execution_count": 471,
   "metadata": {
    "collapsed": false
   },
   "outputs": [
    {
     "data": {
      "text/html": [
       "<div>\n",
       "<table border=\"1\" class=\"dataframe\">\n",
       "  <thead>\n",
       "    <tr style=\"text-align: right;\">\n",
       "      <th></th>\n",
       "      <th>0</th>\n",
       "    </tr>\n",
       "  </thead>\n",
       "  <tbody>\n",
       "    <tr>\n",
       "      <th>count</th>\n",
       "      <td>5650.000000</td>\n",
       "    </tr>\n",
       "    <tr>\n",
       "      <th>mean</th>\n",
       "      <td>159.084886</td>\n",
       "    </tr>\n",
       "    <tr>\n",
       "      <th>std</th>\n",
       "      <td>348.093961</td>\n",
       "    </tr>\n",
       "    <tr>\n",
       "      <th>min</th>\n",
       "      <td>-446.516667</td>\n",
       "    </tr>\n",
       "    <tr>\n",
       "      <th>25%</th>\n",
       "      <td>1.233333</td>\n",
       "    </tr>\n",
       "    <tr>\n",
       "      <th>50%</th>\n",
       "      <td>21.804167</td>\n",
       "    </tr>\n",
       "    <tr>\n",
       "      <th>75%</th>\n",
       "      <td>96.513472</td>\n",
       "    </tr>\n",
       "    <tr>\n",
       "      <th>max</th>\n",
       "      <td>2154.900000</td>\n",
       "    </tr>\n",
       "  </tbody>\n",
       "</table>\n",
       "</div>"
      ],
      "text/plain": [
       "                 0\n",
       "count  5650.000000\n",
       "mean    159.084886\n",
       "std     348.093961\n",
       "min    -446.516667\n",
       "25%       1.233333\n",
       "50%      21.804167\n",
       "75%      96.513472\n",
       "max    2154.900000"
      ]
     },
     "execution_count": 471,
     "metadata": {},
     "output_type": "execute_result"
    }
   ],
   "source": [
    "timeopen.astype('timedelta64[h]')\n",
    "a = (timeopen / pd.Timedelta(hours=1)).dropna()\n",
    "plottable_dates = pd.DataFrame(a)\n",
    "plottable_dates.describe()"
   ]
  },
  {
   "cell_type": "code",
   "execution_count": 489,
   "metadata": {
    "collapsed": false
   },
   "outputs": [
    {
     "data": {
      "text/plain": [
       "<matplotlib.text.Text at 0x126304f98>"
      ]
     },
     "execution_count": 489,
     "metadata": {},
     "output_type": "execute_result"
    },
    {
     "data": {
      "image/png": "[encoded data removed]",
      "text/plain": [
       "<matplotlib.figure.Figure at 0x1263277b8>"
      ]
     },
     "metadata": {},
     "output_type": "display_data"
    }
   ],
   "source": [
    "fig = plt.figure()\n",
    "ax = fig.add_subplot(1,1,1,)\n",
    "n, bins, patches = ax.hist(plottable_dates, bins=50, range=(-450, 2155), histtype='bar')\n",
    "\n",
    "for patch in patches:\n",
    "    patch.set_facecolor('darkgrey')\n",
    "\n",
    "plt.title('Time Taken to Respond to 311 Requests')\n",
    "plt.xlabel('Time (in hours)')"
   ]
  }
 ],
 "metadata": {
  "kernelspec": {
   "display_name": "Python 3",
   "language": "python",
   "name": "python3"
  },
  "language_info": {
   "codemirror_mode": {
    "name": "ipython",
    "version": 3
   },
   "file_extension": ".py",
   "mimetype": "text/x-python",
   "name": "python",
   "nbconvert_exporter": "python",
   "pygments_lexer": "ipython3",
   "version": "3.5.0"
  }
 },
 "nbformat": 4,
 "nbformat_minor": 0
}
