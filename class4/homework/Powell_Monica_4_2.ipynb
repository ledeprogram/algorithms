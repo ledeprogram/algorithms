{
 "cells": [
  {
   "cell_type": "code",
   "execution_count": 1,
   "metadata": {
    "collapsed": false
   },
   "outputs": [
    {
     "name": "stderr",
     "output_type": "stream",
     "text": [
      "/Users/Monica/.virtualenvs/dataanalysis/lib/python3.5/site-packages/matplotlib/__init__.py:1035: UserWarning: Duplicate key in file \"/Users/Monica/.matplotlib/matplotlibrc\", line #2\n",
      "  (fname, cnt))\n"
     ]
    }
   ],
   "source": [
    "import pandas as pd"
   ]
  },
  {
   "cell_type": "code",
   "execution_count": 3,
   "metadata": {
    "collapsed": false
   },
   "outputs": [],
   "source": [
    "df = pd.read_excel('data/2013_NYC_CD_MedianIncome_Recycle.xlsx')"
   ]
  },
  {
   "cell_type": "code",
   "execution_count": 4,
   "metadata": {
    "collapsed": false
   },
   "outputs": [
    {
     "name": "stdout",
     "output_type": "stream",
     "text": [
      "<bound method NDFrame.head of                                              CD_Name  MdHHIncE  RecycleRate\n",
      "0        Battery Park City, Greenwich Village & Soho    119596     0.286771\n",
      "1        Battery Park City, Greenwich Village & Soho    119596     0.264074\n",
      "2                        Chinatown & Lower East Side     40919     0.156485\n",
      "3        Chelsea, Clinton & Midtown Business Distric     92583     0.235125\n",
      "4        Chelsea, Clinton & Midtown Business Distric     92583     0.246725\n",
      "5            Murray Hill, Gramercy & Stuyvesant Town    101769     0.222046\n",
      "6                        Upper West Side & West Side     96009     0.256809\n",
      "7                                    Upper East Side    104602     0.253719\n",
      "8     Hamilton Heights, Manhattanville & West Harlem     41736     0.155888\n",
      "9                                     Central Harlem     36468     0.133018\n",
      "10                                       East Harlem     30335     0.140438\n",
      "11          Washington Heights, Inwood & Marble Hill     37685     0.149605\n",
      "12                   Hunts Point, Longwood & Melrose     21318     0.104569\n",
      "13                   Hunts Point, Longwood & Melrose     21318     0.103643\n",
      "14         Belmont, Crotona Park East & East Tremont     22343     0.119219\n",
      "15                Concourse, Highbridge & Mount Eden     25745     0.103573\n",
      "16        Morris Heights, Fordham South & Mount Hope     24517     0.119646\n",
      "17         Belmont, Crotona Park East & East Tremont     22343     0.110713\n",
      "18             Bedford Park, Fordham North & Norwood     30541     0.136455\n",
      "19                Riverdale, Fieldston & Kingsbridge     56877     0.221890\n",
      "20           Castle Hill, Clason Point & Parkchester     34779     0.105807\n",
      "21            Co-op City, Pelham Bay & Schuylerville     54685     0.214509\n",
      "22             Pelham Parkway, Morris Park & Laconia     43503     0.163576\n",
      "23              Wakefield, Williamsbridge & Woodlawn     43541     0.182580\n",
      "24                         Greenpoint & Williamsburg     50778     0.141621\n",
      "25                    Brooklyn Heights & Fort Greene     73290     0.237205\n",
      "26                                Bedford-Stuyvesant     36528     0.125818\n",
      "27                                          Bushwick     38274     0.132463\n",
      "28                     East New York & Starrett City     33700     0.114030\n",
      "29            Park Slope, Carroll Gardens & Red Hook     93969     0.302798\n",
      "30                     Sunset Park & Windsor Terrace     43351     0.197697\n",
      "31            Crown Heights North & Prospect Heights     41075     0.156241\n",
      "32  Crown Heights South, Prospect Lefferts & Wingate     41095     0.115119\n",
      "33                         Bay Ridge & Dyker Heights     57006     0.220855\n",
      "34                          Bensonhurst & Bath Beach     48252     0.183393\n",
      "35          Borough Park, Kensington & Ocean Parkway     38215     0.156080\n",
      "36                     Brighton Beach & Coney Island     30159     0.134260\n",
      "37                                Flatbush & Midwood     41681     0.145995\n",
      "38       Sheepshead Bay, Gerritsen Beach & Homecrest     49392     0.193802\n",
      "39                          Brownsville & Ocean Hill     27772     0.091464\n",
      "40                   East Flatbush, Farragut & Rugby     45954     0.134002\n",
      "41                              Canarsie & Flatlands     63106     0.174876\n",
      "42                        Astoria & Long Island City     50716     0.215254\n",
      "43                              Sunnyside & Woodside     54136     0.198388\n",
      "44                    Jackson Heights & North Corona     47555     0.137919\n",
      "45                           Elmhurst & South Corona     45661     0.130604\n",
      "46              Ridgewood, Glendale & Middle Village     54924     0.214185\n",
      "47                          Forest Hills & Rego Park     64372     0.210247\n",
      "48                Flushing, Murray Hill & Whitestone     51251     0.192124\n",
      "49              Briarwood, Fresh Meadows & Hillcrest     59124     0.194293\n",
      "50                         Richmond Hill & Woodhaven     58578     0.187987\n",
      "51                         Howard Beach & Ozone Park     60828     0.183898\n",
      "52                 Bayside, Douglaston & Little Neck     74960     0.253064\n",
      "53                      Jamaica, Hollis & St. Albans     51251     0.157345\n",
      "54        Queens Village, Cambria Heights & Rosedale     76002     0.196679\n",
      "55        Far Rockaway, Breezy Point & Broad Channel     46944     0.123351\n",
      "56       Port Richmond, Stapleton & Mariner's Harbor     57975     0.196748\n",
      "57                     New Springville & South Beach     71925     0.211485\n",
      "58               Tottenville, Great Kills & Annadale     84670     0.210379>\n"
     ]
    }
   ],
   "source": [
    "print(df.head)"
   ]
  },
  {
   "cell_type": "code",
   "execution_count": 5,
   "metadata": {
    "collapsed": false
   },
   "outputs": [
    {
     "data": {
      "text/html": [
       "<div>\n",
       "<table border=\"1\" class=\"dataframe\">\n",
       "  <thead>\n",
       "    <tr style=\"text-align: right;\">\n",
       "      <th></th>\n",
       "      <th>MdHHIncE</th>\n",
       "      <th>RecycleRate</th>\n",
       "    </tr>\n",
       "  </thead>\n",
       "  <tbody>\n",
       "    <tr>\n",
       "      <th>MdHHIncE</th>\n",
       "      <td>1.000000</td>\n",
       "      <td>0.884783</td>\n",
       "    </tr>\n",
       "    <tr>\n",
       "      <th>RecycleRate</th>\n",
       "      <td>0.884783</td>\n",
       "      <td>1.000000</td>\n",
       "    </tr>\n",
       "  </tbody>\n",
       "</table>\n",
       "</div>"
      ],
      "text/plain": [
       "             MdHHIncE  RecycleRate\n",
       "MdHHIncE     1.000000     0.884783\n",
       "RecycleRate  0.884783     1.000000"
      ]
     },
     "execution_count": 5,
     "metadata": {},
     "output_type": "execute_result"
    }
   ],
   "source": [
    "df.corr()"
   ]
  },
  {
   "cell_type": "code",
   "execution_count": 6,
   "metadata": {
    "collapsed": false
   },
   "outputs": [
    {
     "data": {
      "text/plain": [
       "Index(['CD_Name', 'MdHHIncE', 'RecycleRate'], dtype='object')"
      ]
     },
     "execution_count": 6,
     "metadata": {},
     "output_type": "execute_result"
    }
   ],
   "source": [
    "df.columns"
   ]
  },
  {
   "cell_type": "markdown",
   "metadata": {},
   "source": [
    "Findings: There is a strong positive 88.47% correlation between recycling rate and median household income. As household income increases so does the recycling rate. "
   ]
  },
  {
   "cell_type": "code",
   "execution_count": null,
   "metadata": {
    "collapsed": true
   },
   "outputs": [],
   "source": []
  }
 ],
 "metadata": {
  "kernelspec": {
   "display_name": "Python 3",
   "language": "python",
   "name": "python3"
  },
  "language_info": {
   "codemirror_mode": {
    "name": "ipython",
    "version": 3
   },
   "file_extension": ".py",
   "mimetype": "text/x-python",
   "name": "python",
   "nbconvert_exporter": "python",
   "pygments_lexer": "ipython3",
   "version": "3.5.1"
  }
 },
 "nbformat": 4,
 "nbformat_minor": 0
}
