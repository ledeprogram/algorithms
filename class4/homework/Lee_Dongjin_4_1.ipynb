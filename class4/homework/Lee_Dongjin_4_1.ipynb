{
 "cells": [
  {
   "cell_type": "code",
   "execution_count": 1,
   "metadata": {
    "collapsed": true
   },
   "outputs": [],
   "source": [
    "import pandas as pd\n",
    "import numpy as np\n",
    "import matplotlib.pyplot as plt\n",
    "%matplotlib inline\n",
    "plt.style.use('ggplot')\n",
    "import dateutil.parser"
   ]
  },
  {
   "cell_type": "code",
   "execution_count": 2,
   "metadata": {
    "collapsed": true
   },
   "outputs": [],
   "source": [
    "import pg8000\n",
    "conn = pg8000.connect(host='training.c1erymiua9dx.us-east-1.rds.amazonaws.com', database=\"training\", port=5432, user='dot_student', password='qgis')\n",
    "cursor = conn.cursor()"
   ]
  },
  {
   "cell_type": "code",
   "execution_count": 3,
   "metadata": {
    "collapsed": false
   },
   "outputs": [
    {
     "name": "stdout",
     "output_type": "stream",
     "text": [
      "['training', 'public', 'dot_311', 'gid', 1, \"nextval('dot_311_gid_seq'::regclass)\", 'NO', 'integer', None, None, 32, 2, 0, None, None, None, None, None, None, None, None, None, None, None, None, 'training', 'pg_catalog', 'int4', None, None, None, None, '1', 'NO', 'NO', None, None, None, None, None, None, 'NEVER', None, 'YES']\n",
      "['training', 'public', 'dot_311', 'unique_key', 2, None, 'YES', 'numeric', None, None, 10, 10, 0, None, None, None, None, None, None, None, None, None, None, None, None, 'training', 'pg_catalog', 'numeric', None, None, None, None, '2', 'NO', 'NO', None, None, None, None, None, None, 'NEVER', None, 'YES']\n",
      "['training', 'public', 'dot_311', 'agency', 5, None, 'YES', 'character varying', 254, 1016, None, None, None, None, None, None, None, None, None, None, None, None, None, None, None, 'training', 'pg_catalog', 'varchar', None, None, None, None, '5', 'NO', 'NO', None, None, None, None, None, None, 'NEVER', None, 'YES']\n",
      "['training', 'public', 'dot_311', 'agency nam', 6, None, 'YES', 'character varying', 254, 1016, None, None, None, None, None, None, None, None, None, None, None, None, None, None, None, 'training', 'pg_catalog', 'varchar', None, None, None, None, '6', 'NO', 'NO', None, None, None, None, None, None, 'NEVER', None, 'YES']\n",
      "['training', 'public', 'dot_311', 'complaint', 7, None, 'YES', 'character varying', 254, 1016, None, None, None, None, None, None, None, None, None, None, None, None, None, None, None, 'training', 'pg_catalog', 'varchar', None, None, None, None, '7', 'NO', 'NO', None, None, None, None, None, None, 'NEVER', None, 'YES']\n",
      "['training', 'public', 'dot_311', 'descriptor', 8, None, 'YES', 'character varying', 254, 1016, None, None, None, None, None, None, None, None, None, None, None, None, None, None, None, 'training', 'pg_catalog', 'varchar', None, None, None, None, '8', 'NO', 'NO', None, None, None, None, None, None, 'NEVER', None, 'YES']\n",
      "['training', 'public', 'dot_311', 'location t', 9, None, 'YES', 'character varying', 254, 1016, None, None, None, None, None, None, None, None, None, None, None, None, None, None, None, 'training', 'pg_catalog', 'varchar', None, None, None, None, '9', 'NO', 'NO', None, None, None, None, None, None, 'NEVER', None, 'YES']\n",
      "['training', 'public', 'dot_311', 'incident z', 10, None, 'YES', 'numeric', None, None, 10, 10, 0, None, None, None, None, None, None, None, None, None, None, None, None, 'training', 'pg_catalog', 'numeric', None, None, None, None, '10', 'NO', 'NO', None, None, None, None, None, None, 'NEVER', None, 'YES']\n",
      "['training', 'public', 'dot_311', 'incident a', 11, None, 'YES', 'character varying', 254, 1016, None, None, None, None, None, None, None, None, None, None, None, None, None, None, None, 'training', 'pg_catalog', 'varchar', None, None, None, None, '11', 'NO', 'NO', None, None, None, None, None, None, 'NEVER', None, 'YES']\n",
      "['training', 'public', 'dot_311', 'street nam', 12, None, 'YES', 'character varying', 254, 1016, None, None, None, None, None, None, None, None, None, None, None, None, None, None, None, 'training', 'pg_catalog', 'varchar', None, None, None, None, '12', 'NO', 'NO', None, None, None, None, None, None, 'NEVER', None, 'YES']\n",
      "['training', 'public', 'dot_311', 'cross stre', 13, None, 'YES', 'character varying', 254, 1016, None, None, None, None, None, None, None, None, None, None, None, None, None, None, None, 'training', 'pg_catalog', 'varchar', None, None, None, None, '13', 'NO', 'NO', None, None, None, None, None, None, 'NEVER', None, 'YES']\n",
      "['training', 'public', 'dot_311', 'cross st_1', 14, None, 'YES', 'character varying', 254, 1016, None, None, None, None, None, None, None, None, None, None, None, None, None, None, None, 'training', 'pg_catalog', 'varchar', None, None, None, None, '14', 'NO', 'NO', None, None, None, None, None, None, 'NEVER', None, 'YES']\n",
      "['training', 'public', 'dot_311', 'intersecti', 15, None, 'YES', 'character varying', 254, 1016, None, None, None, None, None, None, None, None, None, None, None, None, None, None, None, 'training', 'pg_catalog', 'varchar', None, None, None, None, '15', 'NO', 'NO', None, None, None, None, None, None, 'NEVER', None, 'YES']\n",
      "['training', 'public', 'dot_311', 'intersec_1', 16, None, 'YES', 'character varying', 254, 1016, None, None, None, None, None, None, None, None, None, None, None, None, None, None, None, 'training', 'pg_catalog', 'varchar', None, None, None, None, '16', 'NO', 'NO', None, None, None, None, None, None, 'NEVER', None, 'YES']\n",
      "['training', 'public', 'dot_311', 'address ty', 17, None, 'YES', 'character varying', 254, 1016, None, None, None, None, None, None, None, None, None, None, None, None, None, None, None, 'training', 'pg_catalog', 'varchar', None, None, None, None, '17', 'NO', 'NO', None, None, None, None, None, None, 'NEVER', None, 'YES']\n",
      "['training', 'public', 'dot_311', 'city', 18, None, 'YES', 'character varying', 254, 1016, None, None, None, None, None, None, None, None, None, None, None, None, None, None, None, 'training', 'pg_catalog', 'varchar', None, None, None, None, '18', 'NO', 'NO', None, None, None, None, None, None, 'NEVER', None, 'YES']\n",
      "['training', 'public', 'dot_311', 'landmark', 19, None, 'YES', 'character varying', 254, 1016, None, None, None, None, None, None, None, None, None, None, None, None, None, None, None, 'training', 'pg_catalog', 'varchar', None, None, None, None, '19', 'NO', 'NO', None, None, None, None, None, None, 'NEVER', None, 'YES']\n",
      "['training', 'public', 'dot_311', 'facility t', 20, None, 'YES', 'character varying', 254, 1016, None, None, None, None, None, None, None, None, None, None, None, None, None, None, None, 'training', 'pg_catalog', 'varchar', None, None, None, None, '20', 'NO', 'NO', None, None, None, None, None, None, 'NEVER', None, 'YES']\n",
      "['training', 'public', 'dot_311', 'status', 21, None, 'YES', 'character varying', 254, 1016, None, None, None, None, None, None, None, None, None, None, None, None, None, None, None, 'training', 'pg_catalog', 'varchar', None, None, None, None, '21', 'NO', 'NO', None, None, None, None, None, None, 'NEVER', None, 'YES']\n",
      "['training', 'public', 'dot_311', 'due date', 22, None, 'YES', 'character varying', 254, 1016, None, None, None, None, None, None, None, None, None, None, None, None, None, None, None, 'training', 'pg_catalog', 'varchar', None, None, None, None, '22', 'NO', 'NO', None, None, None, None, None, None, 'NEVER', None, 'YES']\n",
      "['training', 'public', 'dot_311', 'resolution', 23, None, 'YES', 'character varying', 254, 1016, None, None, None, None, None, None, None, None, None, None, None, None, None, None, None, 'training', 'pg_catalog', 'varchar', None, None, None, None, '23', 'NO', 'NO', None, None, None, None, None, None, 'NEVER', None, 'YES']\n",
      "['training', 'public', 'dot_311', 'resoluti_1', 24, None, 'YES', 'character varying', 254, 1016, None, None, None, None, None, None, None, None, None, None, None, None, None, None, None, 'training', 'pg_catalog', 'varchar', None, None, None, None, '24', 'NO', 'NO', None, None, None, None, None, None, 'NEVER', None, 'YES']\n",
      "['training', 'public', 'dot_311', 'community', 25, None, 'YES', 'character varying', 254, 1016, None, None, None, None, None, None, None, None, None, None, None, None, None, None, None, 'training', 'pg_catalog', 'varchar', None, None, None, None, '25', 'NO', 'NO', None, None, None, None, None, None, 'NEVER', None, 'YES']\n",
      "['training', 'public', 'dot_311', 'borough', 26, None, 'YES', 'character varying', 254, 1016, None, None, None, None, None, None, None, None, None, None, None, None, None, None, None, 'training', 'pg_catalog', 'varchar', None, None, None, None, '26', 'NO', 'NO', None, None, None, None, None, None, 'NEVER', None, 'YES']\n",
      "['training', 'public', 'dot_311', 'x coordina', 27, None, 'YES', 'numeric', None, None, 10, 10, 0, None, None, None, None, None, None, None, None, None, None, None, None, 'training', 'pg_catalog', 'numeric', None, None, None, None, '27', 'NO', 'NO', None, None, None, None, None, None, 'NEVER', None, 'YES']\n",
      "['training', 'public', 'dot_311', 'y coordina', 28, None, 'YES', 'numeric', None, None, 10, 10, 0, None, None, None, None, None, None, None, None, None, None, None, None, 'training', 'pg_catalog', 'numeric', None, None, None, None, '28', 'NO', 'NO', None, None, None, None, None, None, 'NEVER', None, 'YES']\n",
      "['training', 'public', 'dot_311', 'park facil', 29, None, 'YES', 'character varying', 254, 1016, None, None, None, None, None, None, None, None, None, None, None, None, None, None, None, 'training', 'pg_catalog', 'varchar', None, None, None, None, '29', 'NO', 'NO', None, None, None, None, None, None, 'NEVER', None, 'YES']\n",
      "['training', 'public', 'dot_311', 'park borou', 30, None, 'YES', 'character varying', 254, 1016, None, None, None, None, None, None, None, None, None, None, None, None, None, None, None, 'training', 'pg_catalog', 'varchar', None, None, None, None, '30', 'NO', 'NO', None, None, None, None, None, None, 'NEVER', None, 'YES']\n",
      "['training', 'public', 'dot_311', 'school nam', 31, None, 'YES', 'character varying', 254, 1016, None, None, None, None, None, None, None, None, None, None, None, None, None, None, None, 'training', 'pg_catalog', 'varchar', None, None, None, None, '31', 'NO', 'NO', None, None, None, None, None, None, 'NEVER', None, 'YES']\n",
      "['training', 'public', 'dot_311', 'school num', 32, None, 'YES', 'character varying', 254, 1016, None, None, None, None, None, None, None, None, None, None, None, None, None, None, None, 'training', 'pg_catalog', 'varchar', None, None, None, None, '32', 'NO', 'NO', None, None, None, None, None, None, 'NEVER', None, 'YES']\n",
      "['training', 'public', 'dot_311', 'school reg', 33, None, 'YES', 'character varying', 254, 1016, None, None, None, None, None, None, None, None, None, None, None, None, None, None, None, 'training', 'pg_catalog', 'varchar', None, None, None, None, '33', 'NO', 'NO', None, None, None, None, None, None, 'NEVER', None, 'YES']\n",
      "['training', 'public', 'dot_311', 'school cod', 34, None, 'YES', 'character varying', 254, 1016, None, None, None, None, None, None, None, None, None, None, None, None, None, None, None, 'training', 'pg_catalog', 'varchar', None, None, None, None, '34', 'NO', 'NO', None, None, None, None, None, None, 'NEVER', None, 'YES']\n",
      "['training', 'public', 'dot_311', 'school pho', 35, None, 'YES', 'character varying', 254, 1016, None, None, None, None, None, None, None, None, None, None, None, None, None, None, None, 'training', 'pg_catalog', 'varchar', None, None, None, None, '35', 'NO', 'NO', None, None, None, None, None, None, 'NEVER', None, 'YES']\n",
      "['training', 'public', 'dot_311', 'school add', 36, None, 'YES', 'character varying', 254, 1016, None, None, None, None, None, None, None, None, None, None, None, None, None, None, None, 'training', 'pg_catalog', 'varchar', None, None, None, None, '36', 'NO', 'NO', None, None, None, None, None, None, 'NEVER', None, 'YES']\n",
      "['training', 'public', 'dot_311', 'school cit', 37, None, 'YES', 'character varying', 254, 1016, None, None, None, None, None, None, None, None, None, None, None, None, None, None, None, 'training', 'pg_catalog', 'varchar', None, None, None, None, '37', 'NO', 'NO', None, None, None, None, None, None, 'NEVER', None, 'YES']\n",
      "['training', 'public', 'dot_311', 'school sta', 38, None, 'YES', 'character varying', 254, 1016, None, None, None, None, None, None, None, None, None, None, None, None, None, None, None, 'training', 'pg_catalog', 'varchar', None, None, None, None, '38', 'NO', 'NO', None, None, None, None, None, None, 'NEVER', None, 'YES']\n",
      "['training', 'public', 'dot_311', 'school zip', 39, None, 'YES', 'character varying', 254, 1016, None, None, None, None, None, None, None, None, None, None, None, None, None, None, None, 'training', 'pg_catalog', 'varchar', None, None, None, None, '39', 'NO', 'NO', None, None, None, None, None, None, 'NEVER', None, 'YES']\n",
      "['training', 'public', 'dot_311', 'school not', 40, None, 'YES', 'character varying', 254, 1016, None, None, None, None, None, None, None, None, None, None, None, None, None, None, None, 'training', 'pg_catalog', 'varchar', None, None, None, None, '40', 'NO', 'NO', None, None, None, None, None, None, 'NEVER', None, 'YES']\n",
      "['training', 'public', 'dot_311', 'school or', 41, None, 'YES', 'character varying', 254, 1016, None, None, None, None, None, None, None, None, None, None, None, None, None, None, None, 'training', 'pg_catalog', 'varchar', None, None, None, None, '41', 'NO', 'NO', None, None, None, None, None, None, 'NEVER', None, 'YES']\n",
      "['training', 'public', 'dot_311', 'vehicle ty', 42, None, 'YES', 'character varying', 254, 1016, None, None, None, None, None, None, None, None, None, None, None, None, None, None, None, 'training', 'pg_catalog', 'varchar', None, None, None, None, '42', 'NO', 'NO', None, None, None, None, None, None, 'NEVER', None, 'YES']\n",
      "['training', 'public', 'dot_311', 'taxi compa', 43, None, 'YES', 'character varying', 254, 1016, None, None, None, None, None, None, None, None, None, None, None, None, None, None, None, 'training', 'pg_catalog', 'varchar', None, None, None, None, '43', 'NO', 'NO', None, None, None, None, None, None, 'NEVER', None, 'YES']\n",
      "['training', 'public', 'dot_311', 'taxi pick', 44, None, 'YES', 'character varying', 254, 1016, None, None, None, None, None, None, None, None, None, None, None, None, None, None, None, 'training', 'pg_catalog', 'varchar', None, None, None, None, '44', 'NO', 'NO', None, None, None, None, None, None, 'NEVER', None, 'YES']\n",
      "['training', 'public', 'dot_311', 'bridge hig', 45, None, 'YES', 'character varying', 254, 1016, None, None, None, None, None, None, None, None, None, None, None, None, None, None, None, 'training', 'pg_catalog', 'varchar', None, None, None, None, '45', 'NO', 'NO', None, None, None, None, None, None, 'NEVER', None, 'YES']\n",
      "['training', 'public', 'dot_311', 'bridge h_1', 46, None, 'YES', 'character varying', 254, 1016, None, None, None, None, None, None, None, None, None, None, None, None, None, None, None, 'training', 'pg_catalog', 'varchar', None, None, None, None, '46', 'NO', 'NO', None, None, None, None, None, None, 'NEVER', None, 'YES']\n",
      "['training', 'public', 'dot_311', 'road ramp', 47, None, 'YES', 'character varying', 254, 1016, None, None, None, None, None, None, None, None, None, None, None, None, None, None, None, 'training', 'pg_catalog', 'varchar', None, None, None, None, '47', 'NO', 'NO', None, None, None, None, None, None, 'NEVER', None, 'YES']\n",
      "['training', 'public', 'dot_311', 'bridge h_2', 48, None, 'YES', 'character varying', 254, 1016, None, None, None, None, None, None, None, None, None, None, None, None, None, None, None, 'training', 'pg_catalog', 'varchar', None, None, None, None, '48', 'NO', 'NO', None, None, None, None, None, None, 'NEVER', None, 'YES']\n",
      "['training', 'public', 'dot_311', 'garage lot', 49, None, 'YES', 'character varying', 254, 1016, None, None, None, None, None, None, None, None, None, None, None, None, None, None, None, 'training', 'pg_catalog', 'varchar', None, None, None, None, '49', 'NO', 'NO', None, None, None, None, None, None, 'NEVER', None, 'YES']\n",
      "['training', 'public', 'dot_311', 'ferry dire', 50, None, 'YES', 'character varying', 254, 1016, None, None, None, None, None, None, None, None, None, None, None, None, None, None, None, 'training', 'pg_catalog', 'varchar', None, None, None, None, '50', 'NO', 'NO', None, None, None, None, None, None, 'NEVER', None, 'YES']\n",
      "['training', 'public', 'dot_311', 'ferry term', 51, None, 'YES', 'character varying', 254, 1016, None, None, None, None, None, None, None, None, None, None, None, None, None, None, None, 'training', 'pg_catalog', 'varchar', None, None, None, None, '51', 'NO', 'NO', None, None, None, None, None, None, 'NEVER', None, 'YES']\n",
      "['training', 'public', 'dot_311', 'latitude', 52, None, 'YES', 'numeric', None, None, None, 10, None, None, None, None, None, None, None, None, None, None, None, None, None, 'training', 'pg_catalog', 'numeric', None, None, None, None, '52', 'NO', 'NO', None, None, None, None, None, None, 'NEVER', None, 'YES']\n",
      "['training', 'public', 'dot_311', 'longitude', 53, None, 'YES', 'numeric', None, None, None, 10, None, None, None, None, None, None, None, None, None, None, None, None, None, 'training', 'pg_catalog', 'numeric', None, None, None, None, '53', 'NO', 'NO', None, None, None, None, None, None, 'NEVER', None, 'YES']\n",
      "['training', 'public', 'dot_311', 'location', 54, None, 'YES', 'character varying', 254, 1016, None, None, None, None, None, None, None, None, None, None, None, None, None, None, None, 'training', 'pg_catalog', 'varchar', None, None, None, None, '54', 'NO', 'NO', None, None, None, None, None, None, 'NEVER', None, 'YES']\n",
      "['training', 'public', 'dot_311', 'geom', 55, None, 'YES', 'USER-DEFINED', None, None, None, None, None, None, None, None, None, None, None, None, None, None, None, None, None, 'training', 'public', 'geometry', None, None, None, None, '55', 'NO', 'NO', None, None, None, None, None, None, 'NEVER', None, 'YES']\n",
      "['training', 'public', 'dot_311', 'created_date', 56, None, 'YES', 'timestamp without time zone', None, None, None, None, None, 6, None, None, None, None, None, None, None, None, None, None, None, 'training', 'pg_catalog', 'timestamp', None, None, None, None, '56', 'NO', 'NO', None, None, None, None, None, None, 'NEVER', None, 'YES']\n",
      "['training', 'public', 'dot_311', 'closed_date', 57, None, 'YES', 'timestamp without time zone', None, None, None, None, None, 6, None, None, None, None, None, None, None, None, None, None, None, 'training', 'pg_catalog', 'timestamp', None, None, None, None, '57', 'NO', 'NO', None, None, None, None, None, None, 'NEVER', None, 'YES']\n",
      "gid unique_key agency agency nam complaint descriptor location t incident z incident a street nam cross stre cross st_1 intersecti intersec_1 address ty city landmark facility t status due date resolution resoluti_1 community borough x coordina y coordina park facil park borou school nam school num school reg school cod school pho school add school cit school sta school zip school not school or vehicle ty taxi compa taxi pick bridge hig bridge h_1 road ramp bridge h_2 garage lot ferry dire ferry term latitude longitude location geom created_date closed_date\n"
     ]
    }
   ],
   "source": [
    "# Getting the column names\n",
    "statement = \"select * from INFORMATION_SCHEMA.COLUMNS where table_name = 'dot_311'\"\n",
    "cursor.execute(statement)\n",
    "columns = []\n",
    "for row in cursor.fetchall():\n",
    "    print(row)\n",
    "    columns.append(row[3])\n",
    "print(*columns)"
   ]
  },
  {
   "cell_type": "code",
   "execution_count": 4,
   "metadata": {
    "collapsed": true
   },
   "outputs": [],
   "source": [
    "statement = \"SELECT unique_key, complaint, created_date, closed_date FROM dot_311\"\n",
    "cursor.execute(statement)\n",
    "complaints = []\n",
    "for row in cursor:\n",
    "    complaints.append(row)\n"
   ]
  },
  {
   "cell_type": "code",
   "execution_count": 5,
   "metadata": {
    "collapsed": false
   },
   "outputs": [],
   "source": [
    "import pandas as pd\n",
    "df = pd.DataFrame(complaints)\n",
    "df.columns = ['unique_key', 'complaint', 'created_date', 'closed_date']\n",
    "df_original = df.copy()"
   ]
  },
  {
   "cell_type": "code",
   "execution_count": null,
   "metadata": {
    "collapsed": false
   },
   "outputs": [],
   "source": []
  },
  {
   "cell_type": "code",
   "execution_count": 6,
   "metadata": {
    "collapsed": false
   },
   "outputs": [
    {
     "data": {
      "text/html": [
       "<div>\n",
       "<table border=\"1\" class=\"dataframe\">\n",
       "  <thead>\n",
       "    <tr style=\"text-align: right;\">\n",
       "      <th></th>\n",
       "      <th>unique_key</th>\n",
       "      <th>complaint</th>\n",
       "      <th>created_date</th>\n",
       "      <th>closed_date</th>\n",
       "      <th>time</th>\n",
       "    </tr>\n",
       "  </thead>\n",
       "  <tbody>\n",
       "    <tr>\n",
       "      <th>0</th>\n",
       "      <td>32570549</td>\n",
       "      <td>Traffic Signal Condition</td>\n",
       "      <td>2016-02-01 00:12:00</td>\n",
       "      <td>2016-02-01 01:15:00</td>\n",
       "      <td>01:03:00</td>\n",
       "    </tr>\n",
       "    <tr>\n",
       "      <th>1</th>\n",
       "      <td>32572958</td>\n",
       "      <td>Traffic Signal Condition</td>\n",
       "      <td>2016-02-01 00:14:00</td>\n",
       "      <td>2016-02-01 00:54:00</td>\n",
       "      <td>00:40:00</td>\n",
       "    </tr>\n",
       "    <tr>\n",
       "      <th>2</th>\n",
       "      <td>32573576</td>\n",
       "      <td>Traffic Signal Condition</td>\n",
       "      <td>2016-02-01 00:15:00</td>\n",
       "      <td>2016-02-01 01:30:00</td>\n",
       "      <td>01:15:00</td>\n",
       "    </tr>\n",
       "  </tbody>\n",
       "</table>\n",
       "</div>"
      ],
      "text/plain": [
       "  unique_key                 complaint        created_date  \\\n",
       "0   32570549  Traffic Signal Condition 2016-02-01 00:12:00   \n",
       "1   32572958  Traffic Signal Condition 2016-02-01 00:14:00   \n",
       "2   32573576  Traffic Signal Condition 2016-02-01 00:15:00   \n",
       "\n",
       "          closed_date     time  \n",
       "0 2016-02-01 01:15:00 01:03:00  \n",
       "1 2016-02-01 00:54:00 00:40:00  \n",
       "2 2016-02-01 01:30:00 01:15:00  "
      ]
     },
     "execution_count": 6,
     "metadata": {},
     "output_type": "execute_result"
    }
   ],
   "source": [
    "df['time'] = df['closed_date']-df['created_date']\n",
    "df.head(3)"
   ]
  },
  {
   "cell_type": "code",
   "execution_count": 7,
   "metadata": {
    "collapsed": false
   },
   "outputs": [
    {
     "data": {
      "text/plain": [
       "count                       5650\n",
       "mean      6 days 15:05:05.589380\n",
       "std      14 days 12:05:38.260805\n",
       "min           -19 days +09:29:00\n",
       "25%              0 days 01:14:00\n",
       "50%              0 days 21:48:15\n",
       "75%       4 days 00:30:48.500000\n",
       "max             89 days 18:54:00\n",
       "Name: time, dtype: object"
      ]
     },
     "execution_count": 7,
     "metadata": {},
     "output_type": "execute_result"
    }
   ],
   "source": [
    "df['time'].describe()"
   ]
  },
  {
   "cell_type": "code",
   "execution_count": 8,
   "metadata": {
    "collapsed": false
   },
   "outputs": [
    {
     "data": {
      "text/plain": [
       "0 days 00:00:00      521\n",
       "-3 days +00:00:00    184\n",
       "-6 days +00:00:00    112\n",
       "-2 days +00:00:00     27\n",
       "-2 days +23:59:00     26\n",
       "0 days 00:20:00       23\n",
       "0 days 01:32:00       10\n",
       "0 days 01:26:00       10\n",
       "0 days 02:02:00        9\n",
       "0 days 01:34:00        9\n",
       "Name: time, dtype: int64"
      ]
     },
     "execution_count": 8,
     "metadata": {},
     "output_type": "execute_result"
    }
   ],
   "source": [
    "df['time'].value_counts().sort_values(ascending=False).head(10)"
   ]
  },
  {
   "cell_type": "code",
   "execution_count": 9,
   "metadata": {
    "collapsed": false
   },
   "outputs": [
    {
     "data": {
      "text/plain": [
       "count                       4547\n",
       "mean      8 days 16:15:03.514405\n",
       "std      15 days 10:48:08.619990\n",
       "min              0 days 00:00:01\n",
       "25%              0 days 12:41:58\n",
       "50%              1 days 03:33:17\n",
       "75%       6 days 00:30:23.500000\n",
       "max             89 days 18:54:00\n",
       "Name: time, dtype: object"
      ]
     },
     "execution_count": 9,
     "metadata": {},
     "output_type": "execute_result"
    }
   ],
   "source": [
    "df = df[df['time'] > pd.Timedelta(hours=0)].dropna()\n",
    "df['time'].describe()"
   ]
  },
  {
   "cell_type": "code",
   "execution_count": 10,
   "metadata": {
    "collapsed": false
   },
   "outputs": [
    {
     "data": {
      "text/plain": [
       "00:20:00    23\n",
       "01:32:00    10\n",
       "01:26:00    10\n",
       "02:02:00     9\n",
       "00:25:00     9\n",
       "01:34:00     9\n",
       "01:27:00     9\n",
       "00:40:00     9\n",
       "00:45:00     8\n",
       "01:42:00     8\n",
       "Name: time, dtype: int64"
      ]
     },
     "execution_count": 10,
     "metadata": {},
     "output_type": "execute_result"
    }
   ],
   "source": [
    "df['time'].value_counts().sort_values(ascending=False).head(10)"
   ]
  },
  {
   "cell_type": "code",
   "execution_count": 11,
   "metadata": {
    "collapsed": false
   },
   "outputs": [
    {
     "name": "stdout",
     "output_type": "stream",
     "text": [
      "<class 'pandas.core.frame.DataFrame'>\n",
      "Int64Index: 4547 entries, 0 to 5850\n",
      "Data columns (total 5 columns):\n",
      "unique_key      4547 non-null object\n",
      "complaint       4547 non-null object\n",
      "created_date    4547 non-null datetime64[ns]\n",
      "closed_date     4547 non-null datetime64[ns]\n",
      "time            4547 non-null timedelta64[ns]\n",
      "dtypes: datetime64[ns](2), object(2), timedelta64[ns](1)\n",
      "memory usage: 213.1+ KB\n"
     ]
    }
   ],
   "source": [
    "df.info()"
   ]
  },
  {
   "cell_type": "code",
   "execution_count": 12,
   "metadata": {
    "collapsed": false
   },
   "outputs": [
    {
     "data": {
      "text/plain": [
       "0    1.0\n",
       "1    0.0\n",
       "2    1.0\n",
       "3    2.0\n",
       "4    0.0\n",
       "Name: time, dtype: float64"
      ]
     },
     "execution_count": 12,
     "metadata": {},
     "output_type": "execute_result"
    }
   ],
   "source": [
    "df['time'].astype('timedelta64[h]').head(5)"
   ]
  },
  {
   "cell_type": "code",
   "execution_count": 14,
   "metadata": {
    "collapsed": false
   },
   "outputs": [
    {
     "data": {
      "text/plain": [
       "0     1.050000\n",
       "1     0.666667\n",
       "2     1.250000\n",
       "3     2.300000\n",
       "4     0.683333\n",
       "5     1.650000\n",
       "6     1.133333\n",
       "7     0.633333\n",
       "8     0.166667\n",
       "9    21.962222\n",
       "Name: time, dtype: float64"
      ]
     },
     "execution_count": 14,
     "metadata": {},
     "output_type": "execute_result"
    }
   ],
   "source": [
    "df['time']=(df['time'])/(pd.Timedelta(hours=1))\n",
    "df['time'].head(10)"
   ]
  },
  {
   "cell_type": "code",
   "execution_count": 19,
   "metadata": {
    "collapsed": false
   },
   "outputs": [
    {
     "data": {
      "text/plain": [
       "count    4547.000000\n",
       "mean      208.250976\n",
       "std       370.802394\n",
       "min         0.000278\n",
       "25%        12.699444\n",
       "50%        27.554722\n",
       "75%       144.506528\n",
       "max      2154.900000\n",
       "Name: time, dtype: float64"
      ]
     },
     "execution_count": 19,
     "metadata": {},
     "output_type": "execute_result"
    }
   ],
   "source": [
    "df['time'].describe()"
   ]
  },
  {
   "cell_type": "code",
   "execution_count": 26,
   "metadata": {
    "collapsed": false
   },
   "outputs": [
    {
     "data": {
      "text/plain": [
       "<matplotlib.text.Text at 0x1896a0f0>"
      ]
     },
     "execution_count": 26,
     "metadata": {},
     "output_type": "execute_result"
    },
    {
     "data": {
      "image/png": "[encoded data removed]",
      "text/plain": [
       "<matplotlib.figure.Figure at 0x1797bf98>"
      ]
     },
     "metadata": {},
     "output_type": "display_data"
    }
   ],
   "source": [
    "df['time'].hist(bins=100)\n",
    "plt.xlabel('Time (hours)')\n",
    "plt.ylabel('# of complaints')"
   ]
  },
  {
   "cell_type": "markdown",
   "metadata": {},
   "source": [
    "#### Additional Analysis "
   ]
  },
  {
   "cell_type": "code",
   "execution_count": 28,
   "metadata": {
    "collapsed": false
   },
   "outputs": [
    {
     "name": "stdout",
     "output_type": "stream",
     "text": [
      "Top 3 popular type of complaint\n",
      "\n",
      "Street Condition            1707\n",
      "Street Light Condition       983\n",
      "Traffic Signal Condition     807\n",
      "Name: complaint, dtype: int64\n"
     ]
    },
    {
     "data": {
      "text/plain": [
       "<matplotlib.axes._subplots.AxesSubplot at 0x18a7d518>"
      ]
     },
     "execution_count": 28,
     "metadata": {},
     "output_type": "execute_result"
    },
    {
     "data": {
      "image/png": "[encoded data removed]",
      "text/plain": [
       "<matplotlib.figure.Figure at 0x18b44470>"
      ]
     },
     "metadata": {},
     "output_type": "display_data"
    }
   ],
   "source": [
    "# Frequency Table\n",
    "\n",
    "graph01 = df['complaint'].value_counts().head(3).sort_values(ascending=True).plot(kind='barh')\n",
    "print(\"Top 3 popular type of complaint\\n\")\n",
    "print(df['complaint'].value_counts().head(3).sort_values(ascending=False))\n",
    "graph01"
   ]
  },
  {
   "cell_type": "code",
   "execution_count": 29,
   "metadata": {
    "collapsed": false
   },
   "outputs": [
    {
     "data": {
      "text/html": [
       "<div>\n",
       "<table border=\"1\" class=\"dataframe\">\n",
       "  <thead>\n",
       "    <tr style=\"text-align: right;\">\n",
       "      <th></th>\n",
       "      <th>unique_key</th>\n",
       "      <th>complaint</th>\n",
       "      <th>created_date</th>\n",
       "      <th>closed_date</th>\n",
       "      <th>time</th>\n",
       "    </tr>\n",
       "    <tr>\n",
       "      <th>created_date</th>\n",
       "      <th></th>\n",
       "      <th></th>\n",
       "      <th></th>\n",
       "      <th></th>\n",
       "      <th></th>\n",
       "    </tr>\n",
       "  </thead>\n",
       "  <tbody>\n",
       "    <tr>\n",
       "      <th>2016-02-01 00:12:00</th>\n",
       "      <td>32570549</td>\n",
       "      <td>Traffic Signal Condition</td>\n",
       "      <td>2016-02-01 00:12:00</td>\n",
       "      <td>2016-02-01 01:15:00</td>\n",
       "      <td>1.050000</td>\n",
       "    </tr>\n",
       "    <tr>\n",
       "      <th>2016-02-01 00:14:00</th>\n",
       "      <td>32572958</td>\n",
       "      <td>Traffic Signal Condition</td>\n",
       "      <td>2016-02-01 00:14:00</td>\n",
       "      <td>2016-02-01 00:54:00</td>\n",
       "      <td>0.666667</td>\n",
       "    </tr>\n",
       "  </tbody>\n",
       "</table>\n",
       "</div>"
      ],
      "text/plain": [
       "                    unique_key                 complaint        created_date  \\\n",
       "created_date                                                                   \n",
       "2016-02-01 00:12:00   32570549  Traffic Signal Condition 2016-02-01 00:12:00   \n",
       "2016-02-01 00:14:00   32572958  Traffic Signal Condition 2016-02-01 00:14:00   \n",
       "\n",
       "                            closed_date      time  \n",
       "created_date                                       \n",
       "2016-02-01 00:12:00 2016-02-01 01:15:00  1.050000  \n",
       "2016-02-01 00:14:00 2016-02-01 00:54:00  0.666667  "
      ]
     },
     "execution_count": 29,
     "metadata": {},
     "output_type": "execute_result"
    }
   ],
   "source": [
    "df.index = df['created_date']\n",
    "df.head(2)"
   ]
  },
  {
   "cell_type": "code",
   "execution_count": 30,
   "metadata": {
    "collapsed": false
   },
   "outputs": [
    {
     "data": {
      "text/plain": [
       "<matplotlib.axes._subplots.AxesSubplot at 0x18af2128>"
      ]
     },
     "execution_count": 30,
     "metadata": {},
     "output_type": "execute_result"
    },
    {
     "data": {
      "image/png": "[encoded data removed]",
      "text/plain": [
       "<matplotlib.figure.Figure at 0x18be6668>"
      ]
     },
     "metadata": {},
     "output_type": "display_data"
    }
   ],
   "source": [
    "df.groupby(df.index.hour).count().plot(y='unique_key',kind='bar')"
   ]
  },
  {
   "cell_type": "code",
   "execution_count": null,
   "metadata": {
    "collapsed": true
   },
   "outputs": [],
   "source": []
  }
 ],
 "metadata": {
  "kernelspec": {
   "display_name": "Python 3",
   "language": "python",
   "name": "python3"
  },
  "language_info": {
   "codemirror_mode": {
    "name": "ipython",
    "version": 3
   },
   "file_extension": ".py",
   "mimetype": "text/x-python",
   "name": "python",
   "nbconvert_exporter": "python",
   "pygments_lexer": "ipython3",
   "version": "3.4.4"
  }
 },
 "nbformat": 4,
 "nbformat_minor": 0
}
