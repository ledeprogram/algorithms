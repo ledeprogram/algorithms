{
 "cells": [
  {
   "cell_type": "markdown",
   "metadata": {},
   "source": [
    "```Host: training.c1erymiua9dx.us-east-1.rds.amazonaws.com\n",
    "Port: 5432\n",
    "Database: training\n",
    "Username: dot_student\n",
    "Password: qgis```"
   ]
  },
  {
   "cell_type": "code",
   "execution_count": 87,
   "metadata": {
    "collapsed": false
   },
   "outputs": [],
   "source": [
    "import pandas as pd\n",
    "import pg8000\n",
    "conn = pg8000.connect(user='dot_student', host='training.c1erymiua9dx.us-east-1.rds.amazonaws.com', port=5432, database='training', password='qgis')\n"
   ]
  },
  {
   "cell_type": "code",
   "execution_count": 88,
   "metadata": {
    "collapsed": true
   },
   "outputs": [],
   "source": [
    "import dateutil.parser"
   ]
  },
  {
   "cell_type": "code",
   "execution_count": 89,
   "metadata": {
    "collapsed": true
   },
   "outputs": [],
   "source": [
    "conn.rollback()"
   ]
  },
  {
   "cell_type": "code",
   "execution_count": 90,
   "metadata": {
    "collapsed": false
   },
   "outputs": [
    {
     "name": "stdout",
     "output_type": "stream",
     "text": [
      "<class 'pg8000.core.Cursor'>\n"
     ]
    }
   ],
   "source": [
    "cursor = conn.cursor()\n",
    "print(type(cursor))"
   ]
  },
  {
   "cell_type": "code",
   "execution_count": 91,
   "metadata": {
    "collapsed": false
   },
   "outputs": [],
   "source": [
    "cursor.execute(\"select * from dot_311\")"
   ]
  },
  {
   "cell_type": "code",
   "execution_count": 92,
   "metadata": {
    "collapsed": false
   },
   "outputs": [],
   "source": [
    "#This is magical. hat tip to Harsha's googling, I did not come up with this on my own.\n",
    "df = pd.read_sql(\"select * from dot_311\", conn)"
   ]
  },
  {
   "cell_type": "code",
   "execution_count": 93,
   "metadata": {
    "collapsed": false
   },
   "outputs": [
    {
     "data": {
      "text/html": [
       "<div>\n",
       "<table border=\"1\" class=\"dataframe\">\n",
       "  <thead>\n",
       "    <tr style=\"text-align: right;\">\n",
       "      <th></th>\n",
       "      <th>b'gid'</th>\n",
       "      <th>b'unique_key'</th>\n",
       "      <th>b'agency'</th>\n",
       "      <th>b'agency nam'</th>\n",
       "      <th>b'complaint'</th>\n",
       "      <th>b'descriptor'</th>\n",
       "      <th>b'location t'</th>\n",
       "      <th>b'incident z'</th>\n",
       "      <th>b'incident a'</th>\n",
       "      <th>b'street nam'</th>\n",
       "      <th>...</th>\n",
       "      <th>b'bridge h_2'</th>\n",
       "      <th>b'garage lot'</th>\n",
       "      <th>b'ferry dire'</th>\n",
       "      <th>b'ferry term'</th>\n",
       "      <th>b'latitude'</th>\n",
       "      <th>b'longitude'</th>\n",
       "      <th>b'location'</th>\n",
       "      <th>b'geom'</th>\n",
       "      <th>b'created_date'</th>\n",
       "      <th>b'closed_date'</th>\n",
       "    </tr>\n",
       "  </thead>\n",
       "  <tbody>\n",
       "    <tr>\n",
       "      <th>0</th>\n",
       "      <td>2</td>\n",
       "      <td>32570549.0</td>\n",
       "      <td>DOT</td>\n",
       "      <td>Department of Transportation</td>\n",
       "      <td>Traffic Signal Condition</td>\n",
       "      <td>Controller</td>\n",
       "      <td>None</td>\n",
       "      <td>10301.0</td>\n",
       "      <td>None</td>\n",
       "      <td>None</td>\n",
       "      <td>...</td>\n",
       "      <td>None</td>\n",
       "      <td>None</td>\n",
       "      <td>None</td>\n",
       "      <td>None</td>\n",
       "      <td>40.613804</td>\n",
       "      <td>-74.113374</td>\n",
       "      <td>(40.61380375315792, -74.1133737388642)</td>\n",
       "      <td>0101000020E61000006829ED83418752C0D7FC121F914E...</td>\n",
       "      <td>2016-02-01 00:12:00</td>\n",
       "      <td>2016-02-01 01:15:00</td>\n",
       "    </tr>\n",
       "    <tr>\n",
       "      <th>1</th>\n",
       "      <td>3</td>\n",
       "      <td>32572958.0</td>\n",
       "      <td>DOT</td>\n",
       "      <td>Department of Transportation</td>\n",
       "      <td>Traffic Signal Condition</td>\n",
       "      <td>Controller</td>\n",
       "      <td>None</td>\n",
       "      <td>10301.0</td>\n",
       "      <td>None</td>\n",
       "      <td>None</td>\n",
       "      <td>...</td>\n",
       "      <td>None</td>\n",
       "      <td>None</td>\n",
       "      <td>None</td>\n",
       "      <td>None</td>\n",
       "      <td>40.626545</td>\n",
       "      <td>-74.091582</td>\n",
       "      <td>(40.62654529746493, -74.09158233448058)</td>\n",
       "      <td>0101000020E610000011DF267CDC8552C08809E5A23250...</td>\n",
       "      <td>2016-02-01 00:14:00</td>\n",
       "      <td>2016-02-01 00:54:00</td>\n",
       "    </tr>\n",
       "    <tr>\n",
       "      <th>2</th>\n",
       "      <td>4</td>\n",
       "      <td>32573576.0</td>\n",
       "      <td>DOT</td>\n",
       "      <td>Department of Transportation</td>\n",
       "      <td>Traffic Signal Condition</td>\n",
       "      <td>Controller</td>\n",
       "      <td>None</td>\n",
       "      <td>10310.0</td>\n",
       "      <td>None</td>\n",
       "      <td>None</td>\n",
       "      <td>...</td>\n",
       "      <td>None</td>\n",
       "      <td>None</td>\n",
       "      <td>None</td>\n",
       "      <td>None</td>\n",
       "      <td>40.629250</td>\n",
       "      <td>-74.123221</td>\n",
       "      <td>(40.62924955478749, -74.1232207526046)</td>\n",
       "      <td>0101000020E610000004A84BD9E28752C0DC6AD93F8B50...</td>\n",
       "      <td>2016-02-01 00:15:00</td>\n",
       "      <td>2016-02-01 01:30:00</td>\n",
       "    </tr>\n",
       "    <tr>\n",
       "      <th>3</th>\n",
       "      <td>5</td>\n",
       "      <td>32572389.0</td>\n",
       "      <td>DOT</td>\n",
       "      <td>Department of Transportation</td>\n",
       "      <td>Traffic Signal Condition</td>\n",
       "      <td>Controller</td>\n",
       "      <td>None</td>\n",
       "      <td>NaN</td>\n",
       "      <td>None</td>\n",
       "      <td>None</td>\n",
       "      <td>...</td>\n",
       "      <td>None</td>\n",
       "      <td>None</td>\n",
       "      <td>None</td>\n",
       "      <td>None</td>\n",
       "      <td>NaN</td>\n",
       "      <td>NaN</td>\n",
       "      <td>None</td>\n",
       "      <td>0101000020E610000004A84BD9E28752C0DC6AD93F8B50...</td>\n",
       "      <td>2016-02-01 00:17:00</td>\n",
       "      <td>2016-02-01 02:35:00</td>\n",
       "    </tr>\n",
       "    <tr>\n",
       "      <th>4</th>\n",
       "      <td>6</td>\n",
       "      <td>32570548.0</td>\n",
       "      <td>DOT</td>\n",
       "      <td>Department of Transportation</td>\n",
       "      <td>Traffic Signal Condition</td>\n",
       "      <td>Controller</td>\n",
       "      <td>None</td>\n",
       "      <td>NaN</td>\n",
       "      <td>None</td>\n",
       "      <td>None</td>\n",
       "      <td>...</td>\n",
       "      <td>None</td>\n",
       "      <td>None</td>\n",
       "      <td>None</td>\n",
       "      <td>None</td>\n",
       "      <td>NaN</td>\n",
       "      <td>NaN</td>\n",
       "      <td>None</td>\n",
       "      <td>0101000020E610000004A84BD9E28752C0DC6AD93F8B50...</td>\n",
       "      <td>2016-02-01 00:19:00</td>\n",
       "      <td>2016-02-01 01:00:00</td>\n",
       "    </tr>\n",
       "  </tbody>\n",
       "</table>\n",
       "<p>5 rows × 55 columns</p>\n",
       "</div>"
      ],
      "text/plain": [
       "   b'gid'  b'unique_key' b'agency'                 b'agency nam'  \\\n",
       "0       2     32570549.0       DOT  Department of Transportation   \n",
       "1       3     32572958.0       DOT  Department of Transportation   \n",
       "2       4     32573576.0       DOT  Department of Transportation   \n",
       "3       5     32572389.0       DOT  Department of Transportation   \n",
       "4       6     32570548.0       DOT  Department of Transportation   \n",
       "\n",
       "               b'complaint' b'descriptor' b'location t'  b'incident z'  \\\n",
       "0  Traffic Signal Condition    Controller          None        10301.0   \n",
       "1  Traffic Signal Condition    Controller          None        10301.0   \n",
       "2  Traffic Signal Condition    Controller          None        10310.0   \n",
       "3  Traffic Signal Condition    Controller          None            NaN   \n",
       "4  Traffic Signal Condition    Controller          None            NaN   \n",
       "\n",
       "  b'incident a' b'street nam'         ...         b'bridge h_2' b'garage lot'  \\\n",
       "0          None          None         ...                  None          None   \n",
       "1          None          None         ...                  None          None   \n",
       "2          None          None         ...                  None          None   \n",
       "3          None          None         ...                  None          None   \n",
       "4          None          None         ...                  None          None   \n",
       "\n",
       "  b'ferry dire' b'ferry term' b'latitude' b'longitude'  \\\n",
       "0          None          None   40.613804   -74.113374   \n",
       "1          None          None   40.626545   -74.091582   \n",
       "2          None          None   40.629250   -74.123221   \n",
       "3          None          None         NaN          NaN   \n",
       "4          None          None         NaN          NaN   \n",
       "\n",
       "                               b'location'  \\\n",
       "0   (40.61380375315792, -74.1133737388642)   \n",
       "1  (40.62654529746493, -74.09158233448058)   \n",
       "2   (40.62924955478749, -74.1232207526046)   \n",
       "3                                     None   \n",
       "4                                     None   \n",
       "\n",
       "                                             b'geom'     b'created_date'  \\\n",
       "0  0101000020E61000006829ED83418752C0D7FC121F914E... 2016-02-01 00:12:00   \n",
       "1  0101000020E610000011DF267CDC8552C08809E5A23250... 2016-02-01 00:14:00   \n",
       "2  0101000020E610000004A84BD9E28752C0DC6AD93F8B50... 2016-02-01 00:15:00   \n",
       "3  0101000020E610000004A84BD9E28752C0DC6AD93F8B50... 2016-02-01 00:17:00   \n",
       "4  0101000020E610000004A84BD9E28752C0DC6AD93F8B50... 2016-02-01 00:19:00   \n",
       "\n",
       "       b'closed_date'  \n",
       "0 2016-02-01 01:15:00  \n",
       "1 2016-02-01 00:54:00  \n",
       "2 2016-02-01 01:30:00  \n",
       "3 2016-02-01 02:35:00  \n",
       "4 2016-02-01 01:00:00  \n",
       "\n",
       "[5 rows x 55 columns]"
      ]
     },
     "execution_count": 93,
     "metadata": {},
     "output_type": "execute_result"
    }
   ],
   "source": [
    "df.head()"
   ]
  },
  {
   "cell_type": "code",
   "execution_count": 94,
   "metadata": {
    "collapsed": false
   },
   "outputs": [
    {
     "data": {
      "text/plain": [
       "b'gid'                      int64\n",
       "b'unique_key'             float64\n",
       "b'agency'                  object\n",
       "b'agency nam'              object\n",
       "b'complaint'               object\n",
       "b'descriptor'              object\n",
       "b'location t'              object\n",
       "b'incident z'             float64\n",
       "b'incident a'              object\n",
       "b'street nam'              object\n",
       "b'cross stre'              object\n",
       "b'cross st_1'              object\n",
       "b'intersecti'              object\n",
       "b'intersec_1'              object\n",
       "b'address ty'              object\n",
       "b'city'                    object\n",
       "b'landmark'                object\n",
       "b'facility t'              object\n",
       "b'status'                  object\n",
       "b'due date'                object\n",
       "b'resolution'              object\n",
       "b'resoluti_1'              object\n",
       "b'community'               object\n",
       "b'borough'                 object\n",
       "b'x coordina'             float64\n",
       "b'y coordina'             float64\n",
       "b'park facil'              object\n",
       "b'park borou'              object\n",
       "b'school nam'              object\n",
       "b'school num'              object\n",
       "b'school reg'              object\n",
       "b'school cod'              object\n",
       "b'school pho'              object\n",
       "b'school add'              object\n",
       "b'school cit'              object\n",
       "b'school sta'              object\n",
       "b'school zip'              object\n",
       "b'school not'              object\n",
       "b'school or'               object\n",
       "b'vehicle ty'              object\n",
       "b'taxi compa'              object\n",
       "b'taxi pick'               object\n",
       "b'bridge hig'              object\n",
       "b'bridge h_1'              object\n",
       "b'road ramp'               object\n",
       "b'bridge h_2'              object\n",
       "b'garage lot'              object\n",
       "b'ferry dire'              object\n",
       "b'ferry term'              object\n",
       "b'latitude'               float64\n",
       "b'longitude'              float64\n",
       "b'location'                object\n",
       "b'geom'                    object\n",
       "b'created_date'    datetime64[ns]\n",
       "b'closed_date'     datetime64[ns]\n",
       "dtype: object"
      ]
     },
     "execution_count": 94,
     "metadata": {},
     "output_type": "execute_result"
    }
   ],
   "source": [
    "df.head()\n",
    "df.columns\n",
    "df.dtypes"
   ]
  },
  {
   "cell_type": "code",
   "execution_count": 95,
   "metadata": {
    "collapsed": false
   },
   "outputs": [],
   "source": [
    "#Renaming the columns because the apostrophes are weird.\n",
    "df.columns = [b'gid',   b'unique_key',       b'agency',   b'agency nam',\n",
    "          b'complaint',   b'descriptor',   b'location t',   b'incident z',\n",
    "         b'incident a',   b'street nam',   b'cross stre',   b'cross st_1',\n",
    "         b'intersecti',   b'intersec_1',   b'address ty',         b'city',\n",
    "           b'landmark',   b'facility t',       b'status',     b'due date',\n",
    "         b'resolution',   b'resoluti_1',    b'community',      b'borough',\n",
    "         b'x coordina',   b'y coordina',   b'park facil',   b'park borou',\n",
    "         b'school nam',   b'school num',   b'school reg',   b'school cod',\n",
    "         b'school pho',   b'school add',   b'school cit',   b'school sta',\n",
    "         b'school zip',   b'school not',    b'school or',   b'vehicle ty',\n",
    "         b'taxi compa',    b'taxi pick',   b'bridge hig',   b'bridge h_1',\n",
    "          b'road ramp',   b'bridge h_2',   b'garage lot',   b'ferry dire',\n",
    "         b'ferry term',     b'latitude',    b'longitude',     b'location',\n",
    "               b'geom', 'created_date',  'closed_date']"
   ]
  },
  {
   "cell_type": "code",
   "execution_count": 96,
   "metadata": {
    "collapsed": false
   },
   "outputs": [],
   "source": [
    "#Make a new column called \"open_time\", which is closed_date - created_date\n",
    "df['open_time'] = (df['closed_date']-df['created_date']).astype('timedelta64[h]')"
   ]
  },
  {
   "cell_type": "code",
   "execution_count": 110,
   "metadata": {
    "collapsed": false
   },
   "outputs": [
    {
     "data": {
      "text/html": [
       "<div>\n",
       "<table border=\"1\" class=\"dataframe\">\n",
       "  <thead>\n",
       "    <tr style=\"text-align: right;\">\n",
       "      <th></th>\n",
       "      <th>b'gid'</th>\n",
       "      <th>b'unique_key'</th>\n",
       "      <th>b'agency'</th>\n",
       "      <th>b'agency nam'</th>\n",
       "      <th>b'complaint'</th>\n",
       "      <th>b'descriptor'</th>\n",
       "      <th>b'location t'</th>\n",
       "      <th>b'incident z'</th>\n",
       "      <th>b'incident a'</th>\n",
       "      <th>b'street nam'</th>\n",
       "      <th>...</th>\n",
       "      <th>b'garage lot'</th>\n",
       "      <th>b'ferry dire'</th>\n",
       "      <th>b'ferry term'</th>\n",
       "      <th>b'latitude'</th>\n",
       "      <th>b'longitude'</th>\n",
       "      <th>b'location'</th>\n",
       "      <th>b'geom'</th>\n",
       "      <th>created_date</th>\n",
       "      <th>closed_date</th>\n",
       "      <th>open_time</th>\n",
       "    </tr>\n",
       "  </thead>\n",
       "  <tbody>\n",
       "    <tr>\n",
       "      <th>1625</th>\n",
       "      <td>1621</td>\n",
       "      <td>32585502.0</td>\n",
       "      <td>DOT</td>\n",
       "      <td>Department of Transportation</td>\n",
       "      <td>Street Light Condition</td>\n",
       "      <td>Street Light Out</td>\n",
       "      <td>None</td>\n",
       "      <td>NaN</td>\n",
       "      <td>EASTCHESTER BRIDGE</td>\n",
       "      <td>EASTCHESTER BRIDGE</td>\n",
       "      <td>...</td>\n",
       "      <td>None</td>\n",
       "      <td>None</td>\n",
       "      <td>None</td>\n",
       "      <td>NaN</td>\n",
       "      <td>NaN</td>\n",
       "      <td>None</td>\n",
       "      <td>0101000020E610000024D5B235827252C019982D7FFD61...</td>\n",
       "      <td>2016-02-02 14:36:00</td>\n",
       "      <td>2016-01-15 00:05:00</td>\n",
       "      <td>-447.0</td>\n",
       "    </tr>\n",
       "  </tbody>\n",
       "</table>\n",
       "<p>1 rows × 56 columns</p>\n",
       "</div>"
      ],
      "text/plain": [
       "      b'gid'  b'unique_key' b'agency'                 b'agency nam'  \\\n",
       "1625    1621     32585502.0       DOT  Department of Transportation   \n",
       "\n",
       "                b'complaint'     b'descriptor' b'location t'  b'incident z'  \\\n",
       "1625  Street Light Condition  Street Light Out          None            NaN   \n",
       "\n",
       "           b'incident a'       b'street nam'    ...    b'garage lot'  \\\n",
       "1625  EASTCHESTER BRIDGE  EASTCHESTER BRIDGE    ...             None   \n",
       "\n",
       "     b'ferry dire' b'ferry term' b'latitude' b'longitude' b'location'  \\\n",
       "1625          None          None         NaN          NaN        None   \n",
       "\n",
       "                                                b'geom'        created_date  \\\n",
       "1625  0101000020E610000024D5B235827252C019982D7FFD61... 2016-02-02 14:36:00   \n",
       "\n",
       "             closed_date open_time  \n",
       "1625 2016-01-15 00:05:00    -447.0  \n",
       "\n",
       "[1 rows x 56 columns]"
      ]
     },
     "execution_count": 110,
     "metadata": {},
     "output_type": "execute_result"
    }
   ],
   "source": [
    "#So, there are clearly some issues with this data.\n",
    "#This closed date is a significant amount of time before the created date.\n",
    "\n",
    "df[df['open_time'] == -447.0]"
   ]
  },
  {
   "cell_type": "code",
   "execution_count": 104,
   "metadata": {
    "collapsed": false
   },
   "outputs": [
    {
     "data": {
      "text/plain": [
       "count    5650.000000\n",
       "mean      158.657345\n",
       "std       348.049637\n",
       "min      -447.000000\n",
       "25%         1.000000\n",
       "50%        21.000000\n",
       "75%        96.000000\n",
       "max      2154.000000\n",
       "Name: open_time, dtype: float64"
      ]
     },
     "execution_count": 104,
     "metadata": {},
     "output_type": "execute_result"
    }
   ],
   "source": [
    "#I am choosing to only include the values that are not \"NaN\" as a result of all the \"NaT\" in the closed date column.\n",
    "#I assume these are still open, but I don't think it's appropriate to include them.\n",
    "df[df['open_time'].notnull()]['open_time'].describe()"
   ]
  },
  {
   "cell_type": "code",
   "execution_count": 111,
   "metadata": {
    "collapsed": false
   },
   "outputs": [
    {
     "data": {
      "text/plain": [
       "96.0"
      ]
     },
     "execution_count": 111,
     "metadata": {},
     "output_type": "execute_result"
    }
   ],
   "source": [
    "#75%\n",
    "df[df['open_time'].notnull()]['open_time'].quantile(q=.75)"
   ]
  },
  {
   "cell_type": "code",
   "execution_count": 115,
   "metadata": {
    "collapsed": false
   },
   "outputs": [
    {
     "data": {
      "text/plain": [
       "21.0"
      ]
     },
     "execution_count": 115,
     "metadata": {},
     "output_type": "execute_result"
    }
   ],
   "source": [
    "#50%, aka the median\n",
    "df[df['open_time'].notnull()]['open_time'].quantile(q=.5)"
   ]
  },
  {
   "cell_type": "code",
   "execution_count": 114,
   "metadata": {
    "collapsed": false
   },
   "outputs": [
    {
     "data": {
      "text/plain": [
       "75.0"
      ]
     },
     "execution_count": 114,
     "metadata": {},
     "output_type": "execute_result"
    }
   ],
   "source": [
    "#inter quartile range (between 50% and 75%)\n",
    "df[df['open_time'].notnull()]['open_time'].quantile(q=.75)-df[df['open_time'].notnull()]['open_time'].quantile(q=.5)"
   ]
  },
  {
   "cell_type": "code",
   "execution_count": 125,
   "metadata": {
    "collapsed": false
   },
   "outputs": [
    {
     "data": {
      "text/plain": [
       "12       224.0\n",
       "32      1421.0\n",
       "34       558.0\n",
       "38      1514.0\n",
       "140     1056.0\n",
       "145     1945.0\n",
       "178     1055.0\n",
       "179     1055.0\n",
       "185      710.0\n",
       "190      768.0\n",
       "191      720.0\n",
       "193      720.0\n",
       "208      793.0\n",
       "209     1007.0\n",
       "216     1007.0\n",
       "229     1055.0\n",
       "233      603.0\n",
       "241     1054.0\n",
       "248     1054.0\n",
       "249      743.0\n",
       "270     1054.0\n",
       "279      792.0\n",
       "282      576.0\n",
       "285      742.0\n",
       "287      913.0\n",
       "292     1005.0\n",
       "304      719.0\n",
       "310     1005.0\n",
       "311     1005.0\n",
       "313      942.0\n",
       "         ...  \n",
       "5742    1150.0\n",
       "5744     661.0\n",
       "5745     399.0\n",
       "5748     642.0\n",
       "5753    1149.0\n",
       "5755    1120.0\n",
       "5757     233.0\n",
       "5758    1124.0\n",
       "5763     278.0\n",
       "5764    1117.0\n",
       "5767     229.0\n",
       "5769     903.0\n",
       "5773     997.0\n",
       "5774     449.0\n",
       "5778     981.0\n",
       "5779     270.0\n",
       "5785     235.0\n",
       "5786     448.0\n",
       "5789     445.0\n",
       "5790     233.0\n",
       "5801     377.0\n",
       "5808     256.0\n",
       "5809     658.0\n",
       "5810     612.0\n",
       "5811     782.0\n",
       "5828     924.0\n",
       "5830     467.0\n",
       "5833     371.0\n",
       "5834     250.0\n",
       "5839     226.0\n",
       "Name: open_time, dtype: float64"
      ]
     },
     "execution_count": 125,
     "metadata": {},
     "output_type": "execute_result"
    }
   ],
   "source": [
    "#These are the outliers on top. 1.5 IQR + 3rd quartile\n",
    "df[df['open_time'] > (112.5+96)]['open_time']\n"
   ]
  },
  {
   "cell_type": "code",
   "execution_count": 124,
   "metadata": {
    "collapsed": false
   },
   "outputs": [
    {
     "data": {
      "text/plain": [
       "676    -120.0\n",
       "679    -163.0\n",
       "1625   -447.0\n",
       "1630   -446.0\n",
       "1633   -445.0\n",
       "3316   -144.0\n",
       "3671   -144.0\n",
       "3674   -144.0\n",
       "3675   -144.0\n",
       "3677   -144.0\n",
       "3678   -144.0\n",
       "3679   -144.0\n",
       "3680   -144.0\n",
       "3681   -145.0\n",
       "3683   -144.0\n",
       "3705   -144.0\n",
       "3709   -144.0\n",
       "3710   -144.0\n",
       "3712   -144.0\n",
       "3715   -144.0\n",
       "3716   -144.0\n",
       "3717   -145.0\n",
       "3718   -144.0\n",
       "3719   -144.0\n",
       "3720   -144.0\n",
       "3721   -144.0\n",
       "3722   -144.0\n",
       "3725   -144.0\n",
       "3726   -144.0\n",
       "3727   -145.0\n",
       "        ...  \n",
       "3998   -144.0\n",
       "3999   -144.0\n",
       "4000   -144.0\n",
       "4001   -148.0\n",
       "4003   -144.0\n",
       "4004   -144.0\n",
       "4005   -144.0\n",
       "4006   -144.0\n",
       "4007   -149.0\n",
       "4008   -144.0\n",
       "4009   -144.0\n",
       "4010   -144.0\n",
       "4011   -144.0\n",
       "4012   -154.0\n",
       "4013   -144.0\n",
       "4015   -144.0\n",
       "4016   -144.0\n",
       "4018   -144.0\n",
       "4019   -144.0\n",
       "4020   -144.0\n",
       "4023   -144.0\n",
       "4024   -144.0\n",
       "4025   -144.0\n",
       "4026   -144.0\n",
       "4027   -144.0\n",
       "4028   -149.0\n",
       "4030   -145.0\n",
       "4031   -144.0\n",
       "4032   -144.0\n",
       "4033   -144.0\n",
       "Name: open_time, dtype: float64"
      ]
     },
     "execution_count": 124,
     "metadata": {},
     "output_type": "execute_result"
    }
   ],
   "source": [
    "#These are the outliers on the bottom. This data is lying. These points should be discarded, clearly. 1st quartile - 1.5 IQR\n",
    "df[df['open_time'] < (1-112.5)]['open_time']"
   ]
  },
  {
   "cell_type": "code",
   "execution_count": null,
   "metadata": {
    "collapsed": true
   },
   "outputs": [],
   "source": []
  }
 ],
 "metadata": {
  "kernelspec": {
   "display_name": "Python 3",
   "language": "python",
   "name": "python3"
  },
  "language_info": {
   "codemirror_mode": {
    "name": "ipython",
    "version": 3
   },
   "file_extension": ".py",
   "mimetype": "text/x-python",
   "name": "python",
   "nbconvert_exporter": "python",
   "pygments_lexer": "ipython3",
   "version": "3.5.1"
  }
 },
 "nbformat": 4,
 "nbformat_minor": 0
}
