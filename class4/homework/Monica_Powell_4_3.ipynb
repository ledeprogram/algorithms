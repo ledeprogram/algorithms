{
 "cells": [
  {
   "cell_type": "code",
   "execution_count": 1,
   "metadata": {
    "collapsed": false
   },
   "outputs": [
    {
     "name": "stderr",
     "output_type": "stream",
     "text": [
      "/Users/Monica/.virtualenvs/dataanalysis/lib/python3.5/site-packages/matplotlib/__init__.py:1035: UserWarning: Duplicate key in file \"/Users/Monica/.matplotlib/matplotlibrc\", line #2\n",
      "  (fname, cnt))\n"
     ]
    }
   ],
   "source": [
    "import pandas as pd"
   ]
  },
  {
   "cell_type": "code",
   "execution_count": 7,
   "metadata": {
    "collapsed": false
   },
   "outputs": [],
   "source": [
    "df = pd.read_csv('data/heights_weights_genders.csv')"
   ]
  },
  {
   "cell_type": "code",
   "execution_count": 9,
   "metadata": {
    "collapsed": false
   },
   "outputs": [
    {
     "name": "stdout",
     "output_type": "stream",
     "text": [
      "<bound method NDFrame.head of       Gender     Height      Weight\n",
      "0       Male  73.847017  241.893563\n",
      "1       Male  68.781904  162.310473\n",
      "2       Male  74.110105  212.740856\n",
      "3       Male  71.730978  220.042470\n",
      "4       Male  69.881796  206.349801\n",
      "5       Male  67.253016  152.212156\n",
      "6       Male  68.785081  183.927889\n",
      "7       Male  68.348516  167.971110\n",
      "8       Male  67.018950  175.929440\n",
      "9       Male  63.456494  156.399676\n",
      "10      Male  71.195382  186.604926\n",
      "11      Male  71.640805  213.741169\n",
      "12      Male  64.766329  167.127461\n",
      "13      Male  69.283070  189.446181\n",
      "14      Male  69.243732  186.434168\n",
      "15      Male  67.645620  172.186930\n",
      "16      Male  72.418317  196.028506\n",
      "17      Male  63.974326  172.883470\n",
      "18      Male  69.640060  185.983958\n",
      "19      Male  67.936005  182.426648\n",
      "20      Male  67.915050  174.115929\n",
      "21      Male  69.439440  197.731422\n",
      "22      Male  66.149132  149.173566\n",
      "23      Male  75.205974  228.761781\n",
      "24      Male  67.893196  162.006652\n",
      "25      Male  68.144033  192.343977\n",
      "26      Male  69.089631  184.435174\n",
      "27      Male  72.800844  206.828189\n",
      "28      Male  67.421242  175.213922\n",
      "29      Male  68.496415  154.342639\n",
      "...      ...        ...         ...\n",
      "9970  Female  65.618737  151.500389\n",
      "9971  Female  64.640247  155.318297\n",
      "9972  Female  60.653733  123.084293\n",
      "9973  Female  60.737031  120.926500\n",
      "9974  Female  65.393947  143.017835\n",
      "9975  Female  66.251923  124.019917\n",
      "9976  Female  61.475904  121.387236\n",
      "9977  Female  64.494838  149.402547\n",
      "9978  Female  57.375759  114.192209\n",
      "9979  Female  62.056012  125.135897\n",
      "9980  Female  60.472262  110.768229\n",
      "9981  Female  60.443264  135.559390\n",
      "9982  Female  69.868511  177.992066\n",
      "9983  Female  65.830726  132.827889\n",
      "9984  Female  59.047029  111.707369\n",
      "9985  Female  68.041065  170.514213\n",
      "9986  Female  63.352698  141.906510\n",
      "9987  Female  65.610243  151.169475\n",
      "9988  Female  59.538729  121.244876\n",
      "9989  Female  60.955084   95.686674\n",
      "9990  Female  63.179498  141.266100\n",
      "9991  Female  62.636675  102.853563\n",
      "9992  Female  62.077832  138.691680\n",
      "9993  Female  60.030434   97.687432\n",
      "9994  Female  59.098250  110.529686\n",
      "9995  Female  66.172652  136.777454\n",
      "9996  Female  67.067155  170.867906\n",
      "9997  Female  63.867992  128.475319\n",
      "9998  Female  69.034243  163.852461\n",
      "9999  Female  61.944246  113.649103\n",
      "\n",
      "[10000 rows x 3 columns]>\n"
     ]
    }
   ],
   "source": [
    "print(df.head)"
   ]
  },
  {
   "cell_type": "code",
   "execution_count": 10,
   "metadata": {
    "collapsed": false
   },
   "outputs": [
    {
     "data": {
      "text/html": [
       "<div>\n",
       "<table border=\"1\" class=\"dataframe\">\n",
       "  <thead>\n",
       "    <tr style=\"text-align: right;\">\n",
       "      <th></th>\n",
       "      <th>Height</th>\n",
       "      <th>Weight</th>\n",
       "    </tr>\n",
       "  </thead>\n",
       "  <tbody>\n",
       "    <tr>\n",
       "      <th>Height</th>\n",
       "      <td>1.000000</td>\n",
       "      <td>0.924756</td>\n",
       "    </tr>\n",
       "    <tr>\n",
       "      <th>Weight</th>\n",
       "      <td>0.924756</td>\n",
       "      <td>1.000000</td>\n",
       "    </tr>\n",
       "  </tbody>\n",
       "</table>\n",
       "</div>"
      ],
      "text/plain": [
       "          Height    Weight\n",
       "Height  1.000000  0.924756\n",
       "Weight  0.924756  1.000000"
      ]
     },
     "execution_count": 10,
     "metadata": {},
     "output_type": "execute_result"
    }
   ],
   "source": [
    "df.corr()"
   ]
  },
  {
   "cell_type": "code",
   "execution_count": 11,
   "metadata": {
    "collapsed": true
   },
   "outputs": [],
   "source": [
    "Male = df[df['Gender'] == 'Male']\n",
    "Female = df[df['Gender'] == 'Female']"
   ]
  },
  {
   "cell_type": "code",
   "execution_count": 12,
   "metadata": {
    "collapsed": false
   },
   "outputs": [
    {
     "data": {
      "text/html": [
       "<div>\n",
       "<table border=\"1\" class=\"dataframe\">\n",
       "  <thead>\n",
       "    <tr style=\"text-align: right;\">\n",
       "      <th></th>\n",
       "      <th>Height</th>\n",
       "      <th>Weight</th>\n",
       "    </tr>\n",
       "  </thead>\n",
       "  <tbody>\n",
       "    <tr>\n",
       "      <th>Height</th>\n",
       "      <td>1.000000</td>\n",
       "      <td>0.862979</td>\n",
       "    </tr>\n",
       "    <tr>\n",
       "      <th>Weight</th>\n",
       "      <td>0.862979</td>\n",
       "      <td>1.000000</td>\n",
       "    </tr>\n",
       "  </tbody>\n",
       "</table>\n",
       "</div>"
      ],
      "text/plain": [
       "          Height    Weight\n",
       "Height  1.000000  0.862979\n",
       "Weight  0.862979  1.000000"
      ]
     },
     "execution_count": 12,
     "metadata": {},
     "output_type": "execute_result"
    }
   ],
   "source": [
    "Male.corr()"
   ]
  },
  {
   "cell_type": "code",
   "execution_count": 13,
   "metadata": {
    "collapsed": false
   },
   "outputs": [
    {
     "data": {
      "text/html": [
       "<div>\n",
       "<table border=\"1\" class=\"dataframe\">\n",
       "  <thead>\n",
       "    <tr style=\"text-align: right;\">\n",
       "      <th></th>\n",
       "      <th>Height</th>\n",
       "      <th>Weight</th>\n",
       "    </tr>\n",
       "  </thead>\n",
       "  <tbody>\n",
       "    <tr>\n",
       "      <th>Height</th>\n",
       "      <td>1.000000</td>\n",
       "      <td>0.849609</td>\n",
       "    </tr>\n",
       "    <tr>\n",
       "      <th>Weight</th>\n",
       "      <td>0.849609</td>\n",
       "      <td>1.000000</td>\n",
       "    </tr>\n",
       "  </tbody>\n",
       "</table>\n",
       "</div>"
      ],
      "text/plain": [
       "          Height    Weight\n",
       "Height  1.000000  0.849609\n",
       "Weight  0.849609  1.000000"
      ]
     },
     "execution_count": 13,
     "metadata": {},
     "output_type": "execute_result"
    }
   ],
   "source": [
    "Female.corr()"
   ]
  },
  {
   "cell_type": "markdown",
   "metadata": {},
   "source": [
    "Findings: For males there was a slightly higher positive correlation between height and weight at 86.29% whereas for females the correlation was 84.96%. Although, I am unclear why prior to  seperating by gender the correlariton was 92% which is higher than both groups as individuals."
   ]
  },
  {
   "cell_type": "code",
   "execution_count": null,
   "metadata": {
    "collapsed": true
   },
   "outputs": [],
   "source": []
  }
 ],
 "metadata": {
  "kernelspec": {
   "display_name": "Python 3",
   "language": "python",
   "name": "python3"
  },
  "language_info": {
   "codemirror_mode": {
    "name": "ipython",
    "version": 3
   },
   "file_extension": ".py",
   "mimetype": "text/x-python",
   "name": "python",
   "nbconvert_exporter": "python",
   "pygments_lexer": "ipython3",
   "version": "3.5.1"
  }
 },
 "nbformat": 4,
 "nbformat_minor": 0
}
