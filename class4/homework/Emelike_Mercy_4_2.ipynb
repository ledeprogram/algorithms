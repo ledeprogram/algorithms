{
 "cells": [
  {
   "cell_type": "code",
   "execution_count": 47,
   "metadata": {
    "collapsed": false
   },
   "outputs": [],
   "source": [
    "import pandas as pd\n",
    "import matplotlib.pyplot as plt\n",
    "%matplotlib inline\n",
    "plt.style.use('ggplot')"
   ]
  },
  {
   "cell_type": "code",
   "execution_count": 24,
   "metadata": {
    "collapsed": false
   },
   "outputs": [],
   "source": [
    "df=pd.read_excel('//Users/mercyemelike/Desktop/Lede-Program/algorithms/class4/homework/data/2013_NYC_CD_MedianIncome_Recycle.xlsx')"
   ]
  },
  {
   "cell_type": "code",
   "execution_count": 16,
   "metadata": {
    "collapsed": false
   },
   "outputs": [
    {
     "data": {
      "text/html": [
       "<div>\n",
       "<table border=\"1\" class=\"dataframe\">\n",
       "  <thead>\n",
       "    <tr style=\"text-align: right;\">\n",
       "      <th></th>\n",
       "      <th>CD_Name</th>\n",
       "      <th>MdHHIncE</th>\n",
       "      <th>RecycleRate</th>\n",
       "    </tr>\n",
       "  </thead>\n",
       "  <tbody>\n",
       "    <tr>\n",
       "      <th>0</th>\n",
       "      <td>Battery Park City, Greenwich Village &amp; Soho</td>\n",
       "      <td>119596</td>\n",
       "      <td>0.286771</td>\n",
       "    </tr>\n",
       "    <tr>\n",
       "      <th>1</th>\n",
       "      <td>Battery Park City, Greenwich Village &amp; Soho</td>\n",
       "      <td>119596</td>\n",
       "      <td>0.264074</td>\n",
       "    </tr>\n",
       "    <tr>\n",
       "      <th>2</th>\n",
       "      <td>Chinatown &amp; Lower East Side</td>\n",
       "      <td>40919</td>\n",
       "      <td>0.156485</td>\n",
       "    </tr>\n",
       "    <tr>\n",
       "      <th>3</th>\n",
       "      <td>Chelsea, Clinton &amp; Midtown Business Distric</td>\n",
       "      <td>92583</td>\n",
       "      <td>0.235125</td>\n",
       "    </tr>\n",
       "    <tr>\n",
       "      <th>4</th>\n",
       "      <td>Chelsea, Clinton &amp; Midtown Business Distric</td>\n",
       "      <td>92583</td>\n",
       "      <td>0.246725</td>\n",
       "    </tr>\n",
       "  </tbody>\n",
       "</table>\n",
       "</div>"
      ],
      "text/plain": [
       "                                       CD_Name  MdHHIncE  RecycleRate\n",
       "0  Battery Park City, Greenwich Village & Soho    119596     0.286771\n",
       "1  Battery Park City, Greenwich Village & Soho    119596     0.264074\n",
       "2                  Chinatown & Lower East Side     40919     0.156485\n",
       "3  Chelsea, Clinton & Midtown Business Distric     92583     0.235125\n",
       "4  Chelsea, Clinton & Midtown Business Distric     92583     0.246725"
      ]
     },
     "execution_count": 16,
     "metadata": {},
     "output_type": "execute_result"
    }
   ],
   "source": [
    "df.head()"
   ]
  },
  {
   "cell_type": "code",
   "execution_count": 49,
   "metadata": {
    "collapsed": false
   },
   "outputs": [
    {
     "data": {
      "text/plain": [
       "<matplotlib.text.Text at 0x10aa145f8>"
      ]
     },
     "execution_count": 49,
     "metadata": {},
     "output_type": "execute_result"
    },
    {
     "data": {
      "image/png": "[encoded data removed]",
      "text/plain": [
       "<matplotlib.figure.Figure at 0x10a9dda90>"
      ]
     },
     "metadata": {},
     "output_type": "display_data"
    }
   ],
   "source": [
    "ax = df.plot(x='MdHHIncE', y='RecycleRate', kind='scatter', figsize = (10,10))\n",
    "\n",
    "ax.set(xlabel=\"Median Household Income\", ylabel=\"Recycle Rate\")\n",
    "ax.set_title(\"Strong Positive Correlation between Median Household Income and Recycle Rate\")\n"
   ]
  },
  {
   "cell_type": "code",
   "execution_count": 50,
   "metadata": {
    "collapsed": false
   },
   "outputs": [
    {
     "data": {
      "text/html": [
       "<div>\n",
       "<table border=\"1\" class=\"dataframe\">\n",
       "  <thead>\n",
       "    <tr style=\"text-align: right;\">\n",
       "      <th></th>\n",
       "      <th>MdHHIncE</th>\n",
       "      <th>RecycleRate</th>\n",
       "    </tr>\n",
       "  </thead>\n",
       "  <tbody>\n",
       "    <tr>\n",
       "      <th>MdHHIncE</th>\n",
       "      <td>1.000000</td>\n",
       "      <td>0.884783</td>\n",
       "    </tr>\n",
       "    <tr>\n",
       "      <th>RecycleRate</th>\n",
       "      <td>0.884783</td>\n",
       "      <td>1.000000</td>\n",
       "    </tr>\n",
       "  </tbody>\n",
       "</table>\n",
       "</div>"
      ],
      "text/plain": [
       "             MdHHIncE  RecycleRate\n",
       "MdHHIncE     1.000000     0.884783\n",
       "RecycleRate  0.884783     1.000000"
      ]
     },
     "execution_count": 50,
     "metadata": {},
     "output_type": "execute_result"
    }
   ],
   "source": [
    "df.corr()"
   ]
  },
  {
   "cell_type": "code",
   "execution_count": null,
   "metadata": {
    "collapsed": true
   },
   "outputs": [],
   "source": []
  }
 ],
 "metadata": {
  "kernelspec": {
   "display_name": "Python 3",
   "language": "python",
   "name": "python3"
  },
  "language_info": {
   "codemirror_mode": {
    "name": "ipython",
    "version": 3
   },
   "file_extension": ".py",
   "mimetype": "text/x-python",
   "name": "python",
   "nbconvert_exporter": "python",
   "pygments_lexer": "ipython3",
   "version": "3.5.1"
  }
 },
 "nbformat": 4,
 "nbformat_minor": 0
}
